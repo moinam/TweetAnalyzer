{
  "nbformat": 4,
  "nbformat_minor": 0,
  "metadata": {
    "colab": {
      "provenance": []
    },
    "kernelspec": {
      "name": "python3",
      "display_name": "Python 3"
    },
    "language_info": {
      "name": "python"
    },
    "gpuClass": "standard"
  },
  "cells": [
    {
      "cell_type": "code",
      "source": [
        "import tweepy\n",
        "import time\n",
        "import csv\n",
        "import os\n",
        "import pandas as pd\n",
        "import re\n",
        "import numpy as np\n",
        "import matplotlib.pyplot as plt\n",
        "import seaborn as sns"
      ],
      "metadata": {
        "id": "gHea7JE2xaTR"
      },
      "execution_count": 63,
      "outputs": []
    },
    {
      "cell_type": "code",
      "source": [
        "from google.colab import drive\n",
        "drive.mount('/content/drive')"
      ],
      "metadata": {
        "colab": {
          "base_uri": "https://localhost:8080/"
        },
        "id": "pL9qgzYUxl9Q",
        "outputId": "8a67377c-7f43-4222-8261-e9045943c317"
      },
      "execution_count": 64,
      "outputs": [
        {
          "output_type": "stream",
          "name": "stdout",
          "text": [
            "Drive already mounted at /content/drive; to attempt to forcibly remount, call drive.mount(\"/content/drive\", force_remount=True).\n"
          ]
        }
      ]
    },
    {
      "cell_type": "code",
      "source": [
        "os.chdir('/content/drive/MyDrive')\n",
        "#Non-Negative Matrix Factorization (NMF), LDA , Bert"
      ],
      "metadata": {
        "id": "pVvBqnFoxoHX"
      },
      "execution_count": 65,
      "outputs": []
    },
    {
      "cell_type": "markdown",
      "source": [
        "#getting set of all hashtags from the dataset"
      ],
      "metadata": {
        "id": "XMAMq9OoxV2h"
      }
    },
    {
      "cell_type": "code",
      "source": [
        "df = pd.read_parquet('final_twitter_data.parquet')\n",
        "df.drop_duplicates(subset=['tweet_id'])"
      ],
      "metadata": {
        "id": "I-GuYr3CyaLb"
      },
      "execution_count": null,
      "outputs": []
    },
    {
      "cell_type": "code",
      "source": [
        "dates=list()\n",
        "\n",
        "for row,record in enumerate(df.hashtags):\n",
        "  if record!='[]'and df['timestamp'][row][0:7]>'2021-05' : \n",
        "    dates.append(df['timestamp'][row][0:7])\n",
        "date=list()\n",
        "for dt in dates:\n",
        "  if dt not in date:\n",
        "    date.append(dt)"
      ],
      "metadata": {
        "id": "SuRbuHVQYUel"
      },
      "execution_count": 6,
      "outputs": []
    },
    {
      "cell_type": "code",
      "execution_count": 7,
      "metadata": {
        "id": "p-rf7L-_R0q-"
      },
      "outputs": [],
      "source": [
        "i=1\n",
        "j=6\n",
        "for i in range(1,3):\n",
        "  for j in range(1,13):\n",
        "    if i==1 and j>5 and j<10 or i==2 and j<10:\n",
        "      globals()[f'hash202{i}_0{j}']=list()\n",
        "      globals()[f'hash202{i}_0{j}'].extend([hash for row,hash in enumerate(df['hashtags']) if df['timestamp'][row][0:7]==f'202{i}-0{j}' and hash!='[]'])\n",
        "        \n",
        "    elif i==1 and j>5 and j>=10 or i==2 and j>=10:\n",
        "      globals()[f'hash202{i}_{j}']=list()\n",
        "      globals()[f'hash202{i}_{j}'].extend([hash for row,hash in enumerate(df['hashtags']) if df['timestamp'][row][0:7]==f'202{i}-{j}' and hash!='[]'])\n",
        "      \n",
        "#preprocessing the hashtags list from specific periods\n",
        "i=1\n",
        "j=6\n",
        "for i in range(1,3):\n",
        "  for j in range(1,13):\n",
        "    if i==1 and j>5 and j<10 or i==2 and j<10:\n",
        "      globals()[f'all_hashtags_202{i}_0{j}']=list()\n",
        "      for s in globals()[f'hash202{i}_0{j}']:\n",
        "          bb=s.split(', ')\n",
        "          a=[re.search(r\"[\\[\\']*(\\w*)[\\]\\']*\",i).group(1) for i in bb]\n",
        "          globals()[f'all_hashtags_202{i}_0{j}'].extend(a)\n",
        "        \n",
        "        \n",
        "    elif i==1 and j>5 and j>=10 or i==2 and j>=10:\n",
        "      globals()[f'all_hashtags_202{i}_{j}']=list()\n",
        "      for s in globals()[f'hash202{i}_{j}']:\n",
        "          bb=s.split(', ')\n",
        "          a=[re.search(r\"[\\[\\']*(\\w*)[\\]\\']*\",i).group(1) for i in bb]\n",
        "          globals()[f'all_hashtags_202{i}_{j}'].extend(a)\n"
      ]
    },
    {
      "cell_type": "code",
      "source": [],
      "metadata": {
        "id": "4UQ9Xpfux4kO"
      },
      "execution_count": null,
      "outputs": []
    },
    {
      "cell_type": "code",
      "source": [
        "def hashtag_set_finder():\n",
        "  hashtag_set=set()\n",
        "  for dt in date:\n",
        "      i,j = dt[3],dt[5:]\n",
        "      lis = globals()[f'all_hashtags_202{i}_{j}']\n",
        "      for i in lis:\n",
        "        hashtag_set.add(i)\n",
        "  return hashtag_set"
      ],
      "metadata": {
        "id": "X1q0jMtpx5Gb"
      },
      "execution_count": 8,
      "outputs": []
    },
    {
      "cell_type": "code",
      "source": [
        "hashtags_in_DS=hashtag_set_finder()"
      ],
      "metadata": {
        "id": "u3UqDnk-x_hZ"
      },
      "execution_count": 9,
      "outputs": []
    },
    {
      "cell_type": "code",
      "source": [
        "type(hashtags_in_DS)"
      ],
      "metadata": {
        "id": "3WnXr2fNzHLH",
        "colab": {
          "base_uri": "https://localhost:8080/"
        },
        "outputId": "40d97f2e-c76f-499d-ef6b-ad84ad62276c"
      },
      "execution_count": 10,
      "outputs": [
        {
          "output_type": "execute_result",
          "data": {
            "text/plain": [
              "set"
            ]
          },
          "metadata": {},
          "execution_count": 10
        }
      ]
    },
    {
      "cell_type": "code",
      "source": [
        "hashtags_in_DS"
      ],
      "metadata": {
        "colab": {
          "base_uri": "https://localhost:8080/"
        },
        "id": "jFvNZT1TDWGd",
        "outputId": "aa5f172a-6051-4661-d21c-f2f7f7e63892"
      },
      "execution_count": null,
      "outputs": [
        {
          "output_type": "execute_result",
          "data": {
            "text/plain": [
              "{'IchBinhanna',\n",
              " 'jobopportunity',\n",
              " 'FemArc',\n",
              " 'Haushaltsdefizit',\n",
              " 'Berufungen',\n",
              " 'PublicHealth',\n",
              " 'Rassismusmonitors',\n",
              " 'Annayolivia',\n",
              " 'astrology',\n",
              " 'Rigaer',\n",
              " 'IchBinHanna_AT',\n",
              " 'HospitalPlaylist2',\n",
              " 'letzteChance',\n",
              " 'Newspeak',\n",
              " '12TageToStay',\n",
              " '2PfadePlus',\n",
              " 'teamarbeitsrecht',\n",
              " 'Coaching',\n",
              " 'TrendingNow',\n",
              " 'IchheissenichtHanna',\n",
              " 'acertaindegreeofflexibility',\n",
              " 'Bafoeg',\n",
              " 'Kommunikation',\n",
              " 'NichtNormal',\n",
              " 'AKhilft',\n",
              " 'researchjobs',\n",
              " 'BlackBoxScience',\n",
              " 'le1611',\n",
              " 'DVPWBlog',\n",
              " 'Freiburg',\n",
              " 'EuGH',\n",
              " 'ökoprogressiv',\n",
              " 'ListenUpAcademia',\n",
              " 'LDK21NRW',\n",
              " 'McAfee',\n",
              " 'EU4Health',\n",
              " 'TUChemnitz',\n",
              " 'ichbingeimpft',\n",
              " 'Hochschulbetrieb',\n",
              " 'Erziehungswissenschaften',\n",
              " 'hannabeiderGEW',\n",
              " 'WasHierStattfindet',\n",
              " 'ChrisBiemann',\n",
              " 'Dauerstellen',\n",
              " 'FrauenInDerWissenschaft',\n",
              " 'AcademicJobs',\n",
              " 'interdisziplär',\n",
              " 'Regenbogenfamilie',\n",
              " 'facts',\n",
              " 'JobSuche',\n",
              " 'chancengerecht',\n",
              " 'conditions',\n",
              " 'TaxMeNow',\n",
              " 'VR',\n",
              " '10jahrenawik',\n",
              " 'lehre',\n",
              " 'KHT2022',\n",
              " 'LabComic',\n",
              " 'möglichmachen',\n",
              " 'richting',\n",
              " 'Homophobie',\n",
              " 'ChallengeAccepted',\n",
              " 'ichbinreyan',\n",
              " 'الكفاءة_المالية',\n",
              " 'Lehramt',\n",
              " 'sleep',\n",
              " 'Jongmanns',\n",
              " 'mz',\n",
              " 'DieJLUundDu',\n",
              " 'Department',\n",
              " 'wisssystemfehler',\n",
              " 'notjustprofessors',\n",
              " 'phdcandidates',\n",
              " 'Paese',\n",
              " 'conference',\n",
              " 'ichbinReyhan',\n",
              " 'boysclub',\n",
              " 'ratrace',\n",
              " 'Herausforderungen',\n",
              " 'Referenzrahmen',\n",
              " 'Aidsgeschichte',\n",
              " 'oceandecade',\n",
              " 'bremerstadtmusikanten',\n",
              " 'fuckthesystem',\n",
              " 'Sparzwang',\n",
              " 'nichtsgewonnen',\n",
              " 'ThisIsMsWork',\n",
              " 'Biosecurity',\n",
              " 'Betreuungsvereinbarung',\n",
              " 'Verwaltung',\n",
              " 'longdistancerelationship',\n",
              " 'askedbutnotanswered',\n",
              " 'Kirche',\n",
              " 'Wissenschaftsstandort',\n",
              " 'Exzellenzinitiative',\n",
              " 'ArbeitsSuchendMeldungen',\n",
              " 'theology',\n",
              " 'CoffeeshopOffice',\n",
              " 'hrk_aktuell',\n",
              " 'soziologischerelevanz',\n",
              " 'siehtNiemandZahlNiemand',\n",
              " 'EURO2020',\n",
              " 'ArbeitenInVollenZügen',\n",
              " 'Laschet',\n",
              " 'Durchlauferhitzer',\n",
              " 'TimeIsRunning',\n",
              " 'Twittergewitter',\n",
              " 'AdademicChatter',\n",
              " 'nazis',\n",
              " 'DGSKongress2022',\n",
              " 'giffey',\n",
              " 'EHEA',\n",
              " 'arthistory',\n",
              " 'histobubble',\n",
              " 'kita',\n",
              " 'dankekroener',\n",
              " 'Denmark',\n",
              " 'MehrAlsNichts',\n",
              " 'Job',\n",
              " 'woistHanna',\n",
              " 'Solidarsemester',\n",
              " 'Staatsexamen',\n",
              " 'cortaporlozano',\n",
              " 'zonk',\n",
              " 'SociologistsPostingTheirLs',\n",
              " 'free',\n",
              " 'austerität',\n",
              " 'PhDLife',\n",
              " 'Guttenberg',\n",
              " 'academicjobs',\n",
              " 'Coronakrise',\n",
              " 'postdocrights',\n",
              " 'Altersversorgung',\n",
              " 'Harvard',\n",
              " 'Soforthilfe',\n",
              " 'Astro',\n",
              " 'RevolutionStudium',\n",
              " 'Innovationen',\n",
              " 'DieAlm',\n",
              " 'sociocongress2021',\n",
              " 'SouthOfTheCircle',\n",
              " 'ichBinHanna',\n",
              " 'jointheteam',\n",
              " 'langzeitarchivierung',\n",
              " 'tarifverhandlungen',\n",
              " 'keinhobby',\n",
              " 'Team',\n",
              " 'Befristungszuschlag',\n",
              " 'Handlungsbereitschaft',\n",
              " 'DieAmpelStehtAufRot',\n",
              " 'IfGs',\n",
              " 'FreeGeorgThiel',\n",
              " 'ciaodeutschland',\n",
              " 'A55',\n",
              " 'populistisch',\n",
              " 'Yemen',\n",
              " 'WhyImStriking',\n",
              " 'IchBinNichtIndianaJones',\n",
              " 'MSCA',\n",
              " 'barriers',\n",
              " 'Wissenstransfer',\n",
              " 'COVID',\n",
              " 'UV',\n",
              " 'LakonischElegant',\n",
              " 'Transphobie',\n",
              " 'Devang',\n",
              " 'Geschlechterungleichheiten',\n",
              " '95Wisspausen',\n",
              " 'فيلم_مش_انا',\n",
              " 'TUDarmstadt',\n",
              " 'psychedelic',\n",
              " 'InternationalerMaedchentag',\n",
              " 'forschungundlehre',\n",
              " 'Studierende',\n",
              " 'PlanetaryHealth',\n",
              " 'wendy',\n",
              " 'gutearbeitinderWissenschaft',\n",
              " 'KleineFaecher',\n",
              " 'KritischeInfrastrukturen',\n",
              " 'Giffey',\n",
              " 'SCNR',\n",
              " 'SoSe',\n",
              " 'Dienstreise',\n",
              " 'HannaIsWatching',\n",
              " 'LehraufträgeZumNulltarif',\n",
              " 'EsistHanna',\n",
              " 'acertaindegreeoffflexibility',\n",
              " 'Wisszvg',\n",
              " 'Guerot',\n",
              " 'Bewerbungsunterlagen',\n",
              " 'Billboardhot100',\n",
              " 'GoodJob',\n",
              " 'interdiziplinäre',\n",
              " 'germanscholars',\n",
              " 'TVöD',\n",
              " 'WirsindTUBerlin',\n",
              " 'OTD',\n",
              " 'Wunschzettel',\n",
              " 'AcademicFeministAntiracistFightClub',\n",
              " 'ucustrike',\n",
              " 'Rektorat',\n",
              " 'LucaApp',\n",
              " 'immodestwomen',\n",
              " 'IchbjnHanna',\n",
              " 'socavonpuebla',\n",
              " 'Karliczexit',\n",
              " 'DemMorgenEntgegen',\n",
              " 'habemichauchandieSchuleentsorgt',\n",
              " 'wochenstart',\n",
              " 'inclusion',\n",
              " 'Unitoo',\n",
              " 'HisTag21',\n",
              " 'Steuergeld',\n",
              " 'empowerDH',\n",
              " 'nft',\n",
              " 'Aktivenkonferenz',\n",
              " 'GoHabsGo',\n",
              " 'Glööckler',\n",
              " 'OER',\n",
              " 'Personalprobleme',\n",
              " 'Ideologiekritik',\n",
              " 'unigiessen',\n",
              " 'Zusatzaufgaben',\n",
              " 'GI',\n",
              " 'LivingPhilosophy',\n",
              " 'WahrheitAmLimit',\n",
              " 'Verhandlungsmasse',\n",
              " 'CogSci',\n",
              " 'fundingresearch',\n",
              " 'ZeitfBildung',\n",
              " 'HannaResigns',\n",
              " 'autorin',\n",
              " 'ResearchCareer',\n",
              " 'PromovierenMitPerspektive',\n",
              " 'ichbinprofseitich28bin',\n",
              " 'Bundeskanzler',\n",
              " 'philtech',\n",
              " 'psychologie',\n",
              " 'IchbinJelena',\n",
              " 'Kohli',\n",
              " 'LifeOfNonTenuredPDs',\n",
              " 'HannamachtPapierkram',\n",
              " 'DrittmittelBingo',\n",
              " 'VHD',\n",
              " 'asHU',\n",
              " 'HannaSteigtAus',\n",
              " 'Wissenschaftverhinderungsgesetz',\n",
              " 'scientists',\n",
              " 'ISA2022',\n",
              " 'IchBinNochNichtMalHanna',\n",
              " 'Curry',\n",
              " 'gfm2021',\n",
              " 'Uniabschluss',\n",
              " 'VegasBorn',\n",
              " 'BdV',\n",
              " 'Feierabend',\n",
              " 'unity',\n",
              " 'Safarnama',\n",
              " 'NACAPS',\n",
              " 'UniAbschaffen',\n",
              " 'Absurd',\n",
              " 'ichbinhannasbaby',\n",
              " 'Investitur',\n",
              " 'coronacampus',\n",
              " 'Starkregen',\n",
              " 'Sammelband',\n",
              " '1Thema3Köpfe',\n",
              " 'Siegel',\n",
              " 'hannaorganisiertsich',\n",
              " 'Rentemit68',\n",
              " 'Acertaindegreeofflexibility',\n",
              " 'EpicFail',\n",
              " 'Chemiker',\n",
              " 'Rejection',\n",
              " 'Dauerstellen4Daueraufgaben',\n",
              " 'BestenAuslese',\n",
              " 'Dankefürgarnichts',\n",
              " 'seinichtnaiv',\n",
              " 'europa',\n",
              " 'HannahatFamilie',\n",
              " 'Elonmusk',\n",
              " 'idea',\n",
              " 'FairPayment',\n",
              " 'E13',\n",
              " 'AdjunctNation',\n",
              " 'Gerontology',\n",
              " 'Platform',\n",
              " 'DGSA',\n",
              " 'RatchetAndClankRiftApart',\n",
              " 'Universität',\n",
              " 'Musikwissenschaftler_in',\n",
              " 'BildvsWiss',\n",
              " 'Pädagoge',\n",
              " 'Arbeitgebermarke',\n",
              " 'Gleichstellungspolitik',\n",
              " 'Heiligabend',\n",
              " 'Karrierewegen',\n",
              " 'ProveMeWrong',\n",
              " 'ImpfenSchuetzt',\n",
              " 'misogyny',\n",
              " 'Birlamandir',\n",
              " 'Karliczek',\n",
              " 'horizon2020',\n",
              " 'romanistik',\n",
              " 'Ecosystems',\n",
              " 'Altersvorsaorge',\n",
              " 'Ichbinhannah',\n",
              " 'Marx',\n",
              " 'Stiftungen',\n",
              " 'IchBinArmutsbetroffen',\n",
              " 'Präsidentin',\n",
              " 'Lehrstühle',\n",
              " 'Netzwerk',\n",
              " 'tdlgibtarif',\n",
              " 'cduverhindern',\n",
              " 'HannaWandertAus',\n",
              " 'Studenten',\n",
              " 'Veranstaltung',\n",
              " 'Hamburg',\n",
              " 'Bratwurst',\n",
              " 'alittlebitofflexibity',\n",
              " 'SeLLinZahlen',\n",
              " 'FrageFürEinenFreund',\n",
              " 'HistorikerinnenTag',\n",
              " 'Ichbinmüde',\n",
              " 'India',\n",
              " 'Nobelpreisträger',\n",
              " 'CIfAD',\n",
              " 'Revolutionstheorie',\n",
              " 'le7930inter',\n",
              " 'UniBayern',\n",
              " 'wissenschaftlerausbeutung',\n",
              " 'JegLærerNorskNå',\n",
              " 'Chapeau',\n",
              " 'oupsy',\n",
              " 'DiversityandInclusion',\n",
              " 'ichBinReyhan',\n",
              " 'twittercampus',\n",
              " 'dasGEWinnenwir',\n",
              " 'mensasociety',\n",
              " 'WiKo',\n",
              " 'KaputtesSystem',\n",
              " 'firstGen',\n",
              " 'Flexibility',\n",
              " 'Sprachdidaktik',\n",
              " 'dankbarkeit',\n",
              " 'speakupostbelgien',\n",
              " 'precarization',\n",
              " 'IchwarHanna',\n",
              " 'Entwicklungszusammenarbeit',\n",
              " 'Verlage',\n",
              " 'STS',\n",
              " 'PsychischeGesundheit',\n",
              " 'MenschenmitBehinderungen',\n",
              " 'GASBmeetsÖkoProg',\n",
              " 'GemeinsamesStatement',\n",
              " 'Lehrenden',\n",
              " 'Göttingen',\n",
              " 'berlinuniversity',\n",
              " 'ZeitDerSolidarität',\n",
              " 'openScholarship',\n",
              " 'IchBinHannaUK',\n",
              " 'Rechners',\n",
              " 'KoaV',\n",
              " 'UniamAbgrund',\n",
              " 'QuidProQuo',\n",
              " 'FDM',\n",
              " 'Lobbyismus',\n",
              " 'Life',\n",
              " 'Bildungsland',\n",
              " 'Promotionsrecht',\n",
              " 'ClimateCrisis',\n",
              " 'organisestrike',\n",
              " 'DeZIM',\n",
              " 'WerHatDerGibt',\n",
              " 'hindipoetry',\n",
              " 'dozenturen',\n",
              " 'CareerInSTEM',\n",
              " 'jobsOutsideOfAcademia',\n",
              " 'ReyhanBeiDerGEW',\n",
              " 'dasistdiebukof',\n",
              " 'Phantomlehre',\n",
              " 'researchfunding',\n",
              " 'UCU',\n",
              " 'ucustrikes',\n",
              " 'joboffer',\n",
              " 'FirstistFrust',\n",
              " 'Köln',\n",
              " 'SchrödingersPostdoc',\n",
              " 'Pride',\n",
              " 'Wahlkampf',\n",
              " 'RheinBlick',\n",
              " 'respeklos',\n",
              " 'Hochschulabschluss',\n",
              " 'VAR',\n",
              " 'gorillas',\n",
              " 'CNMI',\n",
              " 'DauerstellenfürDaueraufgaben',\n",
              " 'childcare',\n",
              " 'Osterspaziergang',\n",
              " 'ENGDEN',\n",
              " 'arbeiterkind',\n",
              " '4Corners',\n",
              " 'Approbation',\n",
              " 'Academicjobs',\n",
              " 'PhDAdvice',\n",
              " 'Arbeitskampf',\n",
              " 'RatschlägeAusDerHölle',\n",
              " 'ConfessionsOfAnExResearcher',\n",
              " 'Wissenschaftler_in',\n",
              " 'jessicawearelive',\n",
              " 'IchbinArash',\n",
              " 'WissenschaftsFrust',\n",
              " 'keinesicherheit',\n",
              " 'phdone',\n",
              " 'Unterfinanzierung',\n",
              " 'TropdeHannas',\n",
              " 'thesis_ev',\n",
              " 'Academicsunite',\n",
              " 'ALTIN',\n",
              " 'planungundkonstruktion',\n",
              " 'Immunologie',\n",
              " 'BüchnerVerlag',\n",
              " 'Workshops',\n",
              " 'LISA',\n",
              " 'Lenzen',\n",
              " 'Rechenübungen',\n",
              " 'HannaSagtAb',\n",
              " 'Höchstbefristungsdauer',\n",
              " 'weimar',\n",
              " '95wissZeitVG',\n",
              " 'Wissenschaftsjahr2022',\n",
              " 'IchbinHannamitFamilie',\n",
              " 'ichbinozan',\n",
              " 'youngmarsiliusfellows',\n",
              " 'ControlCOVID',\n",
              " 'wisscomm',\n",
              " 'halloausland',\n",
              " 'MentalesAlterTest',\n",
              " 'PhD',\n",
              " '95wissPausen',\n",
              " 'ehrenamt',\n",
              " 'asozial',\n",
              " 'Frechheit',\n",
              " 'lesenswert',\n",
              " 'WRCSafariRally2021',\n",
              " 'GWZO',\n",
              " 'Heartstopper',\n",
              " 'Blogbeitrag',\n",
              " 'wissenschaf',\n",
              " 'KreuznacherHSK',\n",
              " 'IchPhdSchippeJetzt',\n",
              " 'werzuletztlacht',\n",
              " 'zeitplanung',\n",
              " 'prekaritaet',\n",
              " 'gesellschaftneudenken',\n",
              " 'DoitNow',\n",
              " 'sozialarbeit',\n",
              " 'Stellenkürzungen',\n",
              " 'wertschaetzung',\n",
              " 'ErIstHanna',\n",
              " 'Entgeltgruppen',\n",
              " 'champions',\n",
              " 'Romanistik',\n",
              " 'BPK',\n",
              " 'Reformationstag',\n",
              " 'Rektorinnen',\n",
              " 'machtmissbrauch',\n",
              " 'Demokratisierung',\n",
              " 'NeueMusik',\n",
              " 'Boreout',\n",
              " 'tsgabschaffen',\n",
              " 'transdisciplinary',\n",
              " 'MHH',\n",
              " 'Germanacademia',\n",
              " 'hartziv',\n",
              " 'Qualifikationsquatsch',\n",
              " 'gfmberlin2022',\n",
              " 'disposableemployees',\n",
              " 'Frauenkampftag',\n",
              " 'Männer',\n",
              " 'academics',\n",
              " 'sportwissenschaft',\n",
              " 'Bioökonomie',\n",
              " 'progress',\n",
              " 'dasperfektedinner',\n",
              " 'Verwirklichungschancen',\n",
              " 'gleichstellungfürnArsch',\n",
              " 'BritneySpeaks',\n",
              " 'LifeOfAnAcademic',\n",
              " 'Promovierte',\n",
              " 'levitating',\n",
              " 'Kongress',\n",
              " 'TheTwoSidesOfAcademy',\n",
              " '1Hazirandanitibaren',\n",
              " 'BiPoC',\n",
              " 'phdgermany',\n",
              " 'gaslighting',\n",
              " 'Akademikerkinder',\n",
              " 'Montagsblock',\n",
              " 'Mindestvertragslaufzeiten',\n",
              " 'hannafitforfuture',\n",
              " 'Wissensgesellschaft',\n",
              " 'WiisZeitVG',\n",
              " 'CongratulationsMasterKG',\n",
              " 'RH',\n",
              " 'Alemania',\n",
              " 'article',\n",
              " 'AktuelleStunde',\n",
              " 'Potsdam',\n",
              " 'SoTL',\n",
              " 'parlCH',\n",
              " 'SuhrkampEspresso',\n",
              " 'WirfangendenKohlenstoff',\n",
              " 'Vertrauen',\n",
              " 'ClassicsTwitter',\n",
              " 'KarliKneift',\n",
              " 'IchbindabeiHanna',\n",
              " 'labour',\n",
              " 'WirStiftenWissen',\n",
              " 'Sonnenlicht',\n",
              " 'Dissertation',\n",
              " 'Muthaben',\n",
              " 'hinwirken',\n",
              " 'Philipp',\n",
              " 'Academic',\n",
              " 'Emotionalität',\n",
              " 'Nichtspassiert',\n",
              " 'ÖRR',\n",
              " 'DauerBefristet',\n",
              " 'Tarifverhandlungen',\n",
              " 'EndOfRant',\n",
              " 'Good',\n",
              " 'Zeitvertragsunwesen',\n",
              " 'Promotionspreis',\n",
              " 'Bundesliga',\n",
              " 'oneofusallofus',\n",
              " 'InfoVis',\n",
              " 'Schüler',\n",
              " 'humanisties',\n",
              " 'ökologische',\n",
              " 'startupsfürchristian',\n",
              " 'prekäreWissenschaft',\n",
              " 'DataLiteracy',\n",
              " 'BernsteinConference',\n",
              " 'Epidemiology',\n",
              " 'VaccineMandate',\n",
              " 'Ärger',\n",
              " 'männerLol',\n",
              " 'OleOut',\n",
              " 'academicentalhealth',\n",
              " 'Einhorn',\n",
              " 'ErsteGenerationPromotion',\n",
              " 'GuterArbeit',\n",
              " 'Subsistenz',\n",
              " 'shrinkingspace',\n",
              " 'dBDK21',\n",
              " 'Kulturwandel',\n",
              " 'OAJ21',\n",
              " 'streamer',\n",
              " 'Alt',\n",
              " 'meineDiss',\n",
              " 'precht',\n",
              " 'Unigöttingen',\n",
              " 'SpassbeiderArbeit',\n",
              " 'netzwerk',\n",
              " 'PDGermany',\n",
              " 'charter',\n",
              " 'Elsevier',\n",
              " 'wirhabenbedarf',\n",
              " 'merkel',\n",
              " 'homeschooling',\n",
              " 'digimed22',\n",
              " 'Hochschulzusammenarbeit',\n",
              " 'Altersarmut',\n",
              " 'JaauchinMINT',\n",
              " 'Trainings',\n",
              " 'ecosystemservices',\n",
              " 'nichtzuendegedacht',\n",
              " 'DSGVO',\n",
              " 'freewordsturkey',\n",
              " 'FortBeaM',\n",
              " 'Tarifautonomie',\n",
              " 'PokemonGO',\n",
              " 'Jobrad',\n",
              " 'Qualitätsoffensive',\n",
              " 'Tageslöhner',\n",
              " 'ÖAW',\n",
              " 'تقبل_الزواج_من_عسكريه',\n",
              " 'bafoeg',\n",
              " 'publicationbias',\n",
              " 'SchönerScheitern',\n",
              " 'Geschichtswissenschaft',\n",
              " 'wirGEWinnendas',\n",
              " 'WoistAnja',\n",
              " 'brainfog',\n",
              " 'PDLife',\n",
              " 'Patriarchy',\n",
              " 'italy',\n",
              " 'Klöckner',\n",
              " 'ForumWissenschaft',\n",
              " 'Tinian',\n",
              " 'histoquiz',\n",
              " 'Docs',\n",
              " 'Hyderabad',\n",
              " 'sheesh',\n",
              " 'Verzweiflung',\n",
              " 'doktorat',\n",
              " 'Dauerbefristet',\n",
              " 'NetzDG',\n",
              " 'YouTube',\n",
              " 'universities',\n",
              " 'Frieden',\n",
              " 'ichBinNichtKronthaler',\n",
              " 'Sondierungspapier',\n",
              " 'AusstiegWissenschaft',\n",
              " 'LVVO_Abrechnung',\n",
              " 'Kulturkampf',\n",
              " 'Development',\n",
              " 'ecrchat',\n",
              " 'engineering',\n",
              " 'Stadium',\n",
              " 'unbezahlteArbeit',\n",
              " 'HoPo',\n",
              " 'scientometrics',\n",
              " 'Pausen',\n",
              " 'GroKo',\n",
              " 'sajad',\n",
              " 'DoppelteStandards',\n",
              " 'impfpflicht',\n",
              " 'DigitalPakt',\n",
              " 'LSA',\n",
              " 'IchBinJelena',\n",
              " 'Altenpflege',\n",
              " 'USA',\n",
              " 'Zwangsteilzeit',\n",
              " 'doppelmum',\n",
              " 'IchBinRehan',\n",
              " 'SHIB',\n",
              " 'HochschulenDemokratisieren',\n",
              " 'dobetter',\n",
              " 'AcademicSlavery',\n",
              " 'Süden',\n",
              " 'postdocjobs',\n",
              " 'SaveApexRanked',\n",
              " 'Notlage',\n",
              " 'StrongerTogether',\n",
              " 'tutriell',\n",
              " 'findetnichtstatt',\n",
              " 'Lektorinnen',\n",
              " 'AcademicMartyrdom',\n",
              " 'HannaBitteBleib',\n",
              " 'Sonntag',\n",
              " 'Startbildschirm',\n",
              " 'BMBWF',\n",
              " 'professur',\n",
              " 'Führung',\n",
              " 'All',\n",
              " 'PimmelGate',\n",
              " 'arbeitskampf',\n",
              " 'schools',\n",
              " 'Archive',\n",
              " 'WomeninEngineering',\n",
              " 'ScienceNotSilence',\n",
              " 'hannaistjetztgewerkschaftsmitlied',\n",
              " 'BuWiN21',\n",
              " 'LoserMe',\n",
              " 'ZEIT',\n",
              " 'Selbstzensur',\n",
              " 'Staatsversagen',\n",
              " 'DÖGS',\n",
              " 'ShowUsTheData',\n",
              " 'Lehrverpflichtung',\n",
              " 'ISNM',\n",
              " 'blogger',\n",
              " 'WerDarfHannaSein',\n",
              " 'wikipedia',\n",
              " 'ResistESR',\n",
              " 'Urlaub',\n",
              " 'Hitparade',\n",
              " 'ΙchbinHanna',\n",
              " '109mussweg',\n",
              " 'Karrierechancen',\n",
              " 'feminism',\n",
              " 'ProgressDiversity',\n",
              " 'Qualitätsdialog',\n",
              " 'Professionalisierung',\n",
              " 'Vakanz',\n",
              " 'UHH',\n",
              " 'Daimler',\n",
              " 'MPG',\n",
              " 'Bezahlung',\n",
              " 'EqualPay',\n",
              " 'hunger',\n",
              " 'ugNOvelle',\n",
              " 'Nope',\n",
              " 'onceselcaday',\n",
              " 'BdWi',\n",
              " 'Zeitverträge',\n",
              " 'communicatingscientists',\n",
              " 'befristet',\n",
              " 'bleibtgesund',\n",
              " 'agingresearch',\n",
              " 'unionyes',\n",
              " 'postdocjob',\n",
              " 'fairwork',\n",
              " 'StudentischePartizipation',\n",
              " 'regensburg',\n",
              " 'GfM2022',\n",
              " 'respect',\n",
              " 'mindestlohn',\n",
              " 'unihamburg',\n",
              " 'WeAreHiring',\n",
              " 'sozialearbeittwitter',\n",
              " 'Windows11',\n",
              " 'notallprofessors',\n",
              " 'Dauerbefristungen',\n",
              " 'HannaKlagtSichEin',\n",
              " 'Hochschulautonomie',\n",
              " 'Anjamachtnichts',\n",
              " 'Druckkostenzuschüsse',\n",
              " 'Bundesforschung',\n",
              " 'KleinereKlassen',\n",
              " 'Familienfördergesetz',\n",
              " 'AcademiaUnite',\n",
              " 'Renten',\n",
              " 'teufelswerk',\n",
              " 'YoSoyHanna',\n",
              " 'IFIF',\n",
              " 'WasPostdocswollen',\n",
              " 'Druck',\n",
              " 'IchOpfereMeinPrivatleben',\n",
              " 'Meritokratielüge',\n",
              " 'university',\n",
              " 'ichbinHannna',\n",
              " 'Geschlecht',\n",
              " 'UKGlobalTalentVisa',\n",
              " 'nonmention',\n",
              " 'Newtonian',\n",
              " 'Berufsfreiheit',\n",
              " 'FinanzielleUnabhängigkeit',\n",
              " 'Hochschule2030',\n",
              " 'ForschunUndLehre',\n",
              " 'insecurity',\n",
              " 'systematictheology',\n",
              " 'Sorgearbeit',\n",
              " 'isso',\n",
              " 'Kreativsemester',\n",
              " 'Giorgi',\n",
              " 'Ingenieur_In',\n",
              " 'Anschlusszusage',\n",
              " 'OMEGA_X',\n",
              " 'AlteWeisseMännerUni',\n",
              " 'IRDi',\n",
              " 'DauerstellenFuerDaueraufgaben',\n",
              " 'hannainderGEW',\n",
              " 'Nintendo',\n",
              " 'Höhergruppierung',\n",
              " 'FrischerFruehling',\n",
              " 'german',\n",
              " 'Berufsausbildung',\n",
              " 'DontBuyTheSun',\n",
              " 'Exzellenzuni',\n",
              " 'TruthonTuesday',\n",
              " 'unbefristet',\n",
              " 'SciDipParis',\n",
              " 'Ausgrabung',\n",
              " 'HCI',\n",
              " 'meerschweinchen',\n",
              " 'بيطة_مرسول',\n",
              " 'Mindestlaufzeiten',\n",
              " 'fehlerkultur',\n",
              " 'FreelancerScientis',\n",
              " 'Geschlechter',\n",
              " 'DFBPokal',\n",
              " 'Forschungkostetrichtigvielgeld',\n",
              " 'phdvoice',\n",
              " 'Leendertz',\n",
              " 'sexistische',\n",
              " 'professorship',\n",
              " 'Hannafrage',\n",
              " 'MeineHanna',\n",
              " 'Fortschritte',\n",
              " 'afd',\n",
              " 'draußen',\n",
              " 'TurboTrack',\n",
              " 'Wissenschaftsentfristungsgesetz',\n",
              " 'No2IR',\n",
              " 'ZeeNuNew',\n",
              " 'Veranstaltungshinweis',\n",
              " 'IchinHanna',\n",
              " 'LorenzAlich',\n",
              " 'Gründung',\n",
              " 'Armut',\n",
              " 'NiemandWillPromovierendeEntfristen',\n",
              " 'TagderkleinenForscher',\n",
              " 'pressconference',\n",
              " 'Hochschule',\n",
              " 'Jobs',\n",
              " 'derecho',\n",
              " 'Precarious',\n",
              " 'keineProfessur',\n",
              " 'Zulagen',\n",
              " 'Ausbeutung',\n",
              " 'politicalscience',\n",
              " 'InstitutionalFailure',\n",
              " 'BookTwit',\n",
              " 'FutureSkills',\n",
              " 'adjunctlife',\n",
              " 'Dortmund',\n",
              " 'TdLgibTarif',\n",
              " 'Tapetenwechsel',\n",
              " 'NieWiederCDU',\n",
              " 'Themenwahlkampf',\n",
              " 'Nachwuchsperspektiven',\n",
              " 'DanielaDüsentrieb',\n",
              " 'Sociology',\n",
              " 'Gesetzesnovelle',\n",
              " 'Handmade',\n",
              " 'science',\n",
              " 'anjamacht',\n",
              " 'Polizei',\n",
              " 'Wohnungspolitik',\n",
              " 'Linguistin',\n",
              " 'Warnung',\n",
              " 'Erwachsenenbildung',\n",
              " 'Ampelkoalition',\n",
              " 'NICHT',\n",
              " 'Stipendien',\n",
              " 'stellenvermittlung',\n",
              " 'Wimi',\n",
              " 'Hyperproduktivität',\n",
              " 'BerlinUAlliance',\n",
              " 'wasmachtkarliczekberuflich',\n",
              " 'Arbeitsmarkt',\n",
              " 'forschen',\n",
              " 'PhDchat',\n",
              " 'Prekarisierung',\n",
              " 'DGfA2022',\n",
              " 'askingresearchers',\n",
              " 'astronautics',\n",
              " 'PDF',\n",
              " 'hyderabad',\n",
              " 'Kosmonaut',\n",
              " 'Frühstück',\n",
              " 'Entsolidarisierung',\n",
              " 'Hannstimmtzu',\n",
              " 'NFTs',\n",
              " 'Netzwerken',\n",
              " 'Antragsunwesen',\n",
              " 'KeineExperimente',\n",
              " 'DoBetter',\n",
              " 'SieistHanna',\n",
              " 'erc',\n",
              " 'britcult2021',\n",
              " 'NGA_Wiss',\n",
              " 'Zustände',\n",
              " 'Wiederholungstag',\n",
              " 'Screencast',\n",
              " 'Hadsch',\n",
              " '17Ziele',\n",
              " 'innovationsland',\n",
              " 'Tinder',\n",
              " 'ichbinnhanna',\n",
              " 'Sichtbarkeit',\n",
              " 'AEDiL',\n",
              " 'AGfürDemokratischeSprache',\n",
              " 'colleghi',\n",
              " 'Projekten',\n",
              " 'GKRFakultät',\n",
              " 'öffentlicherDienst',\n",
              " 'göttingen',\n",
              " 'Akademieprojekt',\n",
              " 'u12schutzdurchEltern',\n",
              " 'leerstellen',\n",
              " 'Betriebsrat',\n",
              " 'momlife',\n",
              " 'Jura',\n",
              " 'NeoliberalAcademia',\n",
              " 'GuteZukunft',\n",
              " 'mittelalter',\n",
              " 'Phdchat',\n",
              " 'HaltDieFresseBild',\n",
              " 'Klassimus',\n",
              " 'Missbäruchlichebefristung',\n",
              " 'Isolationspolitik',\n",
              " 'Wettbewerb',\n",
              " 'humanoid',\n",
              " 'postac',\n",
              " 'qualitätskontrolle',\n",
              " 'Akademiker',\n",
              " 'Redakteur_in',\n",
              " 'miamibuildingcollapse',\n",
              " 'Event',\n",
              " 'psychology',\n",
              " 'lavoro',\n",
              " 'DZHK',\n",
              " 'gebäudetechnik',\n",
              " 'Druckmittel',\n",
              " 'livunistrike',\n",
              " 'ESOF2022',\n",
              " 'DiamondOA',\n",
              " 'DHV',\n",
              " 'ÖVP',\n",
              " 'MultilingualityforInclusion',\n",
              " 'tweetstorm',\n",
              " 'Kretschmann',\n",
              " 'Fachleuten',\n",
              " 'outsourcing',\n",
              " 'HRKFail',\n",
              " 'HorizonEU',\n",
              " 'DeltaVariante',\n",
              " 'FallWinterhoff',\n",
              " 'ZivilesEngagement',\n",
              " 'aepf2022',\n",
              " 'MPK',\n",
              " 'freiburg',\n",
              " 'WissProblem',\n",
              " 'Djokovic',\n",
              " 'LogikderKnappheit',\n",
              " 'software',\n",
              " 'LaborDay',\n",
              " 'Critical_Introspects',\n",
              " 'awareness',\n",
              " 'FirstGeneration',\n",
              " 'transformative',\n",
              " 'inflation',\n",
              " 'votevolt',\n",
              " 'SPD',\n",
              " 'BudenheimerMemorandum',\n",
              " 'Grüne',\n",
              " 'Teilzeitfalle',\n",
              " 'Rätsel',\n",
              " 'Schröder',\n",
              " 'Statistik',\n",
              " 'Hierarchien',\n",
              " 'WebArchive',\n",
              " 'SozialeArbeit',\n",
              " 'guteLehre',\n",
              " 'HannaBeiderGEW',\n",
              " 'automechaniker',\n",
              " 'moderndenken',\n",
              " 'Glaubwürdigkeit',\n",
              " 'IchbinHannaUK',\n",
              " 'BildungsGerechtigkeit',\n",
              " 'Spenden',\n",
              " 'bittedankegerngeschehen',\n",
              " 'solidarisieren',\n",
              " 'coronacheckapp',\n",
              " 'bioarchaeology',\n",
              " 'VWL',\n",
              " 'plenumth',\n",
              " 'semesterbeitrag',\n",
              " 'startup',\n",
              " 'Personalplanung',\n",
              " 'Irrlichter',\n",
              " 'Schokolade',\n",
              " 'Meritokratiythos',\n",
              " 'Präsenz',\n",
              " 'Langzeitahnungslosen',\n",
              " 'RantOver',\n",
              " 'erfurt',\n",
              " 'wissensstadtberlin',\n",
              " 'HannasChef',\n",
              " 'IchbinDrjurHanna',\n",
              " 'IchbinMiyu',\n",
              " 'IchbinReayhan',\n",
              " 'Geschenk',\n",
              " 'ERC',\n",
              " '4Welle',\n",
              " 'solidarität',\n",
              " 'sarcasm',\n",
              " 'geographymatters',\n",
              " 'BorderCrossingSolidarities',\n",
              " 'ichbinclaudia',\n",
              " 'hannover',\n",
              " 'Nichtakademikerkinder',\n",
              " 'keineHerrenjahre',\n",
              " 'Wissenschaftszeitvertraggesetz',\n",
              " 'Bioplastik',\n",
              " 'Hochschulstreik',\n",
              " 'Thermodynamik',\n",
              " 'em',\n",
              " 'fashionhistory',\n",
              " 'P2406',\n",
              " 'Karls',\n",
              " 'Didaktik',\n",
              " 'DanielDüsentrieb',\n",
              " 'Weltbank',\n",
              " 'tauconantulang',\n",
              " 'ngawiss',\n",
              " 'Bundeserfindungsministerium',\n",
              " 'Bildungswesen',\n",
              " 'HannatrittindieGewerkschaftein',\n",
              " 'wissenschaftprekaer',\n",
              " 'AcademicInjustice',\n",
              " 'doktorarbeit',\n",
              " 'Trends',\n",
              " 'Ordoliberalismus',\n",
              " 'UniGoettingen',\n",
              " ...}"
            ]
          },
          "metadata": {},
          "execution_count": 41
        }
      ]
    },
    {
      "cell_type": "markdown",
      "source": [
        "#getting set of most frequent hashtags "
      ],
      "metadata": {
        "id": "xVP4jHyEDQX9"
      }
    },
    {
      "cell_type": "code",
      "source": [
        "hashtags_in_DS2 = {i.lower() for i in hashtags_in_DS}"
      ],
      "metadata": {
        "id": "yHSz9_XMEXNz"
      },
      "execution_count": 11,
      "outputs": []
    },
    {
      "cell_type": "code",
      "source": [
        "def generate_hashtags(dataset):\n",
        "  listOfAllHashtags=list()\n",
        "  for row, hash in enumerate(dataset.hashtags):\n",
        "    if dataset['timestamp'][row][0:10]>=\"2021-06-01\" and hash!='[]':\n",
        "      bb=hash.split(', ') \n",
        "      \n",
        "      a=[re.search(r\"[\\[\\']*(\\w*)[\\]\\']*\",i).group(1) for i in bb]\n",
        "      listOfAllHashtags.extend(a)\n",
        "  listOfAllHashtagsL=[i.lower() for i in listOfAllHashtags]\n",
        "  return listOfAllHashtagsL"
      ],
      "metadata": {
        "id": "6GHZtNZzDVyc"
      },
      "execution_count": 12,
      "outputs": []
    },
    {
      "cell_type": "code",
      "source": [
        "list_of_all_hashtags = generate_hashtags(df)"
      ],
      "metadata": {
        "id": "HZnCOZuwDqht"
      },
      "execution_count": 13,
      "outputs": []
    },
    {
      "cell_type": "code",
      "source": [
        "list_of_mfh=[(i,list_of_all_hashtags.count(i)/len(list_of_all_hashtags)) for i in hashtags_in_DS2 if list_of_all_hashtags.count(i)>500]"
      ],
      "metadata": {
        "id": "Qq3ESvgXD30X"
      },
      "execution_count": 14,
      "outputs": []
    },
    {
      "cell_type": "code",
      "source": [
        "list_of_mfh.sort(reverse=True , key= lambda k:k[1])"
      ],
      "metadata": {
        "id": "zs4GZ0tbFX9X"
      },
      "execution_count": 15,
      "outputs": []
    },
    {
      "cell_type": "code",
      "source": [
        "list_of_mfh"
      ],
      "metadata": {
        "colab": {
          "base_uri": "https://localhost:8080/"
        },
        "id": "IXqXubdWFbaq",
        "outputId": "4bb13400-9ca1-4bbd-a15b-689733e6b753"
      },
      "execution_count": null,
      "outputs": [
        {
          "output_type": "execute_result",
          "data": {
            "text/plain": [
              "[('ichbinhanna', 0.5046175287602235),\n",
              " ('wisszeitvg', 0.06530557355404232),\n",
              " ('ichbinreyhan', 0.042346296318935904),\n",
              " ('hannaimbundestag', 0.014861180727899556),\n",
              " ('dauerstellen', 0.014663129454625475),\n",
              " ('wisssystemfehler', 0.012149589838258127),\n",
              " ('wissenschaft', 0.011159333471887722),\n",
              " ('95vswisszeitvg', 0.010266880203430443),\n",
              " ('frististfrust', 0.007848698607528393),\n",
              " ('acertaindegreeofflexibility', 0.006579703412105578),\n",
              " ('berlhg', 0.005978214359939851),\n",
              " ('gegenwisszeitvg10', 0.005364499920534983),\n",
              " ('tvstud', 0.004650537305769161),\n",
              " ('ichbinhannah', 0.004357128012029781),\n",
              " ('bmbf', 0.0036627260168465834),\n",
              " ('hochschulen', 0.003298409477120188),\n",
              " ('wisskomm', 0.0029218675501546513),\n",
              " ('27juni', 0.0027311515092240547),\n",
              " ('stopthecuts', 0.0026798048828196633),\n",
              " ('academia', 0.0026529090308935535),\n",
              " ('evaluation', 0.002618677946623959),\n",
              " ('ugnovelle', 0.002582001784906537),\n",
              " ('ichbinhannaat', 0.002550215778084771),\n",
              " ('karliczek', 0.002293482646062814),\n",
              " ('hannabeidergew', 0.002276367103928017),\n",
              " ('hannaorganisiertsich', 0.0021761189285670625),\n",
              " ('unbezahlt', 0.0021736738511192342),\n",
              " ('ichwarhanna', 0.0020660904434147954),\n",
              " ('tenuretrack', 0.002058755211071311),\n",
              " ('dauerstellenfürdaueraufgaben', 0.0020391945914886855),\n",
              " ('bundestag', 0.001973177500397325),\n",
              " ('hochschule', 0.001968287345501669),\n",
              " ('academictwitter', 0.0019291661063364181),\n",
              " ('ichbinhannach', 0.0018998251769624802),\n",
              " ('hannastreikt', 0.0018680391701407142),\n",
              " ('firstgen', 0.0017213345232710245),\n",
              " ('waspostdocswollen', 0.0016602075870753206),\n",
              " ('woisthanna', 0.001559959411714366),\n",
              " ('forschung', 0.0015379537146839126),\n",
              " ('twittercampus', 0.0015183930951012873),\n",
              " ('entfristethanna', 0.0015159480176534592),\n",
              " ('daad', 0.0014866070882795213),\n",
              " ('befristung', 0.0013888039903663949),\n",
              " ('hrk', 0.0013863589129185668),\n",
              " ('keineausnahme', 0.0013765786031272541),\n",
              " ('dasgewinnenwir', 0.001283665660109784),\n",
              " ('academicchatter', 0.001254324730735846),\n",
              " ('postdocs', 0.0012518796532880179),\n",
              " ('corona', 0.0012469894983923617),\n",
              " ('hannainzahlen', 0.0012347641111532207)]"
            ]
          },
          "metadata": {},
          "execution_count": 25
        }
      ]
    },
    {
      "cell_type": "code",
      "source": [
        "len(list_of_mfh)"
      ],
      "metadata": {
        "colab": {
          "base_uri": "https://localhost:8080/"
        },
        "id": "yeU5KzbBMg2G",
        "outputId": "9647dc05-b0ea-467a-8124-9076eec46aa4"
      },
      "execution_count": 16,
      "outputs": [
        {
          "output_type": "execute_result",
          "data": {
            "text/plain": [
              "50"
            ]
          },
          "metadata": {},
          "execution_count": 16
        }
      ]
    },
    {
      "cell_type": "code",
      "source": [
        "input_hashtags = [i[0] for i in list_of_mfh]"
      ],
      "metadata": {
        "id": "iDOgEWqkINpS"
      },
      "execution_count": 17,
      "outputs": []
    },
    {
      "cell_type": "code",
      "source": [
        "input_hashtags"
      ],
      "metadata": {
        "id": "W12KReJ_FoTi"
      },
      "execution_count": null,
      "outputs": []
    },
    {
      "cell_type": "markdown",
      "source": [
        "#generating sentences from hashtags based on upper case letter"
      ],
      "metadata": {
        "id": "iDJhHrKxDWfK"
      }
    },
    {
      "cell_type": "code",
      "source": [
        "new_ds=set()\n",
        "for txt in hashtags_in_DS:\n",
        "  for row,i in enumerate(txt):\n",
        "      if i.isupper() and row>0:\n",
        "         txt=txt.replace(i,f\" {i}\")\n",
        "  new_ds.add(txt)\n",
        "          "
      ],
      "metadata": {
        "id": "AQeDa3CxwCpB"
      },
      "execution_count": null,
      "outputs": []
    },
    {
      "cell_type": "code",
      "source": [
        "\"Ich Bin Reyhan\" in new_ds"
      ],
      "metadata": {
        "colab": {
          "base_uri": "https://localhost:8080/"
        },
        "id": "4QZIUN-1HgZN",
        "outputId": "a8701ff7-3aaa-40bb-e198-3741aea75a75"
      },
      "execution_count": null,
      "outputs": [
        {
          "output_type": "execute_result",
          "data": {
            "text/plain": [
              "True"
            ]
          },
          "metadata": {},
          "execution_count": 61
        }
      ]
    },
    {
      "cell_type": "code",
      "source": [
        "txt=\"IchBinHanna\"\n",
        "for row,i in enumerate(txt):\n",
        "  if i.isupper() and row>0:\n",
        "    txt=txt.replace(i,f\" {i}\")\n",
        "    print(txt)\n",
        "    "
      ],
      "metadata": {
        "id": "Nrv8cidGyemJ",
        "colab": {
          "base_uri": "https://localhost:8080/"
        },
        "outputId": "d63e8cb3-e1f9-44a2-e651-6bd775da660d"
      },
      "execution_count": null,
      "outputs": [
        {
          "output_type": "stream",
          "name": "stdout",
          "text": [
            "Ich BinHanna\n",
            "Ich Bin Hanna\n"
          ]
        }
      ]
    },
    {
      "cell_type": "code",
      "source": [
        "len(hashtags_in_DS)"
      ],
      "metadata": {
        "colab": {
          "base_uri": "https://localhost:8080/"
        },
        "id": "KAHt4gwzxj7n",
        "outputId": "ba815db1-2848-4e7d-fae2-1212c40d1c25"
      },
      "execution_count": null,
      "outputs": [
        {
          "output_type": "execute_result",
          "data": {
            "text/plain": [
              "8427"
            ]
          },
          "metadata": {},
          "execution_count": 18
        }
      ]
    },
    {
      "cell_type": "markdown",
      "source": [
        "clustering hashtags "
      ],
      "metadata": {
        "id": "cpoEPY6Y4sdK"
      }
    },
    {
      "cell_type": "markdown",
      "source": [
        "#embedding details"
      ],
      "metadata": {
        "id": "hipPg4mUA4pG"
      }
    },
    {
      "cell_type": "code",
      "source": [
        "#from transformers import AutoTokenizer, AutoModelForMaskedLM\n",
        "\n",
        "#tokenizer = AutoTokenizer.from_pretrained(\"bert-base-german-cased\")\n",
        "\n",
        "#model = AutoModelForMaskedLM.from_pretrained(\"bert-base-german-cased\")"
      ],
      "metadata": {
        "id": "pjrC8HI8r5tk"
      },
      "execution_count": null,
      "outputs": []
    },
    {
      "cell_type": "code",
      "source": [
        "#sentence = ['ich bin hanna','ich bin reyhan','wissen']\n",
        "#Sentences are encoded by calling model.encode()\n",
        "#input =tokenizer(\"ich bin hanna\")\n",
        "#embedding = model(**input)"
      ],
      "metadata": {
        "id": "RDuks1CG0BMW"
      },
      "execution_count": null,
      "outputs": []
    },
    {
      "cell_type": "code",
      "source": [
        "#from transformers import AutoTokenizer, AutoModel\n",
        "\n",
        "#tokenizer = AutoTokenizer.from_pretrained(\"T-Systems-onsite/bert-german-dbmdz-uncased-sentence-stsb\")\n",
        "\n",
        "#model = AutoModel.from_pretrained(\"T-Systems-onsite/bert-german-dbmdz-uncased-sentence-stsb\")"
      ],
      "metadata": {
        "id": "k-j3Ughm0M8Q"
      },
      "execution_count": null,
      "outputs": []
    },
    {
      "cell_type": "code",
      "source": [],
      "metadata": {
        "id": "2JdgLhQz6I7X"
      },
      "execution_count": null,
      "outputs": []
    },
    {
      "cell_type": "markdown",
      "source": [
        "# part 1: \n",
        "find embedding , group them based on similarity \n",
        "similarity score above somrthing...\n",
        "# part 2:\n",
        "cluster based on some predifined groups"
      ],
      "metadata": {
        "id": "bv2vdrUR8C5C"
      }
    },
    {
      "cell_type": "markdown",
      "source": [
        "approach 1"
      ],
      "metadata": {
        "id": "u9n40Z9o97fh"
      }
    },
    {
      "cell_type": "code",
      "source": [
        "#from transformers import AutoTokenizer, AutoModel\n",
        "\n",
        "#tokenizer = AutoTokenizer.from_pretrained(\"T-Systems-onsite/bert-german-dbmdz-uncased-sentence-stsb\")\n",
        "\n",
        "#model = AutoModel.from_pretrained(\"T-Systems-onsite/bert-german-dbmdz-uncased-sentence-stsb\")"
      ],
      "metadata": {
        "id": "odE6A0EV94aN"
      },
      "execution_count": null,
      "outputs": []
    },
    {
      "cell_type": "markdown",
      "source": [
        "#part 1\n",
        "Cross English & German RoBERTa for Sentence Embeddings\n",
        "This model is intended to compute sentence (text) embeddings for English and German text.\n",
        "as some hashtags are in english in our data"
      ],
      "metadata": {
        "id": "in0_BbKo_Fbe"
      }
    },
    {
      "cell_type": "code",
      "source": [
        "!pip install -U sentence-transformers\n",
        "from sentence_transformers import SentenceTransformer, util\n",
        "model = SentenceTransformer('T-Systems-onsite/cross-en-de-roberta-sentence-transformer')\n"
      ],
      "metadata": {
        "id": "cE9mC3IY-9rL"
      },
      "execution_count": null,
      "outputs": []
    },
    {
      "cell_type": "code",
      "source": [
        "sentence = ['researcher','ich arbeite als wissenschaftliche hilfskraft']\n",
        "#as we have hashtags in both languages\n",
        "embedding = model.encode(sentence)"
      ],
      "metadata": {
        "id": "5KSdqu0Z-_Gp"
      },
      "execution_count": null,
      "outputs": []
    },
    {
      "cell_type": "code",
      "source": [
        "util.pytorch_cos_sim(embedding[0],embedding[1])"
      ],
      "metadata": {
        "colab": {
          "base_uri": "https://localhost:8080/"
        },
        "id": "sVY3A0Oh_QKS",
        "outputId": "cd45e853-a978-42fd-b1d5-3239b3c2842b"
      },
      "execution_count": null,
      "outputs": [
        {
          "output_type": "execute_result",
          "data": {
            "text/plain": [
              "tensor([[0.7914]])"
            ]
          },
          "metadata": {},
          "execution_count": 38
        }
      ]
    },
    {
      "cell_type": "code",
      "source": [
        "sentence = input_hashtags\n",
        "embedding_full = model.encode(sentence)\n"
      ],
      "metadata": {
        "id": "JuTI5REz_nHj"
      },
      "execution_count": 20,
      "outputs": []
    },
    {
      "cell_type": "code",
      "source": [
        "clusterd_hashtags=list()\n",
        "for hash in input_hashtags:\n",
        "  embedding = model.encode(hash)\n",
        "  sublist={hash}\n",
        "  for j in range(len(input_hashtags)):\n",
        "    if j<len(input_hashtags)-1:\n",
        "      if util.pytorch_cos_sim(embedding,model.encode(input_hashtags[j+1])) > 0.5:\n",
        "          sublist.add(input_hashtags[j+1])\n",
        "          input_hashtags.remove(input_hashtags[j+1])\n",
        "  clusterd_hashtags.append(sublist)"
      ],
      "metadata": {
        "id": "WaKeGJgeItd3"
      },
      "execution_count": 21,
      "outputs": []
    },
    {
      "cell_type": "code",
      "source": [
        "clusterd_hashtags.sort(reverse=True, key= lambda i: len(i))"
      ],
      "metadata": {
        "id": "re1LN_AH7_TN"
      },
      "execution_count": 23,
      "outputs": []
    },
    {
      "cell_type": "code",
      "source": [
        "print('these are the clustered hashtags out of the most 50 frequent hashtags in the data set\\n')\n",
        "for i in clusterd_hashtags:\n",
        "  print(f'{i}\\n') "
      ],
      "metadata": {
        "colab": {
          "base_uri": "https://localhost:8080/"
        },
        "id": "G5W2vUjSMGeM",
        "outputId": "ad05fe58-2528-4fee-e3b0-f1c914ef6600"
      },
      "execution_count": 24,
      "outputs": [
        {
          "output_type": "stream",
          "name": "stdout",
          "text": [
            "these are the clustered hashtags out of the most 50 frequent hashtags in the data set\n",
            "\n",
            "{'ichwarhanna', 'ichbinreyhan', 'woisthanna', 'ichbinhannaat', 'ichbinhannach', 'ichbinhanna', 'ichbinhannah'}\n",
            "\n",
            "{'gegenwisszeitvg10', 'daad', 'wisskomm', 'wisszeitvg'}\n",
            "\n",
            "{'tvstud', 'dauerstellenfürdaueraufgaben', 'dauerstellen', 'entfristethanna'}\n",
            "\n",
            "{'hrk', 'ugnovelle', 'berlhg'}\n",
            "\n",
            "{'academia', 'hochschule', 'hochschulen'}\n",
            "\n",
            "{'twittercampus', 'academictwitter', 'academicchatter'}\n",
            "\n",
            "{'forschung', 'wissenschaft'}\n",
            "\n",
            "{'frististfrust'}\n",
            "\n",
            "{'stopthecuts'}\n",
            "\n",
            "{'karliczek'}\n",
            "\n",
            "{'hannaorganisiertsich'}\n",
            "\n",
            "{'tenuretrack'}\n",
            "\n",
            "{'firstgen'}\n",
            "\n",
            "{'befristung'}\n",
            "\n",
            "{'dasgewinnenwir'}\n",
            "\n",
            "{'corona'}\n",
            "\n"
          ]
        }
      ]
    },
    {
      "cell_type": "code",
      "source": [
        "# saving the clustered_hashtags\n",
        "import pickle\n",
        "#with open('clusterd_hashtags.txt','wb') as file:\n",
        "#  pickle.dump(clusterd_hashtags, file) \n",
        "with open('clusterd_hashtags.txt','rb') as f:\n",
        "  clusterd_hashtags=pickle.load(f)\n"
      ],
      "metadata": {
        "id": "gYre9ZgH_EWG"
      },
      "execution_count": 67,
      "outputs": []
    },
    {
      "cell_type": "markdown",
      "source": [
        "# part 2 \n",
        "here for each group we can take a representative \n",
        "+ Take one hashtag as representative hashtag of the group\n",
        "+ Creating a representative by take average of the embeddings for each Group "
      ],
      "metadata": {
        "id": "nqzF_gh6_Fya"
      }
    },
    {
      "cell_type": "code",
      "source": [
        "txt1=\"ichbinhanna\"\n",
        "group1=['woisthanna','ichbinhanna', 'ichbinhannaat', 'ichbinreyhan', 'ichbinhannah', 'ichbinhannach', 'ichwarhanna']\n",
        "embedding1 = model.encode(txt1)\n",
        "embedding2=model.encode(group1)\n",
        "embedding3=np.mean(embedding2,axis=0)\n",
        "sim1=[util.pytorch_cos_sim(embedding1,embedding2[i]) for i in range(len(group1))]\n",
        "sim2=[util.pytorch_cos_sim(embedding3,embedding2[i]) for i in range(len(group1))]"
      ],
      "metadata": {
        "id": "3TU-yvQqAR-B"
      },
      "execution_count": 32,
      "outputs": []
    },
    {
      "cell_type": "code",
      "source": [
        "print(sim1)\n",
        "print(sim2)\n"
      ],
      "metadata": {
        "colab": {
          "base_uri": "https://localhost:8080/"
        },
        "id": "JsHp06A4CTXs",
        "outputId": "2d4075e1-1e03-446a-8264-108d0d58724d"
      },
      "execution_count": 57,
      "outputs": [
        {
          "output_type": "stream",
          "name": "stdout",
          "text": [
            "[[[0.6229310035705566]], [[1.0000001192092896]], [[0.8514472246170044]], [[0.591450572013855]], [[0.9035950303077698]], [[0.8298851251602173]], [[0.7408745288848877]]]\n",
            "[tensor([[0.7336]]), tensor([[0.9425]]), tensor([[0.8978]]), tensor([[0.6971]]), tensor([[0.8846]]), tensor([[0.8755]]), tensor([[0.8362]])]\n"
          ]
        }
      ]
    },
    {
      "cell_type": "code",
      "source": [
        "sim1=np.array([i.tolist() for r,i in enumerate(sim1)]).reshape(7)\n",
        "sim2=np.array([i.tolist() for r,i in enumerate(sim2)]).reshape(7)\n"
      ],
      "metadata": {
        "id": "3Tqwv1xzDuMi"
      },
      "execution_count": 59,
      "outputs": []
    },
    {
      "cell_type": "code",
      "source": [
        "print(f'here is the similarity of the Hashtag \\\"ichbinhanna\\\" (as representative of the group) to the other hashtags of the group: {np.mean(sim1)}')\n",
        "print(f'here is the similarity, taking averaging of Hashtags embedding in the group as representative to the other hashtags of the group: {np.mean(sim2)}')"
      ],
      "metadata": {
        "colab": {
          "base_uri": "https://localhost:8080/"
        },
        "id": "RUlL9IrmGjVz",
        "outputId": "1c11a3ce-f833-424a-bd1c-956718136a7a"
      },
      "execution_count": 62,
      "outputs": [
        {
          "output_type": "stream",
          "name": "stdout",
          "text": [
            "here is the similarity of the Hashtag \"ichbinhanna\" (as representative of the group) to the other hashtags of the group: 0.7914548005376544\n",
            "here is the similarity, taking averaging of Hashtags embedding in the group as representative to the other hashtags of the group: 0.838197146143232\n"
          ]
        }
      ]
    },
    {
      "cell_type": "markdown",
      "source": [
        "***which as is shown the second approach is more accurate (taking averaging of Hashtags embedding in a group as representative to the other hashtags of the group)***"
      ],
      "metadata": {
        "id": "OFZ6g0HPH09d"
      }
    },
    {
      "cell_type": "code",
      "source": [
        "\n",
        "group1=['woisthanna','ichbinhanna', 'ichbinhannaat', 'ichbinreyhan', 'ichbinhannah', 'ichbinhannach', 'ichwarhanna']\n",
        "def group_embedding(group):\n",
        "  g_embed=np.mean(model.encode(list(group)),axis=0)\n",
        "  return g_embed\n",
        "\n"
      ],
      "metadata": {
        "id": "MrRToyHoH0Y2"
      },
      "execution_count": null,
      "outputs": []
    },
    {
      "cell_type": "code",
      "source": [
        "len(clusterd_hashtags)"
      ],
      "metadata": {
        "colab": {
          "base_uri": "https://localhost:8080/"
        },
        "id": "3GUN00PQYHPi",
        "outputId": "780e44fa-56cf-441f-e19e-f3076a75a65a"
      },
      "execution_count": 68,
      "outputs": [
        {
          "output_type": "execute_result",
          "data": {
            "text/plain": [
              "16"
            ]
          },
          "metadata": {},
          "execution_count": 68
        }
      ]
    },
    {
      "cell_type": "code",
      "source": [],
      "metadata": {
        "id": "qSY2g058ZK2d"
      },
      "execution_count": null,
      "outputs": []
    },
    {
      "cell_type": "markdown",
      "source": [
        "#groupwise trend evaluation of hashtags each 3 month "
      ],
      "metadata": {
        "id": "TLnmR_dwPU6j"
      }
    },
    {
      "cell_type": "code",
      "source": [
        "df = pd.read_parquet('final_twitter_data.parquet')"
      ],
      "metadata": {
        "id": "cbfRcTuLPiJH"
      },
      "execution_count": null,
      "outputs": []
    },
    {
      "cell_type": "code",
      "source": [
        "df.drop_duplicates(subset=['tweet_id'])\n"
      ],
      "metadata": {
        "id": "48m4In3ZQ_Gv"
      },
      "execution_count": null,
      "outputs": []
    },
    {
      "cell_type": "code",
      "source": [
        "dates=list()\n",
        "\n",
        "for row,record in enumerate(df.hashtags):\n",
        "  if record!='[]'and df['timestamp'][row][0:7]>'2021-05' : \n",
        "    dates.append(df['timestamp'][row][0:7])\n"
      ],
      "metadata": {
        "id": "Wnf0Gp-uRC0r"
      },
      "execution_count": null,
      "outputs": []
    },
    {
      "cell_type": "code",
      "source": [
        "date=list()\n",
        "for dt in dates:\n",
        "  if dt not in date:\n",
        "    date.append(dt)\n"
      ],
      "metadata": {
        "id": "YDwlSrdtRL2t"
      },
      "execution_count": null,
      "outputs": []
    },
    {
      "cell_type": "code",
      "source": [
        "date.sort()\n",
        "date"
      ],
      "metadata": {
        "id": "8NAdxIHIRWTD"
      },
      "execution_count": null,
      "outputs": []
    },
    {
      "cell_type": "code",
      "source": [
        "date_each3= [dt for row, dt in enumerate(date) if row%3==0]"
      ],
      "metadata": {
        "id": "zJETq7hLRZ-k"
      },
      "execution_count": 74,
      "outputs": []
    },
    {
      "cell_type": "code",
      "source": [
        "date_each3"
      ],
      "metadata": {
        "colab": {
          "base_uri": "https://localhost:8080/"
        },
        "id": "n6QX3rTxTV7T",
        "outputId": "a8994caa-2708-4dcc-b211-40811dc14fe6"
      },
      "execution_count": null,
      "outputs": [
        {
          "output_type": "execute_result",
          "data": {
            "text/plain": [
              "['2021-06', '2021-09', '2021-12', '2022-03', '2022-06', '2022-09']"
            ]
          },
          "metadata": {},
          "execution_count": 36
        }
      ]
    },
    {
      "cell_type": "code",
      "source": [],
      "metadata": {
        "id": "rFAvJOGrT-Oa"
      },
      "execution_count": null,
      "outputs": []
    },
    {
      "cell_type": "code",
      "source": [
        "i=1\n",
        "j=6\n",
        "for i in range(1,3):\n",
        "  for j in range(1,13):\n",
        "    if i==1 and j>5 and j<10 or i==2 and j<10:\n",
        "      globals()[f'hash202{i}_0{j}']=list()\n",
        "      globals()[f'hash202{i}_0{j}'].extend([hash for row,hash in enumerate(df['hashtags']) if df['timestamp'][row][0:7]==f'202{i}-0{j}' and hash!='[]'])\n",
        "        \n",
        "    elif i==1 and j>5 and j>=10 or i==2 and j>=10:\n",
        "      globals()[f'hash202{i}_{j}']=list()\n",
        "      globals()[f'hash202{i}_{j}'].extend([hash for row,hash in enumerate(df['hashtags']) if df['timestamp'][row][0:7]==f'202{i}-{j}' and hash!='[]'])"
      ],
      "metadata": {
        "id": "5cUKU7Y8UP5D"
      },
      "execution_count": null,
      "outputs": []
    },
    {
      "cell_type": "code",
      "source": [
        "#preprocessing the hashtags list from specific periods\n",
        "i=1\n",
        "j=6\n",
        "for i in range(1,3):\n",
        "  for j in range(1,13):\n",
        "    if i==1 and j>5 and j<10 or i==2 and j<10:\n",
        "      globals()[f'all_hashtags_202{i}_0{j}']=list()\n",
        "      for s in globals()[f'hash202{i}_0{j}']:\n",
        "          bb=s.split(', ')\n",
        "          a=[re.search(r\"[\\[\\']*(\\w*)[\\]\\']*\",i).group(1) for i in bb]\n",
        "          globals()[f'all_hashtags_202{i}_0{j}'].extend(a)\n",
        "        \n",
        "        \n",
        "    elif i==1 and j>5 and j>=10 or i==2 and j>=10:\n",
        "      globals()[f'all_hashtags_202{i}_{j}']=list()\n",
        "      for s in globals()[f'hash202{i}_{j}']:\n",
        "          bb=s.split(', ')\n",
        "          a=[re.search(r\"[\\[\\']*(\\w*)[\\]\\']*\",i).group(1) for i in bb]\n",
        "          globals()[f'all_hashtags_202{i}_{j}'].extend(a)"
      ],
      "metadata": {
        "id": "4xiFB4DEUUYy"
      },
      "execution_count": null,
      "outputs": []
    },
    {
      "cell_type": "code",
      "source": [
        "def hashtag_counter(hash_ls,txt):\n",
        "  lis=list()\n",
        "  for hashtag in hash_ls:\n",
        "    lis.append(hashtag.lower())\n",
        "  return lis.count(txt.lower())"
      ],
      "metadata": {
        "id": "0TcFq6w2VSPn"
      },
      "execution_count": 76,
      "outputs": []
    },
    {
      "cell_type": "code",
      "source": [
        "def hashtag_num_list(hashtag):\n",
        "  hashtag_num=list()\n",
        "  for dt in date_each3:\n",
        "      i,j = dt[3],dt[5:]\n",
        "      lis = globals()[f'all_hashtags_202{i}_{j}']\n",
        "      hashtag_num.append(hashtag_counter(lis,hashtag))\n",
        "  return hashtag_num"
      ],
      "metadata": {
        "id": "s6k107K7VYhe"
      },
      "execution_count": 72,
      "outputs": []
    },
    {
      "cell_type": "code",
      "source": [
        "def group_hash_numlist(group):\n",
        "  return np.sum([hashtag_num_list(i) for i in group],axis=0)"
      ],
      "metadata": {
        "id": "QqC3w9jiV4AD"
      },
      "execution_count": 80,
      "outputs": []
    },
    {
      "cell_type": "code",
      "source": [
        "group_hash_numlist(clusterd_hashtags[1])"
      ],
      "metadata": {
        "colab": {
          "base_uri": "https://localhost:8080/"
        },
        "id": "ZxlEaNYeeL52",
        "outputId": "6a834d18-8b01-4a85-ec4d-adf7540c9033"
      },
      "execution_count": 81,
      "outputs": [
        {
          "output_type": "execute_result",
          "data": {
            "text/plain": [
              "array([10864,   265,  2343,   309,   659,   843])"
            ]
          },
          "metadata": {},
          "execution_count": 81
        }
      ]
    },
    {
      "cell_type": "code",
      "source": [
        "hashtag_num_list('ichbinhanna')"
      ],
      "metadata": {
        "id": "HI15ValPWxOA",
        "colab": {
          "base_uri": "https://localhost:8080/"
        },
        "outputId": "168fdc39-46a6-4902-dce1-7e93ffbdf773"
      },
      "execution_count": 79,
      "outputs": [
        {
          "output_type": "execute_result",
          "data": {
            "text/plain": [
              "[77842, 2614, 4907, 4632, 10323, 13077]"
            ]
          },
          "metadata": {},
          "execution_count": 79
        }
      ]
    },
    {
      "cell_type": "code",
      "source": [
        "def mf_g_hash(cluster):\n",
        "  group_dic=dict()\n",
        "  for r,group in enumerate(cluster):\n",
        "    hash_num=np.sum([hashtag_num_list(i) for i in group])\n",
        "    #group=list(group)\n",
        "    group_dic[r]=hash_num\n",
        "  group_dic=sorted(group_dic.items(),key= lambda k:k[1],reverse=True)\n",
        "  return group_dic"
      ],
      "metadata": {
        "id": "CN4_aK4Agwfs"
      },
      "execution_count": 106,
      "outputs": []
    },
    {
      "cell_type": "code",
      "source": [
        "most_frequent_groups=mf_g_hash(clusterd_hashtags)"
      ],
      "metadata": {
        "id": "uUMSepCijJT5"
      },
      "execution_count": 107,
      "outputs": []
    },
    {
      "cell_type": "code",
      "source": [
        "most_frequent_groups"
      ],
      "metadata": {
        "colab": {
          "base_uri": "https://localhost:8080/"
        },
        "id": "G6gEjeHFnfPf",
        "outputId": "6d26e32f-bc67-43ee-e46c-59c0087260bc"
      },
      "execution_count": 108,
      "outputs": [
        {
          "output_type": "execute_result",
          "data": {
            "text/plain": [
              "[(0, 121455),\n",
              " (1, 15283),\n",
              " (2, 3475),\n",
              " (6, 2502),\n",
              " (7, 1325),\n",
              " (4, 1182),\n",
              " (3, 1155),\n",
              " (5, 749),\n",
              " (9, 569),\n",
              " (13, 399),\n",
              " (11, 332),\n",
              " (12, 282),\n",
              " (8, 263),\n",
              " (15, 251),\n",
              " (10, 226),\n",
              " (14, 181)]"
            ]
          },
          "metadata": {},
          "execution_count": 108
        }
      ]
    },
    {
      "cell_type": "code",
      "source": [
        "x"
      ],
      "metadata": {
        "colab": {
          "base_uri": "https://localhost:8080/"
        },
        "id": "LGAJB2zjjjZS",
        "outputId": "44769b41-d54b-46b7-8724-4995c0f7cd4e"
      },
      "execution_count": 101,
      "outputs": [
        {
          "output_type": "execute_result",
          "data": {
            "text/plain": [
              "[('ichwarhanna', 121455),\n",
              " ('gegenwisszeitvg10', 15283),\n",
              " ('tvstud', 3475),\n",
              " ('forschung', 2502),\n",
              " ('frististfrust', 1325),\n",
              " ('academia', 1182),\n",
              " ('hrk', 1155),\n",
              " ('twittercampus', 749),\n",
              " ('karliczek', 569),\n",
              " ('befristung', 399),\n",
              " ('tenuretrack', 332),\n",
              " ('firstgen', 282),\n",
              " ('stopthecuts', 263),\n",
              " ('corona', 251),\n",
              " ('hannaorganisiertsich', 226),\n",
              " ('dasgewinnenwir', 181)]"
            ]
          },
          "metadata": {},
          "execution_count": 101
        }
      ]
    },
    {
      "cell_type": "code",
      "source": [
        "new_hash_set=[i[0] for r,i in enumerate(most_frequent_groups) if r<8]"
      ],
      "metadata": {
        "id": "-yDAaR42lgvg"
      },
      "execution_count": 110,
      "outputs": []
    },
    {
      "cell_type": "code",
      "source": [
        "names=[i[0] for r,i in enumerate(x) if r<8]"
      ],
      "metadata": {
        "id": "uiTjzT8eoMPM"
      },
      "execution_count": 114,
      "outputs": []
    },
    {
      "cell_type": "code",
      "source": [
        "for r,i in enumerate(clusterd_hashtags):\n",
        "  print(f'group{r+1} : {i}')"
      ],
      "metadata": {
        "colab": {
          "base_uri": "https://localhost:8080/"
        },
        "id": "F7LNJCDHqa1q",
        "outputId": "5ebb6ff1-9b2e-458a-85c2-b9020c92fb88"
      },
      "execution_count": 130,
      "outputs": [
        {
          "output_type": "stream",
          "name": "stdout",
          "text": [
            "group1 : {'ichwarhanna', 'ichbinreyhan', 'woisthanna', 'ichbinhannaat', 'ichbinhannach', 'ichbinhanna', 'ichbinhannah'}\n",
            "group2 : {'gegenwisszeitvg10', 'daad', 'wisskomm', 'wisszeitvg'}\n",
            "group3 : {'tvstud', 'dauerstellenfürdaueraufgaben', 'dauerstellen', 'entfristethanna'}\n",
            "group4 : {'hrk', 'ugnovelle', 'berlhg'}\n",
            "group5 : {'academia', 'hochschule', 'hochschulen'}\n",
            "group6 : {'twittercampus', 'academictwitter', 'academicchatter'}\n",
            "group7 : {'forschung', 'wissenschaft'}\n",
            "group8 : {'frististfrust'}\n",
            "group9 : {'stopthecuts'}\n",
            "group10 : {'karliczek'}\n",
            "group11 : {'hannaorganisiertsich'}\n",
            "group12 : {'tenuretrack'}\n",
            "group13 : {'firstgen'}\n",
            "group14 : {'befristung'}\n",
            "group15 : {'dasgewinnenwir'}\n",
            "group16 : {'corona'}\n"
          ]
        }
      ]
    },
    {
      "cell_type": "code",
      "source": [
        "names"
      ],
      "metadata": {
        "colab": {
          "base_uri": "https://localhost:8080/"
        },
        "id": "qwxa41bXtOsm",
        "outputId": "3fcbb652-adac-4ad8-ca7c-a21c62b7bc2f"
      },
      "execution_count": 141,
      "outputs": [
        {
          "output_type": "execute_result",
          "data": {
            "text/plain": [
              "['ichwarhanna',\n",
              " 'gegenwisszeitvg10',\n",
              " 'tvstud',\n",
              " 'forschung',\n",
              " 'frististfrust',\n",
              " 'academia',\n",
              " 'hrk',\n",
              " 'twittercampus']"
            ]
          },
          "metadata": {},
          "execution_count": 141
        }
      ]
    },
    {
      "cell_type": "code",
      "source": [
        "%matplotlib inline\n",
        "sns.set(style=\"darkgrid\")\n",
        "fig = plt.figure(figsize = (20, 10))\n",
        "for i in new_hash_set:\n",
        "  plt.plot(date_each3,np.array(group_hash_numlist(clusterd_hashtags[i]))/np.size(list_of_all_hashtags))#/summ\n",
        "\n",
        "plt.legend([f'group{j+1},{names[r]}' for r,j in enumerate(new_hash_set) ], fontsize=20) \n",
        "plt.xticks(fontsize = 12)\n",
        "plt.yticks(fontsize = 16)\n",
        "\n",
        "plt.xlabel(\"time\",fontsize = 20)\n",
        "plt.ylabel(\"share of Hashtags in tweets for the specified period\",fontsize = 20)\n",
        "plt.title(\"Trend evolution of the four most frequent groups of hashtags over season (ratio)\",fontsize = 20,fontweight='bold')\n",
        "plt.show()\n",
        "\n"
      ],
      "metadata": {
        "colab": {
          "base_uri": "https://localhost:8080/",
          "height": 641
        },
        "id": "BjqMzs9CXxVe",
        "outputId": "4849e7ef-c8c9-4290-dff0-17edfc4d3e87"
      },
      "execution_count": 132,
      "outputs": [
        {
          "output_type": "display_data",
          "data": {
            "text/plain": [
              "<Figure size 1440x720 with 1 Axes>"
            ],
            "image/png": "[encoded data removed]"
          },
          "metadata": {}
        }
      ]
    },
    {
      "cell_type": "code",
      "source": [
        "%matplotlib inline\n",
        "sns.set(style=\"darkgrid\")\n",
        "fig = plt.figure(figsize = (20, 10))\n",
        "for i in new_hash_set[1:5]:\n",
        "  plt.plot(date_each3,np.array(group_hash_numlist(clusterd_hashtags[i]))/np.size(list_of_all_hashtags))#/summ\n",
        "\n",
        "plt.legend([f'group{j+1},{names[r+1]}' for r,j in enumerate(new_hash_set[1:5]) ], fontsize=20) \n",
        "plt.xticks(fontsize = 12)\n",
        "plt.yticks(fontsize = 16)\n",
        "\n",
        "plt.xlabel(\"time\",fontsize = 20)\n",
        "plt.ylabel(\"share of Hashtags in tweets for the specified period\",fontsize = 20)\n",
        "plt.title(\"Trend evolution of the  most frequent groups of hashtags over season (ratio) apart from group 1\",fontsize = 20,fontweight='bold')\n",
        "plt.show()\n",
        "\n"
      ],
      "metadata": {
        "colab": {
          "base_uri": "https://localhost:8080/",
          "height": 641
        },
        "id": "Xq5wHfY5pC-H",
        "outputId": "075df746-114a-4356-bee4-3246d5054c39"
      },
      "execution_count": 144,
      "outputs": [
        {
          "output_type": "display_data",
          "data": {
            "text/plain": [
              "<Figure size 1440x720 with 1 Axes>"
            ],
            "image/png": "[encoded data removed]"
          },
          "metadata": {}
        }
      ]
    },
    {
      "cell_type": "code",
      "source": [
        "%matplotlib inline\n",
        "sns.set(style=\"darkgrid\")\n",
        "fig = plt.figure(figsize = (20, 10))\n",
        "for i in new_hash_set[2:7]:\n",
        "  plt.plot(date_each3,np.array(group_hash_numlist(clusterd_hashtags[i]))/np.size(list_of_all_hashtags))#/summ\n",
        "\n",
        "plt.legend([f'group{j+1},{names[r+2]}' for r,j in enumerate(new_hash_set[2:7]) ], fontsize=20) \n",
        "plt.xticks(fontsize = 12)\n",
        "plt.yticks(fontsize = 16)\n",
        "\n",
        "plt.xlabel(\"time\",fontsize = 20)\n",
        "plt.ylabel(\"share of Hashtags in tweets for the specified period\",fontsize = 20)\n",
        "plt.title(\"Trend evolution of the five most frequent groups of hashtags over season (ratio) apart from groups 1 and 2 \",fontsize = 20,fontweight='bold')\n",
        "plt.show()\n",
        "\n"
      ],
      "metadata": {
        "colab": {
          "base_uri": "https://localhost:8080/",
          "height": 641
        },
        "id": "A9BAN3mapD5P",
        "outputId": "c59961d8-081e-401b-ce9b-e18d67e03375"
      },
      "execution_count": 143,
      "outputs": [
        {
          "output_type": "display_data",
          "data": {
            "text/plain": [
              "<Figure size 1440x720 with 1 Axes>"
            ],
            "image/png": "[encoded data removed]"
          },
          "metadata": {}
        }
      ]
    },
    {
      "cell_type": "code",
      "source": [],
      "metadata": {
        "id": "vfiythmgZmuY"
      },
      "execution_count": null,
      "outputs": []
    },
    {
      "cell_type": "code",
      "source": [],
      "metadata": {
        "id": "1unzFGlpiZ83"
      },
      "execution_count": null,
      "outputs": []
    },
    {
      "cell_type": "markdown",
      "source": [
        "# TSNE"
      ],
      "metadata": {
        "id": "vGfs7RcWH49h"
      }
    },
    {
      "cell_type": "code",
      "source": [
        "from sklearn.manifold import TSNE\n",
        "import pandas as pd\n",
        "import seaborn as sns\n",
        " \n",
        "# We want to get TSNE embedding with 2 dimensions\n",
        "n_components = 2\n",
        "tsne = TSNE(n_components)\n",
        "tsne_result = tsne.fit_transform(embedding_full)\n",
        "tsne_result.shape\n",
        "# (1000, 2)\n",
        "# Two dimensions for each of our images\n",
        " \n",
        "# Plot the result of our TSNE with the label color coded\n",
        "# A lot of the stuff here is about making the plot look pretty and not TSNE"
      ],
      "metadata": {
        "colab": {
          "base_uri": "https://localhost:8080/"
        },
        "id": "UKxHrzGiOSfz",
        "outputId": "9c936db0-283e-41e6-fc94-4346c4cba1d1"
      },
      "execution_count": null,
      "outputs": [
        {
          "output_type": "stream",
          "name": "stderr",
          "text": [
            "/usr/local/lib/python3.8/dist-packages/sklearn/manifold/_t_sne.py:780: FutureWarning: The default initialization in TSNE will change from 'random' to 'pca' in 1.2.\n",
            "  warnings.warn(\n",
            "/usr/local/lib/python3.8/dist-packages/sklearn/manifold/_t_sne.py:790: FutureWarning: The default learning rate in TSNE will change from 200.0 to 'auto' in 1.2.\n",
            "  warnings.warn(\n"
          ]
        },
        {
          "output_type": "execute_result",
          "data": {
            "text/plain": [
              "(50, 2)"
            ]
          },
          "metadata": {},
          "execution_count": 64
        }
      ]
    },
    {
      "cell_type": "code",
      "source": [
        "tsne_result_df = pd.DataFrame({'tsne_1': tsne_result[:,0], 'tsne_2': tsne_result[:,1]})\n",
        "fig, ax = plt.subplots(1)\n",
        "sns.scatterplot(x='tsne_1', y='tsne_2', data=tsne_result_df, ax=ax,s=120)\n",
        "lim = (tsne_result.min()-5, tsne_result.max()+5)\n",
        "ax.set_xlim(lim)\n",
        "ax.set_ylim(lim)\n",
        "ax.set_aspect('equal')\n",
        "ax.legend(bbox_to_anchor=(1.05, 1), loc=2, borderaxespad=0.0)"
      ],
      "metadata": {
        "colab": {
          "base_uri": "https://localhost:8080/",
          "height": 317
        },
        "id": "cqn9naY9V7dC",
        "outputId": "eb9575e9-6acd-4612-8247-b1331984d969"
      },
      "execution_count": null,
      "outputs": [
        {
          "output_type": "stream",
          "name": "stderr",
          "text": [
            "WARNING:matplotlib.legend:No handles with labels found to put in legend.\n"
          ]
        },
        {
          "output_type": "execute_result",
          "data": {
            "text/plain": [
              "<matplotlib.legend.Legend at 0x7f219ca33f10>"
            ]
          },
          "metadata": {},
          "execution_count": 65
        },
        {
          "output_type": "display_data",
          "data": {
            "text/plain": [
              "<Figure size 432x288 with 1 Axes>"
            ],
            "image/png": "[encoded data removed]"
          },
          "metadata": {
            "needs_background": "light"
          }
        }
      ]
    },
    {
      "cell_type": "code",
      "source": [
        "n_components = 2\n",
        "tsne = TSNE(n_components)\n",
        "tsne_result = tsne.fit_transform(ff)\n",
        "tsne_result.shape"
      ],
      "metadata": {
        "id": "RG8RD5i6XC7R"
      },
      "execution_count": null,
      "outputs": []
    }
  ]
}