{
 "cells": [
  {
   "cell_type": "code",
   "execution_count": 2,
   "id": "ff6e0631",
   "metadata": {},
   "outputs": [],
   "source": [
    "import seaborn as sns\n",
    "import pandas as pd\n",
    "import matplotlib.pyplot as plt\n",
    "from matplotlib.pyplot import pie, axis, show\n",
    "%matplotlib inline"
   ]
  },
  {
   "cell_type": "code",
   "execution_count": 3,
   "id": "926b8409",
   "metadata": {},
   "outputs": [],
   "source": [
    "df = pd.read_csv(\"C:\\\\Users\\\\kapad\\\\Desktop\\\\TweetAnalysis\\\\tweets_dataset.csv\")"
   ]
  },
  {
   "cell_type": "code",
   "execution_count": 4,
   "id": "6ad8edf4",
   "metadata": {},
   "outputs": [
    {
     "data": {
      "text/html": [
       "<div>\n",
       "<style scoped>\n",
       "    .dataframe tbody tr th:only-of-type {\n",
       "        vertical-align: middle;\n",
       "    }\n",
       "\n",
       "    .dataframe tbody tr th {\n",
       "        vertical-align: top;\n",
       "    }\n",
       "\n",
       "    .dataframe thead th {\n",
       "        text-align: right;\n",
       "    }\n",
       "</style>\n",
       "<table border=\"1\" class=\"dataframe\">\n",
       "  <thead>\n",
       "    <tr style=\"text-align: right;\">\n",
       "      <th></th>\n",
       "      <th>timestamp</th>\n",
       "      <th>tweet_id</th>\n",
       "      <th>conversation_id</th>\n",
       "      <th>author_id</th>\n",
       "      <th>text</th>\n",
       "      <th>retweet_count</th>\n",
       "      <th>reply_count</th>\n",
       "      <th>like_count</th>\n",
       "      <th>quote_count</th>\n",
       "      <th>referenced_tweets</th>\n",
       "      <th>hashtags</th>\n",
       "      <th>tweet_type</th>\n",
       "    </tr>\n",
       "  </thead>\n",
       "  <tbody>\n",
       "    <tr>\n",
       "      <th>0</th>\n",
       "      <td>2022-10-31T08:30:28.000Z</td>\n",
       "      <td>1586999028612472834</td>\n",
       "      <td>1586999028612472834</td>\n",
       "      <td>2981738470</td>\n",
       "      <td>RT @DrKEichhorn: Heute vor 505 hat Luther sein...</td>\n",
       "      <td>9</td>\n",
       "      <td>0</td>\n",
       "      <td>0</td>\n",
       "      <td>0</td>\n",
       "      <td>[{'type': 'retweeted', 'id': '1586978646862036...</td>\n",
       "      <td>[]</td>\n",
       "      <td>retweet</td>\n",
       "    </tr>\n",
       "    <tr>\n",
       "      <th>1</th>\n",
       "      <td>2022-10-29T09:32:03.000Z</td>\n",
       "      <td>1586289751338127360</td>\n",
       "      <td>1586289751338127360</td>\n",
       "      <td>1132055796571877376</td>\n",
       "      <td>Toxische Umfrage - so wird Wochenendarbeit als...</td>\n",
       "      <td>6</td>\n",
       "      <td>5</td>\n",
       "      <td>110</td>\n",
       "      <td>0</td>\n",
       "      <td>[{'type': 'quoted', 'id': '1586254670552797184'}]</td>\n",
       "      <td>['WissSystemFehler', 'IchbinHanna', 'Wissensch...</td>\n",
       "      <td>original</td>\n",
       "    </tr>\n",
       "    <tr>\n",
       "      <th>2</th>\n",
       "      <td>2022-10-28T08:03:27.000Z</td>\n",
       "      <td>1585905069345902593</td>\n",
       "      <td>1585905069345902593</td>\n",
       "      <td>1132055796571877376</td>\n",
       "      <td>Mein Rant über Konferenzreisekosten &amp;amp; #Ich...</td>\n",
       "      <td>1</td>\n",
       "      <td>0</td>\n",
       "      <td>11</td>\n",
       "      <td>0</td>\n",
       "      <td>[]</td>\n",
       "      <td>['IchbinHanna', 'Mediengeschichte', 'mediahist...</td>\n",
       "      <td>original</td>\n",
       "    </tr>\n",
       "    <tr>\n",
       "      <th>3</th>\n",
       "      <td>2022-10-26T20:08:17.000Z</td>\n",
       "      <td>1585362702641561601</td>\n",
       "      <td>1585362702641561601</td>\n",
       "      <td>1132055796571877376</td>\n",
       "      <td>Rant über 1800 EUR verauslagte Konferenzreisek...</td>\n",
       "      <td>2</td>\n",
       "      <td>22</td>\n",
       "      <td>126</td>\n",
       "      <td>0</td>\n",
       "      <td>[]</td>\n",
       "      <td>['IchbinHanna']</td>\n",
       "      <td>original</td>\n",
       "    </tr>\n",
       "    <tr>\n",
       "      <th>4</th>\n",
       "      <td>2022-10-25T13:11:11.000Z</td>\n",
       "      <td>1584895346874134528</td>\n",
       "      <td>1584895346874134528</td>\n",
       "      <td>1132055796571877376</td>\n",
       "      <td>Meine Auslagen für Konferenzreisen betragen mi...</td>\n",
       "      <td>11</td>\n",
       "      <td>16</td>\n",
       "      <td>139</td>\n",
       "      <td>1</td>\n",
       "      <td>[]</td>\n",
       "      <td>['Zwangsteilzeit', 'IchbinHanna']</td>\n",
       "      <td>original</td>\n",
       "    </tr>\n",
       "  </tbody>\n",
       "</table>\n",
       "</div>"
      ],
      "text/plain": [
       "                  timestamp             tweet_id      conversation_id  \\\n",
       "0  2022-10-31T08:30:28.000Z  1586999028612472834  1586999028612472834   \n",
       "1  2022-10-29T09:32:03.000Z  1586289751338127360  1586289751338127360   \n",
       "2  2022-10-28T08:03:27.000Z  1585905069345902593  1585905069345902593   \n",
       "3  2022-10-26T20:08:17.000Z  1585362702641561601  1585362702641561601   \n",
       "4  2022-10-25T13:11:11.000Z  1584895346874134528  1584895346874134528   \n",
       "\n",
       "             author_id                                               text  \\\n",
       "0           2981738470  RT @DrKEichhorn: Heute vor 505 hat Luther sein...   \n",
       "1  1132055796571877376  Toxische Umfrage - so wird Wochenendarbeit als...   \n",
       "2  1132055796571877376  Mein Rant über Konferenzreisekosten &amp; #Ich...   \n",
       "3  1132055796571877376  Rant über 1800 EUR verauslagte Konferenzreisek...   \n",
       "4  1132055796571877376  Meine Auslagen für Konferenzreisen betragen mi...   \n",
       "\n",
       "   retweet_count  reply_count  like_count  quote_count  \\\n",
       "0              9            0           0            0   \n",
       "1              6            5         110            0   \n",
       "2              1            0          11            0   \n",
       "3              2           22         126            0   \n",
       "4             11           16         139            1   \n",
       "\n",
       "                                   referenced_tweets  \\\n",
       "0  [{'type': 'retweeted', 'id': '1586978646862036...   \n",
       "1  [{'type': 'quoted', 'id': '1586254670552797184'}]   \n",
       "2                                                 []   \n",
       "3                                                 []   \n",
       "4                                                 []   \n",
       "\n",
       "                                            hashtags tweet_type  \n",
       "0                                                 []    retweet  \n",
       "1  ['WissSystemFehler', 'IchbinHanna', 'Wissensch...   original  \n",
       "2  ['IchbinHanna', 'Mediengeschichte', 'mediahist...   original  \n",
       "3                                    ['IchbinHanna']   original  \n",
       "4                  ['Zwangsteilzeit', 'IchbinHanna']   original  "
      ]
     },
     "execution_count": 4,
     "metadata": {},
     "output_type": "execute_result"
    }
   ],
   "source": [
    "df.head()"
   ]
  },
  {
   "cell_type": "code",
   "execution_count": 5,
   "id": "2c609d57",
   "metadata": {},
   "outputs": [],
   "source": [
    "dF=df.drop_duplicates()"
   ]
  },
  {
   "cell_type": "markdown",
   "id": "52af4d5d",
   "metadata": {},
   "source": [
    "### To get the total number of tweets and retweets in accordance to the hashtag create a different data frame."
   ]
  },
  {
   "cell_type": "code",
   "execution_count": 8,
   "id": "ef0a0654",
   "metadata": {},
   "outputs": [],
   "source": [
    "data_pie = dF['tweet_type'].value_counts().rename_axis('tweet_type').reset_index(name='tweets_count')"
   ]
  },
  {
   "cell_type": "code",
   "execution_count": 9,
   "id": "68f1ef13",
   "metadata": {},
   "outputs": [
    {
     "data": {
      "image/png": "[encoded data removed]",
      "text/plain": [
       "<Figure size 720x720 with 1 Axes>"
      ]
     },
     "metadata": {},
     "output_type": "display_data"
    }
   ],
   "source": [
    "plt.figure(figsize=(10,10))\n",
    "colors = ['#66b3ff','#99ff99','#ff9999','#ffcc99']\n",
    "plt.pie(data_pie.tweets_count, labels=data_pie.tweet_type,colors=colors, autopct='%1.1f%%')\n",
    "plt.title('The number of tweets and retweets')\n",
    "plt.legend(data_pie.tweets_count,fontsize=20)\n",
    "plt.show()"
   ]
  },
  {
   "cell_type": "code",
   "execution_count": 10,
   "id": "0565991d",
   "metadata": {},
   "outputs": [
    {
     "data": {
      "text/plain": [
       "5888009"
      ]
     },
     "execution_count": 10,
     "metadata": {},
     "output_type": "execute_result"
    }
   ],
   "source": [
    "retweet_c = dF['retweet_count'].sum()\n",
    "retweet_c"
   ]
  },
  {
   "cell_type": "code",
   "execution_count": 11,
   "id": "311b7a23",
   "metadata": {},
   "outputs": [
    {
     "data": {
      "text/plain": [
       "336693"
      ]
     },
     "execution_count": 11,
     "metadata": {},
     "output_type": "execute_result"
    }
   ],
   "source": [
    "quote_c=dF['quote_count'].sum()\n",
    "quote_c"
   ]
  },
  {
   "cell_type": "code",
   "execution_count": 18,
   "id": "36cf81a6",
   "metadata": {},
   "outputs": [
    {
     "name": "stderr",
     "output_type": "stream",
     "text": [
      "<ipython-input-18-bfc192a3e820>:3: UserWarning: FixedFormatter should only be used together with FixedLocator\n",
      "  ax.set_yticklabels(['{:,}'.format(int(x)) for x in ax.get_yticks().tolist()])\n"
     ]
    },
    {
     "data": {
      "text/plain": [
       "[Text(0, 0.0, '0'),\n",
       " Text(0, 1000000.0, '1,000,000'),\n",
       " Text(0, 2000000.0, '2,000,000'),\n",
       " Text(0, 3000000.0, '3,000,000'),\n",
       " Text(0, 4000000.0, '4,000,000'),\n",
       " Text(0, 5000000.0, '5,000,000'),\n",
       " Text(0, 6000000.0, '6,000,000'),\n",
       " Text(0, 7000000.0, '7,000,000')]"
      ]
     },
     "execution_count": 18,
     "metadata": {},
     "output_type": "execute_result"
    },
    {
     "data": {
      "image/png": "[encoded data removed]",
      "text/plain": [
       "<Figure size 432x288 with 1 Axes>"
      ]
     },
     "metadata": {
      "needs_background": "light"
     },
     "output_type": "display_data"
    }
   ],
   "source": [
    "data = pd.DataFrame({'type':['Retweet', 'Quote'], 'frequency':[retweet_c,quote_c]})\n",
    "ax= data.plot.bar(x='type', y='frequency', color = 'cyan')\n",
    "ax.set_yticklabels(['{:,}'.format(int(x)) for x in ax.get_yticks().tolist()])"
   ]
  },
  {
   "cell_type": "code",
   "execution_count": null,
   "id": "062431b2",
   "metadata": {},
   "outputs": [],
   "source": []
  }
 ],
 "metadata": {
  "kernelspec": {
   "display_name": "Python 3",
   "language": "python",
   "name": "python3"
  },
  "language_info": {
   "codemirror_mode": {
    "name": "ipython",
    "version": 3
   },
   "file_extension": ".py",
   "mimetype": "text/x-python",
   "name": "python",
   "nbconvert_exporter": "python",
   "pygments_lexer": "ipython3",
   "version": "3.8.8"
  }
 },
 "nbformat": 4,
 "nbformat_minor": 5
}
