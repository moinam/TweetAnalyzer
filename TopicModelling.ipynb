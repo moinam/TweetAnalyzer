{
 "cells": [
  {
   "cell_type": "code",
   "execution_count": null,
   "metadata": {},
   "outputs": [],
   "source": [
    "%pip install HanTa\n",
    "%pip install lda\n",
    "%pip install pyldavis\n",
    "%pip install germalemma==0.1.3"
   ]
  },
  {
   "cell_type": "code",
   "execution_count": 1,
   "metadata": {},
   "outputs": [
    {
     "name": "stderr",
     "output_type": "stream",
     "text": [
      "[nltk_data] Downloading package wordnet to C:\\Users\\Er Pravin\n",
      "[nltk_data]     Pandey\\AppData\\Roaming\\nltk_data...\n",
      "[nltk_data]   Package wordnet is already up-to-date!\n",
      "[nltk_data] Downloading package omw-1.4 to C:\\Users\\Er Pravin\n",
      "[nltk_data]     Pandey\\AppData\\Roaming\\nltk_data...\n",
      "[nltk_data]   Package omw-1.4 is already up-to-date!\n",
      "[nltk_data] Downloading package punkt to C:\\Users\\Er Pravin\n",
      "[nltk_data]     Pandey\\AppData\\Roaming\\nltk_data...\n",
      "[nltk_data]   Package punkt is already up-to-date!\n",
      "[nltk_data] Downloading package stopwords to C:\\Users\\Er Pravin\n",
      "[nltk_data]     Pandey\\AppData\\Roaming\\nltk_data...\n",
      "[nltk_data]   Package stopwords is already up-to-date!\n"
     ]
    }
   ],
   "source": [
    "import numpy as np\n",
    "import pandas as pd\n",
    "import matplotlib.pyplot as plt\n",
    "import re\n",
    "import nltk\n",
    "from sklearn.feature_extraction.text import CountVectorizer\n",
    "# import lda\n",
    "import gensim\n",
    "import gensim.corpora as corpora\n",
    "from gensim.utils import simple_preprocess\n",
    "from gensim.models import CoherenceModel\n",
    "from HanTa import HanoverTagger as ht\n",
    "from nltk.corpus import stopwords\n",
    "from germalemma import GermaLemma\n",
    "import pyLDAvis.gensim_models\n",
    "import pyLDAvis\n",
    "pyLDAvis.enable_notebook()\n",
    "\n",
    "nltk.download('wordnet')\n",
    "nltk.download('omw-1.4')\n",
    "nltk.download('punkt')\n",
    "nltk.download('stopwords')\n",
    "en_tagger = ht.HanoverTagger('morphmodel_en.pgz')\n",
    "de_tagger = ht.HanoverTagger('morphmodel_ger.pgz')\n"
   ]
  },
  {
   "cell_type": "code",
   "execution_count": 2,
   "metadata": {},
   "outputs": [
    {
     "name": "stderr",
     "output_type": "stream",
     "text": [
      "<>:37: DeprecationWarning: invalid escape sequence \\d\n",
      "<>:37: DeprecationWarning: invalid escape sequence \\d\n",
      "C:\\Users\\Er Pravin Pandey\\AppData\\Local\\Temp\\ipykernel_2752\\763361653.py:37: DeprecationWarning: invalid escape sequence \\d\n",
      "  read_df['text'] = read_df['text'].str.replace('\\d+', '')  # removes number\n"
     ]
    }
   ],
   "source": [
    "def clean_data():\n",
    "    def remove_emojis(data):\n",
    "        emoj = re.compile(\"[\"\n",
    "                          u\"\\U0001F600-\\U0001F64F\"  # emoticons\n",
    "                          u\"\\U0001F300-\\U0001F5FF\"  # symbols & pictographs\n",
    "                          u\"\\U0001F680-\\U0001F6FF\"  # transport & map symbols\n",
    "                          u\"\\U0001F1E0-\\U0001F1FF\"  # flags (iOS)\n",
    "                          u\"\\U00002500-\\U00002BEF\"  # chinese char\n",
    "                          u\"\\U00002702-\\U000027B0\"\n",
    "                          u\"\\U00002702-\\U000027B0\"\n",
    "                          u\"\\U000024C2-\\U0001F251\"\n",
    "                          u\"\\U0001f926-\\U0001f937\"\n",
    "                          u\"\\U00010000-\\U0010ffff\"\n",
    "                          u\"\\u2640-\\u2642\"\n",
    "                          u\"\\u2600-\\u2B55\"\n",
    "                          u\"\\u200d\"\n",
    "                          u\"\\u23cf\"\n",
    "                          u\"\\u23e9\"\n",
    "                          u\"\\u231a\"\n",
    "                          u\"\\ufe0f\"  # dingbats\n",
    "                          u\"\\u3030\"\n",
    "                          \"]+\", re.UNICODE)\n",
    "        return re.sub(emoj, '', data)\n",
    "\n",
    "    # Removing mentions and hashtags and url\n",
    "    def remove_mentions_and_tags(text):\n",
    "        text = re.sub(r'@\\S*', '', text)\n",
    "        text = re.sub(r'http\\S+', '', text)\n",
    "        return re.sub(r'#\\S*', '', text)\n",
    "\n",
    "    read_df = pd.read_parquet(\"twitter_data.parquet\")\n",
    "    read_df = read_df.drop_duplicates(subset=['tweet_id'])\n",
    "    read_df = read_df.loc[read_df['tweet_type'] != 'retweet']\n",
    "    read_df.text = read_df.text.apply(remove_emojis)\n",
    "    read_df.text = read_df.text.apply(remove_mentions_and_tags)\n",
    "    read_df['text'] = read_df['text'].str.replace(r'[^\\w\\s]+', '')  # remove punctuations\n",
    "    read_df['text'] = read_df['text'].str.replace('\\d+', '')  # removes number\n",
    "    en_df = read_df[read_df.tweet_language == 'en']\n",
    "    de_df = read_df[read_df.tweet_language == 'de']\n",
    "    return en_df, de_df, read_df\n",
    "\n",
    "def extract_adj_noun(df, tagger: ht.HanoverTagger, lang: str):\n",
    "\n",
    "  def noun(text, tagger):\n",
    "    words = nltk.word_tokenize(text)\n",
    "    tokens = [word for (word, x, pos) in tagger.tag_sent(\n",
    "        words, taglevel=1) if pos == 'NN']\n",
    "    return tokens\n",
    "\n",
    "  def adj(text, tagger):\n",
    "    words = nltk.word_tokenize(text)\n",
    "    tokens = [word for (word, x, pos) in tagger.tag_sent(\n",
    "        words, taglevel=1) if pos == 'ADJ']\n",
    "    return tokens\n",
    "\n",
    "  def to_lowercase(text):\n",
    "    token = []\n",
    "    for i in range(len(text)):\n",
    "      val = text[i].lower()\n",
    "      token.append(val)\n",
    "    return token\n",
    "\n",
    "  def stop_word_removal(x, stop_words):\n",
    "    return ' '.join([w for w in x if not w in stop_words])\n",
    "\n",
    "  df['noun'] = df.text.apply(noun, tagger=tagger)\n",
    "  df['adj'] = df.text.apply(adj, tagger=tagger)\n",
    "  df.noun = df.noun.apply(to_lowercase)\n",
    "  stop_words = stopwords.words(lang)\n",
    "  stop_words.append('amp')\n",
    "  df.noun = df.noun.apply(stop_word_removal, stop_words=stop_words)\n",
    "  df.adj = df.adj.apply(stop_word_removal, stop_words=stop_words)\n",
    "  return df\n",
    "\n",
    "\n",
    "def lementize_en_text(df):\n",
    "  w_tokenizer = nltk.tokenize.WhitespaceTokenizer()\n",
    "  lemmatizer = nltk.stem.WordNetLemmatizer()\n",
    "\n",
    "  def lemmatize_text(text):\n",
    "    return [lemmatizer.lemmatize(w, 'n') for w in w_tokenizer.tokenize(text)]\n",
    "\n",
    "  def lemmatize_text_adj(text):\n",
    "    return [lemmatizer.lemmatize(w, 'a') for w in w_tokenizer.tokenize(text)]\n",
    "\n",
    "  df['lemma_noun'] = df.noun.apply(lemmatize_text)\n",
    "  df['lemma_adj'] = df.adj.apply(lemmatize_text_adj)\n",
    "  dict_docs = df.lemma_noun.to_dict()\n",
    "  return df, dict_docs\n",
    "\n",
    "\n",
    "def lementize_de_text(df):\n",
    "  lemmatizer = GermaLemma()\n",
    "\n",
    "  def lemmatize_noun(x):\n",
    "    arr = []\n",
    "    token = x.split()\n",
    "    for i in range(len(token)):\n",
    "      lemma_noun = lemmatizer.find_lemma(token[i], 'N')\n",
    "      arr.append(lemma_noun)\n",
    "    return arr\n",
    "\n",
    "  def lemmatize_adj(x):\n",
    "    arr = []\n",
    "    token = x.split()\n",
    "    for i in range(len(token)):\n",
    "      lemma_noun = lemmatizer.find_lemma(token[i], 'ADJ')\n",
    "      arr.append(lemma_noun)\n",
    "    return arr\n",
    "\n",
    "  df['lemma_noun'] = df.noun.apply(lemmatize_noun)\n",
    "  df['lemma_adj'] = df.adj.apply(lemmatize_adj)\n",
    "  dict_docs = df.lemma_noun.to_dict()\n",
    "  return df, dict_docs\n",
    "\n",
    "\n",
    "def lda_topic_model(df):\n",
    "\n",
    "  def generate_tokens(tweet):\n",
    "    words = []\n",
    "    for i in range(len(tweet)):\n",
    "      word = tweet[i]\n",
    "    # using the if condition because we introduced extra spaces during text cleaning\n",
    "      if word != '':\n",
    "        words.append(word)\n",
    "    return words\n",
    "\n",
    "  def create_dictionary(words):\n",
    "    return corpora.Dictionary(words)\n",
    "\n",
    "  def create_document_matrix(tokens, id2word):\n",
    "    corpus = []\n",
    "    for text in tokens:\n",
    "      corpus.append(id2word.doc2bow(text))\n",
    "    return corpus\n",
    "\n",
    "  #storing the generated tokens in a new column named 'words'\n",
    "  df['tokens'] = df.lemma_noun.apply(generate_tokens)\n",
    "\n",
    "  #passing the dataframe column having tokens as the argument\n",
    "  id2word = create_dictionary(df.tokens)\n",
    "\n",
    "  #passing the dataframe column having tokens and dictionary\n",
    "  corpus = create_document_matrix(df.tokens, id2word)\n",
    "  return corpus, id2word\n",
    "\n",
    "\n",
    "def fetch_doc_topic(df, corpus, lda_model, ntopics):\n",
    "    def get_doc_topic(corpus, model):\n",
    "        doc_topic = []\n",
    "        for doc in range(len(corpus)):\n",
    "            try:\n",
    "                doc_topic.append(\n",
    "                    {'Tweet': df.iloc[doc].text, 'Hashtags': df.iloc[doc].hashtags, 'Topic_Probability': model.__getitem__(corpus[doc], eps=0)})\n",
    "            except Exception as e:\n",
    "                print(e)\n",
    "        return doc_topic\n",
    "\n",
    "    def calc_doc_topic_count(doc_topic, count_arr):\n",
    "        for topic in doc_topic:\n",
    "            prob = topic['Topic_Probability']\n",
    "            big = -99999\n",
    "            for p in prob:\n",
    "                if p[1] > big:\n",
    "                    big = p[1]\n",
    "                    max_top = p[0]\n",
    "            count_arr[max_top] += 1\n",
    "        return count_arr\n",
    "\n",
    "    doc_topic = get_doc_topic(corpus, lda_model)\n",
    "    doc_topic_df = pd.DataFrame(doc_topic)\n",
    "    count_arr = calc_doc_topic_count(doc_topic, [0]*ntopics)\n",
    "    return doc_topic, doc_topic_df, count_arr\n",
    "\n",
    "\n",
    "def doc_topic_pie_chart(ntopics, count_arr):\n",
    "    topics = []\n",
    "    for i in range(ntopics):\n",
    "        topics.append(i+1)\n",
    "    plt.figure(figsize=(8, 8))\n",
    "    plt.pie(count_arr, labels=topics,\n",
    "            autopct='%1.1f%%', textprops={'fontsize': 18})\n",
    "    plt.title('Tweets distribution in topics', fontsize=20)\n",
    "    #plt.legend(data_pie.tweets_count,fontsize=20)\n",
    "    plt.show()\n",
    "\n",
    "\n",
    "def print_beauty(df, word_topic_df):\n",
    "    for i in range(6, 10):\n",
    "        print('Tweet:', df.iloc[i].Tweet)\n",
    "        print('Hashtags:', df.iloc[i].Hashtags)\n",
    "        print('Topic_Probability:', df.iloc[i].Topic_Probability)\n",
    "        print(\"----------------------------------------------------------------\\n\")\n",
    "\n",
    "    for i in range(4):\n",
    "        print(\"Topic \", (i+1))\n",
    "        print(\"Most Probable Word List: \",\n",
    "              word_topic_df.iloc[i].most_prob_words)\n",
    "        print(\"-------------------------------------------------------\\n\")\n",
    "\n",
    "\n",
    "def fetch_word_topic(lda_model, id2word):\n",
    "    def get_topic_to_wordids(model):\n",
    "        p = list()\n",
    "        for topicid in range(model.num_topics):\n",
    "            topic = model.state.get_lambda()[topicid]\n",
    "            topic = topic / max(topic)  # normalize to probability dist\n",
    "            p.append(topic)\n",
    "        return p\n",
    "\n",
    "    def create_dict_word_topic(id2word, word_topic):\n",
    "        word_topic_dict = []\n",
    "        i = 0\n",
    "        for topic in word_topic:\n",
    "            prob_words = []\n",
    "            for word_ind in range(len(topic)):\n",
    "                if (topic[word_ind] >= 0.15):\n",
    "                    prob_words.append(id2word[word_ind])\n",
    "            word_topic_dict.append(\n",
    "                {'Topic': (i+1), 'most_prob_words': prob_words})\n",
    "            i += 1\n",
    "        return word_topic_dict\n",
    "\n",
    "    word_topic = get_topic_to_wordids(lda_model)\n",
    "    word_topic_dict = create_dict_word_topic(id2word, word_topic)\n",
    "    word_topic_df = pd.DataFrame(word_topic_dict)\n",
    "    return word_topic_dict, word_topic_df\n"
   ]
  },
  {
   "cell_type": "code",
   "execution_count": 7,
   "metadata": {},
   "outputs": [
    {
     "name": "stderr",
     "output_type": "stream",
     "text": [
      "C:\\Users\\Er Pravin Pandey\\AppData\\Local\\Temp\\ipykernel_2752\\763361653.py:36: FutureWarning: The default value of regex will change from True to False in a future version.\n",
      "  read_df['text'] = read_df['text'].str.replace(r'[^\\w\\s]+', '')  # remove punctuations\n",
      "C:\\Users\\Er Pravin Pandey\\AppData\\Local\\Temp\\ipykernel_2752\\763361653.py:37: FutureWarning: The default value of regex will change from True to False in a future version.\n",
      "  read_df['text'] = read_df['text'].str.replace('\\d+', '')  # removes number\n"
     ]
    }
   ],
   "source": [
    "en_topics = 4\n",
    "de_topics = 5\n",
    "\n",
    "def run(df, tagger: ht.HanoverTagger, language: str, n_topics: int):\n",
    "    df = extract_adj_noun(en_df, tagger, language)\n",
    "    if language == \"english\":\n",
    "        df, dict_docs = lementize_en_text(df)\n",
    "    if language == \"german\":\n",
    "        df, dict_docs = lementize_de_text(df)\n",
    "    corpus, id2word = lda_topic_model(df)\n",
    "    lda_model = gensim.models.ldamodel.LdaModel(\n",
    "        corpus=corpus, id2word=id2word, num_topics=n_topics, random_state=42)\n",
    "    doc_topic, doc_topic_df, count_arr = fetch_doc_topic(\n",
    "        df, corpus, lda_model, n_topics)\n",
    "    word_topic_dict, word_topic_df = fetch_word_topic(lda_model, id2word)\n",
    "    return df, dict_docs, corpus, id2word, lda_model, doc_topic, doc_topic_df, count_arr, word_topic_dict, word_topic_df\n",
    "\n",
    "\n",
    "en_df, de_df, read_df = clean_data()"
   ]
  },
  {
   "cell_type": "code",
   "execution_count": 8,
   "metadata": {},
   "outputs": [
    {
     "data": {
      "text/html": [
       "<div>\n",
       "<style scoped>\n",
       "    .dataframe tbody tr th:only-of-type {\n",
       "        vertical-align: middle;\n",
       "    }\n",
       "\n",
       "    .dataframe tbody tr th {\n",
       "        vertical-align: top;\n",
       "    }\n",
       "\n",
       "    .dataframe thead th {\n",
       "        text-align: right;\n",
       "    }\n",
       "</style>\n",
       "<table border=\"1\" class=\"dataframe\">\n",
       "  <thead>\n",
       "    <tr style=\"text-align: right;\">\n",
       "      <th></th>\n",
       "      <th>timestamp</th>\n",
       "      <th>tweet_id</th>\n",
       "      <th>conversation_id</th>\n",
       "      <th>author_id</th>\n",
       "      <th>text</th>\n",
       "      <th>retweet_count</th>\n",
       "      <th>reply_count</th>\n",
       "      <th>like_count</th>\n",
       "      <th>quote_count</th>\n",
       "      <th>referenced_tweets</th>\n",
       "      <th>hashtags</th>\n",
       "      <th>tweet_type</th>\n",
       "      <th>tweet_language</th>\n",
       "    </tr>\n",
       "  </thead>\n",
       "  <tbody>\n",
       "    <tr>\n",
       "      <th>11</th>\n",
       "      <td>2021-06-18T13:10:36.000Z</td>\n",
       "      <td>1405875593711964166</td>\n",
       "      <td>1405875593711964166</td>\n",
       "      <td>1132055796571877376</td>\n",
       "      <td>Thread  about the cruel  in German  The debate...</td>\n",
       "      <td>5</td>\n",
       "      <td>0</td>\n",
       "      <td>19</td>\n",
       "      <td>0</td>\n",
       "      <td>[{'type': 'quoted', 'id': '1405846267759054851'}]</td>\n",
       "      <td>['precarity', 'academia', 'IchbinHanna', 'Acad...</td>\n",
       "      <td>original</td>\n",
       "      <td>en</td>\n",
       "    </tr>\n",
       "    <tr>\n",
       "      <th>105</th>\n",
       "      <td>2021-06-12T21:15:23.000Z</td>\n",
       "      <td>1403823267115376649</td>\n",
       "      <td>1403823267115376649</td>\n",
       "      <td>1132055796571877376</td>\n",
       "      <td>Thread  summarizing a video by the German Fede...</td>\n",
       "      <td>1</td>\n",
       "      <td>0</td>\n",
       "      <td>9</td>\n",
       "      <td>1</td>\n",
       "      <td>[{'type': 'quoted', 'id': '1403006909079293953'}]</td>\n",
       "      <td>['IchbinHanna', 'academia', 'Germany', 'toxica...</td>\n",
       "      <td>original</td>\n",
       "      <td>en</td>\n",
       "    </tr>\n",
       "    <tr>\n",
       "      <th>125</th>\n",
       "      <td>2021-06-11T22:32:52.000Z</td>\n",
       "      <td>1403480380632674307</td>\n",
       "      <td>1403480380632674307</td>\n",
       "      <td>1132055796571877376</td>\n",
       "      <td>On job  in German  and its impact on  life and...</td>\n",
       "      <td>0</td>\n",
       "      <td>0</td>\n",
       "      <td>1</td>\n",
       "      <td>0</td>\n",
       "      <td>[{'type': 'quoted', 'id': '1402963684691955714'}]</td>\n",
       "      <td>['precarity', 'academia', 'family', 'mentalhea...</td>\n",
       "      <td>original</td>\n",
       "      <td>en</td>\n",
       "    </tr>\n",
       "    <tr>\n",
       "      <th>215</th>\n",
       "      <td>2021-06-10T19:07:52.000Z</td>\n",
       "      <td>1403066401611472902</td>\n",
       "      <td>1403066401611472902</td>\n",
       "      <td>1132055796571877376</td>\n",
       "      <td></td>\n",
       "      <td>0</td>\n",
       "      <td>0</td>\n",
       "      <td>1</td>\n",
       "      <td>0</td>\n",
       "      <td>[{'type': 'quoted', 'id': '1403059508021284864'}]</td>\n",
       "      <td>['AcademicTwitter', 'acertaindegreeofflexibili...</td>\n",
       "      <td>original</td>\n",
       "      <td>en</td>\n",
       "    </tr>\n",
       "    <tr>\n",
       "      <th>238</th>\n",
       "      <td>2021-06-10T15:04:44.000Z</td>\n",
       "      <td>1403005214974640143</td>\n",
       "      <td>1403005214974640143</td>\n",
       "      <td>1132055796571877376</td>\n",
       "      <td>German researchers without a permanent post i...</td>\n",
       "      <td>7</td>\n",
       "      <td>0</td>\n",
       "      <td>15</td>\n",
       "      <td>0</td>\n",
       "      <td>[{'type': 'quoted', 'id': '1402994337009442820'}]</td>\n",
       "      <td>['IchbinHanna', 'academia', 'AcademicTwitter',...</td>\n",
       "      <td>original</td>\n",
       "      <td>en</td>\n",
       "    </tr>\n",
       "  </tbody>\n",
       "</table>\n",
       "</div>"
      ],
      "text/plain": [
       "                    timestamp             tweet_id      conversation_id  \\\n",
       "11   2021-06-18T13:10:36.000Z  1405875593711964166  1405875593711964166   \n",
       "105  2021-06-12T21:15:23.000Z  1403823267115376649  1403823267115376649   \n",
       "125  2021-06-11T22:32:52.000Z  1403480380632674307  1403480380632674307   \n",
       "215  2021-06-10T19:07:52.000Z  1403066401611472902  1403066401611472902   \n",
       "238  2021-06-10T15:04:44.000Z  1403005214974640143  1403005214974640143   \n",
       "\n",
       "               author_id                                               text  \\\n",
       "11   1132055796571877376  Thread  about the cruel  in German  The debate...   \n",
       "105  1132055796571877376  Thread  summarizing a video by the German Fede...   \n",
       "125  1132055796571877376  On job  in German  and its impact on  life and...   \n",
       "215  1132055796571877376                                                      \n",
       "238  1132055796571877376   German researchers without a permanent post i...   \n",
       "\n",
       "     retweet_count  reply_count  like_count  quote_count  \\\n",
       "11               5            0          19            0   \n",
       "105              1            0           9            1   \n",
       "125              0            0           1            0   \n",
       "215              0            0           1            0   \n",
       "238              7            0          15            0   \n",
       "\n",
       "                                     referenced_tweets  \\\n",
       "11   [{'type': 'quoted', 'id': '1405846267759054851'}]   \n",
       "105  [{'type': 'quoted', 'id': '1403006909079293953'}]   \n",
       "125  [{'type': 'quoted', 'id': '1402963684691955714'}]   \n",
       "215  [{'type': 'quoted', 'id': '1403059508021284864'}]   \n",
       "238  [{'type': 'quoted', 'id': '1402994337009442820'}]   \n",
       "\n",
       "                                              hashtags tweet_type  \\\n",
       "11   ['precarity', 'academia', 'IchbinHanna', 'Acad...   original   \n",
       "105  ['IchbinHanna', 'academia', 'Germany', 'toxica...   original   \n",
       "125  ['precarity', 'academia', 'family', 'mentalhea...   original   \n",
       "215  ['AcademicTwitter', 'acertaindegreeofflexibili...   original   \n",
       "238  ['IchbinHanna', 'academia', 'AcademicTwitter',...   original   \n",
       "\n",
       "    tweet_language  \n",
       "11              en  \n",
       "105             en  \n",
       "125             en  \n",
       "215             en  \n",
       "238             en  "
      ]
     },
     "execution_count": 8,
     "metadata": {},
     "output_type": "execute_result"
    }
   ],
   "source": [
    "en_df.head()"
   ]
  },
  {
   "cell_type": "code",
   "execution_count": 9,
   "metadata": {},
   "outputs": [
    {
     "data": {
      "text/html": [
       "<div>\n",
       "<style scoped>\n",
       "    .dataframe tbody tr th:only-of-type {\n",
       "        vertical-align: middle;\n",
       "    }\n",
       "\n",
       "    .dataframe tbody tr th {\n",
       "        vertical-align: top;\n",
       "    }\n",
       "\n",
       "    .dataframe thead th {\n",
       "        text-align: right;\n",
       "    }\n",
       "</style>\n",
       "<table border=\"1\" class=\"dataframe\">\n",
       "  <thead>\n",
       "    <tr style=\"text-align: right;\">\n",
       "      <th></th>\n",
       "      <th>timestamp</th>\n",
       "      <th>tweet_id</th>\n",
       "      <th>conversation_id</th>\n",
       "      <th>author_id</th>\n",
       "      <th>text</th>\n",
       "      <th>retweet_count</th>\n",
       "      <th>reply_count</th>\n",
       "      <th>like_count</th>\n",
       "      <th>quote_count</th>\n",
       "      <th>referenced_tweets</th>\n",
       "      <th>hashtags</th>\n",
       "      <th>tweet_type</th>\n",
       "      <th>tweet_language</th>\n",
       "    </tr>\n",
       "  </thead>\n",
       "  <tbody>\n",
       "    <tr>\n",
       "      <th>1</th>\n",
       "      <td>2021-06-20T21:29:24.000Z</td>\n",
       "      <td>1406725899744157698</td>\n",
       "      <td>1406725899744157698</td>\n",
       "      <td>2981738470</td>\n",
       "      <td>Wenn Wirtschaftsjounalistinnen über  schreiben...</td>\n",
       "      <td>9</td>\n",
       "      <td>1</td>\n",
       "      <td>62</td>\n",
       "      <td>4</td>\n",
       "      <td>[]</td>\n",
       "      <td>['IchbinHanna']</td>\n",
       "      <td>original</td>\n",
       "      <td>de</td>\n",
       "    </tr>\n",
       "    <tr>\n",
       "      <th>16</th>\n",
       "      <td>2021-06-18T10:21:31.000Z</td>\n",
       "      <td>1405833045224087555</td>\n",
       "      <td>1405833045224087555</td>\n",
       "      <td>242424959</td>\n",
       "      <td>Liebe  und Forsa  schön dass ihr euch per Umfr...</td>\n",
       "      <td>0</td>\n",
       "      <td>1</td>\n",
       "      <td>2</td>\n",
       "      <td>0</td>\n",
       "      <td>[]</td>\n",
       "      <td>['Mittelbau', 'IchBinHanna']</td>\n",
       "      <td>original</td>\n",
       "      <td>de</td>\n",
       "    </tr>\n",
       "    <tr>\n",
       "      <th>19</th>\n",
       "      <td>2021-06-18T08:35:29.000Z</td>\n",
       "      <td>1405806358335832065</td>\n",
       "      <td>1405806358335832065</td>\n",
       "      <td>1132055796571877376</td>\n",
       "      <td>Wichtiger Thread  zu  in der  der durch die  A...</td>\n",
       "      <td>2</td>\n",
       "      <td>0</td>\n",
       "      <td>13</td>\n",
       "      <td>0</td>\n",
       "      <td>[{'type': 'quoted', 'id': '1405494574533984264'}]</td>\n",
       "      <td>['Machtmissbrauch', 'Wissenschaft', 'prekär', ...</td>\n",
       "      <td>original</td>\n",
       "      <td>de</td>\n",
       "    </tr>\n",
       "    <tr>\n",
       "      <th>21</th>\n",
       "      <td>2021-06-18T07:52:36.000Z</td>\n",
       "      <td>1405795569273131011</td>\n",
       "      <td>1405795569273131011</td>\n",
       "      <td>1132055796571877376</td>\n",
       "      <td>Wir können ja mal einen  für  machen Wer macht...</td>\n",
       "      <td>4</td>\n",
       "      <td>0</td>\n",
       "      <td>16</td>\n",
       "      <td>0</td>\n",
       "      <td>[{'type': 'quoted', 'id': '1405617868734148610'}]</td>\n",
       "      <td>['FollowFriday', 'IchbinHanna', 'WissZeitVG', ...</td>\n",
       "      <td>original</td>\n",
       "      <td>de</td>\n",
       "    </tr>\n",
       "    <tr>\n",
       "      <th>22</th>\n",
       "      <td>2021-06-18T02:42:56.000Z</td>\n",
       "      <td>1405717636999155717</td>\n",
       "      <td>1405717636999155717</td>\n",
       "      <td>2981738470</td>\n",
       "      <td>Das ist übrigens ein Punkt der mir bei  einfac...</td>\n",
       "      <td>1</td>\n",
       "      <td>0</td>\n",
       "      <td>6</td>\n",
       "      <td>0</td>\n",
       "      <td>[{'type': 'quoted', 'id': '1405460325437149186'}]</td>\n",
       "      <td>['IchbinHanna']</td>\n",
       "      <td>original</td>\n",
       "      <td>de</td>\n",
       "    </tr>\n",
       "  </tbody>\n",
       "</table>\n",
       "</div>"
      ],
      "text/plain": [
       "                   timestamp             tweet_id      conversation_id  \\\n",
       "1   2021-06-20T21:29:24.000Z  1406725899744157698  1406725899744157698   \n",
       "16  2021-06-18T10:21:31.000Z  1405833045224087555  1405833045224087555   \n",
       "19  2021-06-18T08:35:29.000Z  1405806358335832065  1405806358335832065   \n",
       "21  2021-06-18T07:52:36.000Z  1405795569273131011  1405795569273131011   \n",
       "22  2021-06-18T02:42:56.000Z  1405717636999155717  1405717636999155717   \n",
       "\n",
       "              author_id                                               text  \\\n",
       "1            2981738470  Wenn Wirtschaftsjounalistinnen über  schreiben...   \n",
       "16            242424959  Liebe  und Forsa  schön dass ihr euch per Umfr...   \n",
       "19  1132055796571877376  Wichtiger Thread  zu  in der  der durch die  A...   \n",
       "21  1132055796571877376  Wir können ja mal einen  für  machen Wer macht...   \n",
       "22           2981738470  Das ist übrigens ein Punkt der mir bei  einfac...   \n",
       "\n",
       "    retweet_count  reply_count  like_count  quote_count  \\\n",
       "1               9            1          62            4   \n",
       "16              0            1           2            0   \n",
       "19              2            0          13            0   \n",
       "21              4            0          16            0   \n",
       "22              1            0           6            0   \n",
       "\n",
       "                                    referenced_tweets  \\\n",
       "1                                                  []   \n",
       "16                                                 []   \n",
       "19  [{'type': 'quoted', 'id': '1405494574533984264'}]   \n",
       "21  [{'type': 'quoted', 'id': '1405617868734148610'}]   \n",
       "22  [{'type': 'quoted', 'id': '1405460325437149186'}]   \n",
       "\n",
       "                                             hashtags tweet_type  \\\n",
       "1                                     ['IchbinHanna']   original   \n",
       "16                       ['Mittelbau', 'IchBinHanna']   original   \n",
       "19  ['Machtmissbrauch', 'Wissenschaft', 'prekär', ...   original   \n",
       "21  ['FollowFriday', 'IchbinHanna', 'WissZeitVG', ...   original   \n",
       "22                                    ['IchbinHanna']   original   \n",
       "\n",
       "   tweet_language  \n",
       "1              de  \n",
       "16             de  \n",
       "19             de  \n",
       "21             de  \n",
       "22             de  "
      ]
     },
     "execution_count": 9,
     "metadata": {},
     "output_type": "execute_result"
    }
   ],
   "source": [
    "de_df.head()"
   ]
  },
  {
   "cell_type": "code",
   "execution_count": 10,
   "metadata": {},
   "outputs": [
    {
     "name": "stderr",
     "output_type": "stream",
     "text": [
      "C:\\Users\\Er Pravin Pandey\\AppData\\Local\\Temp\\ipykernel_2752\\763361653.py:66: SettingWithCopyWarning: \n",
      "A value is trying to be set on a copy of a slice from a DataFrame.\n",
      "Try using .loc[row_indexer,col_indexer] = value instead\n",
      "\n",
      "See the caveats in the documentation: https://pandas.pydata.org/pandas-docs/stable/user_guide/indexing.html#returning-a-view-versus-a-copy\n",
      "  df['noun'] = df.text.apply(noun, tagger=tagger)\n",
      "C:\\Users\\Er Pravin Pandey\\AppData\\Local\\Temp\\ipykernel_2752\\763361653.py:67: SettingWithCopyWarning: \n",
      "A value is trying to be set on a copy of a slice from a DataFrame.\n",
      "Try using .loc[row_indexer,col_indexer] = value instead\n",
      "\n",
      "See the caveats in the documentation: https://pandas.pydata.org/pandas-docs/stable/user_guide/indexing.html#returning-a-view-versus-a-copy\n",
      "  df['adj'] = df.text.apply(adj, tagger=tagger)\n",
      "C:\\Users\\Er Pravin Pandey\\AppData\\Local\\Temp\\ipykernel_2752\\763361653.py:68: SettingWithCopyWarning: \n",
      "A value is trying to be set on a copy of a slice from a DataFrame.\n",
      "Try using .loc[row_indexer,col_indexer] = value instead\n",
      "\n",
      "See the caveats in the documentation: https://pandas.pydata.org/pandas-docs/stable/user_guide/indexing.html#returning-a-view-versus-a-copy\n",
      "  df.noun = df.noun.apply(to_lowercase)\n",
      "C:\\Users\\Er Pravin Pandey\\AppData\\Local\\Temp\\ipykernel_2752\\763361653.py:71: SettingWithCopyWarning: \n",
      "A value is trying to be set on a copy of a slice from a DataFrame.\n",
      "Try using .loc[row_indexer,col_indexer] = value instead\n",
      "\n",
      "See the caveats in the documentation: https://pandas.pydata.org/pandas-docs/stable/user_guide/indexing.html#returning-a-view-versus-a-copy\n",
      "  df.noun = df.noun.apply(stop_word_removal, stop_words=stop_words)\n",
      "C:\\Users\\Er Pravin Pandey\\AppData\\Local\\Temp\\ipykernel_2752\\763361653.py:72: SettingWithCopyWarning: \n",
      "A value is trying to be set on a copy of a slice from a DataFrame.\n",
      "Try using .loc[row_indexer,col_indexer] = value instead\n",
      "\n",
      "See the caveats in the documentation: https://pandas.pydata.org/pandas-docs/stable/user_guide/indexing.html#returning-a-view-versus-a-copy\n",
      "  df.adj = df.adj.apply(stop_word_removal, stop_words=stop_words)\n",
      "C:\\Users\\Er Pravin Pandey\\AppData\\Local\\Temp\\ipykernel_2752\\763361653.py:86: SettingWithCopyWarning: \n",
      "A value is trying to be set on a copy of a slice from a DataFrame.\n",
      "Try using .loc[row_indexer,col_indexer] = value instead\n",
      "\n",
      "See the caveats in the documentation: https://pandas.pydata.org/pandas-docs/stable/user_guide/indexing.html#returning-a-view-versus-a-copy\n",
      "  df['lemma_noun'] = df.noun.apply(lemmatize_text)\n",
      "C:\\Users\\Er Pravin Pandey\\AppData\\Local\\Temp\\ipykernel_2752\\763361653.py:87: SettingWithCopyWarning: \n",
      "A value is trying to be set on a copy of a slice from a DataFrame.\n",
      "Try using .loc[row_indexer,col_indexer] = value instead\n",
      "\n",
      "See the caveats in the documentation: https://pandas.pydata.org/pandas-docs/stable/user_guide/indexing.html#returning-a-view-versus-a-copy\n",
      "  df['lemma_adj'] = df.adj.apply(lemmatize_text_adj)\n",
      "C:\\Users\\Er Pravin Pandey\\AppData\\Local\\Temp\\ipykernel_2752\\763361653.py:138: SettingWithCopyWarning: \n",
      "A value is trying to be set on a copy of a slice from a DataFrame.\n",
      "Try using .loc[row_indexer,col_indexer] = value instead\n",
      "\n",
      "See the caveats in the documentation: https://pandas.pydata.org/pandas-docs/stable/user_guide/indexing.html#returning-a-view-versus-a-copy\n",
      "  df['tokens'] = df.lemma_noun.apply(generate_tokens)\n",
      "C:\\Users\\Er Pravin Pandey\\AppData\\Local\\Temp\\ipykernel_2752\\763361653.py:66: SettingWithCopyWarning: \n",
      "A value is trying to be set on a copy of a slice from a DataFrame.\n",
      "Try using .loc[row_indexer,col_indexer] = value instead\n",
      "\n",
      "See the caveats in the documentation: https://pandas.pydata.org/pandas-docs/stable/user_guide/indexing.html#returning-a-view-versus-a-copy\n",
      "  df['noun'] = df.text.apply(noun, tagger=tagger)\n",
      "C:\\Users\\Er Pravin Pandey\\AppData\\Local\\Temp\\ipykernel_2752\\763361653.py:67: SettingWithCopyWarning: \n",
      "A value is trying to be set on a copy of a slice from a DataFrame.\n",
      "Try using .loc[row_indexer,col_indexer] = value instead\n",
      "\n",
      "See the caveats in the documentation: https://pandas.pydata.org/pandas-docs/stable/user_guide/indexing.html#returning-a-view-versus-a-copy\n",
      "  df['adj'] = df.text.apply(adj, tagger=tagger)\n",
      "C:\\Users\\Er Pravin Pandey\\AppData\\Local\\Temp\\ipykernel_2752\\763361653.py:68: SettingWithCopyWarning: \n",
      "A value is trying to be set on a copy of a slice from a DataFrame.\n",
      "Try using .loc[row_indexer,col_indexer] = value instead\n",
      "\n",
      "See the caveats in the documentation: https://pandas.pydata.org/pandas-docs/stable/user_guide/indexing.html#returning-a-view-versus-a-copy\n",
      "  df.noun = df.noun.apply(to_lowercase)\n",
      "C:\\Users\\Er Pravin Pandey\\AppData\\Local\\Temp\\ipykernel_2752\\763361653.py:71: SettingWithCopyWarning: \n",
      "A value is trying to be set on a copy of a slice from a DataFrame.\n",
      "Try using .loc[row_indexer,col_indexer] = value instead\n",
      "\n",
      "See the caveats in the documentation: https://pandas.pydata.org/pandas-docs/stable/user_guide/indexing.html#returning-a-view-versus-a-copy\n",
      "  df.noun = df.noun.apply(stop_word_removal, stop_words=stop_words)\n",
      "C:\\Users\\Er Pravin Pandey\\AppData\\Local\\Temp\\ipykernel_2752\\763361653.py:72: SettingWithCopyWarning: \n",
      "A value is trying to be set on a copy of a slice from a DataFrame.\n",
      "Try using .loc[row_indexer,col_indexer] = value instead\n",
      "\n",
      "See the caveats in the documentation: https://pandas.pydata.org/pandas-docs/stable/user_guide/indexing.html#returning-a-view-versus-a-copy\n",
      "  df.adj = df.adj.apply(stop_word_removal, stop_words=stop_words)\n",
      "C:\\Users\\Er Pravin Pandey\\AppData\\Local\\Temp\\ipykernel_2752\\763361653.py:111: SettingWithCopyWarning: \n",
      "A value is trying to be set on a copy of a slice from a DataFrame.\n",
      "Try using .loc[row_indexer,col_indexer] = value instead\n",
      "\n",
      "See the caveats in the documentation: https://pandas.pydata.org/pandas-docs/stable/user_guide/indexing.html#returning-a-view-versus-a-copy\n",
      "  df['lemma_noun'] = df.noun.apply(lemmatize_noun)\n",
      "C:\\Users\\Er Pravin Pandey\\AppData\\Local\\Temp\\ipykernel_2752\\763361653.py:112: SettingWithCopyWarning: \n",
      "A value is trying to be set on a copy of a slice from a DataFrame.\n",
      "Try using .loc[row_indexer,col_indexer] = value instead\n",
      "\n",
      "See the caveats in the documentation: https://pandas.pydata.org/pandas-docs/stable/user_guide/indexing.html#returning-a-view-versus-a-copy\n",
      "  df['lemma_adj'] = df.adj.apply(lemmatize_adj)\n",
      "C:\\Users\\Er Pravin Pandey\\AppData\\Local\\Temp\\ipykernel_2752\\763361653.py:138: SettingWithCopyWarning: \n",
      "A value is trying to be set on a copy of a slice from a DataFrame.\n",
      "Try using .loc[row_indexer,col_indexer] = value instead\n",
      "\n",
      "See the caveats in the documentation: https://pandas.pydata.org/pandas-docs/stable/user_guide/indexing.html#returning-a-view-versus-a-copy\n",
      "  df['tokens'] = df.lemma_noun.apply(generate_tokens)\n"
     ]
    }
   ],
   "source": [
    "en_df, en_dict_docs, en_corpus, en_id2word, en_lda_model, en_doc_topic, en_doc_topic_df, en_count_arr, en_word_topic_dict, en_word_topic_df = run(\n",
    "    en_df, en_tagger, \"english\", en_topics)\n",
    "\n",
    "de_df, de_dict_docs, de_corpus, de_id2word, de_lda_model, de_doc_topic, de_doc_topic_df, de_count_arr, de_word_topic_dict, de_word_topic_df = run(\n",
    "    de_df, de_tagger, \"german\", de_topics)"
   ]
  },
  {
   "cell_type": "code",
   "execution_count": 11,
   "metadata": {},
   "outputs": [
    {
     "data": {
      "text/html": [
       "<div>\n",
       "<style scoped>\n",
       "    .dataframe tbody tr th:only-of-type {\n",
       "        vertical-align: middle;\n",
       "    }\n",
       "\n",
       "    .dataframe tbody tr th {\n",
       "        vertical-align: top;\n",
       "    }\n",
       "\n",
       "    .dataframe thead th {\n",
       "        text-align: right;\n",
       "    }\n",
       "</style>\n",
       "<table border=\"1\" class=\"dataframe\">\n",
       "  <thead>\n",
       "    <tr style=\"text-align: right;\">\n",
       "      <th></th>\n",
       "      <th>timestamp</th>\n",
       "      <th>tweet_id</th>\n",
       "      <th>conversation_id</th>\n",
       "      <th>author_id</th>\n",
       "      <th>text</th>\n",
       "      <th>retweet_count</th>\n",
       "      <th>reply_count</th>\n",
       "      <th>like_count</th>\n",
       "      <th>quote_count</th>\n",
       "      <th>referenced_tweets</th>\n",
       "      <th>hashtags</th>\n",
       "      <th>tweet_type</th>\n",
       "      <th>tweet_language</th>\n",
       "      <th>noun</th>\n",
       "      <th>adj</th>\n",
       "      <th>lemma_noun</th>\n",
       "      <th>lemma_adj</th>\n",
       "      <th>tokens</th>\n",
       "    </tr>\n",
       "  </thead>\n",
       "  <tbody>\n",
       "    <tr>\n",
       "      <th>11</th>\n",
       "      <td>2021-06-18T13:10:36.000Z</td>\n",
       "      <td>1405875593711964166</td>\n",
       "      <td>1405875593711964166</td>\n",
       "      <td>1132055796571877376</td>\n",
       "      <td>Thread  about the cruel  in German  The debate...</td>\n",
       "      <td>5</td>\n",
       "      <td>0</td>\n",
       "      <td>19</td>\n",
       "      <td>0</td>\n",
       "      <td>[{'type': 'quoted', 'id': '1405846267759054851'}]</td>\n",
       "      <td>['precarity', 'academia', 'IchbinHanna', 'Acad...</td>\n",
       "      <td>original</td>\n",
       "      <td>en</td>\n",
       "      <td></td>\n",
       "      <td></td>\n",
       "      <td>[]</td>\n",
       "      <td>[]</td>\n",
       "      <td>[]</td>\n",
       "    </tr>\n",
       "    <tr>\n",
       "      <th>105</th>\n",
       "      <td>2021-06-12T21:15:23.000Z</td>\n",
       "      <td>1403823267115376649</td>\n",
       "      <td>1403823267115376649</td>\n",
       "      <td>1132055796571877376</td>\n",
       "      <td>Thread  summarizing a video by the German Fede...</td>\n",
       "      <td>1</td>\n",
       "      <td>0</td>\n",
       "      <td>9</td>\n",
       "      <td>1</td>\n",
       "      <td>[{'type': 'quoted', 'id': '1403006909079293953'}]</td>\n",
       "      <td>['IchbinHanna', 'academia', 'Germany', 'toxica...</td>\n",
       "      <td>original</td>\n",
       "      <td>en</td>\n",
       "      <td>indignation</td>\n",
       "      <td></td>\n",
       "      <td>[Indignation]</td>\n",
       "      <td>[]</td>\n",
       "      <td>[Indignation]</td>\n",
       "    </tr>\n",
       "    <tr>\n",
       "      <th>125</th>\n",
       "      <td>2021-06-11T22:32:52.000Z</td>\n",
       "      <td>1403480380632674307</td>\n",
       "      <td>1403480380632674307</td>\n",
       "      <td>1132055796571877376</td>\n",
       "      <td>On job  in German  and its impact on  life and...</td>\n",
       "      <td>0</td>\n",
       "      <td>0</td>\n",
       "      <td>1</td>\n",
       "      <td>0</td>\n",
       "      <td>[{'type': 'quoted', 'id': '1402963684691955714'}]</td>\n",
       "      <td>['precarity', 'academia', 'family', 'mentalhea...</td>\n",
       "      <td>original</td>\n",
       "      <td>en</td>\n",
       "      <td></td>\n",
       "      <td></td>\n",
       "      <td>[]</td>\n",
       "      <td>[]</td>\n",
       "      <td>[]</td>\n",
       "    </tr>\n",
       "    <tr>\n",
       "      <th>215</th>\n",
       "      <td>2021-06-10T19:07:52.000Z</td>\n",
       "      <td>1403066401611472902</td>\n",
       "      <td>1403066401611472902</td>\n",
       "      <td>1132055796571877376</td>\n",
       "      <td></td>\n",
       "      <td>0</td>\n",
       "      <td>0</td>\n",
       "      <td>1</td>\n",
       "      <td>0</td>\n",
       "      <td>[{'type': 'quoted', 'id': '1403059508021284864'}]</td>\n",
       "      <td>['AcademicTwitter', 'acertaindegreeofflexibili...</td>\n",
       "      <td>original</td>\n",
       "      <td>en</td>\n",
       "      <td></td>\n",
       "      <td></td>\n",
       "      <td>[]</td>\n",
       "      <td>[]</td>\n",
       "      <td>[]</td>\n",
       "    </tr>\n",
       "    <tr>\n",
       "      <th>238</th>\n",
       "      <td>2021-06-10T15:04:44.000Z</td>\n",
       "      <td>1403005214974640143</td>\n",
       "      <td>1403005214974640143</td>\n",
       "      <td>1132055796571877376</td>\n",
       "      <td>German researchers without a permanent post i...</td>\n",
       "      <td>7</td>\n",
       "      <td>0</td>\n",
       "      <td>15</td>\n",
       "      <td>0</td>\n",
       "      <td>[{'type': 'quoted', 'id': '1402994337009442820'}]</td>\n",
       "      <td>['IchbinHanna', 'academia', 'AcademicTwitter',...</td>\n",
       "      <td>original</td>\n",
       "      <td>en</td>\n",
       "      <td>post situation</td>\n",
       "      <td></td>\n",
       "      <td>[Post, Situation]</td>\n",
       "      <td>[]</td>\n",
       "      <td>[Post, Situation]</td>\n",
       "    </tr>\n",
       "  </tbody>\n",
       "</table>\n",
       "</div>"
      ],
      "text/plain": [
       "                    timestamp             tweet_id      conversation_id  \\\n",
       "11   2021-06-18T13:10:36.000Z  1405875593711964166  1405875593711964166   \n",
       "105  2021-06-12T21:15:23.000Z  1403823267115376649  1403823267115376649   \n",
       "125  2021-06-11T22:32:52.000Z  1403480380632674307  1403480380632674307   \n",
       "215  2021-06-10T19:07:52.000Z  1403066401611472902  1403066401611472902   \n",
       "238  2021-06-10T15:04:44.000Z  1403005214974640143  1403005214974640143   \n",
       "\n",
       "               author_id                                               text  \\\n",
       "11   1132055796571877376  Thread  about the cruel  in German  The debate...   \n",
       "105  1132055796571877376  Thread  summarizing a video by the German Fede...   \n",
       "125  1132055796571877376  On job  in German  and its impact on  life and...   \n",
       "215  1132055796571877376                                                      \n",
       "238  1132055796571877376   German researchers without a permanent post i...   \n",
       "\n",
       "     retweet_count  reply_count  like_count  quote_count  \\\n",
       "11               5            0          19            0   \n",
       "105              1            0           9            1   \n",
       "125              0            0           1            0   \n",
       "215              0            0           1            0   \n",
       "238              7            0          15            0   \n",
       "\n",
       "                                     referenced_tweets  \\\n",
       "11   [{'type': 'quoted', 'id': '1405846267759054851'}]   \n",
       "105  [{'type': 'quoted', 'id': '1403006909079293953'}]   \n",
       "125  [{'type': 'quoted', 'id': '1402963684691955714'}]   \n",
       "215  [{'type': 'quoted', 'id': '1403059508021284864'}]   \n",
       "238  [{'type': 'quoted', 'id': '1402994337009442820'}]   \n",
       "\n",
       "                                              hashtags tweet_type  \\\n",
       "11   ['precarity', 'academia', 'IchbinHanna', 'Acad...   original   \n",
       "105  ['IchbinHanna', 'academia', 'Germany', 'toxica...   original   \n",
       "125  ['precarity', 'academia', 'family', 'mentalhea...   original   \n",
       "215  ['AcademicTwitter', 'acertaindegreeofflexibili...   original   \n",
       "238  ['IchbinHanna', 'academia', 'AcademicTwitter',...   original   \n",
       "\n",
       "    tweet_language            noun adj         lemma_noun lemma_adj  \\\n",
       "11              en                                     []        []   \n",
       "105             en     indignation          [Indignation]        []   \n",
       "125             en                                     []        []   \n",
       "215             en                                     []        []   \n",
       "238             en  post situation      [Post, Situation]        []   \n",
       "\n",
       "                tokens  \n",
       "11                  []  \n",
       "105      [Indignation]  \n",
       "125                 []  \n",
       "215                 []  \n",
       "238  [Post, Situation]  "
      ]
     },
     "execution_count": 11,
     "metadata": {},
     "output_type": "execute_result"
    }
   ],
   "source": [
    "en_df.head()"
   ]
  },
  {
   "cell_type": "code",
   "execution_count": 12,
   "metadata": {},
   "outputs": [
    {
     "data": {
      "text/html": [
       "<div>\n",
       "<style scoped>\n",
       "    .dataframe tbody tr th:only-of-type {\n",
       "        vertical-align: middle;\n",
       "    }\n",
       "\n",
       "    .dataframe tbody tr th {\n",
       "        vertical-align: top;\n",
       "    }\n",
       "\n",
       "    .dataframe thead th {\n",
       "        text-align: right;\n",
       "    }\n",
       "</style>\n",
       "<table border=\"1\" class=\"dataframe\">\n",
       "  <thead>\n",
       "    <tr style=\"text-align: right;\">\n",
       "      <th></th>\n",
       "      <th>timestamp</th>\n",
       "      <th>tweet_id</th>\n",
       "      <th>conversation_id</th>\n",
       "      <th>author_id</th>\n",
       "      <th>text</th>\n",
       "      <th>retweet_count</th>\n",
       "      <th>reply_count</th>\n",
       "      <th>like_count</th>\n",
       "      <th>quote_count</th>\n",
       "      <th>referenced_tweets</th>\n",
       "      <th>hashtags</th>\n",
       "      <th>tweet_type</th>\n",
       "      <th>tweet_language</th>\n",
       "      <th>noun</th>\n",
       "      <th>adj</th>\n",
       "      <th>lemma_noun</th>\n",
       "      <th>lemma_adj</th>\n",
       "      <th>tokens</th>\n",
       "    </tr>\n",
       "  </thead>\n",
       "  <tbody>\n",
       "    <tr>\n",
       "      <th>11</th>\n",
       "      <td>2021-06-18T13:10:36.000Z</td>\n",
       "      <td>1405875593711964166</td>\n",
       "      <td>1405875593711964166</td>\n",
       "      <td>1132055796571877376</td>\n",
       "      <td>Thread  about the cruel  in German  The debate...</td>\n",
       "      <td>5</td>\n",
       "      <td>0</td>\n",
       "      <td>19</td>\n",
       "      <td>0</td>\n",
       "      <td>[{'type': 'quoted', 'id': '1405846267759054851'}]</td>\n",
       "      <td>['precarity', 'academia', 'IchbinHanna', 'Acad...</td>\n",
       "      <td>original</td>\n",
       "      <td>en</td>\n",
       "      <td></td>\n",
       "      <td></td>\n",
       "      <td>[]</td>\n",
       "      <td>[]</td>\n",
       "      <td>[]</td>\n",
       "    </tr>\n",
       "    <tr>\n",
       "      <th>105</th>\n",
       "      <td>2021-06-12T21:15:23.000Z</td>\n",
       "      <td>1403823267115376649</td>\n",
       "      <td>1403823267115376649</td>\n",
       "      <td>1132055796571877376</td>\n",
       "      <td>Thread  summarizing a video by the German Fede...</td>\n",
       "      <td>1</td>\n",
       "      <td>0</td>\n",
       "      <td>9</td>\n",
       "      <td>1</td>\n",
       "      <td>[{'type': 'quoted', 'id': '1403006909079293953'}]</td>\n",
       "      <td>['IchbinHanna', 'academia', 'Germany', 'toxica...</td>\n",
       "      <td>original</td>\n",
       "      <td>en</td>\n",
       "      <td>indignation</td>\n",
       "      <td></td>\n",
       "      <td>[Indignation]</td>\n",
       "      <td>[]</td>\n",
       "      <td>[Indignation]</td>\n",
       "    </tr>\n",
       "    <tr>\n",
       "      <th>125</th>\n",
       "      <td>2021-06-11T22:32:52.000Z</td>\n",
       "      <td>1403480380632674307</td>\n",
       "      <td>1403480380632674307</td>\n",
       "      <td>1132055796571877376</td>\n",
       "      <td>On job  in German  and its impact on  life and...</td>\n",
       "      <td>0</td>\n",
       "      <td>0</td>\n",
       "      <td>1</td>\n",
       "      <td>0</td>\n",
       "      <td>[{'type': 'quoted', 'id': '1402963684691955714'}]</td>\n",
       "      <td>['precarity', 'academia', 'family', 'mentalhea...</td>\n",
       "      <td>original</td>\n",
       "      <td>en</td>\n",
       "      <td></td>\n",
       "      <td></td>\n",
       "      <td>[]</td>\n",
       "      <td>[]</td>\n",
       "      <td>[]</td>\n",
       "    </tr>\n",
       "    <tr>\n",
       "      <th>215</th>\n",
       "      <td>2021-06-10T19:07:52.000Z</td>\n",
       "      <td>1403066401611472902</td>\n",
       "      <td>1403066401611472902</td>\n",
       "      <td>1132055796571877376</td>\n",
       "      <td></td>\n",
       "      <td>0</td>\n",
       "      <td>0</td>\n",
       "      <td>1</td>\n",
       "      <td>0</td>\n",
       "      <td>[{'type': 'quoted', 'id': '1403059508021284864'}]</td>\n",
       "      <td>['AcademicTwitter', 'acertaindegreeofflexibili...</td>\n",
       "      <td>original</td>\n",
       "      <td>en</td>\n",
       "      <td></td>\n",
       "      <td></td>\n",
       "      <td>[]</td>\n",
       "      <td>[]</td>\n",
       "      <td>[]</td>\n",
       "    </tr>\n",
       "    <tr>\n",
       "      <th>238</th>\n",
       "      <td>2021-06-10T15:04:44.000Z</td>\n",
       "      <td>1403005214974640143</td>\n",
       "      <td>1403005214974640143</td>\n",
       "      <td>1132055796571877376</td>\n",
       "      <td>German researchers without a permanent post i...</td>\n",
       "      <td>7</td>\n",
       "      <td>0</td>\n",
       "      <td>15</td>\n",
       "      <td>0</td>\n",
       "      <td>[{'type': 'quoted', 'id': '1402994337009442820'}]</td>\n",
       "      <td>['IchbinHanna', 'academia', 'AcademicTwitter',...</td>\n",
       "      <td>original</td>\n",
       "      <td>en</td>\n",
       "      <td>post situation</td>\n",
       "      <td></td>\n",
       "      <td>[Post, Situation]</td>\n",
       "      <td>[]</td>\n",
       "      <td>[Post, Situation]</td>\n",
       "    </tr>\n",
       "  </tbody>\n",
       "</table>\n",
       "</div>"
      ],
      "text/plain": [
       "                    timestamp             tweet_id      conversation_id  \\\n",
       "11   2021-06-18T13:10:36.000Z  1405875593711964166  1405875593711964166   \n",
       "105  2021-06-12T21:15:23.000Z  1403823267115376649  1403823267115376649   \n",
       "125  2021-06-11T22:32:52.000Z  1403480380632674307  1403480380632674307   \n",
       "215  2021-06-10T19:07:52.000Z  1403066401611472902  1403066401611472902   \n",
       "238  2021-06-10T15:04:44.000Z  1403005214974640143  1403005214974640143   \n",
       "\n",
       "               author_id                                               text  \\\n",
       "11   1132055796571877376  Thread  about the cruel  in German  The debate...   \n",
       "105  1132055796571877376  Thread  summarizing a video by the German Fede...   \n",
       "125  1132055796571877376  On job  in German  and its impact on  life and...   \n",
       "215  1132055796571877376                                                      \n",
       "238  1132055796571877376   German researchers without a permanent post i...   \n",
       "\n",
       "     retweet_count  reply_count  like_count  quote_count  \\\n",
       "11               5            0          19            0   \n",
       "105              1            0           9            1   \n",
       "125              0            0           1            0   \n",
       "215              0            0           1            0   \n",
       "238              7            0          15            0   \n",
       "\n",
       "                                     referenced_tweets  \\\n",
       "11   [{'type': 'quoted', 'id': '1405846267759054851'}]   \n",
       "105  [{'type': 'quoted', 'id': '1403006909079293953'}]   \n",
       "125  [{'type': 'quoted', 'id': '1402963684691955714'}]   \n",
       "215  [{'type': 'quoted', 'id': '1403059508021284864'}]   \n",
       "238  [{'type': 'quoted', 'id': '1402994337009442820'}]   \n",
       "\n",
       "                                              hashtags tweet_type  \\\n",
       "11   ['precarity', 'academia', 'IchbinHanna', 'Acad...   original   \n",
       "105  ['IchbinHanna', 'academia', 'Germany', 'toxica...   original   \n",
       "125  ['precarity', 'academia', 'family', 'mentalhea...   original   \n",
       "215  ['AcademicTwitter', 'acertaindegreeofflexibili...   original   \n",
       "238  ['IchbinHanna', 'academia', 'AcademicTwitter',...   original   \n",
       "\n",
       "    tweet_language            noun adj         lemma_noun lemma_adj  \\\n",
       "11              en                                     []        []   \n",
       "105             en     indignation          [Indignation]        []   \n",
       "125             en                                     []        []   \n",
       "215             en                                     []        []   \n",
       "238             en  post situation      [Post, Situation]        []   \n",
       "\n",
       "                tokens  \n",
       "11                  []  \n",
       "105      [Indignation]  \n",
       "125                 []  \n",
       "215                 []  \n",
       "238  [Post, Situation]  "
      ]
     },
     "execution_count": 12,
     "metadata": {},
     "output_type": "execute_result"
    }
   ],
   "source": [
    "de_df.head()"
   ]
  },
  {
   "cell_type": "code",
   "execution_count": 13,
   "metadata": {},
   "outputs": [],
   "source": [
    "def create_doc_count_vector(df):\n",
    "    vect = CountVectorizer()\n",
    "    vects = vect.fit_transform(df.noun)\n",
    "    newdf = pd.DataFrame(vects.todense())\n",
    "    newdf.columns = vect.get_feature_names()\n",
    "    tdm = newdf.T\n",
    "    tdm.columns = ['Doc '+str(i) for i in range(newdf.shape[0])]\n",
    "    tdm['total_count'] = tdm.sum(axis=1)\n",
    "    tdm = tdm.sort_values(by='total_count', ascending=False)\n",
    "    tdm = tdm.drop(columns=['total_count'], axis=1)\n",
    "    dtm = tdm.to_numpy()\n",
    "    return tdm, dtm\n",
    "\n",
    "# en_tdm, en_dtm = create_doc_count_vector(en_df)\n",
    "# de_tdm, de_dtm = create_doc_count_vector(de_df)"
   ]
  },
  {
   "cell_type": "code",
   "execution_count": 14,
   "metadata": {},
   "outputs": [],
   "source": [
    "def lda_topic_model_search(dtm, n_topics):\n",
    "    log_likelihoods = []\n",
    "    lda_models = []\n",
    "\n",
    "    for i in n_topics:\n",
    "        tdm_lda = lda.LDA(n_topics=i, n_iter=1000, random_state=42)\n",
    "        tdm_lda.fit(dtm)\n",
    "        log_likelihoods.append(tdm_lda.loglikelihoods_[99])\n",
    "        lda_models.append(tdm_lda)\n",
    "    return log_likelihoods, lda_models\n",
    "\n",
    "def create_plot(n_topics, log_like):\n",
    "    plt.plot(n_topics, log_like)\n",
    "    plt.xticks(np.arange(min(n_topics), max(n_topics)+1, 2))\n",
    "    plt.gca().invert_yaxis()\n",
    "    plt.title('Selection of Number of Topics')\n",
    "    plt.xlabel(' Number of Topics')\n",
    "    plt.ylabel(' Log Likelihoods')\n",
    "    plt.show()\n",
    "\n",
    "n_topics = []\n",
    "for i in range(2, 41):\n",
    "    n_topics.append(i)\n",
    "\n",
    "# en_log_like, en_lda = lda_topic_model_search(dtm=en_dtm, n_topics=n_topics)\n",
    "# de_log_like, de_lda = lda_topic_model_search(dtm=de_dtm, n_topics=n_topics)\n",
    "\n",
    "# create_plot(n_topics, en_log_like)"
   ]
  },
  {
   "cell_type": "code",
   "execution_count": null,
   "metadata": {},
   "outputs": [],
   "source": [
    "# create_plot(n_topics, de_log_like)"
   ]
  },
  {
   "cell_type": "code",
   "execution_count": 15,
   "metadata": {},
   "outputs": [
    {
     "data": {
      "image/png": "[encoded data removed]",
      "text/plain": [
       "<Figure size 800x800 with 1 Axes>"
      ]
     },
     "metadata": {},
     "output_type": "display_data"
    }
   ],
   "source": [
    "doc_topic_pie_chart(en_topics, en_count_arr)"
   ]
  },
  {
   "cell_type": "code",
   "execution_count": 16,
   "metadata": {},
   "outputs": [
    {
     "data": {
      "image/png": "[encoded data removed]",
      "text/plain": [
       "<Figure size 800x800 with 1 Axes>"
      ]
     },
     "metadata": {},
     "output_type": "display_data"
    }
   ],
   "source": [
    "doc_topic_pie_chart(de_topics, de_count_arr)"
   ]
  },
  {
   "cell_type": "code",
   "execution_count": 17,
   "metadata": {},
   "outputs": [
    {
     "name": "stdout",
     "output_type": "stream",
     "text": [
      "Tweet: Like so many  Ive learned that I am a good enough researcher to stay in academia but what the  does is not to select the best candidates It also does not train researchers to become the best candidates deserving of permanent jobs\n",
      "Hashtags: ['IchbinHanna', 'WissZeitVG']\n",
      "Topic_Probability: [(0, 0.37078676), (1, 0.45266718), (2, 0.086684294), (3, 0.08986176)]\n",
      "----------------------------------------------------------------\n",
      "\n",
      "Tweet: For those who dont read German\n",
      "\n",
      "The response by the ministry of education to the outpouring of stories and discussions regarding academic precarity  is unbelievably patronising and disrespectful\n",
      "Hashtags: ['IchBinHanna']\n",
      "Topic_Probability: [(0, 0.04320894), (1, 0.044390533), (2, 0.043253433), (3, 0.86914706)]\n",
      "----------------------------------------------------------------\n",
      "\n",
      "Tweet: So  proudly explains the advantages of the  to early carrer researchers as if they were preschool children This law is a great obstacle to many brilliant young minds and threatens their future  nothing to be proud of \n",
      "\n",
      "Hashtags: ['WissZeitVG', 'IchbinHanna']\n",
      "Topic_Probability: [(0, 0.08576877), (1, 0.08388318), (2, 0.7453997), (3, 0.08494833)]\n",
      "----------------------------------------------------------------\n",
      "\n",
      "Tweet: German academic system has a problem of unintended consequences Temporary job limit and scarcity of permanent positions break up families intensify psychological and physical problems Follow  for experiences of brilliant people at the end of their ropes\n",
      "Hashtags: ['IchbinHanna']\n",
      "Topic_Probability: [(0, 0.038877685), (1, 0.25187898), (2, 0.6726164), (3, 0.03662685)]\n",
      "----------------------------------------------------------------\n",
      "\n",
      "Topic  1\n",
      "Most Probable Word List:  ['research', 'video', 'academia', 'law', 'problem', 'time', 'goal', 'way', 'science', 'postdoc', 'day', 'world', 'link', 'week', 'program', 'page', 'politics', 'music', 'click', 'airdrop', 'event', 'freelancer']\n",
      "-------------------------------------------------------\n",
      "\n",
      "Topic  2\n",
      "Most Probable Word List:  ['thread', 'education', 'research', 'job', 'life', 'post', 'academia', 'precarity', 'end', 'system', 'year', 'family', 'time', 'future', 'lot', 'work', 'extension', 'student', 'career', 'u', 'way', 'contract', 'university', 'strike', 'community', 'solidarity', 'couple', 'policy', 'dont', 'movement', 'tweet', 'day', 'reason', 'action', 'market', 'piece', 'psychology', 'youre', 'support', 'uk', 'point', 'victim', 'office', 'second', 'week', 'issue', 'level', 'pm', 'tag', 'til', 'grade', 'baby', 'stuff', 'food', 'service', 'brief', 'seminar', 'take', 'stop', 'bot', 'reward', 'airdrop', 'telegram', 'fun', 'gig', 'channel', 'pay', 'watch', 'progress', 'message', 'mind', 'consciousness', 'window', 'nicht', 'feel', 'chat', 'button', 'chef', 'wisdom', 'king', 'queen', 'magnitude', 'geography', 'dog', 'elk', 'bracelet', 'wrist', 'mile', 'shark', 'clickableoutlook', 'signature', 'discount', 'microbiology', 'trump', 'wissenschaftsfeindlich']\n",
      "-------------------------------------------------------\n",
      "\n",
      "Topic  3\n",
      "Most Probable Word List:  ['thread', 'discussion', 'research', 'job', 'academia', 'law', 'system', 'time', 'work', 'project', 'student', 'change', 'employment', 'contract', 'university', 'number', 'term', 'track', 'staff', 'professor', 'part', 'respect', 'case', 'society', 'fact', 'hand']\n",
      "-------------------------------------------------------\n",
      "\n",
      "Topic  4\n",
      "Most Probable Word List:  ['discussion', 'research', 'job', 'life', 'post', 'situation', 'academia', 'law', 'system', 'article', 'generation', 'time', 'future', 'lot', 'amount', 'work', 'topic', 'collection', 'security', 'brain', 'drain', 'career', 'u', 'contract', 'lack', 'university', 'tenure', 'track', 'party', 'position', 'science', 'phd', 'professor', 'stability', 'protest', 'movement', 'action', 'market', 'look', 'perspective', 'link', 'prof', 'form', 'translation', 'anxiety', 'bin', 'history', 'level', 'wissenschaftszeitvertragsgesetz', 'precariousness', 'right', 'awareness', 'choice', 'laptop', 'selection', 'stress', 'night', 'total', 'business', 'combination', 'joy', 'connection', 'mark', 'casualisation', 'road', 'past', 'technology']\n",
      "-------------------------------------------------------\n",
      "\n"
     ]
    }
   ],
   "source": [
    "print_beauty(en_doc_topic_df, en_word_topic_df)\n"
   ]
  },
  {
   "cell_type": "code",
   "execution_count": 18,
   "metadata": {},
   "outputs": [
    {
     "name": "stdout",
     "output_type": "stream",
     "text": [
      "Tweet: Like so many  Ive learned that I am a good enough researcher to stay in academia but what the  does is not to select the best candidates It also does not train researchers to become the best candidates deserving of permanent jobs\n",
      "Hashtags: ['IchbinHanna', 'WissZeitVG']\n",
      "Topic_Probability: [(0, 0.050005935), (1, 0.05009091), (2, 0.7998286), (3, 0.05003201), (4, 0.050042592)]\n",
      "----------------------------------------------------------------\n",
      "\n",
      "Tweet: For those who dont read German\n",
      "\n",
      "The response by the ministry of education to the outpouring of stories and discussions regarding academic precarity  is unbelievably patronising and disrespectful\n",
      "Hashtags: ['IchBinHanna']\n",
      "Topic_Probability: [(0, 0.2), (1, 0.2), (2, 0.2), (3, 0.2), (4, 0.2)]\n",
      "----------------------------------------------------------------\n",
      "\n",
      "Tweet: So  proudly explains the advantages of the  to early carrer researchers as if they were preschool children This law is a great obstacle to many brilliant young minds and threatens their future  nothing to be proud of \n",
      "\n",
      "Hashtags: ['WissZeitVG', 'IchbinHanna']\n",
      "Topic_Probability: [(0, 0.2), (1, 0.2), (2, 0.2), (3, 0.2), (4, 0.2)]\n",
      "----------------------------------------------------------------\n",
      "\n",
      "Tweet: German academic system has a problem of unintended consequences Temporary job limit and scarcity of permanent positions break up families intensify psychological and physical problems Follow  for experiences of brilliant people at the end of their ropes\n",
      "Hashtags: ['IchbinHanna']\n",
      "Topic_Probability: [(0, 0.033378173), (1, 0.21005298), (2, 0.034450322), (3, 0.033999912), (4, 0.68811864)]\n",
      "----------------------------------------------------------------\n",
      "\n",
      "Topic  1\n",
      "Most Probable Word List:  ['Show', 'Register', 'Meeting', 'Laptop', 'Where', 'Information', 'Stress', 'Talk', 'Seminar', 'Date', 'Signatures', 'Block', 'Chef', 'Promis', 'Giftwomens', 'Unisex', 'Baby', 'Signature', 'Juniorprofessor']\n",
      "-------------------------------------------------------\n",
      "\n",
      "Topic  2\n",
      "Most Probable Word List:  ['Not', 'Problems', 'Students', 'Trend', 'Here', 'Professors', 'Heres', 'Track', 'Show', 'Rather', 'Part', 'Feature', 'Initiative', 'Report', 'Brief', 'Professional', 'Page', 'Argument', 'Depression', 'Details', 'Workshop', 'Plan', 'Talk', 'Display', 'Message', 'Event', 'Quote', 'Kanzler', 'Pfeil']\n",
      "-------------------------------------------------------\n",
      "\n",
      "Topic  3\n",
      "Most Probable Word List:  ['Not', 'Positions', 'Students', 'Professor']\n",
      "-------------------------------------------------------\n",
      "\n",
      "Topic  4\n",
      "Most Probable Word List:  ['Problem', 'See', 'These', 'Track', 'Position', 'Most', 'Part', 'There', 'Mine', 'Video', 'Institutions', 'Form', 'Single', 'Partner', 'Tag', 'Info', 'Intentions', 'Distribution', 'Congratulations', 'Connections', 'Audio', 'Hang', 'Bio']\n",
      "-------------------------------------------------------\n",
      "\n"
     ]
    }
   ],
   "source": [
    "print_beauty(de_doc_topic_df, de_word_topic_df)\n"
   ]
  },
  {
   "cell_type": "code",
   "execution_count": 19,
   "metadata": {},
   "outputs": [
    {
     "name": "stderr",
     "output_type": "stream",
     "text": [
      "c:\\Softwares\\anaconda3\\envs\\dbse-project\\lib\\site-packages\\pyLDAvis\\_prepare.py:243: FutureWarning: In a future version of pandas all arguments of DataFrame.drop except for the argument 'labels' will be keyword-only.\n",
      "  default_term_info = default_term_info.sort_values(\n"
     ]
    },
    {
     "data": {
      "text/html": [
       "\n",
       "<link rel=\"stylesheet\" type=\"text/css\" href=\"https://cdn.jsdelivr.net/gh/bmabey/pyLDAvis@3.4.0/pyLDAvis/js/ldavis.v1.0.0.css\">\n",
       "\n",
       "\n",
       "<div id=\"ldavis_el275228228311150563754420238\" style=\"background-color:white;\"></div>\n",
       "<script type=\"text/javascript\">\n",
       "\n",
       "var ldavis_el275228228311150563754420238_data = {\"mdsDat\": {\"x\": [0.04950176377255101, 0.01597506113418984, -0.1896389400793673, 0.12416211517262644], \"y\": [-0.10425760261590117, -0.10499098809172874, 0.06100226442606818, 0.14824632628156179], \"topics\": [1, 2, 3, 4], \"cluster\": [1, 1, 1, 1], \"Freq\": [28.33261350335805, 27.016628406447275, 23.32238121034231, 21.328376879852364]}, \"tinfo\": {\"Term\": [\"link\", \"click\", \"music\", \"thread\", \"situation\", \"science\", \"reason\", \"right\", \"telegram\", \"position\", \"end\", \"freelancer\", \"research\", \"hand\", \"year\", \"goal\", \"seminar\", \"watch\", \"postdoc\", \"channel\", \"chef\", \"uk\", \"airdrop\", \"form\", \"reward\", \"lack\", \"career\", \"chat\", \"connection\", \"video\", \"hand\", \"respect\", \"cause\", \"feature\", \"bureaucracy\", \"sea\", \"empathy\", \"overhaul\", \"audience\", \"guide\", \"politician\", \"clothing\", \"powder\", \"veil\", \"risk\", \"depression\", \"good\", \"death\", \"living\", \"shape\", \"deadline\", \"color\", \"drive\", \"study\", \"silence\", \"vacation\", \"college\", \"responsibility\", \"sector\", \"citizenship\", \"number\", \"thread\", \"picture\", \"humanity\", \"society\", \"case\", \"part\", \"solution\", \"staff\", \"university\", \"change\", \"system\", \"professor\", \"employment\", \"work\", \"time\", \"project\", \"fact\", \"law\", \"discussion\", \"academia\", \"job\", \"research\", \"side\", \"pressure\", \"track\", \"term\", \"student\", \"contract\", \"movement\", \"right\", \"drain\", \"collection\", \"road\", \"mark\", \"quote\", \"total\", \"selection\", \"laptop\", \"disease\", \"technology\", \"connection\", \"form\", \"bin\", \"microphone\", \"recording\", \"traffic\", \"publication\", \"data\", \"situation\", \"choice\", \"combination\", \"business\", \"discrimination\", \"past\", \"stability\", \"x\", \"joy\", \"award\", \"translation\", \"prof\", \"stress\", \"night\", \"party\", \"lack\", \"position\", \"perspective\", \"phd\", \"career\", \"science\", \"movement\", \"awareness\", \"lot\", \"tenure\", \"post\", \"academia\", \"life\", \"time\", \"system\", \"contract\", \"job\", \"topic\", \"history\", \"future\", \"track\", \"research\", \"brain\", \"casualisation\", \"article\", \"professor\", \"music\", \"click\", \"freelancer\", \"fellow\", \"lol\", \"th\", \"price\", \"page\", \"amazon\", \"behavior\", \"moonlight\", \"shock\", \"snapdragon\", \"crust\", \"shadow\", \"hip\", \"advice\", \"legend\", \"goal\", \"appreciation\", \"display\", \"public\", \"mine\", \"session\", \"host\", \"labor\", \"report\", \"rate\", \"woman\", \"play\", \"link\", \"event\", \"freedom\", \"tweeting\", \"politics\", \"industry\", \"video\", \"postdoc\", \"program\", \"distribution\", \"week\", \"research\", \"academia\", \"science\", \"comment\", \"problem\", \"cant\", \"world\", \"class\", \"way\", \"airdrop\", \"time\", \"power\", \"day\", \"place\", \"law\", \"debate\", \"money\", \"system\", \"future\", \"telegram\", \"channel\", \"watch\", \"seminar\", \"stop\", \"stuff\", \"nicht\", \"queen\", \"king\", \"window\", \"second\", \"bot\", \"til\", \"tag\", \"couple\", \"consciousness\", \"chef\", \"fun\", \"dog\", \"elk\", \"wissenschaftsfeindlich\", \"feel\", \"mind\", \"mile\", \"trump\", \"gig\", \"clickableoutlook\", \"signature\", \"brief\", \"reason\", \"chat\", \"baby\", \"solidarity\", \"end\", \"uk\", \"year\", \"grade\", \"reward\", \"psychology\", \"take\", \"policy\", \"piece\", \"job\", \"extension\", \"youre\", \"pm\", \"office\", \"airdrop\", \"lot\", \"post\", \"academia\", \"work\", \"day\", \"system\", \"service\", \"student\", \"university\"], \"Freq\": [310.0, 193.0, 174.0, 287.0, 185.0, 213.0, 87.0, 87.0, 68.0, 165.0, 109.0, 58.0, 309.0, 65.0, 122.0, 62.0, 49.0, 48.0, 106.0, 48.0, 50.0, 78.0, 83.0, 57.0, 73.0, 80.0, 169.0, 48.0, 53.0, 78.0, 64.73793248817694, 38.29772515236752, 32.796281055185844, 29.79418489645075, 29.22360351878759, 29.519533567530306, 28.53918380253241, 28.52294765291837, 29.710274410570978, 30.52873914275524, 28.092856781187987, 24.939106316072234, 24.939106316072234, 24.939106316072234, 36.26815681901598, 31.901363811694875, 34.45680207177529, 28.499640655184255, 26.93379190899051, 26.814234356090793, 12.279468279263021, 30.4251414569155, 25.762994127371517, 11.11495220337915, 9.468657256743963, 9.04461813101808, 8.92181549889807, 8.922279554325698, 20.384896128291935, 26.30794740296915, 47.407459110849814, 254.25615739728218, 26.966398213529242, 26.588552869087568, 40.0961723757353, 54.7227825491494, 52.44089048777319, 32.121936553027815, 56.99211450782847, 117.78807398486238, 72.87942679121655, 186.4416217976477, 89.12260423932628, 71.42356000856384, 129.33859059787673, 135.10935559051072, 41.29655886082353, 41.33933467949284, 73.90527218637402, 57.1328101576936, 149.38428950595093, 89.6568122742735, 84.18572286153429, 35.23346045580928, 32.5088710971821, 42.00890462206394, 39.99698859321432, 42.26800140862946, 38.197343593983426, 37.23740565025494, 86.68930323300508, 30.762122175393174, 28.950259163306562, 28.033986855820526, 26.611190385033428, 26.323466852960856, 30.679922663573947, 30.317138006642995, 26.5279938653558, 26.328980369519567, 27.67513659382446, 50.69034048978291, 54.56901656777199, 33.96715538044926, 23.086628781713017, 23.086628781713017, 24.92398963876056, 13.792909601558708, 13.174461840887854, 175.97068807396923, 28.92187283513562, 26.499695879653324, 30.723544912467073, 10.144678796422756, 27.66799347423137, 27.510598746306986, 14.280883424026038, 26.92088752859278, 9.410421947313694, 26.973501778740456, 34.86879754413974, 31.365722091185464, 27.442982051960925, 32.44494523684475, 67.73991946921593, 132.3297610589378, 62.204456117267405, 65.37713704833607, 115.43201754209214, 102.57947565629351, 75.8877642663417, 31.029077339655895, 71.78124665200312, 51.77848622475724, 51.80869303879621, 136.2955301904815, 56.31142662420372, 94.54735318268158, 89.97494894053617, 52.36145186398645, 72.95753923997732, 33.591983847404144, 32.74740460816623, 41.250140031647895, 37.7288881158068, 46.41053281337242, 33.59206587969629, 32.744565028822684, 34.70665440853532, 35.03758529540804, 173.6547189299549, 192.6253419033329, 57.85163586866557, 25.04739109283927, 21.9793109444464, 22.159351823176593, 21.533813779438372, 41.03131694352627, 17.970206877429547, 20.434007165337313, 19.08690700615296, 20.131815485513492, 17.826291291918793, 17.8092847453163, 17.8092847453163, 17.713127214161958, 25.87153313484152, 19.40076276922873, 57.315962334633085, 25.94339696125196, 18.71767782928763, 23.916433954476084, 20.016194664477432, 8.275133910388574, 20.42627605026185, 14.869975258926312, 13.041433765048936, 38.8110828690193, 21.216942922338102, 19.254398611425273, 270.5082438211051, 42.369928809551325, 28.47099086455428, 21.534588661326328, 42.596235175767625, 31.222919202660307, 61.0623324157131, 79.30314466275681, 42.46094270469369, 34.72441571249693, 70.5114954580542, 158.4031586007196, 225.96745548490236, 101.00311136750992, 23.18070198657968, 47.329339035874625, 24.960775912104822, 45.366616325089524, 28.059036961026553, 44.08367066653753, 43.75620203992568, 93.57289559417225, 28.09971485556663, 44.833693689850854, 34.352943599832884, 41.69141008924173, 31.03360016874091, 30.162180798755625, 31.156263018322893, 28.983477862515805, 67.49135005792466, 47.24352509234549, 48.01506907267973, 48.725802760024344, 30.140128293624215, 26.96717054964241, 27.31165261489395, 24.133454236175922, 22.967527583981067, 23.162678958005973, 23.585177734858274, 25.146906812620806, 22.64163931070002, 28.113681447194274, 30.625215791793927, 22.29457179922405, 48.328919329002524, 16.79582583905724, 20.81539641793492, 20.81539641793492, 20.755689547563236, 23.050628010171483, 13.515677935590634, 20.504987196254756, 20.50093591659769, 22.7220123152953, 20.330011269645922, 20.330011269645922, 21.789156915083655, 81.35019367309283, 43.85204234488787, 26.474628099112664, 43.38771812198487, 80.12006924537924, 59.95633355199347, 82.26572558728242, 24.53056931122363, 51.023223300823965, 23.66642002724963, 24.024785789278596, 29.93295135662094, 29.776531860042937, 84.98922666954968, 28.412312940095806, 35.760883403942735, 35.39091302345556, 28.344969289257744, 39.245193135882104, 43.88839302138048, 36.84975230098809, 66.66176554972755, 49.35025029312359, 35.806669215597324, 38.5946893860644, 29.191222204134895, 31.916148021701172, 29.692519802524828], \"Total\": [310.0, 193.0, 174.0, 287.0, 185.0, 213.0, 87.0, 87.0, 68.0, 165.0, 109.0, 58.0, 309.0, 65.0, 122.0, 62.0, 49.0, 48.0, 106.0, 48.0, 50.0, 78.0, 83.0, 57.0, 73.0, 80.0, 169.0, 48.0, 53.0, 78.0, 65.53731556841313, 39.15717110847491, 33.538480695874064, 30.50996176303861, 29.938281884728895, 30.25830727867099, 29.254205628983016, 29.251745590027923, 30.53427687722478, 31.46971821865487, 29.150542641998875, 25.916862428113006, 25.916862428113006, 25.916862428113006, 37.71492494871256, 33.28600281679039, 36.05949482160925, 29.886984362244963, 28.376336434014764, 28.337718273718497, 13.00803798734848, 32.24241161743731, 27.414727634442848, 11.85824730875424, 10.206690219289127, 9.765924150089386, 9.642380793360568, 9.642962855874423, 22.18714798356752, 28.8357410358844, 52.16891928127929, 287.83306027559917, 29.56088966076679, 29.218201491914172, 45.05429053935862, 62.87409672837701, 60.098556115028494, 35.90315088836514, 71.76169958057113, 188.08679616435862, 103.070767225635, 346.1675231425711, 133.52945249251272, 100.96643858305428, 237.32164333019094, 343.53970421396804, 54.90649055059987, 56.05192603599478, 151.1387423424996, 99.58821341310897, 578.3090407310624, 254.01943271086864, 309.60651414376616, 45.20146523944152, 38.51753574847485, 84.05125733877436, 75.25680886167682, 109.28630475066875, 117.94723558391782, 138.5992246771546, 87.46297676898263, 31.501488221781734, 29.711034829087687, 28.77845442711492, 27.347766071238528, 27.05283740264355, 31.553551511538366, 31.21151499873067, 27.31665090809332, 27.240029581610763, 28.835389887851626, 53.025612854294046, 57.23311336692195, 35.64090902096382, 24.2814766694816, 24.2814766694816, 26.283265212301956, 14.565949315377617, 13.919899162991644, 185.98154916721165, 30.8839870607545, 28.347479063162474, 32.96099119516853, 10.886644765215731, 29.725456547640594, 29.58752196881713, 15.378089246538913, 29.01771046320291, 10.148156621080688, 29.09135447040059, 37.72268776585331, 34.675974859087795, 30.368298551681406, 36.43793996716648, 80.41910700274798, 165.99789837349203, 76.77930045250763, 82.51967088425054, 169.73960203967926, 213.5990662268946, 138.5992246771546, 36.01821006505421, 134.5444624712725, 82.5697150137536, 91.96627259227473, 578.3090407310624, 112.2757919410501, 343.53970421396804, 346.1675231425711, 117.94723558391782, 254.01943271086864, 45.88013242645712, 44.20171741221753, 125.84652147405322, 84.05125733877436, 309.60651414376616, 53.440920538159226, 45.57161082988378, 76.33596494520033, 133.52945249251272, 174.63114593427838, 193.9722616038535, 58.67110690706761, 25.905032882365408, 22.786319838431645, 22.994481787268718, 22.43584081330427, 43.29786085584588, 18.979768608671836, 21.59790515385708, 20.276388322244593, 21.40405845784587, 18.957351294028648, 18.960484908666558, 18.960484908666558, 18.9119176281338, 27.733564486721487, 20.93234446498346, 62.25937216654722, 28.232135444496215, 20.373298225981635, 26.152010824883178, 21.92385619541735, 9.082681583012853, 22.584646899188915, 16.526754383281183, 14.561715395234428, 43.55487205469029, 23.818685021411635, 21.791601660269805, 310.6075947952673, 48.02065310016758, 32.333907729109775, 24.377971980673586, 51.86108031597767, 36.727098339435614, 78.60792000949573, 106.04090464628905, 52.42885780605988, 42.16851839198123, 108.84357803391234, 309.60651414376616, 578.3090407310624, 213.5990662268946, 26.918058704122476, 75.03085909212436, 30.22191410842654, 80.82319907126947, 37.05196007749812, 81.6390450155707, 83.9221875701089, 343.53970421396804, 37.4071920496878, 103.74708187770361, 59.6328163321815, 151.1387423424996, 61.20803063070483, 62.85053998379036, 346.1675231425711, 125.84652147405322, 68.53521028363976, 48.00639310725284, 48.81352541256544, 49.665622588707436, 30.915697537904055, 27.747865074081943, 28.122732075001423, 24.90640730303194, 23.726093156568556, 23.933988848713184, 24.38160579419917, 26.006448073943428, 23.42467195838716, 29.121566428392885, 31.813439501043014, 23.369634188599115, 50.691773651209395, 17.622733537265216, 21.954344736415113, 21.954344736415113, 21.946397021100537, 24.428544514962983, 14.34750330749384, 21.81667801448952, 21.81480578774896, 24.304680839240664, 21.78184959074664, 21.78184959074664, 23.389099558001057, 87.47419211493545, 48.61378968132588, 29.06814766293286, 52.90748071417338, 109.28246208188816, 78.44613335272844, 122.25547123970695, 27.3531052071058, 73.13768433087182, 26.140665318182613, 26.932290330162257, 37.258400661338996, 37.31021157990503, 254.01943271086864, 36.007999477767676, 58.44456861786495, 59.171728654172966, 37.39098534725744, 83.9221875701089, 134.5444624712725, 91.96627259227473, 578.3090407310624, 237.32164333019094, 103.74708187770361, 346.1675231425711, 48.075044930830124, 109.28630475066875, 188.08679616435862], \"Category\": [\"Default\", \"Default\", \"Default\", \"Default\", \"Default\", \"Default\", \"Default\", \"Default\", \"Default\", \"Default\", \"Default\", \"Default\", \"Default\", \"Default\", \"Default\", \"Default\", \"Default\", \"Default\", \"Default\", \"Default\", \"Default\", \"Default\", \"Default\", \"Default\", \"Default\", \"Default\", \"Default\", \"Default\", \"Default\", \"Default\", \"Topic1\", \"Topic1\", \"Topic1\", \"Topic1\", \"Topic1\", \"Topic1\", \"Topic1\", \"Topic1\", \"Topic1\", \"Topic1\", \"Topic1\", \"Topic1\", \"Topic1\", \"Topic1\", \"Topic1\", \"Topic1\", \"Topic1\", \"Topic1\", \"Topic1\", \"Topic1\", \"Topic1\", \"Topic1\", \"Topic1\", \"Topic1\", \"Topic1\", \"Topic1\", \"Topic1\", \"Topic1\", \"Topic1\", \"Topic1\", \"Topic1\", \"Topic1\", \"Topic1\", \"Topic1\", \"Topic1\", \"Topic1\", \"Topic1\", \"Topic1\", \"Topic1\", \"Topic1\", \"Topic1\", \"Topic1\", \"Topic1\", \"Topic1\", \"Topic1\", \"Topic1\", \"Topic1\", \"Topic1\", \"Topic1\", \"Topic1\", \"Topic1\", \"Topic1\", \"Topic1\", \"Topic1\", \"Topic1\", \"Topic1\", \"Topic1\", \"Topic1\", \"Topic1\", \"Topic1\", \"Topic2\", \"Topic2\", \"Topic2\", \"Topic2\", \"Topic2\", \"Topic2\", \"Topic2\", \"Topic2\", \"Topic2\", \"Topic2\", \"Topic2\", \"Topic2\", \"Topic2\", \"Topic2\", \"Topic2\", \"Topic2\", \"Topic2\", \"Topic2\", \"Topic2\", \"Topic2\", \"Topic2\", \"Topic2\", \"Topic2\", \"Topic2\", \"Topic2\", \"Topic2\", \"Topic2\", \"Topic2\", \"Topic2\", \"Topic2\", \"Topic2\", \"Topic2\", \"Topic2\", \"Topic2\", \"Topic2\", \"Topic2\", \"Topic2\", \"Topic2\", \"Topic2\", \"Topic2\", \"Topic2\", \"Topic2\", \"Topic2\", \"Topic2\", \"Topic2\", \"Topic2\", \"Topic2\", \"Topic2\", \"Topic2\", \"Topic2\", \"Topic2\", \"Topic2\", \"Topic2\", \"Topic2\", \"Topic2\", \"Topic2\", \"Topic2\", \"Topic2\", \"Topic2\", \"Topic2\", \"Topic3\", \"Topic3\", \"Topic3\", \"Topic3\", \"Topic3\", \"Topic3\", \"Topic3\", \"Topic3\", \"Topic3\", \"Topic3\", \"Topic3\", \"Topic3\", \"Topic3\", \"Topic3\", \"Topic3\", \"Topic3\", \"Topic3\", \"Topic3\", \"Topic3\", \"Topic3\", \"Topic3\", \"Topic3\", \"Topic3\", \"Topic3\", \"Topic3\", \"Topic3\", \"Topic3\", \"Topic3\", \"Topic3\", \"Topic3\", \"Topic3\", \"Topic3\", \"Topic3\", \"Topic3\", \"Topic3\", \"Topic3\", \"Topic3\", \"Topic3\", \"Topic3\", \"Topic3\", \"Topic3\", \"Topic3\", \"Topic3\", \"Topic3\", \"Topic3\", \"Topic3\", \"Topic3\", \"Topic3\", \"Topic3\", \"Topic3\", \"Topic3\", \"Topic3\", \"Topic3\", \"Topic3\", \"Topic3\", \"Topic3\", \"Topic3\", \"Topic3\", \"Topic3\", \"Topic3\", \"Topic4\", \"Topic4\", \"Topic4\", \"Topic4\", \"Topic4\", \"Topic4\", \"Topic4\", \"Topic4\", \"Topic4\", \"Topic4\", \"Topic4\", \"Topic4\", \"Topic4\", \"Topic4\", \"Topic4\", \"Topic4\", \"Topic4\", \"Topic4\", \"Topic4\", \"Topic4\", \"Topic4\", \"Topic4\", \"Topic4\", \"Topic4\", \"Topic4\", \"Topic4\", \"Topic4\", \"Topic4\", \"Topic4\", \"Topic4\", \"Topic4\", \"Topic4\", \"Topic4\", \"Topic4\", \"Topic4\", \"Topic4\", \"Topic4\", \"Topic4\", \"Topic4\", \"Topic4\", \"Topic4\", \"Topic4\", \"Topic4\", \"Topic4\", \"Topic4\", \"Topic4\", \"Topic4\", \"Topic4\", \"Topic4\", \"Topic4\", \"Topic4\", \"Topic4\", \"Topic4\", \"Topic4\", \"Topic4\", \"Topic4\", \"Topic4\"], \"logprob\": [30.0, 29.0, 28.0, 27.0, 26.0, 25.0, 24.0, 23.0, 22.0, 21.0, 20.0, 19.0, 18.0, 17.0, 16.0, 15.0, 14.0, 13.0, 12.0, 11.0, 10.0, 9.0, 8.0, 7.0, 6.0, 5.0, 4.0, 3.0, 2.0, 1.0, -4.6983, -5.2232, -5.3783, -5.4743, -5.4937, -5.4836, -5.5174, -5.5179, -5.4771, -5.45, -5.5331, -5.6522, -5.6522, -5.6522, -5.2777, -5.406, -5.3289, -5.5187, -5.5752, -5.5797, -6.3607, -5.4534, -5.6197, -6.4603, -6.6206, -6.6665, -6.6801, -6.6801, -5.8538, -5.5988, -5.0098, -3.3303, -5.574, -5.5881, -5.1773, -4.8663, -4.9089, -5.3991, -4.8257, -4.0997, -4.5798, -3.6405, -4.3786, -4.6, -4.0062, -3.9625, -5.1479, -5.1468, -4.5658, -4.8233, -3.8621, -4.3726, -4.4356, -5.3066, -5.3871, -5.1307, -5.1798, -5.1246, -5.2259, -5.2513, -4.3587, -5.3948, -5.4555, -5.4877, -5.5397, -5.5506, -5.3975, -5.4094, -5.5429, -5.5504, -5.5005, -4.8953, -4.8216, -5.2957, -5.6818, -5.6818, -5.6052, -6.1969, -6.2428, -3.6508, -5.4565, -5.5439, -5.396, -6.5041, -5.5008, -5.5065, -6.1621, -5.5282, -6.5793, -5.5262, -5.2695, -5.3754, -5.509, -5.3415, -4.6054, -3.9358, -4.6906, -4.6409, -4.0724, -4.1904, -4.4918, -5.3861, -4.5474, -4.8741, -4.8735, -3.9062, -4.7902, -4.272, -4.3215, -4.8629, -4.5312, -5.3068, -5.3322, -5.1014, -5.1906, -4.9835, -5.3068, -5.3323, -5.2741, -5.2646, -3.517, -3.4133, -4.6161, -5.4533, -5.5839, -5.5758, -5.6044, -4.9597, -5.7853, -5.6568, -5.725, -5.6717, -5.7934, -5.7943, -5.7943, -5.7997, -5.4209, -5.7087, -4.6255, -5.4181, -5.7446, -5.4995, -5.6775, -6.5608, -5.6572, -5.9747, -6.1059, -5.0153, -5.6192, -5.7163, -3.0737, -4.9276, -5.3251, -5.6044, -4.9223, -5.2329, -4.5621, -4.3008, -4.9254, -5.1266, -4.4183, -3.6089, -3.2536, -4.0589, -5.5307, -4.8169, -5.4567, -4.8593, -5.3397, -4.8879, -4.8954, -4.1353, -5.3383, -4.8711, -5.1373, -4.9437, -5.239, -5.2674, -5.235, -5.3073, -4.3727, -4.7293, -4.7131, -4.6984, -5.1788, -5.29, -5.2773, -5.4011, -5.4506, -5.4421, -5.424, -5.3599, -5.4649, -5.2484, -5.1628, -5.4803, -4.7066, -5.7635, -5.549, -5.549, -5.5518, -5.447, -5.9808, -5.564, -5.5642, -5.4613, -5.5726, -5.5726, -5.5032, -4.1859, -4.8038, -5.3085, -4.8145, -4.2011, -4.491, -4.1747, -5.3847, -4.6524, -5.4206, -5.4056, -5.1857, -5.1909, -4.1421, -5.2378, -5.0078, -5.0182, -5.2402, -4.9148, -4.803, -4.9778, -4.385, -4.6857, -5.0065, -4.9315, -5.2108, -5.1215, -5.1938], \"loglift\": [30.0, 29.0, 28.0, 27.0, 26.0, 25.0, 24.0, 23.0, 22.0, 21.0, 20.0, 19.0, 18.0, 17.0, 16.0, 15.0, 14.0, 13.0, 12.0, 11.0, 10.0, 9.0, 8.0, 7.0, 6.0, 5.0, 4.0, 3.0, 2.0, 1.0, 1.2489, 1.239, 1.2388, 1.2374, 1.237, 1.2364, 1.2364, 1.2359, 1.2338, 1.2308, 1.2242, 1.2227, 1.2227, 1.2227, 1.222, 1.2187, 1.2157, 1.2136, 1.209, 1.2059, 1.2035, 1.2031, 1.199, 1.1964, 1.1861, 1.1844, 1.1835, 1.1835, 1.1764, 1.1694, 1.1654, 1.1371, 1.1693, 1.1668, 1.1446, 1.1223, 1.1249, 1.1499, 1.0307, 0.7931, 0.9145, 0.6424, 0.8568, 0.915, 0.6542, 0.3279, 0.9763, 0.9567, 0.5457, 0.7055, -0.0924, 0.2197, -0.0411, 1.012, 1.0916, 0.5676, 0.6291, 0.3112, 0.1337, -0.0531, 1.2998, 1.285, 1.2828, 1.2825, 1.2814, 1.2814, 1.2806, 1.2796, 1.2794, 1.2747, 1.2676, 1.2637, 1.2611, 1.2606, 1.2583, 1.2583, 1.2556, 1.2542, 1.2537, 1.2534, 1.2431, 1.2413, 1.2384, 1.2381, 1.237, 1.2359, 1.2347, 1.2337, 1.2332, 1.2331, 1.23, 1.2084, 1.2074, 1.1927, 1.1371, 1.082, 1.0982, 1.0759, 0.9231, 0.5753, 0.7064, 1.1596, 0.6804, 0.842, 0.7349, -0.1366, 0.6187, 0.0185, -0.0387, 0.4967, 0.0612, 0.997, 1.0088, 0.1933, 0.5077, -0.5891, 0.8444, 0.9782, 0.5205, -0.0292, 1.4501, 1.4488, 1.4417, 1.4221, 1.4197, 1.4188, 1.4147, 1.402, 1.4011, 1.4004, 1.3953, 1.3945, 1.3942, 1.3931, 1.3931, 1.3903, 1.3863, 1.3798, 1.373, 1.3712, 1.371, 1.3664, 1.3647, 1.3626, 1.3553, 1.3501, 1.3455, 1.3404, 1.3401, 1.332, 1.3175, 1.3306, 1.3285, 1.3317, 1.259, 1.2934, 1.2032, 1.1652, 1.2449, 1.2615, 1.0216, 0.7856, 0.516, 0.7068, 1.3063, 0.995, 1.2645, 0.8783, 1.1777, 0.8395, 0.8045, 0.1552, 1.1697, 0.6168, 0.9042, 0.1679, 0.7765, 0.7216, -0.9522, -0.0126, 1.5298, 1.5291, 1.5286, 1.526, 1.5197, 1.5166, 1.5159, 1.5136, 1.5126, 1.5124, 1.5119, 1.5115, 1.5111, 1.5099, 1.5071, 1.498, 1.4974, 1.4971, 1.4919, 1.4919, 1.4893, 1.4871, 1.4854, 1.4831, 1.483, 1.4778, 1.4762, 1.4762, 1.4743, 1.4726, 1.442, 1.4517, 1.3468, 1.2347, 1.2763, 1.149, 1.4362, 1.1851, 1.4457, 1.4309, 1.3262, 1.3196, 0.4502, 1.3082, 1.0539, 1.0311, 1.2682, 0.7851, 0.4249, 0.6306, -0.6153, -0.0253, 0.4813, -0.6487, 1.0462, 0.3143, -0.3009]}, \"token.table\": {\"Topic\": [1, 2, 3, 4, 2, 3, 2, 3, 4, 3, 2, 3, 4, 1, 2, 3, 4, 1, 2, 2, 3, 2, 4, 2, 3, 1, 2, 4, 2, 3, 2, 4, 1, 1, 2, 1, 2, 3, 1, 2, 3, 4, 1, 2, 3, 4, 1, 2, 1, 1, 2, 3, 4, 4, 1, 2, 4, 2, 3, 4, 2, 3, 1, 2, 3, 1, 3, 4, 1, 3, 1, 2, 4, 1, 2, 1, 1, 2, 2, 3, 2, 3, 2, 3, 3, 4, 1, 2, 3, 4, 3, 4, 3, 2, 2, 3, 4, 1, 1, 2, 1, 2, 3, 4, 1, 4, 2, 1, 2, 3, 4, 2, 1, 3, 4, 1, 3, 4, 4, 2, 1, 3, 4, 1, 1, 2, 3, 4, 1, 3, 4, 2, 3, 4, 1, 2, 3, 4, 1, 2, 3, 4, 1, 1, 2, 4, 3, 1, 2, 2, 3, 4, 3, 4, 1, 2, 3, 4, 1, 2, 4, 2, 3, 1, 2, 1, 3, 4, 1, 1, 3, 1, 2, 3, 1, 2, 3, 1, 4, 1, 2, 3, 4, 1, 2, 3, 4, 2, 3, 4, 4, 3, 4, 1, 2, 3, 4, 2, 1, 2, 3, 4, 2, 3, 1, 2, 3, 4, 1, 2, 3, 1, 2, 3, 1, 2, 3, 4, 2, 2, 4, 4, 1, 2, 3, 1, 2, 3, 4, 2, 3, 1, 2, 3, 4, 3, 4, 2, 3, 1, 2, 3, 1, 3, 4, 1, 2, 3, 1, 2, 3, 4, 1, 2, 3, 1, 2, 1, 2, 4, 1, 2, 3, 4, 1, 3, 4, 2, 3, 4, 1, 2, 3, 4, 3, 4, 3, 4, 1, 2, 3, 4, 1, 1, 2, 3, 4, 1, 2, 3, 4, 1, 2, 4, 1, 2, 3, 4, 1, 1, 2, 3, 4, 1, 2, 3, 4, 3, 1, 2, 3, 4, 1, 2, 3, 1, 2, 3, 4, 3, 4, 1, 2, 3, 4, 2, 4, 1, 2, 3, 2, 4, 2, 1, 3, 1, 2, 3, 4, 2, 2, 3, 1, 2, 3, 4, 1, 1, 1, 2, 3, 4, 2, 1, 3, 2, 1, 2, 3, 4, 1, 4, 1, 3, 2, 4, 1, 3, 4, 3, 3, 1, 3, 3, 4, 1, 2, 1, 2, 4, 1, 1, 2, 3, 4, 3, 1, 3, 1, 2, 3, 4, 1, 3, 1, 2, 3, 1, 2, 3, 4, 4, 2, 3, 1, 2, 3, 4, 1, 4, 1, 2, 3, 4, 1, 4, 2, 3, 4, 2, 3, 4, 1, 2, 3, 4, 1, 2, 3, 4, 3, 1, 2, 3, 4, 4, 1, 2, 3, 4, 1, 2, 3, 4, 2, 1, 2, 3, 4, 2, 3, 1, 2, 4, 3, 4, 1, 2, 3, 4, 1, 2, 3, 4, 1, 1, 1, 2, 3, 4, 4, 1, 2, 3, 4, 1, 2, 3, 4, 4, 4, 1, 3, 1, 2, 3, 4, 1, 2, 3, 4, 2, 1, 2, 3, 4, 1, 2, 3, 4], \"Freq\": [0.2576477099712006, 0.23516837957102874, 0.3907945131106801, 0.11585501052396269, 0.03605739177446118, 0.9374921861359906, 0.01191579996844811, 0.5242951986117168, 0.4647161987694763, 0.9483782637779798, 0.03542062916090705, 0.9209363581835831, 0.03542062916090705, 0.07859991033462732, 0.45849947695199267, 0.3405996114500517, 0.13099985055771218, 0.9825023897119604, 0.8868605734074274, 0.8606757510717333, 0.11105493562215914, 0.0688038337768031, 0.8944498390984403, 0.04630078671409547, 0.9260157342819094, 0.028057645763518674, 0.953959955959635, 0.9613000563905605, 0.6362165856728172, 0.35553279787598613, 0.042754959314280874, 0.9406091049141793, 0.9686594612095125, 0.06067778690748726, 0.9405056970660526, 0.03308857263018883, 0.1323542905207553, 0.8272143157547207, 0.07658790196150601, 0.67750836350563, 0.11193616440527801, 0.129610295627164, 0.8747640580445398, 0.01590480105535527, 0.01590480105535527, 0.09542880633213162, 0.26332183088272465, 0.7241350349274928, 0.9839443920922659, 0.708251252658222, 0.18433936713022217, 0.06791450367955554, 0.03880828781688888, 0.9790362690859856, 0.04114059021340326, 0.04114059021340326, 0.9050929846948718, 0.019727066700814526, 0.019727066700814526, 0.9468992016390972, 0.9389979325840168, 0.03237923905462127, 0.901658811807351, 0.0346791850695135, 0.0346791850695135, 0.13494562742543087, 0.7556955135824128, 0.10795650194034469, 0.005155376298299209, 0.9949876255717474, 0.04590978354863032, 0.04590978354863032, 0.9181956709726063, 0.9646229388045656, 0.9760683250119726, 0.9333794415376242, 0.9304514921512703, 0.031015049738375676, 0.9171891420068805, 0.035276505461803095, 0.1114493445822136, 0.8544449751303043, 0.9617993504410763, 0.03771762158592456, 0.04279057138548837, 0.9413925704807441, 0.3221779621359886, 0.4408751060808265, 0.008478367424631279, 0.22891592046504453, 0.031433256374785085, 0.9744309476183377, 0.949342808831459, 0.9339148112913527, 0.2216929824311806, 0.43374713953926636, 0.3469977116314131, 0.9225065310903235, 0.9368626710753489, 0.03345938110983389, 0.2940790581648015, 0.17971497998960093, 0.5064694890616026, 0.016337725453600085, 0.9613650571422262, 0.03004265803569457, 0.9185566550266544, 0.5723568888976271, 0.29119911891282785, 0.020082697856057093, 0.11045483820831402, 0.9544776712559856, 0.04908385421486253, 0.932593230082388, 0.04908385421486253, 0.07114312084937943, 0.8300030765760934, 0.09485749446583924, 0.9565304841536826, 0.9840804911104174, 0.9483953423390777, 0.036476743936118376, 0.9565304841536826, 0.9913104586667988, 0.7032039655592675, 0.1782770616910819, 0.03961712482024042, 0.07923424964048084, 0.24706617590449423, 0.01830119821514772, 0.7320479286059088, 0.08329749267791697, 0.8746236731181283, 0.04164874633895849, 0.13885803356243484, 0.05554321342497393, 0.027771606712486966, 0.7776049879496351, 0.7314646061166764, 0.0713624005967489, 0.03568120029837445, 0.16056540134268504, 0.9832854014371003, 0.04093571761459139, 0.04093571761459139, 0.941521505135602, 0.9650634343343567, 0.03494480524199311, 0.9609821441548105, 0.09278185690185356, 0.8659639977506333, 0.030927285633951185, 0.9885615434504992, 0.9646630566167061, 0.2542779857971497, 0.32579366930259807, 0.23043942462866693, 0.19070848934786228, 0.04114433785879915, 0.04114433785879915, 0.9463197707523805, 0.06424735523030624, 0.9155248120318639, 0.9428861987169309, 0.027731947021086202, 0.07311784109543948, 0.03655892054771974, 0.9139730136929936, 0.985073961724372, 0.9918013796605349, 0.9517807952601691, 0.22623555340037443, 0.7465773262212356, 0.022623555340037443, 0.04427786736997483, 0.04427786736997483, 0.8855573473994965, 0.9240815184148814, 0.06845048284554676, 0.0272278520551201, 0.0816835561653603, 0.8440634137087231, 0.0544557041102402, 0.3543036020493766, 0.2873795883289388, 0.023620240136625108, 0.334620068602189, 0.9304662417883882, 0.03446171265882919, 0.03446171265882919, 0.9693968513156774, 0.9076192246902586, 0.060507948312683905, 0.1119137022958047, 0.8455701951238577, 0.024869711621289932, 0.024869711621289932, 0.9884081357865322, 0.48961635417282084, 0.20510955377510062, 0.2778903631791686, 0.03308218609275817, 0.047772957380519114, 0.9076861902298632, 0.1068796736370432, 0.4987718103062016, 0.2404792656833472, 0.1603195104555648, 0.038633955515188334, 0.09014589620210611, 0.8724834953846698, 0.951497035665078, 0.035240630950558446, 0.9654915824930435, 0.022297461708173608, 0.5351390809961666, 0.11148730854086805, 0.32702943838654625, 0.9872835656728733, 0.9472241047393862, 0.962566344246034, 0.9757795276260828, 0.045612413759994724, 0.045612413759994724, 0.9122482751998945, 0.3818582943947623, 0.09546457359869058, 0.4773228679934529, 0.04773228679934529, 0.04931844784719038, 0.9370505090966172, 0.2669567603006854, 0.5483436157527591, 0.05050533302985939, 0.13708590393818978, 0.9963858340910394, 0.9600774180827392, 0.8890850422209474, 0.06585815127562573, 0.9009195637461835, 0.019168501356301777, 0.07667400542520711, 0.21395531371271512, 0.02674441421408939, 0.748843597994503, 0.9913938267631541, 0.04619165844379051, 0.9469289980977054, 0.8652454128926512, 0.03327866972664043, 0.016639334863320216, 0.08319667431660108, 0.08233176745730526, 0.8782055195445895, 0.02744392248576842, 0.06728239806156136, 0.9419535728618591, 0.11721909351814182, 0.8075093109027548, 0.0651217186211899, 0.036354968068256936, 0.7876909748122336, 0.06059161344709489, 0.1090649042047708, 0.9133689922679965, 0.03382848119511098, 0.03382848119511098, 0.16081388300760938, 0.026802313834601563, 0.8040694150380469, 0.13415432126224622, 0.23477006220893087, 0.5701558653645464, 0.06707716063112311, 0.8718955263687928, 0.09177847645987293, 0.3886991393207839, 0.5914986902707582, 0.0268395846909673, 0.08051875407290189, 0.08051875407290189, 0.805187540729019, 0.9605310043065469, 0.11569369483711825, 0.01928228247285304, 0.8291381463326808, 0.03856456494570608, 0.1204834530796311, 0.7951907903255653, 0.03614503592388933, 0.04819338123185244, 0.03262065445775176, 0.5654246772676971, 0.4023214049789383, 0.018860646338987933, 0.11316387803392759, 0.7449955303900233, 0.11316387803392759, 0.9646229388045656, 0.08019848151165995, 0.08019848151165995, 0.7485191607754929, 0.10693130868221326, 0.856752628607781, 0.05192440173380491, 0.05192440173380491, 0.05192440173380491, 0.9805739032946864, 0.2798848401057995, 0.06663924764423798, 0.626408927855837, 0.02665569905769519, 0.026509245741105518, 0.9278236009386931, 0.026509245741105518, 0.6665196204933921, 0.26211445749740137, 0.029955937999703013, 0.04493390699955452, 0.8010855425338966, 0.171661187685835, 0.746724104725212, 0.10927669825247005, 0.1274894812945484, 0.01821278304207834, 0.07650914678934602, 0.9181097614721522, 0.03823797744258035, 0.03823797744258035, 0.9177114586219284, 0.9611457308326529, 0.9636074648581853, 0.9610821819917245, 0.09183817587564816, 0.8954222147875694, 0.011431943248884933, 0.022863886497769867, 0.022863886497769867, 0.9259874031596796, 0.9472241047393862, 0.06867322790330507, 0.892751962742966, 0.2713121209103323, 0.1485756852604201, 0.5103251798075299, 0.06782803022758307, 0.9704480411705619, 0.93332310146951, 0.27345683942522486, 0.013672841971261243, 0.013672841971261243, 0.6973149405343234, 0.9947065971673307, 0.9545292758491596, 0.0265147021069211, 0.972950096083636, 0.04213501565797948, 0.482211845863543, 0.4728485090506586, 0.004681668406442165, 0.991463260773577, 0.9843486193066922, 0.9014227522533591, 0.045071137612667955, 0.9611837170102143, 0.9865979211773985, 0.041601625185739906, 0.35361381407878917, 0.6032235651932286, 0.8807971442004783, 0.949342808831459, 0.9527937196355308, 0.03528865628279744, 0.9344022321462498, 0.046720111607312494, 0.7743111824937036, 0.22123176642677245, 0.04590978354863032, 0.04590978354863032, 0.9181956709726063, 0.8817745818317615, 0.04301501969320294, 0.9463304332504646, 0.005376877461650368, 0.005376877461650368, 0.9494997334184443, 0.8878177754248892, 0.08878177754248892, 0.09450459429379994, 0.018900918858759986, 0.05670275657627996, 0.8127395109266795, 0.8912866756318593, 0.0835581258404868, 0.033798031516594045, 0.9463448824646332, 0.033798031516594045, 0.7942955689894539, 0.08361005989362673, 0.01393500998227112, 0.11148007985816896, 0.9703808223385104, 0.8939907277581728, 0.08651523171853284, 0.384311649074611, 0.08235249623027378, 0.23790721133190204, 0.2928088754854179, 0.927624438383854, 0.973047833695123, 0.5373121034332121, 0.2599897274676833, 0.08955201723886869, 0.11266221523599608, 0.03433881218096229, 0.961486741066944, 0.03713015074993718, 0.07426030149987436, 0.8911236179984924, 0.9710290066789221, 0.034679607381390073, 0.9775996852233161, 0.3027744493951052, 0.6297708547418189, 0.02422195595160842, 0.03633293392741263, 0.5315133687573788, 0.31890802125442724, 0.07972700531360681, 0.07972700531360681, 0.9567512850922637, 0.8824559616494223, 0.06253624925074647, 0.010422708208457743, 0.04516506890331689, 0.9818707404252417, 0.39296767839072677, 0.27653281071940033, 0.27362193902761717, 0.058217433835663225, 0.06538777988073172, 0.7410615053149595, 0.08718370650764229, 0.13077555976146343, 0.9824567604906235, 0.4996950828554071, 0.45210507496441593, 0.03569250591824336, 0.023795003945495576, 0.9511755787594717, 0.03804702315037887, 0.06874894745911292, 0.9281107906980245, 0.9626489552244124, 0.9024540686748349, 0.08204127897043953, 0.012747600898358606, 0.15297121078030326, 0.07648560539015163, 0.7648560539015163, 0.6273699292367464, 0.13823405220470683, 0.07443372041791906, 0.15950082946696942, 0.9215717695204119, 0.9646229388045656, 0.07632818676890583, 0.050885457845937225, 0.7760032321505427, 0.10177091569187445, 0.9833340164290608, 0.1714865723543169, 0.09799232705960965, 0.5389577988278531, 0.1959846541192193, 0.1286249519988954, 0.07349997257079736, 0.6523122565658267, 0.1561874417129444, 0.9609764651175811, 0.9568768841559452, 0.08396769167576272, 0.8816607625955086, 0.5435660995340379, 0.12641072082186927, 0.12219703012780696, 0.20647084400905313, 0.29694444510711493, 0.02474537042559291, 0.5567708345758405, 0.1113541669151681, 0.9103861848864563, 0.13087348842350552, 0.040897965132345476, 0.15541226750291282, 0.6707266281704658, 0.10266137883967474, 0.13688183845289967, 0.13688183845289967, 0.6159682730380485], \"Term\": [\"academia\", \"academia\", \"academia\", \"academia\", \"advice\", \"advice\", \"airdrop\", \"airdrop\", \"airdrop\", \"amazon\", \"appreciation\", \"appreciation\", \"appreciation\", \"article\", \"article\", \"article\", \"article\", \"audience\", \"award\", \"awareness\", \"awareness\", \"baby\", \"baby\", \"behavior\", \"behavior\", \"bin\", \"bin\", \"bot\", \"brain\", \"brain\", \"brief\", \"brief\", \"bureaucracy\", \"business\", \"business\", \"cant\", \"cant\", \"cant\", \"career\", \"career\", \"career\", \"career\", \"case\", \"case\", \"case\", \"case\", \"casualisation\", \"casualisation\", \"cause\", \"change\", \"change\", \"change\", \"change\", \"channel\", \"chat\", \"chat\", \"chat\", \"chef\", \"chef\", \"chef\", \"choice\", \"choice\", \"citizenship\", \"citizenship\", \"citizenship\", \"class\", \"class\", \"class\", \"click\", \"click\", \"clickableoutlook\", \"clickableoutlook\", \"clickableoutlook\", \"clothing\", \"collection\", \"college\", \"color\", \"color\", \"combination\", \"combination\", \"comment\", \"comment\", \"connection\", \"connection\", \"consciousness\", \"consciousness\", \"contract\", \"contract\", \"contract\", \"contract\", \"couple\", \"couple\", \"crust\", \"data\", \"day\", \"day\", \"day\", \"deadline\", \"death\", \"death\", \"debate\", \"debate\", \"debate\", \"debate\", \"depression\", \"depression\", \"discrimination\", \"discussion\", \"discussion\", \"discussion\", \"discussion\", \"disease\", \"display\", \"display\", \"display\", \"distribution\", \"distribution\", \"distribution\", \"dog\", \"drain\", \"drive\", \"drive\", \"elk\", \"empathy\", \"employment\", \"employment\", \"employment\", \"employment\", \"end\", \"end\", \"end\", \"event\", \"event\", \"event\", \"extension\", \"extension\", \"extension\", \"extension\", \"fact\", \"fact\", \"fact\", \"fact\", \"feature\", \"feel\", \"feel\", \"feel\", \"fellow\", \"form\", \"form\", \"freedom\", \"freedom\", \"freedom\", \"freelancer\", \"fun\", \"future\", \"future\", \"future\", \"future\", \"gig\", \"gig\", \"gig\", \"goal\", \"goal\", \"good\", \"good\", \"grade\", \"grade\", \"grade\", \"guide\", \"hand\", \"hip\", \"history\", \"history\", \"history\", \"host\", \"host\", \"host\", \"humanity\", \"humanity\", \"industry\", \"industry\", \"industry\", \"industry\", \"job\", \"job\", \"job\", \"job\", \"joy\", \"joy\", \"joy\", \"king\", \"labor\", \"labor\", \"lack\", \"lack\", \"lack\", \"lack\", \"laptop\", \"law\", \"law\", \"law\", \"law\", \"legend\", \"legend\", \"life\", \"life\", \"life\", \"life\", \"link\", \"link\", \"link\", \"living\", \"living\", \"lol\", \"lot\", \"lot\", \"lot\", \"lot\", \"mark\", \"microphone\", \"mile\", \"mind\", \"mine\", \"mine\", \"mine\", \"money\", \"money\", \"money\", \"money\", \"moonlight\", \"moonlight\", \"movement\", \"movement\", \"movement\", \"movement\", \"music\", \"nicht\", \"night\", \"night\", \"number\", \"number\", \"number\", \"office\", \"office\", \"office\", \"overhaul\", \"page\", \"page\", \"part\", \"part\", \"part\", \"part\", \"party\", \"party\", \"party\", \"past\", \"past\", \"perspective\", \"perspective\", \"perspective\", \"phd\", \"phd\", \"phd\", \"phd\", \"picture\", \"picture\", \"picture\", \"piece\", \"piece\", \"piece\", \"place\", \"place\", \"place\", \"place\", \"play\", \"play\", \"pm\", \"pm\", \"policy\", \"policy\", \"policy\", \"policy\", \"politician\", \"politics\", \"politics\", \"politics\", \"politics\", \"position\", \"position\", \"position\", \"position\", \"post\", \"post\", \"post\", \"postdoc\", \"postdoc\", \"postdoc\", \"postdoc\", \"powder\", \"power\", \"power\", \"power\", \"power\", \"pressure\", \"pressure\", \"pressure\", \"pressure\", \"price\", \"problem\", \"problem\", \"problem\", \"problem\", \"prof\", \"prof\", \"prof\", \"professor\", \"professor\", \"professor\", \"professor\", \"program\", \"program\", \"project\", \"project\", \"project\", \"project\", \"psychology\", \"psychology\", \"public\", \"public\", \"public\", \"publication\", \"queen\", \"quote\", \"rate\", \"rate\", \"reason\", \"reason\", \"reason\", \"reason\", \"recording\", \"report\", \"report\", \"research\", \"research\", \"research\", \"research\", \"respect\", \"responsibility\", \"reward\", \"reward\", \"reward\", \"reward\", \"right\", \"risk\", \"risk\", \"road\", \"science\", \"science\", \"science\", \"science\", \"sea\", \"second\", \"sector\", \"sector\", \"selection\", \"seminar\", \"service\", \"service\", \"service\", \"session\", \"shadow\", \"shape\", \"shape\", \"shock\", \"shock\", \"side\", \"side\", \"signature\", \"signature\", \"signature\", \"silence\", \"situation\", \"situation\", \"situation\", \"situation\", \"snapdragon\", \"society\", \"society\", \"solidarity\", \"solidarity\", \"solidarity\", \"solidarity\", \"solution\", \"solution\", \"stability\", \"stability\", \"stability\", \"staff\", \"staff\", \"staff\", \"staff\", \"stop\", \"stress\", \"stress\", \"student\", \"student\", \"student\", \"student\", \"study\", \"stuff\", \"system\", \"system\", \"system\", \"system\", \"tag\", \"tag\", \"take\", \"take\", \"take\", \"technology\", \"technology\", \"telegram\", \"tenure\", \"tenure\", \"tenure\", \"tenure\", \"term\", \"term\", \"term\", \"term\", \"th\", \"thread\", \"thread\", \"thread\", \"thread\", \"til\", \"time\", \"time\", \"time\", \"time\", \"topic\", \"topic\", \"topic\", \"topic\", \"total\", \"track\", \"track\", \"track\", \"track\", \"traffic\", \"traffic\", \"translation\", \"translation\", \"trump\", \"tweeting\", \"tweeting\", \"uk\", \"uk\", \"uk\", \"uk\", \"university\", \"university\", \"university\", \"university\", \"vacation\", \"veil\", \"video\", \"video\", \"video\", \"video\", \"watch\", \"way\", \"way\", \"way\", \"way\", \"week\", \"week\", \"week\", \"week\", \"window\", \"wissenschaftsfeindlich\", \"woman\", \"woman\", \"work\", \"work\", \"work\", \"work\", \"world\", \"world\", \"world\", \"world\", \"x\", \"year\", \"year\", \"year\", \"year\", \"youre\", \"youre\", \"youre\", \"youre\"]}, \"R\": 30, \"lambda.step\": 0.01, \"plot.opts\": {\"xlab\": \"PC1\", \"ylab\": \"PC2\"}, \"topic.order\": [3, 4, 1, 2]};\n",
       "\n",
       "function LDAvis_load_lib(url, callback){\n",
       "  var s = document.createElement('script');\n",
       "  s.src = url;\n",
       "  s.async = true;\n",
       "  s.onreadystatechange = s.onload = callback;\n",
       "  s.onerror = function(){console.warn(\"failed to load library \" + url);};\n",
       "  document.getElementsByTagName(\"head\")[0].appendChild(s);\n",
       "}\n",
       "\n",
       "if(typeof(LDAvis) !== \"undefined\"){\n",
       "   // already loaded: just create the visualization\n",
       "   !function(LDAvis){\n",
       "       new LDAvis(\"#\" + \"ldavis_el275228228311150563754420238\", ldavis_el275228228311150563754420238_data);\n",
       "   }(LDAvis);\n",
       "}else if(typeof define === \"function\" && define.amd){\n",
       "   // require.js is available: use it to load d3/LDAvis\n",
       "   require.config({paths: {d3: \"https://d3js.org/d3.v5\"}});\n",
       "   require([\"d3\"], function(d3){\n",
       "      window.d3 = d3;\n",
       "      LDAvis_load_lib(\"https://cdn.jsdelivr.net/gh/bmabey/pyLDAvis@3.4.0/pyLDAvis/js/ldavis.v3.0.0.js\", function(){\n",
       "        new LDAvis(\"#\" + \"ldavis_el275228228311150563754420238\", ldavis_el275228228311150563754420238_data);\n",
       "      });\n",
       "    });\n",
       "}else{\n",
       "    // require.js not available: dynamically load d3 & LDAvis\n",
       "    LDAvis_load_lib(\"https://d3js.org/d3.v5.js\", function(){\n",
       "         LDAvis_load_lib(\"https://cdn.jsdelivr.net/gh/bmabey/pyLDAvis@3.4.0/pyLDAvis/js/ldavis.v3.0.0.js\", function(){\n",
       "                 new LDAvis(\"#\" + \"ldavis_el275228228311150563754420238\", ldavis_el275228228311150563754420238_data);\n",
       "            })\n",
       "         });\n",
       "}\n",
       "</script>"
      ],
      "text/plain": [
       "PreparedData(topic_coordinates=              x         y  topics  cluster       Freq\n",
       "topic                                                \n",
       "2      0.049502 -0.104258       1        1  28.332614\n",
       "3      0.015975 -0.104991       2        1  27.016628\n",
       "0     -0.189639  0.061002       3        1  23.322381\n",
       "1      0.124162  0.148246       4        1  21.328377, topic_info=           Term        Freq       Total Category  logprob  loglift\n",
       "347        link  310.000000  310.000000  Default  30.0000  30.0000\n",
       "955       click  193.000000  193.000000  Default  29.0000  29.0000\n",
       "953       music  174.000000  174.000000  Default  28.0000  28.0000\n",
       "1        thread  287.000000  287.000000  Default  27.0000  27.0000\n",
       "14    situation  185.000000  185.000000  Default  26.0000  26.0000\n",
       "..          ...         ...         ...      ...      ...      ...\n",
       "256         day   35.806669  103.747082   Topic4  -5.0065   0.4813\n",
       "31       system   38.594689  346.167523   Topic4  -4.9315  -0.6487\n",
       "878     service   29.191222   48.075045   Topic4  -5.2108   1.0462\n",
       "103     student   31.916148  109.286305   Topic4  -5.1215   0.3143\n",
       "144  university   29.692520  188.086796   Topic4  -5.1938  -0.3009\n",
       "\n",
       "[267 rows x 6 columns], token_table=      Topic      Freq      Term\n",
       "term                           \n",
       "20        1  0.257648  academia\n",
       "20        2  0.235168  academia\n",
       "20        3  0.390795  academia\n",
       "20        4  0.115855  academia\n",
       "390       2  0.036057    advice\n",
       "...     ...       ...       ...\n",
       "35        4  0.670727      year\n",
       "318       1  0.102661     youre\n",
       "318       2  0.136882     youre\n",
       "318       3  0.136882     youre\n",
       "318       4  0.615968     youre\n",
       "\n",
       "[500 rows x 3 columns], R=30, lambda_step=0.01, plot_opts={'xlab': 'PC1', 'ylab': 'PC2'}, topic_order=[3, 4, 1, 2])"
      ]
     },
     "execution_count": 19,
     "metadata": {},
     "output_type": "execute_result"
    }
   ],
   "source": [
    "vis = pyLDAvis.gensim_models.prepare(en_lda_model,\n",
    "                                     en_corpus,\n",
    "                                     dictionary=en_lda_model.id2word)\n",
    "vis"
   ]
  },
  {
   "cell_type": "code",
   "execution_count": 20,
   "metadata": {},
   "outputs": [
    {
     "name": "stderr",
     "output_type": "stream",
     "text": [
      "c:\\Softwares\\anaconda3\\envs\\dbse-project\\lib\\site-packages\\pyLDAvis\\_prepare.py:243: FutureWarning: In a future version of pandas all arguments of DataFrame.drop except for the argument 'labels' will be keyword-only.\n",
      "  default_term_info = default_term_info.sort_values(\n"
     ]
    },
    {
     "data": {
      "text/html": [
       "\n",
       "<link rel=\"stylesheet\" type=\"text/css\" href=\"https://cdn.jsdelivr.net/gh/bmabey/pyLDAvis@3.4.0/pyLDAvis/js/ldavis.v1.0.0.css\">\n",
       "\n",
       "\n",
       "<div id=\"ldavis_el275228228311136002880473433\" style=\"background-color:white;\"></div>\n",
       "<script type=\"text/javascript\">\n",
       "\n",
       "var ldavis_el275228228311136002880473433_data = {\"mdsDat\": {\"x\": [0.16383382521050532, 0.163097695396021, -0.06118352394640083, -0.030989053065922346, -0.23475894359420302], \"y\": [0.0780276251166213, -0.039544977638471264, -0.2559814224040473, 0.1426318063683012, 0.07486696855759614], \"topics\": [1, 2, 3, 4, 5], \"cluster\": [1, 1, 1, 1, 1], \"Freq\": [27.159244343425204, 21.33412035736394, 19.497433638907527, 16.79981922543206, 15.20938243487127]}, \"tinfo\": {\"Term\": [\"Not\", \"Here\", \"These\", \"See\", \"Situation\", \"Talk\", \"Student\", \"There\", \"Position\", \"Professional\", \"Students\", \"Professor\", \"Institutions\", \"Chef\", \"Seminar\", \"Positions\", \"Page\", \"Distribution\", \"Sure\", \"Event\", \"Promis\", \"Kanzler\", \"Pfeil\", \"Form\", \"Limit\", \"Message\", \"Problems\", \"Jobs\", \"Channel\", \"Connection\", \"Channel\", \"Connection\", \"Favorite\", \"Norms\", \"Designs\", \"Jobs\", \"Studies\", \"Discount\", \"Sommer\", \"Session\", \"Rate\", \"Budget\", \"Not\", \"Professor\", \"Strategies\", \"Situations\", \"Minimum\", \"Sure\", \"Power\", \"Companies\", \"Plans\", \"Union\", \"Dissertation\", \"System\", \"Bundestag\", \"Labor\", \"Motivation\", \"Environments\", \"a\", \"Privatdozent\", \"Students\", \"Privilege\", \"Positions\", \"Visa\", \"Off\", \"Start\", \"Options\", \"Uni\", \"Look\", \"Run\", \"Letter\", \"Professional\", \"Situation\", \"Professors\", \"Most\", \"Position\", \"There\", \"Here\", \"Student\", \"Strange\", \"Original\", \"Standards\", \"Youtube\", \"Kinda\", \"Protest\", \"Dauerstelle\", \"Limit\", \"Theses\", \"Menschen\", \"Daueraufgabe\", \"Features\", \"Version\", \"Grade\", \"Series\", \"Material\", \"Talents\", \"Norm\", \"Okay\", \"Rest\", \"Tip\", \"Account\", \"Person\", \"Seminars\", \"Pensions\", \"Runs\", \"Here\", \"Ideal\", \"Wissenschaft\", \"These\", \"Situation\", \"Seen\", \"Most\", \"Sharing\", \"Look\", \"Problem\", \"Positions\", \"Not\", \"Sure\", \"Offer\", \"Distribution\", \"Hang\", \"Congratulations\", \"Audio\", \"Bio\", \"Tag\", \"Mine\", \"Partner\", \"Connections\", \"Institutions\", \"See\", \"Shows\", \"Form\", \"Video\", \"Senior\", \"Experiment\", \"Moment\", \"Vote\", \"Semester\", \"Basis\", \"Resignation\", \"Plus\", \"Almost\", \"Revers\", \"Intentions\", \"There\", \"Reports\", \"Hierarchies\", \"Spoiler\", \"Environment\", \"Position\", \"Info\", \"Part\", \"Single\", \"Listen\", \"Track\", \"Problem\", \"Last\", \"These\", \"Most\", \"Not\", \"Message\", \"Page\", \"Kanzler\", \"Pfeil\", \"Argument\", \"Quote\", \"Brief\", \"Depression\", \"Feature\", \"Problems\", \"Petition\", \"Display\", \"Dms\", \"Report\", \"Would\", \"Held\", \"Initiative\", \"Event\", \"Hand\", \"Minute\", \"Profile\", \"Starts\", \"Charge\", \"Trend\", \"Plan\", \"Heres\", \"Limits\", \"April\", \"Programme\", \"Statement\", \"Fall\", \"Professional\", \"Details\", \"Workshop\", \"Rather\", \"Track\", \"Professors\", \"Here\", \"Students\", \"Talk\", \"Not\", \"Show\", \"Part\", \"Chef\", \"Seminar\", \"Signatures\", \"Block\", \"Promis\", \"Where\", \"Laptop\", \"Giftwomens\", \"Unisex\", \"Signature\", \"Baby\", \"Juniorprofessor\", \"Meeting\", \"Name\", \"Date\", \"Minutes\", \"Register\", \"Hearing\", \"September\", \"Experiments\", \"Information\", \"b\", \"Parts\", \"Initiators\", \"College\", \"Migrants\", \"Scheme\", \"Talks\", \"Comics\", \"Talk\", \"Stress\", \"Stufe\", \"Show\", \"Expertise\", \"Training\", \"Agenda\", \"Option\", \"Kind\", \"Look\", \"Most\", \"Position\", \"Start\"], \"Freq\": [694.0, 320.0, 218.0, 133.0, 153.0, 106.0, 94.0, 121.0, 162.0, 107.0, 152.0, 125.0, 77.0, 52.0, 51.0, 149.0, 51.0, 52.0, 94.0, 56.0, 44.0, 44.0, 44.0, 55.0, 52.0, 39.0, 43.0, 59.0, 52.0, 51.0, 51.709479906917004, 51.18011342029035, 28.164633215246457, 25.992630748388052, 25.09477473091958, 57.76703552603929, 25.19306782920309, 22.398284339278284, 22.398284339278284, 10.550639109171643, 27.28705038101429, 8.701696337925792, 618.9964629049388, 111.78033066530367, 5.051857105662041, 5.016742691765359, 6.242675450676326, 81.84263136334808, 4.748126285159576, 4.734606104493324, 6.394718327610633, 5.722653361841386, 4.96783658135551, 4.070018183552571, 4.021278362968643, 16.812251427138918, 3.8309852821908055, 5.613044922419582, 3.605772155788223, 3.6055006399413085, 122.06087584187527, 18.289035932334333, 105.96419516066707, 15.126972192990308, 19.922929974635498, 36.66132582013832, 9.43448762205893, 18.518202940106043, 36.61521828571686, 8.392061955996834, 7.911569957452477, 27.57549398699538, 32.92099766194596, 13.806826161262624, 18.981882219430897, 22.022041886060702, 13.742437650240646, 12.601067902117496, 93.0393342911479, 24.44011026604568, 22.746604024939433, 22.21234959236327, 22.185762269704732, 21.371755068779056, 31.513227192473014, 21.017364216608033, 50.62345465993291, 44.29071072761218, 20.695395508034657, 20.29743707919792, 20.532577279462792, 20.133709194161383, 22.63412526004805, 7.286389396425701, 7.094408626587923, 20.973107973466238, 6.680801879527963, 6.356684514418217, 8.077045321890132, 4.74636944058731, 14.817419849525052, 16.810908864990775, 4.457242585279838, 5.687445456678344, 3.871012677867333, 261.3314266350196, 3.325635082532027, 3.094212096619841, 170.74030509253072, 118.09400743686443, 15.14473000603975, 53.62935705856295, 13.050303385009357, 42.63064078571015, 30.560448557315542, 39.097099949356206, 20.730049821827155, 11.85288797592995, 8.641467457560164, 51.24935360592171, 25.319631936949513, 25.94089704494012, 26.994541801545402, 23.47392262351026, 30.795124657162912, 27.173394785549736, 29.626544806615804, 25.837430097392943, 72.13203876645356, 123.3023412259236, 11.295690522747929, 50.98324564104824, 27.772083692719747, 18.461185657897747, 6.816547230066981, 10.55331239512632, 6.452943581857824, 11.420344185801666, 12.072758814702564, 5.505477421885792, 6.733823928343134, 4.532150787495989, 4.318626426565697, 22.560638585071928, 101.92793326033438, 4.237295741390388, 6.7117847342410935, 3.1437030863046624, 12.976031513602251, 123.161485772704, 30.943200737163696, 39.82042279228367, 26.21008614457191, 12.727848300684041, 39.9144224522884, 35.68973580086742, 9.822038407887511, 38.64747173835993, 23.051052534103917, 14.641851404414206, 38.266565958729956, 49.931439203212875, 43.42552117323024, 43.42552117323024, 29.969188787118398, 24.348237985947193, 26.035842820551167, 27.277408070140254, 26.479583705293663, 40.5658328121768, 10.495657022862666, 22.31628677133662, 8.269390091094413, 16.529122673239254, 7.2902179701925585, 6.586749585717203, 12.842633373482993, 49.43742369302932, 5.551808689412788, 5.508994385087573, 6.119279072370515, 7.854308764618939, 3.8169226659313886, 24.783658223224826, 31.996812401685634, 39.14550584433889, 5.24012166010728, 2.9936422865219234, 2.963803700063544, 6.702241737372396, 7.27548618831188, 76.80770788779033, 11.772386046307593, 13.44641451967837, 13.550730185560804, 31.103492149349165, 17.627994484616487, 39.4318019484525, 25.361082558433097, 18.557957692058025, 37.441621247477144, 12.986917285650922, 13.278069798790714, 51.077002047734105, 50.26165244700421, 26.125852392746914, 25.403352783846245, 43.03388158119177, 28.68088446211981, 24.17534795149527, 22.131128843247815, 22.131128843247815, 21.95076102311667, 21.098381830506874, 21.09834274914341, 21.140538408755905, 11.70209357995721, 27.192834679880256, 6.934991610146914, 33.12798212144311, 5.1002678454124615, 4.704460039998016, 4.49327931268573, 17.202420550353178, 4.054254847038353, 5.498363131882021, 3.877164976267553, 7.020439958124282, 3.794959160164893, 3.399696661899998, 3.195515773171476, 3.1895589184750954, 85.2108065650783, 25.213278130065316, 5.13805921855672, 25.549255726574653, 6.39561688944035, 6.95721241850638, 5.856928535179583, 5.642884182024276, 7.217248208700394, 9.76305341241852, 9.801537563794767, 9.278918367026082, 6.617649106899435], \"Total\": [694.0, 320.0, 218.0, 133.0, 153.0, 106.0, 94.0, 121.0, 162.0, 107.0, 152.0, 125.0, 77.0, 52.0, 51.0, 149.0, 51.0, 52.0, 94.0, 56.0, 44.0, 44.0, 44.0, 55.0, 52.0, 39.0, 43.0, 59.0, 52.0, 51.0, 52.47925706386015, 51.99369053578815, 28.931988189586978, 26.764234389776675, 25.873671721339566, 59.640338757969175, 26.21928907264694, 23.485351776161973, 23.485351776161973, 11.326278833184725, 29.544917447879744, 9.470617017425893, 694.0247805935498, 125.8389845475996, 5.821485249144736, 5.7895887250138784, 7.212372556237992, 94.61187893979546, 5.513814904584658, 5.512441099513378, 7.486146890601397, 6.7676169919402795, 5.900035919284351, 4.844598688334393, 4.808148393740096, 20.124312417730618, 4.601227225200823, 6.776393971116369, 4.373300952325973, 4.373267548671904, 152.38299873346952, 23.329994887806752, 149.50069952736868, 19.785964809541237, 26.87203543578356, 52.9158216173154, 12.558336123692726, 28.777137720237878, 94.00192159584039, 12.557802189350287, 11.522918501074361, 107.74680292390632, 153.82141567200776, 34.889703330932065, 107.3689013400587, 162.960500291843, 121.73976096484728, 320.8426132708891, 94.73560833104654, 25.255217339080588, 23.55872567965094, 23.020740517564644, 22.993613579048425, 22.257723202536535, 32.821803889594634, 21.89734410397508, 52.91816010241135, 46.39610062935243, 21.68067334246561, 21.34247695871856, 21.704394278352975, 21.683876860078858, 24.55916561889067, 8.094979534309283, 7.909912557505845, 23.473502112118336, 7.498198851644554, 7.164284079217913, 9.351699258810042, 5.557320222010983, 17.399575566160497, 19.826444304336253, 5.263815699804121, 6.794289456047438, 4.679372678720449, 320.8426132708891, 4.134306002058777, 3.9096774398441605, 218.5489278201839, 153.82141567200776, 20.510823687725825, 107.3689013400587, 19.283945354987036, 94.00192159584039, 79.34236461057264, 149.50069952736868, 694.0247805935498, 94.61187893979546, 19.819018650422425, 52.29254008556131, 26.08949777433763, 26.750239721498296, 27.861861785276012, 24.40661313546988, 32.176620808620676, 28.485065806509184, 31.521233860124003, 27.63681622206769, 77.46737906427622, 133.27827378598064, 12.310226482459704, 55.854681463441636, 30.70596412790303, 20.47480124824833, 7.595846115532545, 11.77924678385258, 7.221264190027523, 12.842531267820824, 13.660685763569383, 6.2704097995398875, 7.826603606946891, 5.301588410557639, 5.095589343900678, 26.697333517853078, 121.73976096484728, 5.266880901590165, 8.346539028138963, 3.9202391595572013, 16.201788061743134, 162.960500291843, 39.82133693228611, 55.35294522110093, 37.91598340978655, 18.03643989288727, 78.18128943062442, 79.34236461057264, 13.55928492347143, 218.5489278201839, 107.3689013400587, 694.0247805935498, 39.23098711518474, 51.191615464292546, 44.53590590478267, 44.53590590478267, 30.767814856193738, 25.16330505856349, 27.402937461655196, 28.748251273019484, 28.007291369968897, 43.33684684131581, 11.28786345040861, 24.086752229186274, 9.048425250717582, 18.13789120597317, 8.071891935968612, 7.371182199257494, 14.387451339250608, 56.06971532642592, 6.334408769266173, 6.488609321947714, 7.218637362861924, 9.304241197218179, 4.597209060694746, 30.06632975269998, 39.09767813894342, 48.37603980520876, 6.57401122456105, 3.7736070054223, 3.7438085151945044, 8.470324301028251, 9.37218271706787, 107.74680292390632, 15.563795279521184, 18.509712983169358, 23.11334438211252, 78.18128943062442, 34.889703330932065, 320.8426132708891, 152.38299873346952, 106.13826719635186, 694.0247805935498, 43.019708997971804, 55.35294522110093, 52.32573031923804, 51.53134664927572, 26.90539882952677, 26.220196123165078, 44.52169694765203, 29.777163673457327, 25.101372509908682, 23.053594116129695, 23.053594116129695, 22.93587249114317, 22.438376765014457, 22.43833899488994, 22.50937922943631, 12.722866700184122, 30.169652685069416, 7.7147010051774965, 37.096120378263485, 5.886868825991746, 5.486932475959276, 5.273885102507404, 20.469089819636377, 4.8414279177496145, 6.579800087113437, 4.6571285659019885, 8.47767776083492, 4.594392681446509, 4.181274926753358, 3.9793640796106517, 3.972831272257653, 106.13826719635186, 32.75535076456927, 6.798832923991101, 43.019708997971804, 8.824199798123203, 9.80449876087966, 8.211575698127884, 7.811661592644615, 20.50117219628931, 94.00192159584039, 107.3689013400587, 162.960500291843, 52.9158216173154], \"Category\": [\"Default\", \"Default\", \"Default\", \"Default\", \"Default\", \"Default\", \"Default\", \"Default\", \"Default\", \"Default\", \"Default\", \"Default\", \"Default\", \"Default\", \"Default\", \"Default\", \"Default\", \"Default\", \"Default\", \"Default\", \"Default\", \"Default\", \"Default\", \"Default\", \"Default\", \"Default\", \"Default\", \"Default\", \"Default\", \"Default\", \"Topic1\", \"Topic1\", \"Topic1\", \"Topic1\", \"Topic1\", \"Topic1\", \"Topic1\", \"Topic1\", \"Topic1\", \"Topic1\", \"Topic1\", \"Topic1\", \"Topic1\", \"Topic1\", \"Topic1\", \"Topic1\", \"Topic1\", \"Topic1\", \"Topic1\", \"Topic1\", \"Topic1\", \"Topic1\", \"Topic1\", \"Topic1\", \"Topic1\", \"Topic1\", \"Topic1\", \"Topic1\", \"Topic1\", \"Topic1\", \"Topic1\", \"Topic1\", \"Topic1\", \"Topic1\", \"Topic1\", \"Topic1\", \"Topic1\", \"Topic1\", \"Topic1\", \"Topic1\", \"Topic1\", \"Topic1\", \"Topic1\", \"Topic1\", \"Topic1\", \"Topic1\", \"Topic1\", \"Topic1\", \"Topic2\", \"Topic2\", \"Topic2\", \"Topic2\", \"Topic2\", \"Topic2\", \"Topic2\", \"Topic2\", \"Topic2\", \"Topic2\", \"Topic2\", \"Topic2\", \"Topic2\", \"Topic2\", \"Topic2\", \"Topic2\", \"Topic2\", \"Topic2\", \"Topic2\", \"Topic2\", \"Topic2\", \"Topic2\", \"Topic2\", \"Topic2\", \"Topic2\", \"Topic2\", \"Topic2\", \"Topic2\", \"Topic2\", \"Topic2\", \"Topic2\", \"Topic2\", \"Topic2\", \"Topic2\", \"Topic2\", \"Topic2\", \"Topic2\", \"Topic2\", \"Topic2\", \"Topic2\", \"Topic2\", \"Topic3\", \"Topic3\", \"Topic3\", \"Topic3\", \"Topic3\", \"Topic3\", \"Topic3\", \"Topic3\", \"Topic3\", \"Topic3\", \"Topic3\", \"Topic3\", \"Topic3\", \"Topic3\", \"Topic3\", \"Topic3\", \"Topic3\", \"Topic3\", \"Topic3\", \"Topic3\", \"Topic3\", \"Topic3\", \"Topic3\", \"Topic3\", \"Topic3\", \"Topic3\", \"Topic3\", \"Topic3\", \"Topic3\", \"Topic3\", \"Topic3\", \"Topic3\", \"Topic3\", \"Topic3\", \"Topic3\", \"Topic3\", \"Topic3\", \"Topic3\", \"Topic3\", \"Topic3\", \"Topic3\", \"Topic4\", \"Topic4\", \"Topic4\", \"Topic4\", \"Topic4\", \"Topic4\", \"Topic4\", \"Topic4\", \"Topic4\", \"Topic4\", \"Topic4\", \"Topic4\", \"Topic4\", \"Topic4\", \"Topic4\", \"Topic4\", \"Topic4\", \"Topic4\", \"Topic4\", \"Topic4\", \"Topic4\", \"Topic4\", \"Topic4\", \"Topic4\", \"Topic4\", \"Topic4\", \"Topic4\", \"Topic4\", \"Topic4\", \"Topic4\", \"Topic4\", \"Topic4\", \"Topic4\", \"Topic4\", \"Topic4\", \"Topic4\", \"Topic4\", \"Topic4\", \"Topic4\", \"Topic4\", \"Topic4\", \"Topic4\", \"Topic4\", \"Topic5\", \"Topic5\", \"Topic5\", \"Topic5\", \"Topic5\", \"Topic5\", \"Topic5\", \"Topic5\", \"Topic5\", \"Topic5\", \"Topic5\", \"Topic5\", \"Topic5\", \"Topic5\", \"Topic5\", \"Topic5\", \"Topic5\", \"Topic5\", \"Topic5\", \"Topic5\", \"Topic5\", \"Topic5\", \"Topic5\", \"Topic5\", \"Topic5\", \"Topic5\", \"Topic5\", \"Topic5\", \"Topic5\", \"Topic5\", \"Topic5\", \"Topic5\", \"Topic5\", \"Topic5\", \"Topic5\", \"Topic5\", \"Topic5\", \"Topic5\", \"Topic5\", \"Topic5\", \"Topic5\", \"Topic5\"], \"logprob\": [30.0, 29.0, 28.0, 27.0, 26.0, 25.0, 24.0, 23.0, 22.0, 21.0, 20.0, 19.0, 18.0, 17.0, 16.0, 15.0, 14.0, 13.0, 12.0, 11.0, 10.0, 9.0, 8.0, 7.0, 6.0, 5.0, 4.0, 3.0, 2.0, 1.0, -3.813, -3.8233, -4.4206, -4.5008, -4.536, -3.7022, -4.5321, -4.6496, -4.6496, -5.4024, -4.4522, -5.5951, -1.3305, -3.0421, -6.1389, -6.1458, -5.9272, -3.3538, -6.2009, -6.2037, -5.9031, -6.0142, -6.1556, -6.355, -6.367, -4.9365, -6.4155, -6.0335, -6.4761, -6.4762, -2.9541, -4.8523, -3.0955, -5.0421, -4.7667, -4.1569, -5.5142, -4.8399, -4.1582, -5.6313, -5.6903, -4.4417, -4.2645, -5.1335, -4.8151, -4.6666, -5.1381, -5.2248, -2.9842, -4.321, -4.3928, -4.4166, -4.4178, -4.4551, -4.0668, -4.4719, -3.5928, -3.7264, -4.4873, -4.5067, -4.4952, -4.5148, -4.3978, -5.5312, -5.5579, -4.474, -5.618, -5.6677, -5.4282, -5.9598, -4.8214, -4.6952, -6.0227, -5.7789, -6.1637, -1.9514, -6.3155, -6.3877, -2.3771, -2.7457, -4.7996, -3.5351, -4.9484, -3.7646, -4.0975, -3.8512, -4.4856, -5.0446, -5.3606, -3.4905, -4.1956, -4.1714, -4.1316, -4.2713, -3.9998, -4.1249, -4.0385, -4.1754, -3.1487, -2.6125, -5.0028, -3.4957, -4.1032, -4.5115, -5.5078, -5.0707, -5.5626, -4.9918, -4.9362, -5.7214, -5.52, -5.916, -5.9642, -4.311, -2.8029, -5.9833, -5.5233, -6.2818, -4.8641, -2.6137, -3.995, -3.7428, -4.161, -4.8834, -3.7404, -3.8523, -5.1426, -3.7727, -4.2895, -4.7433, -3.6337, -3.3676, -3.5072, -3.5072, -3.8781, -4.0858, -4.0188, -3.9722, -4.0019, -3.5753, -4.9273, -4.173, -5.1657, -4.4731, -5.2917, -5.3932, -4.7255, -3.3776, -5.5641, -5.5719, -5.4668, -5.2172, -5.9388, -4.0681, -3.8126, -3.611, -5.6219, -6.1818, -6.1918, -5.3758, -5.2938, -2.937, -4.8125, -4.6796, -4.6718, -3.841, -4.4088, -3.6037, -4.0451, -4.3574, -3.6555, -4.7143, -4.6922, -3.2455, -3.2616, -3.9159, -3.9439, -3.4168, -3.8226, -3.9935, -4.0818, -4.0818, -4.09, -4.1296, -4.1296, -4.1276, -4.719, -3.8759, -5.2422, -3.6784, -5.5495, -5.6303, -5.6762, -4.3338, -5.779, -5.4744, -5.8237, -5.23, -5.8451, -5.9551, -6.0171, -6.0189, -2.7337, -3.9514, -5.5421, -3.9382, -5.3232, -5.239, -5.4112, -5.4484, -5.2023, -4.9002, -4.8963, -4.9511, -5.2891], \"loglift\": [30.0, 29.0, 28.0, 27.0, 26.0, 25.0, 24.0, 23.0, 22.0, 21.0, 20.0, 19.0, 18.0, 17.0, 16.0, 15.0, 14.0, 13.0, 12.0, 11.0, 10.0, 9.0, 8.0, 7.0, 6.0, 5.0, 4.0, 3.0, 2.0, 1.0, 1.2887, 1.2877, 1.2766, 1.2742, 1.2729, 1.2715, 1.2635, 1.2561, 1.2561, 1.2325, 1.224, 1.2188, 1.189, 1.185, 1.1617, 1.1602, 1.1591, 1.1585, 1.1539, 1.1513, 1.1459, 1.1357, 1.1315, 1.1292, 1.1247, 1.1236, 1.1203, 1.1151, 1.1105, 1.1104, 1.0816, 1.06, 0.9593, 1.035, 1.0042, 0.9365, 1.0174, 0.8626, 0.3606, 0.9004, 0.9274, -0.0594, -0.2382, 0.3764, -0.4293, -0.698, -0.8779, -1.9337, 1.5268, 1.5121, 1.5098, 1.5091, 1.5091, 1.5042, 1.5042, 1.5038, 1.5005, 1.4984, 1.4984, 1.4947, 1.4894, 1.4707, 1.4632, 1.4396, 1.4361, 1.4322, 1.4294, 1.4253, 1.3983, 1.3871, 1.3842, 1.3799, 1.3785, 1.367, 1.3552, 1.3397, 1.3272, 1.3109, 1.298, 1.2806, 1.2416, 0.8507, 1.1544, 0.7541, 0.5908, 0.2036, -1.9661, -0.5323, 0.7148, 1.6147, 1.6049, 1.6042, 1.6033, 1.5959, 1.591, 1.5877, 1.5729, 1.5676, 1.5635, 1.5571, 1.5489, 1.5436, 1.5345, 1.5314, 1.5266, 1.525, 1.5224, 1.5175, 1.5113, 1.5048, 1.4845, 1.4781, 1.4694, 1.4665, 1.4573, 1.4174, 1.4169, 1.4141, 1.4129, 1.3549, 1.3826, 1.3055, 1.2657, 1.2863, 0.9626, 0.836, 1.3124, -0.0976, 0.0963, -2.2237, 1.7589, 1.7589, 1.7586, 1.7586, 1.7575, 1.7509, 1.7326, 1.7313, 1.7277, 1.7177, 1.711, 1.7075, 1.6938, 1.6909, 1.6819, 1.6713, 1.6702, 1.6579, 1.6519, 1.6201, 1.6186, 1.6144, 1.5978, 1.5906, 1.5834, 1.5721, 1.557, 1.5523, 1.5502, 1.5497, 1.5306, 1.4453, 1.5046, 1.4642, 1.2498, 0.8621, 1.1011, -0.3126, -0.0094, 0.04, -1.1359, 0.5861, 0.3562, 1.8591, 1.8583, 1.8539, 1.8516, 1.8493, 1.8457, 1.8457, 1.8424, 1.8424, 1.8394, 1.8217, 1.8217, 1.8205, 1.7996, 1.7794, 1.7767, 1.7701, 1.7398, 1.7294, 1.7231, 1.7094, 1.7058, 1.7037, 1.7, 1.6946, 1.6921, 1.6763, 1.6639, 1.6637, 1.6636, 1.6216, 1.6032, 1.3622, 1.5614, 1.5402, 1.5453, 1.558, 0.8392, -0.3815, -0.5105, -0.9825, -0.1957]}, \"token.table\": {\"Topic\": [2, 4, 5, 4, 5, 3, 4, 4, 3, 5, 1, 3, 4, 3, 5, 3, 4, 1, 1, 1, 4, 4, 5, 1, 5, 5, 1, 3, 1, 2, 3, 4, 5, 2, 2, 1, 4, 1, 1, 4, 5, 1, 2, 4, 1, 3, 4, 2, 3, 4, 1, 2, 1, 2, 4, 3, 5, 2, 5, 1, 2, 4, 1, 2, 4, 2, 1, 3, 5, 5, 2, 4, 4, 3, 5, 4, 1, 2, 3, 4, 5, 1, 2, 3, 4, 1, 3, 2, 1, 2, 3, 1, 5, 1, 4, 5, 1, 3, 4, 5, 3, 4, 1, 2, 3, 5, 4, 1, 2, 3, 4, 5, 2, 1, 2, 5, 3, 4, 1, 2, 5, 2, 5, 4, 5, 1, 2, 3, 1, 2, 3, 4, 5, 2, 3, 5, 2, 4, 5, 1, 3, 1, 4, 5, 1, 3, 1, 2, 3, 4, 5, 1, 5, 2, 1, 1, 2, 3, 4, 5, 1, 2, 3, 1, 2, 4, 5, 2, 1, 5, 1, 3, 4, 2, 4, 1, 2, 3, 4, 5, 3, 4, 1, 5, 1, 2, 2, 4, 5, 4, 4, 1, 2, 4, 5, 1, 3, 1, 3, 1, 2, 3, 4, 5, 1, 2, 3, 4, 1, 1, 1, 2, 3, 5, 1, 2, 3, 4, 5, 3, 4, 5, 1, 4, 5, 1, 2, 3, 4, 1, 2, 4, 5, 4, 4, 5, 2, 4, 1, 3, 1, 3, 4, 2, 4, 5, 1, 4, 3, 3, 2, 4, 3, 1, 3, 2, 5, 1, 2, 3, 4, 5, 2, 3, 1, 3, 1, 5, 2, 1, 2, 3, 5, 2, 1, 2, 3, 1, 2, 4, 5, 3, 5, 5, 1, 2, 3, 4, 1, 2, 4, 5, 1, 1, 3, 2, 1, 3, 4, 5, 1, 4, 1, 4, 2, 1, 1, 4, 5, 1, 2, 1, 2, 3, 4, 5, 1, 3, 5, 1, 2, 1, 1, 3, 2, 3, 2, 3, 4, 5, 5, 1, 3, 5, 1, 2, 3, 4, 5, 1, 2, 3, 2, 1, 3, 4, 5, 2, 5, 1, 2, 3, 4, 1, 2, 3, 4, 1, 5, 1, 2, 3, 5, 1, 2, 5, 3, 5, 2, 1, 2, 4, 4, 2, 1, 5], \"Freq\": [0.8620899942624288, 0.05747266628416192, 0.11494533256832384, 0.12177930725621697, 0.7306758435373019, 0.943113575177384, 0.7949953441599236, 0.9750448688090967, 0.9690666118467548, 0.9358965766517857, 0.07320276721881869, 0.8784332066258242, 0.07320276721881869, 0.9423675408110738, 0.9534635012860542, 0.03649243813365977, 0.9488033914751541, 0.9503076709194386, 0.8319210790598198, 0.9908676858119969, 0.870093125457189, 0.019111056719113593, 0.9746638926747933, 0.11795683065706845, 0.8256978145994792, 0.7551289733719753, 0.9070391700768259, 0.9719539066075975, 0.9808882476787415, 0.03618361796687388, 0.9407740671387209, 0.06629178071346427, 0.8949390396317676, 0.9370983526740954, 0.959020413630337, 0.034784724486477195, 0.9391875611348842, 0.966233175919172, 0.12850336078575877, 0.7710201647145526, 0.12850336078575877, 0.9367541184684476, 0.04151659760871726, 0.9133651473917798, 0.8474524678159042, 0.9752825148014143, 0.884131744290595, 0.06172158259255806, 0.8023805737032548, 0.12344316518511612, 0.8854266776067533, 0.14757111293445888, 0.0713397593819204, 0.0356698796909602, 0.873912052428525, 0.921556320853563, 0.758454141918687, 0.22664944649432972, 0.6799483394829892, 0.10669873072138039, 0.10669873072138039, 0.7468911150496628, 0.9677869290046782, 0.03570498791869107, 0.9283296858859676, 0.9675460061534402, 0.05371080671122579, 0.9130837140908385, 0.03580720447415053, 0.9542980538816489, 0.9365139010385851, 0.04071799569732979, 0.9472075798314933, 0.9582399866888472, 0.8493479552192439, 0.9496441426593846, 0.040518308548447186, 0.8134829639342088, 0.006233585930530336, 0.12155492564534155, 0.01558396482632584, 0.02067139030037609, 0.16537112240300872, 0.02067139030037609, 0.8061842217146675, 0.1198101388645841, 0.8386709720520887, 0.7256356927876355, 0.025112165412739466, 0.17578515788917629, 0.7784771277949235, 0.1465624522846172, 0.830520562946164, 0.06950501353022032, 0.9035651758928641, 0.8588983411982064, 0.012908659258631692, 0.9294234666214818, 0.012908659258631692, 0.03872597777589507, 0.8615092583916445, 0.14982769711159036, 0.9724961529037259, 0.01676717505006424, 0.01676717505006424, 0.9358981520326659, 0.9655130871691164, 0.24388849340551338, 0.09755539736220535, 0.2926661920866161, 0.048777698681102676, 0.34144389076771875, 0.9434927287444566, 0.8447493582450087, 0.1490734161608839, 0.9561230164018354, 0.737502018464836, 0.2212506055394508, 0.6942685569852902, 0.17356713924632255, 0.08678356962316128, 0.9637523281478575, 0.0377942089469748, 0.7605706514950242, 0.15211413029900483, 0.22177325590608452, 0.05544331397652113, 0.7207630816947747, 0.39360897492160696, 0.45743745734132696, 0.010638080403286674, 0.0425523216131467, 0.10638080403286673, 0.884965535220435, 0.04442592529127879, 0.9329444311168545, 0.9686046032005664, 0.9686220713343133, 0.8706264956744252, 0.035106115140920185, 0.9478651088048451, 0.8319037810672427, 0.9246973738586798, 0.9073585606625784, 0.0848950716756216, 0.9338457884318376, 0.17695999272473895, 0.5029389266913633, 0.2142147280352103, 0.018627367655235677, 0.09313683827617839, 0.8693332896258819, 0.9431836615741906, 0.933557530081336, 0.9714456846160114, 0.8918989887805066, 0.03025828556444368, 0.02161306111745977, 0.05331221742306743, 0.0028817414823279694, 0.7442681462591195, 0.22328044387773585, 0.03721340731295598, 0.05045658504280614, 0.45410926538525526, 0.2522829252140307, 0.2522829252140307, 0.8374877285233207, 0.12801373794041337, 0.7680824276424802, 0.7166554479315519, 0.07962838310350577, 0.15925676620701154, 0.976283705356205, 0.9767224485204276, 0.01806588603380752, 0.01806588603380752, 0.7226354413523007, 0.23485651843949776, 0.01806588603380752, 0.9517393936140157, 0.03172464645380053, 0.15198030134053825, 0.7599015067026913, 0.14718242525124145, 0.8830945515074488, 0.8574406857351583, 0.10087537479237156, 0.05043768739618578, 0.8859072440000157, 0.9655130871691164, 0.10230786559204347, 0.051153932796021734, 0.8184629247363477, 0.025576966398010867, 0.8014803994205345, 0.13358006657008908, 0.12776934290020772, 0.8943854003014541, 0.13500204012997383, 0.030682281847721322, 0.7547841334539446, 0.018409369108632796, 0.05522810732589838, 0.7090267827181295, 0.26086834458497216, 0.006688931912435184, 0.020066795737305552, 0.906813175002043, 0.9146479046805038, 0.7715389603195998, 0.0428632755733111, 0.0428632755733111, 0.1285898267199333, 0.06301803613417557, 0.39071182403188853, 0.4537298601660641, 0.07562164336101068, 0.02520721445367023, 0.023075052129695683, 0.946077137317523, 0.023075052129695683, 0.25986849948368634, 0.7146383735801374, 0.02784305351610925, 0.8900262538087719, 0.02383998894130639, 0.07946662980435464, 0.007946662980435464, 0.40126451827946785, 0.028661751305676275, 0.515911523502173, 0.05732350261135255, 0.8311818004417971, 0.8013230345046478, 0.9658212275816616, 0.974961647679116, 0.9537697827906116, 0.9138627666714846, 0.06769353827196183, 0.12979514995336236, 0.2595902999067247, 0.6057106997823577, 0.026956996845038037, 0.08087099053511411, 0.8895808958862552, 0.05513320091316239, 0.9372644155237606, 0.759462777825929, 0.9568752588451668, 0.8554595029842695, 0.10693243787303369, 0.7849926142081921, 0.6370541500314796, 0.3185270750157398, 0.854815436733665, 0.717484511914029, 0.03001239351601472, 0.00750309837900368, 0.9228811006174527, 0.02250929513701104, 0.01500619675800736, 0.7313211906246536, 0.19501898416657432, 0.07786626944064153, 0.8565289638470569, 0.019405664028266864, 0.9702832014133432, 0.7599050248185646, 0.04884052293721545, 0.04884052293721545, 0.879129412869878, 0.9112559744278343, 0.8647335018367388, 0.9711927599531839, 0.674135907392937, 0.2592830413049758, 0.023245159562728462, 0.06973547868818539, 0.30218707431547004, 0.6043741486309401, 0.893566013238945, 0.959196124258863, 0.9663488047412566, 0.10549640653570795, 0.052748203267853976, 0.6857266424821017, 0.15824460980356192, 0.21453449674631556, 0.7671233520019768, 0.013002090711897911, 0.006501045355948956, 0.8636192029318999, 0.9367541184684476, 0.7652594339011847, 0.9556599616425967, 0.699223764634747, 0.01889793958472289, 0.170081456262506, 0.13228557709306024, 0.10747786722242156, 0.8598229377793725, 0.11805923415218063, 0.8264146390652644, 0.9502986918612563, 0.8588873433518663, 0.030529363192827647, 0.21370554234979353, 0.7632340798206911, 0.010555693024164413, 0.9816794512472905, 0.8006142484004275, 0.006562411872134652, 0.019687235616403957, 0.16406029680336628, 0.006562411872134652, 0.9534964861454251, 0.14708406739505117, 0.7354203369752559, 0.866698779464883, 0.12683396772656824, 0.8256617848722632, 0.031078465509096674, 0.9634324307819969, 0.8946257741898097, 0.08520245468474379, 0.018843345127352362, 0.009421672563676181, 0.17901177870984744, 0.8008421679124754, 0.7538892998937472, 0.11499940437736314, 0.8378528033207886, 0.04107121584905826, 0.013726903306834423, 0.7824334884895621, 0.1784497429888475, 0.004575634435611474, 0.02287817217805737, 0.02155353545740332, 0.948355560125746, 0.02155353545740332, 0.8997142148110173, 0.051163136718913704, 0.511631367189137, 0.3965143095715812, 0.03837235253918528, 0.2039879904906592, 0.7139579667173072, 0.03325979619811092, 0.06651959239622184, 0.06651959239622184, 0.831494904952773, 0.6602463450226328, 0.0694996152655403, 0.2084988457966209, 0.03474980763277015, 0.8865749948830655, 0.9542980538816489, 0.04611721448395844, 0.9223442896791688, 0.9118749661586404, 0.0651339261541886, 0.7581131445643057, 0.10108175260857408, 0.10108175260857408, 0.8308794474360772, 0.9739006816774133, 0.7673267286519626, 0.054025689156243915, 0.21610275662497566, 0.7023339590311709, 0.8672068525605222, 0.9567874107463562, 0.9146409185200415, 0.8262025311448351], \"Term\": [\"Account\", \"Account\", \"Account\", \"Agenda\", \"Agenda\", \"Almost\", \"April\", \"Argument\", \"Audio\", \"Baby\", \"Basis\", \"Basis\", \"Basis\", \"Bio\", \"Block\", \"Brief\", \"Brief\", \"Budget\", \"Bundestag\", \"Channel\", \"Charge\", \"Chef\", \"Chef\", \"College\", \"College\", \"Comics\", \"Companies\", \"Congratulations\", \"Connection\", \"Connections\", \"Connections\", \"Date\", \"Date\", \"Daueraufgabe\", \"Dauerstelle\", \"Depression\", \"Depression\", \"Designs\", \"Details\", \"Details\", \"Details\", \"Discount\", \"Display\", \"Display\", \"Dissertation\", \"Distribution\", \"Dms\", \"Environment\", \"Environment\", \"Environment\", \"Environments\", \"Environments\", \"Event\", \"Event\", \"Event\", \"Experiment\", \"Experiments\", \"Expertise\", \"Expertise\", \"Fall\", \"Fall\", \"Fall\", \"Favorite\", \"Feature\", \"Feature\", \"Features\", \"Form\", \"Form\", \"Form\", \"Giftwomens\", \"Grade\", \"Grade\", \"Hand\", \"Hang\", \"Hearing\", \"Held\", \"Here\", \"Here\", \"Here\", \"Here\", \"Here\", \"Heres\", \"Heres\", \"Heres\", \"Heres\", \"Hierarchies\", \"Hierarchies\", \"Ideal\", \"Info\", \"Info\", \"Info\", \"Information\", \"Information\", \"Initiative\", \"Initiative\", \"Initiators\", \"Institutions\", \"Institutions\", \"Institutions\", \"Institutions\", \"Intentions\", \"Intentions\", \"Jobs\", \"Jobs\", \"Jobs\", \"Juniorprofessor\", \"Kanzler\", \"Kind\", \"Kind\", \"Kind\", \"Kind\", \"Kind\", \"Kinda\", \"Labor\", \"Labor\", \"Laptop\", \"Last\", \"Last\", \"Letter\", \"Letter\", \"Letter\", \"Limit\", \"Limit\", \"Limits\", \"Limits\", \"Listen\", \"Listen\", \"Listen\", \"Look\", \"Look\", \"Look\", \"Look\", \"Look\", \"Material\", \"Meeting\", \"Meeting\", \"Menschen\", \"Message\", \"Migrants\", \"Mine\", \"Mine\", \"Minimum\", \"Minute\", \"Minutes\", \"Moment\", \"Moment\", \"Most\", \"Most\", \"Most\", \"Most\", \"Most\", \"Motivation\", \"Name\", \"Norm\", \"Norms\", \"Not\", \"Not\", \"Not\", \"Not\", \"Not\", \"Off\", \"Off\", \"Off\", \"Offer\", \"Offer\", \"Offer\", \"Offer\", \"Okay\", \"Option\", \"Option\", \"Options\", \"Options\", \"Options\", \"Original\", \"Page\", \"Part\", \"Part\", \"Part\", \"Part\", \"Part\", \"Partner\", \"Partner\", \"Parts\", \"Parts\", \"Pensions\", \"Pensions\", \"Person\", \"Person\", \"Person\", \"Petition\", \"Pfeil\", \"Plan\", \"Plan\", \"Plan\", \"Plan\", \"Plans\", \"Plans\", \"Plus\", \"Plus\", \"Position\", \"Position\", \"Position\", \"Position\", \"Position\", \"Positions\", \"Positions\", \"Positions\", \"Positions\", \"Power\", \"Privatdozent\", \"Privilege\", \"Privilege\", \"Privilege\", \"Privilege\", \"Problem\", \"Problem\", \"Problem\", \"Problem\", \"Problem\", \"Problems\", \"Problems\", \"Problems\", \"Professional\", \"Professional\", \"Professional\", \"Professor\", \"Professor\", \"Professor\", \"Professor\", \"Professors\", \"Professors\", \"Professors\", \"Professors\", \"Profile\", \"Programme\", \"Promis\", \"Protest\", \"Quote\", \"Rate\", \"Rate\", \"Rather\", \"Rather\", \"Rather\", \"Register\", \"Register\", \"Register\", \"Report\", \"Report\", \"Reports\", \"Resignation\", \"Rest\", \"Rest\", \"Revers\", \"Run\", \"Run\", \"Runs\", \"Scheme\", \"See\", \"See\", \"See\", \"See\", \"See\", \"Seen\", \"Seen\", \"Semester\", \"Semester\", \"Seminar\", \"Seminar\", \"Seminars\", \"Senior\", \"Senior\", \"Senior\", \"September\", \"Series\", \"Session\", \"Sharing\", \"Sharing\", \"Show\", \"Show\", \"Show\", \"Show\", \"Shows\", \"Signature\", \"Signatures\", \"Single\", \"Single\", \"Single\", \"Single\", \"Situation\", \"Situation\", \"Situation\", \"Situation\", \"Situations\", \"Sommer\", \"Spoiler\", \"Standards\", \"Start\", \"Start\", \"Start\", \"Start\", \"Starts\", \"Starts\", \"Statement\", \"Statement\", \"Strange\", \"Strategies\", \"Stress\", \"Stress\", \"Stress\", \"Student\", \"Student\", \"Students\", \"Students\", \"Students\", \"Students\", \"Students\", \"Studies\", \"Stufe\", \"Stufe\", \"Sure\", \"Sure\", \"System\", \"Tag\", \"Tag\", \"Talents\", \"Talents\", \"Talk\", \"Talk\", \"Talk\", \"Talk\", \"Talks\", \"There\", \"There\", \"There\", \"These\", \"These\", \"These\", \"These\", \"These\", \"Theses\", \"Theses\", \"Theses\", \"Tip\", \"Track\", \"Track\", \"Track\", \"Track\", \"Training\", \"Training\", \"Trend\", \"Trend\", \"Trend\", \"Trend\", \"Uni\", \"Uni\", \"Uni\", \"Uni\", \"Union\", \"Unisex\", \"Version\", \"Version\", \"Video\", \"Video\", \"Visa\", \"Visa\", \"Visa\", \"Vote\", \"Where\", \"Wissenschaft\", \"Workshop\", \"Workshop\", \"Workshop\", \"Would\", \"Youtube\", \"a\", \"b\"]}, \"R\": 30, \"lambda.step\": 0.01, \"plot.opts\": {\"xlab\": \"PC1\", \"ylab\": \"PC2\"}, \"topic.order\": [3, 5, 4, 2, 1]};\n",
       "\n",
       "function LDAvis_load_lib(url, callback){\n",
       "  var s = document.createElement('script');\n",
       "  s.src = url;\n",
       "  s.async = true;\n",
       "  s.onreadystatechange = s.onload = callback;\n",
       "  s.onerror = function(){console.warn(\"failed to load library \" + url);};\n",
       "  document.getElementsByTagName(\"head\")[0].appendChild(s);\n",
       "}\n",
       "\n",
       "if(typeof(LDAvis) !== \"undefined\"){\n",
       "   // already loaded: just create the visualization\n",
       "   !function(LDAvis){\n",
       "       new LDAvis(\"#\" + \"ldavis_el275228228311136002880473433\", ldavis_el275228228311136002880473433_data);\n",
       "   }(LDAvis);\n",
       "}else if(typeof define === \"function\" && define.amd){\n",
       "   // require.js is available: use it to load d3/LDAvis\n",
       "   require.config({paths: {d3: \"https://d3js.org/d3.v5\"}});\n",
       "   require([\"d3\"], function(d3){\n",
       "      window.d3 = d3;\n",
       "      LDAvis_load_lib(\"https://cdn.jsdelivr.net/gh/bmabey/pyLDAvis@3.4.0/pyLDAvis/js/ldavis.v3.0.0.js\", function(){\n",
       "        new LDAvis(\"#\" + \"ldavis_el275228228311136002880473433\", ldavis_el275228228311136002880473433_data);\n",
       "      });\n",
       "    });\n",
       "}else{\n",
       "    // require.js not available: dynamically load d3 & LDAvis\n",
       "    LDAvis_load_lib(\"https://d3js.org/d3.v5.js\", function(){\n",
       "         LDAvis_load_lib(\"https://cdn.jsdelivr.net/gh/bmabey/pyLDAvis@3.4.0/pyLDAvis/js/ldavis.v3.0.0.js\", function(){\n",
       "                 new LDAvis(\"#\" + \"ldavis_el275228228311136002880473433\", ldavis_el275228228311136002880473433_data);\n",
       "            })\n",
       "         });\n",
       "}\n",
       "</script>"
      ],
      "text/plain": [
       "PreparedData(topic_coordinates=              x         y  topics  cluster       Freq\n",
       "topic                                                \n",
       "2      0.163834  0.078028       1        1  27.159244\n",
       "4      0.163098 -0.039545       2        1  21.334120\n",
       "3     -0.061184 -0.255981       3        1  19.497434\n",
       "1     -0.030989  0.142632       4        1  16.799819\n",
       "0     -0.234759  0.074867       5        1  15.209382, topic_info=         Term        Freq       Total Category  logprob  loglift\n",
       "6         Not  694.000000  694.000000  Default  30.0000  30.0000\n",
       "36       Here  320.000000  320.000000  Default  29.0000  29.0000\n",
       "51      These  218.000000  218.000000  Default  28.0000  28.0000\n",
       "31        See  133.000000  133.000000  Default  27.0000  27.0000\n",
       "2   Situation  153.000000  153.000000  Default  26.0000  26.0000\n",
       "..        ...         ...         ...      ...      ...      ...\n",
       "50       Kind    7.217248   20.501172   Topic5  -5.2023   0.8392\n",
       "73       Look    9.763053   94.001922   Topic5  -4.9002  -0.3815\n",
       "65       Most    9.801538  107.368901   Topic5  -4.8963  -0.5105\n",
       "55   Position    9.278918  162.960500   Topic5  -4.9511  -0.9825\n",
       "67      Start    6.617649   52.915822   Topic5  -5.2891  -0.1957\n",
       "\n",
       "[245 rows x 6 columns], token_table=      Topic      Freq      Term\n",
       "term                           \n",
       "23        2  0.862090   Account\n",
       "23        4  0.057473   Account\n",
       "23        5  0.114945   Account\n",
       "757       4  0.121779    Agenda\n",
       "757       5  0.730676    Agenda\n",
       "...     ...       ...       ...\n",
       "263       4  0.702334  Workshop\n",
       "320       4  0.867207     Would\n",
       "358       2  0.956787   Youtube\n",
       "180       1  0.914641         a\n",
       "72        5  0.826203         b\n",
       "\n",
       "[376 rows x 3 columns], R=30, lambda_step=0.01, plot_opts={'xlab': 'PC1', 'ylab': 'PC2'}, topic_order=[3, 5, 4, 2, 1])"
      ]
     },
     "execution_count": 20,
     "metadata": {},
     "output_type": "execute_result"
    }
   ],
   "source": [
    "vis = pyLDAvis.gensim_models.prepare(de_lda_model,\n",
    "                                     de_corpus,\n",
    "                                     dictionary=de_lda_model.id2word)\n",
    "vis"
   ]
  },
  {
   "attachments": {},
   "cell_type": "markdown",
   "metadata": {},
   "source": [
    "Topic Modelling using - BERT"
   ]
  },
  {
   "cell_type": "code",
   "execution_count": 21,
   "metadata": {},
   "outputs": [
    {
     "name": "stdout",
     "output_type": "stream",
     "text": [
      "                       timestamp             tweet_id      conversation_id  \\\n",
      "11      2021-06-18T13:10:36.000Z  1405875593711964166  1405875593711964166   \n",
      "105     2021-06-12T21:15:23.000Z  1403823267115376649  1403823267115376649   \n",
      "125     2021-06-11T22:32:52.000Z  1403480380632674307  1403480380632674307   \n",
      "215     2021-06-10T19:07:52.000Z  1403066401611472902  1403066401611472902   \n",
      "238     2021-06-10T15:04:44.000Z  1403005214974640143  1403005214974640143   \n",
      "...                          ...                  ...                  ...   \n",
      "308092  2022-10-04T14:01:01.000Z  1577297743663583232  1577176553666273280   \n",
      "308243  2022-09-13T08:48:00.000Z  1569608824117465088  1569608824117465088   \n",
      "308292  2021-09-17T14:38:18.000Z  1438874960110424072  1438766234489794560   \n",
      "308293  2021-09-17T14:36:31.000Z  1438874511605125123  1438766234489794560   \n",
      "308323  2022-08-13T13:39:47.000Z  1558448232631762944  1558448232631762944   \n",
      "\n",
      "                  author_id  \\\n",
      "11      1132055796571877376   \n",
      "105     1132055796571877376   \n",
      "125     1132055796571877376   \n",
      "215     1132055796571877376   \n",
      "238     1132055796571877376   \n",
      "...                     ...   \n",
      "308092           2474312910   \n",
      "308243  1554860518900486144   \n",
      "308292             32800037   \n",
      "308293   743696568939753475   \n",
      "308323            329984940   \n",
      "\n",
      "                                                     text  retweet_count  \\\n",
      "11      Thread  about the cruel  in German  The debate...              5   \n",
      "105     Thread  summarizing a video by the German Fede...              1   \n",
      "125     On job  in German  and its impact on  life and...              0   \n",
      "215                                                                    0   \n",
      "238      German researchers without a permanent post i...              7   \n",
      "...                                                   ...            ...   \n",
      "308092                                                                 0   \n",
      "308243  The  together with the  host the seminar Forev...              3   \n",
      "308292    theres no studies on how it made it worse an...              0   \n",
      "308293    I still cant get over how they titled their ...              0   \n",
      "308323  fellow profs  is OUR problem \\nSee this collec...              2   \n",
      "\n",
      "        reply_count  like_count  quote_count  \\\n",
      "11                0          19            0   \n",
      "105               0           9            1   \n",
      "125               0           1            0   \n",
      "215               0           1            0   \n",
      "238               0          15            0   \n",
      "...             ...         ...          ...   \n",
      "308092            0           0            0   \n",
      "308243            0           9            0   \n",
      "308292            1           0            0   \n",
      "308293            1           0            0   \n",
      "308323            0           4            0   \n",
      "\n",
      "                                        referenced_tweets  \\\n",
      "11      [{'type': 'quoted', 'id': '1405846267759054851'}]   \n",
      "105     [{'type': 'quoted', 'id': '1403006909079293953'}]   \n",
      "125     [{'type': 'quoted', 'id': '1402963684691955714'}]   \n",
      "215     [{'type': 'quoted', 'id': '1403059508021284864'}]   \n",
      "238     [{'type': 'quoted', 'id': '1402994337009442820'}]   \n",
      "...                                                   ...   \n",
      "308092  [{'type': 'replied_to', 'id': '157717655366627...   \n",
      "308243                                                 []   \n",
      "308292  [{'type': 'replied_to', 'id': '143887451160512...   \n",
      "308293  [{'type': 'replied_to', 'id': '143887433770928...   \n",
      "308323  [{'type': 'quoted', 'id': '1556700609155317761'}]   \n",
      "\n",
      "                                                 hashtags tweet_type  \\\n",
      "11      ['precarity', 'academia', 'IchbinHanna', 'Acad...   original   \n",
      "105     ['IchbinHanna', 'academia', 'Germany', 'toxica...   original   \n",
      "125     ['precarity', 'academia', 'family', 'mentalhea...   original   \n",
      "215     ['AcademicTwitter', 'acertaindegreeofflexibili...   original   \n",
      "238     ['IchbinHanna', 'academia', 'AcademicTwitter',...   original   \n",
      "...                                                   ...        ...   \n",
      "308092                                    ['IchbinHanna']   original   \n",
      "308243                                 ['WissZeitGesetz']   original   \n",
      "308292                                                 []   original   \n",
      "308293                                                 []   original   \n",
      "308323                              ['academicprecarity']   original   \n",
      "\n",
      "       tweet_language                  noun adj                lemma_noun  \\\n",
      "11                 en                                                  []   \n",
      "105                en           indignation                 [Indignation]   \n",
      "125                en                                                  []   \n",
      "215                en                                                  []   \n",
      "238                en        post situation             [Post, Situation]   \n",
      "...               ...                   ...  ..                       ...   \n",
      "308092             en                                                  []   \n",
      "308243             en  seminar seminar here      [Seminar, Seminar, Here]   \n",
      "308292             en              students                    [Students]   \n",
      "308293             en     juniorprofessoren             [Juniorprofessor]   \n",
      "308323             en      problem see info          [Problem, See, Info]   \n",
      "\n",
      "       lemma_adj                    tokens  \n",
      "11            []                        []  \n",
      "105           []             [Indignation]  \n",
      "125           []                        []  \n",
      "215           []                        []  \n",
      "238           []         [Post, Situation]  \n",
      "...          ...                       ...  \n",
      "308092        []                        []  \n",
      "308243        []  [Seminar, Seminar, Here]  \n",
      "308292        []                [Students]  \n",
      "308293        []         [Juniorprofessor]  \n",
      "308323        []      [Problem, See, Info]  \n",
      "\n",
      "[12258 rows x 18 columns]\n"
     ]
    }
   ],
   "source": [
    "#concating both dataframes\n",
    "\n",
    "en_de_df = pd.concat([en_df, de_df])\n",
    "print(en_de_df)"
   ]
  },
  {
   "cell_type": "code",
   "execution_count": 49,
   "metadata": {},
   "outputs": [
    {
     "name": "stderr",
     "output_type": "stream",
     "text": [
      "Batches: 100%|██████████| 384/384 [00:15<00:00, 25.30it/s]\n",
      "2023-03-13 15:55:23,892 - BERTopic - Transformed documents to Embeddings\n",
      "2023-03-13 15:55:35,009 - BERTopic - Reduced dimensionality\n",
      "2023-03-13 15:55:56,743 - BERTopic - Clustered reduced embeddings\n",
      "2023-03-13 15:56:01,709 - BERTopic - Reduced number of topics from 255 to 150\n"
     ]
    }
   ],
   "source": [
    "from bertopic import BERTopic\n",
    "\n",
    "en_de_model = BERTopic(verbose=True, language=\"multilingual\",nr_topics=\"auto\", calculate_probabilities=True)\n",
    "en_de_docs = en_de_df.noun.to_list()\n",
    "\n",
    "en_de_topics, en_de_probabilities = en_de_model.fit_transform(en_de_docs)"
   ]
  },
  {
   "cell_type": "code",
   "execution_count": 50,
   "metadata": {},
   "outputs": [
    {
     "name": "stderr",
     "output_type": "stream",
     "text": [
      "2023-03-13 15:56:06,010 - BERTopic - Reduced number of topics from 150 to 6\n"
     ]
    },
    {
     "data": {
      "text/plain": [
       "<bertopic._bertopic.BERTopic at 0x2914e8f6910>"
      ]
     },
     "execution_count": 50,
     "metadata": {},
     "output_type": "execute_result"
    }
   ],
   "source": [
    "en_de_model.reduce_topics(en_de_docs, nr_topics=6)"
   ]
  },
  {
   "cell_type": "code",
   "execution_count": 51,
   "metadata": {},
   "outputs": [
    {
     "data": {
      "text/html": [
       "<div>\n",
       "<style scoped>\n",
       "    .dataframe tbody tr th:only-of-type {\n",
       "        vertical-align: middle;\n",
       "    }\n",
       "\n",
       "    .dataframe tbody tr th {\n",
       "        vertical-align: top;\n",
       "    }\n",
       "\n",
       "    .dataframe thead th {\n",
       "        text-align: right;\n",
       "    }\n",
       "</style>\n",
       "<table border=\"1\" class=\"dataframe\">\n",
       "  <thead>\n",
       "    <tr style=\"text-align: right;\">\n",
       "      <th></th>\n",
       "      <th>Topic</th>\n",
       "      <th>Count</th>\n",
       "    </tr>\n",
       "  </thead>\n",
       "  <tbody>\n",
       "    <tr>\n",
       "      <th>0</th>\n",
       "      <td>0</td>\n",
       "      <td>11521</td>\n",
       "    </tr>\n",
       "    <tr>\n",
       "      <th>1</th>\n",
       "      <td>-1</td>\n",
       "      <td>668</td>\n",
       "    </tr>\n",
       "    <tr>\n",
       "      <th>2</th>\n",
       "      <td>1</td>\n",
       "      <td>25</td>\n",
       "    </tr>\n",
       "    <tr>\n",
       "      <th>3</th>\n",
       "      <td>2</td>\n",
       "      <td>16</td>\n",
       "    </tr>\n",
       "    <tr>\n",
       "      <th>4</th>\n",
       "      <td>3</td>\n",
       "      <td>14</td>\n",
       "    </tr>\n",
       "    <tr>\n",
       "      <th>5</th>\n",
       "      <td>4</td>\n",
       "      <td>14</td>\n",
       "    </tr>\n",
       "  </tbody>\n",
       "</table>\n",
       "</div>"
      ],
      "text/plain": [
       "   Topic  Count\n",
       "0      0  11521\n",
       "1     -1    668\n",
       "2      1     25\n",
       "3      2     16\n",
       "4      3     14\n",
       "5      4     14"
      ]
     },
     "execution_count": 51,
     "metadata": {},
     "output_type": "execute_result"
    }
   ],
   "source": [
    "en_de_model.get_topic_freq().head(20)"
   ]
  },
  {
   "cell_type": "code",
   "execution_count": 52,
   "metadata": {},
   "outputs": [
    {
     "ename": "ValueError",
     "evalue": "Mime type rendering requires nbformat>=4.2.0 but it is not installed",
     "output_type": "error",
     "traceback": [
      "\u001b[1;31m---------------------------------------------------------------------------\u001b[0m",
      "\u001b[1;31mValueError\u001b[0m                                Traceback (most recent call last)",
      "File \u001b[1;32mc:\\Softwares\\anaconda3\\envs\\dbse-project\\lib\\site-packages\\IPython\\core\\formatters.py:920\u001b[0m, in \u001b[0;36mIPythonDisplayFormatter.__call__\u001b[1;34m(self, obj)\u001b[0m\n\u001b[0;32m    918\u001b[0m method \u001b[39m=\u001b[39m get_real_method(obj, \u001b[39mself\u001b[39m\u001b[39m.\u001b[39mprint_method)\n\u001b[0;32m    919\u001b[0m \u001b[39mif\u001b[39;00m method \u001b[39mis\u001b[39;00m \u001b[39mnot\u001b[39;00m \u001b[39mNone\u001b[39;00m:\n\u001b[1;32m--> 920\u001b[0m     method()\n\u001b[0;32m    921\u001b[0m     \u001b[39mreturn\u001b[39;00m \u001b[39mTrue\u001b[39;00m\n",
      "File \u001b[1;32mc:\\Softwares\\anaconda3\\envs\\dbse-project\\lib\\site-packages\\plotly\\basedatatypes.py:834\u001b[0m, in \u001b[0;36mBaseFigure._ipython_display_\u001b[1;34m(self)\u001b[0m\n\u001b[0;32m    831\u001b[0m \u001b[39mimport\u001b[39;00m \u001b[39mplotly\u001b[39;00m\u001b[39m.\u001b[39;00m\u001b[39mio\u001b[39;00m \u001b[39mas\u001b[39;00m \u001b[39mpio\u001b[39;00m\n\u001b[0;32m    833\u001b[0m \u001b[39mif\u001b[39;00m pio\u001b[39m.\u001b[39mrenderers\u001b[39m.\u001b[39mrender_on_display \u001b[39mand\u001b[39;00m pio\u001b[39m.\u001b[39mrenderers\u001b[39m.\u001b[39mdefault:\n\u001b[1;32m--> 834\u001b[0m     pio\u001b[39m.\u001b[39;49mshow(\u001b[39mself\u001b[39;49m)\n\u001b[0;32m    835\u001b[0m \u001b[39melse\u001b[39;00m:\n\u001b[0;32m    836\u001b[0m     \u001b[39mprint\u001b[39m(\u001b[39mrepr\u001b[39m(\u001b[39mself\u001b[39m))\n",
      "File \u001b[1;32mc:\\Softwares\\anaconda3\\envs\\dbse-project\\lib\\site-packages\\plotly\\io\\_renderers.py:396\u001b[0m, in \u001b[0;36mshow\u001b[1;34m(fig, renderer, validate, **kwargs)\u001b[0m\n\u001b[0;32m    391\u001b[0m         \u001b[39mraise\u001b[39;00m \u001b[39mValueError\u001b[39;00m(\n\u001b[0;32m    392\u001b[0m             \u001b[39m\"\u001b[39m\u001b[39mMime type rendering requires ipython but it is not installed\u001b[39m\u001b[39m\"\u001b[39m\n\u001b[0;32m    393\u001b[0m         )\n\u001b[0;32m    395\u001b[0m     \u001b[39mif\u001b[39;00m \u001b[39mnot\u001b[39;00m nbformat \u001b[39mor\u001b[39;00m Version(nbformat\u001b[39m.\u001b[39m__version__) \u001b[39m<\u001b[39m Version(\u001b[39m\"\u001b[39m\u001b[39m4.2.0\u001b[39m\u001b[39m\"\u001b[39m):\n\u001b[1;32m--> 396\u001b[0m         \u001b[39mraise\u001b[39;00m \u001b[39mValueError\u001b[39;00m(\n\u001b[0;32m    397\u001b[0m             \u001b[39m\"\u001b[39m\u001b[39mMime type rendering requires nbformat>=4.2.0 but it is not installed\u001b[39m\u001b[39m\"\u001b[39m\n\u001b[0;32m    398\u001b[0m         )\n\u001b[0;32m    400\u001b[0m     ipython_display\u001b[39m.\u001b[39mdisplay(bundle, raw\u001b[39m=\u001b[39m\u001b[39mTrue\u001b[39;00m)\n\u001b[0;32m    402\u001b[0m \u001b[39m# external renderers\u001b[39;00m\n",
      "\u001b[1;31mValueError\u001b[0m: Mime type rendering requires nbformat>=4.2.0 but it is not installed"
     ]
    },
    {
     "data": {
      "application/vnd.plotly.v1+json": {
       "config": {
        "plotlyServerURL": "https://plot.ly"
       },
       "data": [
        {
         "customdata": [
          [
           0,
           "not | here | position | see | most",
           11521
          ],
          [
           1,
           "migrants | migrant | migration | microbe | transport",
           25
          ],
          [
           2,
           "union | unionise | unionists | gewerkschaft | situation",
           16
          ],
          [
           3,
           "phase | phases | eichhorn | these | see",
           14
          ],
          [
           4,
           "storm | shitstorm | pandemie | hlleitung | norm",
           14
          ]
         ],
         "hovertemplate": "<b>Topic %{customdata[0]}</b><br>%{customdata[1]}<br>Size: %{customdata[2]}",
         "legendgroup": "",
         "marker": {
          "color": "#B0BEC5",
          "line": {
           "color": "DarkSlateGrey",
           "width": 2
          },
          "size": [
           11521,
           25,
           16,
           14,
           14
          ],
          "sizemode": "area",
          "sizeref": 7.200625,
          "symbol": "circle"
         },
         "mode": "markers",
         "name": "",
         "orientation": "v",
         "showlegend": false,
         "type": "scatter",
         "x": [
          27.223308563232422,
          26.768646240234375,
          25.98076057434082,
          26.48439598083496,
          27.063201904296875
         ],
         "xaxis": "x",
         "y": [
          11.876659393310547,
          12.349775314331055,
          10.515860557556152,
          11.11596965789795,
          10.49519157409668
         ],
         "yaxis": "y"
        }
       ],
       "layout": {
        "annotations": [
         {
          "showarrow": false,
          "text": "D1",
          "x": 22.083646488189697,
          "y": 11.561577224731444,
          "yshift": 10
         },
         {
          "showarrow": false,
          "text": "D2",
          "x": 26.69522566795349,
          "xshift": 10,
          "y": 14.202241611480712
         }
        ],
        "height": 650,
        "hoverlabel": {
         "bgcolor": "white",
         "font": {
          "family": "Rockwell",
          "size": 16
         }
        },
        "legend": {
         "itemsizing": "constant",
         "tracegroupgap": 0
        },
        "margin": {
         "t": 60
        },
        "shapes": [
         {
          "line": {
           "color": "#CFD8DC",
           "width": 2
          },
          "type": "line",
          "x0": 26.69522566795349,
          "x1": 26.69522566795349,
          "y0": 8.920912837982177,
          "y1": 14.202241611480712
         },
         {
          "line": {
           "color": "#9E9E9E",
           "width": 2
          },
          "type": "line",
          "x0": 22.083646488189697,
          "x1": 31.306804847717284,
          "y0": 11.561577224731444,
          "y1": 11.561577224731444
         }
        ],
        "sliders": [
         {
          "active": 0,
          "pad": {
           "t": 50
          },
          "steps": [
           {
            "args": [
             {
              "marker.color": [
               [
                "red",
                "#B0BEC5",
                "#B0BEC5",
                "#B0BEC5",
                "#B0BEC5"
               ]
              ]
             }
            ],
            "label": "Topic 0",
            "method": "update"
           },
           {
            "args": [
             {
              "marker.color": [
               [
                "#B0BEC5",
                "red",
                "#B0BEC5",
                "#B0BEC5",
                "#B0BEC5"
               ]
              ]
             }
            ],
            "label": "Topic 1",
            "method": "update"
           },
           {
            "args": [
             {
              "marker.color": [
               [
                "#B0BEC5",
                "#B0BEC5",
                "red",
                "#B0BEC5",
                "#B0BEC5"
               ]
              ]
             }
            ],
            "label": "Topic 2",
            "method": "update"
           },
           {
            "args": [
             {
              "marker.color": [
               [
                "#B0BEC5",
                "#B0BEC5",
                "#B0BEC5",
                "red",
                "#B0BEC5"
               ]
              ]
             }
            ],
            "label": "Topic 3",
            "method": "update"
           },
           {
            "args": [
             {
              "marker.color": [
               [
                "#B0BEC5",
                "#B0BEC5",
                "#B0BEC5",
                "#B0BEC5",
                "red"
               ]
              ]
             }
            ],
            "label": "Topic 4",
            "method": "update"
           }
          ]
         }
        ],
        "template": {
         "data": {
          "bar": [
           {
            "error_x": {
             "color": "rgb(36,36,36)"
            },
            "error_y": {
             "color": "rgb(36,36,36)"
            },
            "marker": {
             "line": {
              "color": "white",
              "width": 0.5
             },
             "pattern": {
              "fillmode": "overlay",
              "size": 10,
              "solidity": 0.2
             }
            },
            "type": "bar"
           }
          ],
          "barpolar": [
           {
            "marker": {
             "line": {
              "color": "white",
              "width": 0.5
             },
             "pattern": {
              "fillmode": "overlay",
              "size": 10,
              "solidity": 0.2
             }
            },
            "type": "barpolar"
           }
          ],
          "carpet": [
           {
            "aaxis": {
             "endlinecolor": "rgb(36,36,36)",
             "gridcolor": "white",
             "linecolor": "white",
             "minorgridcolor": "white",
             "startlinecolor": "rgb(36,36,36)"
            },
            "baxis": {
             "endlinecolor": "rgb(36,36,36)",
             "gridcolor": "white",
             "linecolor": "white",
             "minorgridcolor": "white",
             "startlinecolor": "rgb(36,36,36)"
            },
            "type": "carpet"
           }
          ],
          "choropleth": [
           {
            "colorbar": {
             "outlinewidth": 1,
             "tickcolor": "rgb(36,36,36)",
             "ticks": "outside"
            },
            "type": "choropleth"
           }
          ],
          "contour": [
           {
            "colorbar": {
             "outlinewidth": 1,
             "tickcolor": "rgb(36,36,36)",
             "ticks": "outside"
            },
            "colorscale": [
             [
              0,
              "#440154"
             ],
             [
              0.1111111111111111,
              "#482878"
             ],
             [
              0.2222222222222222,
              "#3e4989"
             ],
             [
              0.3333333333333333,
              "#31688e"
             ],
             [
              0.4444444444444444,
              "#26828e"
             ],
             [
              0.5555555555555556,
              "#1f9e89"
             ],
             [
              0.6666666666666666,
              "#35b779"
             ],
             [
              0.7777777777777778,
              "#6ece58"
             ],
             [
              0.8888888888888888,
              "#b5de2b"
             ],
             [
              1,
              "#fde725"
             ]
            ],
            "type": "contour"
           }
          ],
          "contourcarpet": [
           {
            "colorbar": {
             "outlinewidth": 1,
             "tickcolor": "rgb(36,36,36)",
             "ticks": "outside"
            },
            "type": "contourcarpet"
           }
          ],
          "heatmap": [
           {
            "colorbar": {
             "outlinewidth": 1,
             "tickcolor": "rgb(36,36,36)",
             "ticks": "outside"
            },
            "colorscale": [
             [
              0,
              "#440154"
             ],
             [
              0.1111111111111111,
              "#482878"
             ],
             [
              0.2222222222222222,
              "#3e4989"
             ],
             [
              0.3333333333333333,
              "#31688e"
             ],
             [
              0.4444444444444444,
              "#26828e"
             ],
             [
              0.5555555555555556,
              "#1f9e89"
             ],
             [
              0.6666666666666666,
              "#35b779"
             ],
             [
              0.7777777777777778,
              "#6ece58"
             ],
             [
              0.8888888888888888,
              "#b5de2b"
             ],
             [
              1,
              "#fde725"
             ]
            ],
            "type": "heatmap"
           }
          ],
          "heatmapgl": [
           {
            "colorbar": {
             "outlinewidth": 1,
             "tickcolor": "rgb(36,36,36)",
             "ticks": "outside"
            },
            "colorscale": [
             [
              0,
              "#440154"
             ],
             [
              0.1111111111111111,
              "#482878"
             ],
             [
              0.2222222222222222,
              "#3e4989"
             ],
             [
              0.3333333333333333,
              "#31688e"
             ],
             [
              0.4444444444444444,
              "#26828e"
             ],
             [
              0.5555555555555556,
              "#1f9e89"
             ],
             [
              0.6666666666666666,
              "#35b779"
             ],
             [
              0.7777777777777778,
              "#6ece58"
             ],
             [
              0.8888888888888888,
              "#b5de2b"
             ],
             [
              1,
              "#fde725"
             ]
            ],
            "type": "heatmapgl"
           }
          ],
          "histogram": [
           {
            "marker": {
             "line": {
              "color": "white",
              "width": 0.6
             }
            },
            "type": "histogram"
           }
          ],
          "histogram2d": [
           {
            "colorbar": {
             "outlinewidth": 1,
             "tickcolor": "rgb(36,36,36)",
             "ticks": "outside"
            },
            "colorscale": [
             [
              0,
              "#440154"
             ],
             [
              0.1111111111111111,
              "#482878"
             ],
             [
              0.2222222222222222,
              "#3e4989"
             ],
             [
              0.3333333333333333,
              "#31688e"
             ],
             [
              0.4444444444444444,
              "#26828e"
             ],
             [
              0.5555555555555556,
              "#1f9e89"
             ],
             [
              0.6666666666666666,
              "#35b779"
             ],
             [
              0.7777777777777778,
              "#6ece58"
             ],
             [
              0.8888888888888888,
              "#b5de2b"
             ],
             [
              1,
              "#fde725"
             ]
            ],
            "type": "histogram2d"
           }
          ],
          "histogram2dcontour": [
           {
            "colorbar": {
             "outlinewidth": 1,
             "tickcolor": "rgb(36,36,36)",
             "ticks": "outside"
            },
            "colorscale": [
             [
              0,
              "#440154"
             ],
             [
              0.1111111111111111,
              "#482878"
             ],
             [
              0.2222222222222222,
              "#3e4989"
             ],
             [
              0.3333333333333333,
              "#31688e"
             ],
             [
              0.4444444444444444,
              "#26828e"
             ],
             [
              0.5555555555555556,
              "#1f9e89"
             ],
             [
              0.6666666666666666,
              "#35b779"
             ],
             [
              0.7777777777777778,
              "#6ece58"
             ],
             [
              0.8888888888888888,
              "#b5de2b"
             ],
             [
              1,
              "#fde725"
             ]
            ],
            "type": "histogram2dcontour"
           }
          ],
          "mesh3d": [
           {
            "colorbar": {
             "outlinewidth": 1,
             "tickcolor": "rgb(36,36,36)",
             "ticks": "outside"
            },
            "type": "mesh3d"
           }
          ],
          "parcoords": [
           {
            "line": {
             "colorbar": {
              "outlinewidth": 1,
              "tickcolor": "rgb(36,36,36)",
              "ticks": "outside"
             }
            },
            "type": "parcoords"
           }
          ],
          "pie": [
           {
            "automargin": true,
            "type": "pie"
           }
          ],
          "scatter": [
           {
            "fillpattern": {
             "fillmode": "overlay",
             "size": 10,
             "solidity": 0.2
            },
            "type": "scatter"
           }
          ],
          "scatter3d": [
           {
            "line": {
             "colorbar": {
              "outlinewidth": 1,
              "tickcolor": "rgb(36,36,36)",
              "ticks": "outside"
             }
            },
            "marker": {
             "colorbar": {
              "outlinewidth": 1,
              "tickcolor": "rgb(36,36,36)",
              "ticks": "outside"
             }
            },
            "type": "scatter3d"
           }
          ],
          "scattercarpet": [
           {
            "marker": {
             "colorbar": {
              "outlinewidth": 1,
              "tickcolor": "rgb(36,36,36)",
              "ticks": "outside"
             }
            },
            "type": "scattercarpet"
           }
          ],
          "scattergeo": [
           {
            "marker": {
             "colorbar": {
              "outlinewidth": 1,
              "tickcolor": "rgb(36,36,36)",
              "ticks": "outside"
             }
            },
            "type": "scattergeo"
           }
          ],
          "scattergl": [
           {
            "marker": {
             "colorbar": {
              "outlinewidth": 1,
              "tickcolor": "rgb(36,36,36)",
              "ticks": "outside"
             }
            },
            "type": "scattergl"
           }
          ],
          "scattermapbox": [
           {
            "marker": {
             "colorbar": {
              "outlinewidth": 1,
              "tickcolor": "rgb(36,36,36)",
              "ticks": "outside"
             }
            },
            "type": "scattermapbox"
           }
          ],
          "scatterpolar": [
           {
            "marker": {
             "colorbar": {
              "outlinewidth": 1,
              "tickcolor": "rgb(36,36,36)",
              "ticks": "outside"
             }
            },
            "type": "scatterpolar"
           }
          ],
          "scatterpolargl": [
           {
            "marker": {
             "colorbar": {
              "outlinewidth": 1,
              "tickcolor": "rgb(36,36,36)",
              "ticks": "outside"
             }
            },
            "type": "scatterpolargl"
           }
          ],
          "scatterternary": [
           {
            "marker": {
             "colorbar": {
              "outlinewidth": 1,
              "tickcolor": "rgb(36,36,36)",
              "ticks": "outside"
             }
            },
            "type": "scatterternary"
           }
          ],
          "surface": [
           {
            "colorbar": {
             "outlinewidth": 1,
             "tickcolor": "rgb(36,36,36)",
             "ticks": "outside"
            },
            "colorscale": [
             [
              0,
              "#440154"
             ],
             [
              0.1111111111111111,
              "#482878"
             ],
             [
              0.2222222222222222,
              "#3e4989"
             ],
             [
              0.3333333333333333,
              "#31688e"
             ],
             [
              0.4444444444444444,
              "#26828e"
             ],
             [
              0.5555555555555556,
              "#1f9e89"
             ],
             [
              0.6666666666666666,
              "#35b779"
             ],
             [
              0.7777777777777778,
              "#6ece58"
             ],
             [
              0.8888888888888888,
              "#b5de2b"
             ],
             [
              1,
              "#fde725"
             ]
            ],
            "type": "surface"
           }
          ],
          "table": [
           {
            "cells": {
             "fill": {
              "color": "rgb(237,237,237)"
             },
             "line": {
              "color": "white"
             }
            },
            "header": {
             "fill": {
              "color": "rgb(217,217,217)"
             },
             "line": {
              "color": "white"
             }
            },
            "type": "table"
           }
          ]
         },
         "layout": {
          "annotationdefaults": {
           "arrowhead": 0,
           "arrowwidth": 1
          },
          "autotypenumbers": "strict",
          "coloraxis": {
           "colorbar": {
            "outlinewidth": 1,
            "tickcolor": "rgb(36,36,36)",
            "ticks": "outside"
           }
          },
          "colorscale": {
           "diverging": [
            [
             0,
             "rgb(103,0,31)"
            ],
            [
             0.1,
             "rgb(178,24,43)"
            ],
            [
             0.2,
             "rgb(214,96,77)"
            ],
            [
             0.3,
             "rgb(244,165,130)"
            ],
            [
             0.4,
             "rgb(253,219,199)"
            ],
            [
             0.5,
             "rgb(247,247,247)"
            ],
            [
             0.6,
             "rgb(209,229,240)"
            ],
            [
             0.7,
             "rgb(146,197,222)"
            ],
            [
             0.8,
             "rgb(67,147,195)"
            ],
            [
             0.9,
             "rgb(33,102,172)"
            ],
            [
             1,
             "rgb(5,48,97)"
            ]
           ],
           "sequential": [
            [
             0,
             "#440154"
            ],
            [
             0.1111111111111111,
             "#482878"
            ],
            [
             0.2222222222222222,
             "#3e4989"
            ],
            [
             0.3333333333333333,
             "#31688e"
            ],
            [
             0.4444444444444444,
             "#26828e"
            ],
            [
             0.5555555555555556,
             "#1f9e89"
            ],
            [
             0.6666666666666666,
             "#35b779"
            ],
            [
             0.7777777777777778,
             "#6ece58"
            ],
            [
             0.8888888888888888,
             "#b5de2b"
            ],
            [
             1,
             "#fde725"
            ]
           ],
           "sequentialminus": [
            [
             0,
             "#440154"
            ],
            [
             0.1111111111111111,
             "#482878"
            ],
            [
             0.2222222222222222,
             "#3e4989"
            ],
            [
             0.3333333333333333,
             "#31688e"
            ],
            [
             0.4444444444444444,
             "#26828e"
            ],
            [
             0.5555555555555556,
             "#1f9e89"
            ],
            [
             0.6666666666666666,
             "#35b779"
            ],
            [
             0.7777777777777778,
             "#6ece58"
            ],
            [
             0.8888888888888888,
             "#b5de2b"
            ],
            [
             1,
             "#fde725"
            ]
           ]
          },
          "colorway": [
           "#1F77B4",
           "#FF7F0E",
           "#2CA02C",
           "#D62728",
           "#9467BD",
           "#8C564B",
           "#E377C2",
           "#7F7F7F",
           "#BCBD22",
           "#17BECF"
          ],
          "font": {
           "color": "rgb(36,36,36)"
          },
          "geo": {
           "bgcolor": "white",
           "lakecolor": "white",
           "landcolor": "white",
           "showlakes": true,
           "showland": true,
           "subunitcolor": "white"
          },
          "hoverlabel": {
           "align": "left"
          },
          "hovermode": "closest",
          "mapbox": {
           "style": "light"
          },
          "paper_bgcolor": "white",
          "plot_bgcolor": "white",
          "polar": {
           "angularaxis": {
            "gridcolor": "rgb(232,232,232)",
            "linecolor": "rgb(36,36,36)",
            "showgrid": false,
            "showline": true,
            "ticks": "outside"
           },
           "bgcolor": "white",
           "radialaxis": {
            "gridcolor": "rgb(232,232,232)",
            "linecolor": "rgb(36,36,36)",
            "showgrid": false,
            "showline": true,
            "ticks": "outside"
           }
          },
          "scene": {
           "xaxis": {
            "backgroundcolor": "white",
            "gridcolor": "rgb(232,232,232)",
            "gridwidth": 2,
            "linecolor": "rgb(36,36,36)",
            "showbackground": true,
            "showgrid": false,
            "showline": true,
            "ticks": "outside",
            "zeroline": false,
            "zerolinecolor": "rgb(36,36,36)"
           },
           "yaxis": {
            "backgroundcolor": "white",
            "gridcolor": "rgb(232,232,232)",
            "gridwidth": 2,
            "linecolor": "rgb(36,36,36)",
            "showbackground": true,
            "showgrid": false,
            "showline": true,
            "ticks": "outside",
            "zeroline": false,
            "zerolinecolor": "rgb(36,36,36)"
           },
           "zaxis": {
            "backgroundcolor": "white",
            "gridcolor": "rgb(232,232,232)",
            "gridwidth": 2,
            "linecolor": "rgb(36,36,36)",
            "showbackground": true,
            "showgrid": false,
            "showline": true,
            "ticks": "outside",
            "zeroline": false,
            "zerolinecolor": "rgb(36,36,36)"
           }
          },
          "shapedefaults": {
           "fillcolor": "black",
           "line": {
            "width": 0
           },
           "opacity": 0.3
          },
          "ternary": {
           "aaxis": {
            "gridcolor": "rgb(232,232,232)",
            "linecolor": "rgb(36,36,36)",
            "showgrid": false,
            "showline": true,
            "ticks": "outside"
           },
           "baxis": {
            "gridcolor": "rgb(232,232,232)",
            "linecolor": "rgb(36,36,36)",
            "showgrid": false,
            "showline": true,
            "ticks": "outside"
           },
           "bgcolor": "white",
           "caxis": {
            "gridcolor": "rgb(232,232,232)",
            "linecolor": "rgb(36,36,36)",
            "showgrid": false,
            "showline": true,
            "ticks": "outside"
           }
          },
          "title": {
           "x": 0.05
          },
          "xaxis": {
           "automargin": true,
           "gridcolor": "rgb(232,232,232)",
           "linecolor": "rgb(36,36,36)",
           "showgrid": false,
           "showline": true,
           "ticks": "outside",
           "title": {
            "standoff": 15
           },
           "zeroline": false,
           "zerolinecolor": "rgb(36,36,36)"
          },
          "yaxis": {
           "automargin": true,
           "gridcolor": "rgb(232,232,232)",
           "linecolor": "rgb(36,36,36)",
           "showgrid": false,
           "showline": true,
           "ticks": "outside",
           "title": {
            "standoff": 15
           },
           "zeroline": false,
           "zerolinecolor": "rgb(36,36,36)"
          }
         }
        },
        "title": {
         "font": {
          "color": "Black",
          "size": 22
         },
         "text": "<b>Intertopic Distance Map</b>",
         "x": 0.5,
         "xanchor": "center",
         "y": 0.95,
         "yanchor": "top"
        },
        "width": 650,
        "xaxis": {
         "anchor": "y",
         "domain": [
          0,
          1
         ],
         "range": [
          22.083646488189697,
          31.306804847717284
         ],
         "title": {
          "text": ""
         },
         "visible": false
        },
        "yaxis": {
         "anchor": "x",
         "domain": [
          0,
          1
         ],
         "range": [
          8.920912837982177,
          14.202241611480712
         ],
         "title": {
          "text": ""
         },
         "visible": false
        }
       }
      },
      "text/html": [
       "<div>                        <script type=\"text/javascript\">window.PlotlyConfig = {MathJaxConfig: 'local'};</script>\n",
       "        <script src=\"https://cdn.plot.ly/plotly-2.18.2.min.js\"></script>                <div id=\"6cc84f64-65d4-470b-8e30-3dfc5cd637f3\" class=\"plotly-graph-div\" style=\"height:650px; width:650px;\"></div>            <script type=\"text/javascript\">                                    window.PLOTLYENV=window.PLOTLYENV || {};                                    if (document.getElementById(\"6cc84f64-65d4-470b-8e30-3dfc5cd637f3\")) {                    Plotly.newPlot(                        \"6cc84f64-65d4-470b-8e30-3dfc5cd637f3\",                        [{\"customdata\":[[0,\"not | here | position | see | most\",11521],[1,\"migrants | migrant | migration | microbe | transport\",25],[2,\"union | unionise | unionists | gewerkschaft | situation\",16],[3,\"phase | phases | eichhorn | these | see\",14],[4,\"storm | shitstorm | pandemie | hlleitung | norm\",14]],\"hovertemplate\":\"<b>Topic %{customdata[0]}</b><br>%{customdata[1]}<br>Size: %{customdata[2]}\",\"legendgroup\":\"\",\"marker\":{\"color\":\"#B0BEC5\",\"size\":[11521,25,16,14,14],\"sizemode\":\"area\",\"sizeref\":7.200625,\"symbol\":\"circle\",\"line\":{\"color\":\"DarkSlateGrey\",\"width\":2}},\"mode\":\"markers\",\"name\":\"\",\"orientation\":\"v\",\"showlegend\":false,\"x\":[27.223308563232422,26.768646240234375,25.98076057434082,26.48439598083496,27.063201904296875],\"xaxis\":\"x\",\"y\":[11.876659393310547,12.349775314331055,10.515860557556152,11.11596965789795,10.49519157409668],\"yaxis\":\"y\",\"type\":\"scatter\"}],                        {\"template\":{\"data\":{\"barpolar\":[{\"marker\":{\"line\":{\"color\":\"white\",\"width\":0.5},\"pattern\":{\"fillmode\":\"overlay\",\"size\":10,\"solidity\":0.2}},\"type\":\"barpolar\"}],\"bar\":[{\"error_x\":{\"color\":\"rgb(36,36,36)\"},\"error_y\":{\"color\":\"rgb(36,36,36)\"},\"marker\":{\"line\":{\"color\":\"white\",\"width\":0.5},\"pattern\":{\"fillmode\":\"overlay\",\"size\":10,\"solidity\":0.2}},\"type\":\"bar\"}],\"carpet\":[{\"aaxis\":{\"endlinecolor\":\"rgb(36,36,36)\",\"gridcolor\":\"white\",\"linecolor\":\"white\",\"minorgridcolor\":\"white\",\"startlinecolor\":\"rgb(36,36,36)\"},\"baxis\":{\"endlinecolor\":\"rgb(36,36,36)\",\"gridcolor\":\"white\",\"linecolor\":\"white\",\"minorgridcolor\":\"white\",\"startlinecolor\":\"rgb(36,36,36)\"},\"type\":\"carpet\"}],\"choropleth\":[{\"colorbar\":{\"outlinewidth\":1,\"tickcolor\":\"rgb(36,36,36)\",\"ticks\":\"outside\"},\"type\":\"choropleth\"}],\"contourcarpet\":[{\"colorbar\":{\"outlinewidth\":1,\"tickcolor\":\"rgb(36,36,36)\",\"ticks\":\"outside\"},\"type\":\"contourcarpet\"}],\"contour\":[{\"colorbar\":{\"outlinewidth\":1,\"tickcolor\":\"rgb(36,36,36)\",\"ticks\":\"outside\"},\"colorscale\":[[0.0,\"#440154\"],[0.1111111111111111,\"#482878\"],[0.2222222222222222,\"#3e4989\"],[0.3333333333333333,\"#31688e\"],[0.4444444444444444,\"#26828e\"],[0.5555555555555556,\"#1f9e89\"],[0.6666666666666666,\"#35b779\"],[0.7777777777777778,\"#6ece58\"],[0.8888888888888888,\"#b5de2b\"],[1.0,\"#fde725\"]],\"type\":\"contour\"}],\"heatmapgl\":[{\"colorbar\":{\"outlinewidth\":1,\"tickcolor\":\"rgb(36,36,36)\",\"ticks\":\"outside\"},\"colorscale\":[[0.0,\"#440154\"],[0.1111111111111111,\"#482878\"],[0.2222222222222222,\"#3e4989\"],[0.3333333333333333,\"#31688e\"],[0.4444444444444444,\"#26828e\"],[0.5555555555555556,\"#1f9e89\"],[0.6666666666666666,\"#35b779\"],[0.7777777777777778,\"#6ece58\"],[0.8888888888888888,\"#b5de2b\"],[1.0,\"#fde725\"]],\"type\":\"heatmapgl\"}],\"heatmap\":[{\"colorbar\":{\"outlinewidth\":1,\"tickcolor\":\"rgb(36,36,36)\",\"ticks\":\"outside\"},\"colorscale\":[[0.0,\"#440154\"],[0.1111111111111111,\"#482878\"],[0.2222222222222222,\"#3e4989\"],[0.3333333333333333,\"#31688e\"],[0.4444444444444444,\"#26828e\"],[0.5555555555555556,\"#1f9e89\"],[0.6666666666666666,\"#35b779\"],[0.7777777777777778,\"#6ece58\"],[0.8888888888888888,\"#b5de2b\"],[1.0,\"#fde725\"]],\"type\":\"heatmap\"}],\"histogram2dcontour\":[{\"colorbar\":{\"outlinewidth\":1,\"tickcolor\":\"rgb(36,36,36)\",\"ticks\":\"outside\"},\"colorscale\":[[0.0,\"#440154\"],[0.1111111111111111,\"#482878\"],[0.2222222222222222,\"#3e4989\"],[0.3333333333333333,\"#31688e\"],[0.4444444444444444,\"#26828e\"],[0.5555555555555556,\"#1f9e89\"],[0.6666666666666666,\"#35b779\"],[0.7777777777777778,\"#6ece58\"],[0.8888888888888888,\"#b5de2b\"],[1.0,\"#fde725\"]],\"type\":\"histogram2dcontour\"}],\"histogram2d\":[{\"colorbar\":{\"outlinewidth\":1,\"tickcolor\":\"rgb(36,36,36)\",\"ticks\":\"outside\"},\"colorscale\":[[0.0,\"#440154\"],[0.1111111111111111,\"#482878\"],[0.2222222222222222,\"#3e4989\"],[0.3333333333333333,\"#31688e\"],[0.4444444444444444,\"#26828e\"],[0.5555555555555556,\"#1f9e89\"],[0.6666666666666666,\"#35b779\"],[0.7777777777777778,\"#6ece58\"],[0.8888888888888888,\"#b5de2b\"],[1.0,\"#fde725\"]],\"type\":\"histogram2d\"}],\"histogram\":[{\"marker\":{\"line\":{\"color\":\"white\",\"width\":0.6}},\"type\":\"histogram\"}],\"mesh3d\":[{\"colorbar\":{\"outlinewidth\":1,\"tickcolor\":\"rgb(36,36,36)\",\"ticks\":\"outside\"},\"type\":\"mesh3d\"}],\"parcoords\":[{\"line\":{\"colorbar\":{\"outlinewidth\":1,\"tickcolor\":\"rgb(36,36,36)\",\"ticks\":\"outside\"}},\"type\":\"parcoords\"}],\"pie\":[{\"automargin\":true,\"type\":\"pie\"}],\"scatter3d\":[{\"line\":{\"colorbar\":{\"outlinewidth\":1,\"tickcolor\":\"rgb(36,36,36)\",\"ticks\":\"outside\"}},\"marker\":{\"colorbar\":{\"outlinewidth\":1,\"tickcolor\":\"rgb(36,36,36)\",\"ticks\":\"outside\"}},\"type\":\"scatter3d\"}],\"scattercarpet\":[{\"marker\":{\"colorbar\":{\"outlinewidth\":1,\"tickcolor\":\"rgb(36,36,36)\",\"ticks\":\"outside\"}},\"type\":\"scattercarpet\"}],\"scattergeo\":[{\"marker\":{\"colorbar\":{\"outlinewidth\":1,\"tickcolor\":\"rgb(36,36,36)\",\"ticks\":\"outside\"}},\"type\":\"scattergeo\"}],\"scattergl\":[{\"marker\":{\"colorbar\":{\"outlinewidth\":1,\"tickcolor\":\"rgb(36,36,36)\",\"ticks\":\"outside\"}},\"type\":\"scattergl\"}],\"scattermapbox\":[{\"marker\":{\"colorbar\":{\"outlinewidth\":1,\"tickcolor\":\"rgb(36,36,36)\",\"ticks\":\"outside\"}},\"type\":\"scattermapbox\"}],\"scatterpolargl\":[{\"marker\":{\"colorbar\":{\"outlinewidth\":1,\"tickcolor\":\"rgb(36,36,36)\",\"ticks\":\"outside\"}},\"type\":\"scatterpolargl\"}],\"scatterpolar\":[{\"marker\":{\"colorbar\":{\"outlinewidth\":1,\"tickcolor\":\"rgb(36,36,36)\",\"ticks\":\"outside\"}},\"type\":\"scatterpolar\"}],\"scatter\":[{\"fillpattern\":{\"fillmode\":\"overlay\",\"size\":10,\"solidity\":0.2},\"type\":\"scatter\"}],\"scatterternary\":[{\"marker\":{\"colorbar\":{\"outlinewidth\":1,\"tickcolor\":\"rgb(36,36,36)\",\"ticks\":\"outside\"}},\"type\":\"scatterternary\"}],\"surface\":[{\"colorbar\":{\"outlinewidth\":1,\"tickcolor\":\"rgb(36,36,36)\",\"ticks\":\"outside\"},\"colorscale\":[[0.0,\"#440154\"],[0.1111111111111111,\"#482878\"],[0.2222222222222222,\"#3e4989\"],[0.3333333333333333,\"#31688e\"],[0.4444444444444444,\"#26828e\"],[0.5555555555555556,\"#1f9e89\"],[0.6666666666666666,\"#35b779\"],[0.7777777777777778,\"#6ece58\"],[0.8888888888888888,\"#b5de2b\"],[1.0,\"#fde725\"]],\"type\":\"surface\"}],\"table\":[{\"cells\":{\"fill\":{\"color\":\"rgb(237,237,237)\"},\"line\":{\"color\":\"white\"}},\"header\":{\"fill\":{\"color\":\"rgb(217,217,217)\"},\"line\":{\"color\":\"white\"}},\"type\":\"table\"}]},\"layout\":{\"annotationdefaults\":{\"arrowhead\":0,\"arrowwidth\":1},\"autotypenumbers\":\"strict\",\"coloraxis\":{\"colorbar\":{\"outlinewidth\":1,\"tickcolor\":\"rgb(36,36,36)\",\"ticks\":\"outside\"}},\"colorscale\":{\"diverging\":[[0.0,\"rgb(103,0,31)\"],[0.1,\"rgb(178,24,43)\"],[0.2,\"rgb(214,96,77)\"],[0.3,\"rgb(244,165,130)\"],[0.4,\"rgb(253,219,199)\"],[0.5,\"rgb(247,247,247)\"],[0.6,\"rgb(209,229,240)\"],[0.7,\"rgb(146,197,222)\"],[0.8,\"rgb(67,147,195)\"],[0.9,\"rgb(33,102,172)\"],[1.0,\"rgb(5,48,97)\"]],\"sequential\":[[0.0,\"#440154\"],[0.1111111111111111,\"#482878\"],[0.2222222222222222,\"#3e4989\"],[0.3333333333333333,\"#31688e\"],[0.4444444444444444,\"#26828e\"],[0.5555555555555556,\"#1f9e89\"],[0.6666666666666666,\"#35b779\"],[0.7777777777777778,\"#6ece58\"],[0.8888888888888888,\"#b5de2b\"],[1.0,\"#fde725\"]],\"sequentialminus\":[[0.0,\"#440154\"],[0.1111111111111111,\"#482878\"],[0.2222222222222222,\"#3e4989\"],[0.3333333333333333,\"#31688e\"],[0.4444444444444444,\"#26828e\"],[0.5555555555555556,\"#1f9e89\"],[0.6666666666666666,\"#35b779\"],[0.7777777777777778,\"#6ece58\"],[0.8888888888888888,\"#b5de2b\"],[1.0,\"#fde725\"]]},\"colorway\":[\"#1F77B4\",\"#FF7F0E\",\"#2CA02C\",\"#D62728\",\"#9467BD\",\"#8C564B\",\"#E377C2\",\"#7F7F7F\",\"#BCBD22\",\"#17BECF\"],\"font\":{\"color\":\"rgb(36,36,36)\"},\"geo\":{\"bgcolor\":\"white\",\"lakecolor\":\"white\",\"landcolor\":\"white\",\"showlakes\":true,\"showland\":true,\"subunitcolor\":\"white\"},\"hoverlabel\":{\"align\":\"left\"},\"hovermode\":\"closest\",\"mapbox\":{\"style\":\"light\"},\"paper_bgcolor\":\"white\",\"plot_bgcolor\":\"white\",\"polar\":{\"angularaxis\":{\"gridcolor\":\"rgb(232,232,232)\",\"linecolor\":\"rgb(36,36,36)\",\"showgrid\":false,\"showline\":true,\"ticks\":\"outside\"},\"bgcolor\":\"white\",\"radialaxis\":{\"gridcolor\":\"rgb(232,232,232)\",\"linecolor\":\"rgb(36,36,36)\",\"showgrid\":false,\"showline\":true,\"ticks\":\"outside\"}},\"scene\":{\"xaxis\":{\"backgroundcolor\":\"white\",\"gridcolor\":\"rgb(232,232,232)\",\"gridwidth\":2,\"linecolor\":\"rgb(36,36,36)\",\"showbackground\":true,\"showgrid\":false,\"showline\":true,\"ticks\":\"outside\",\"zeroline\":false,\"zerolinecolor\":\"rgb(36,36,36)\"},\"yaxis\":{\"backgroundcolor\":\"white\",\"gridcolor\":\"rgb(232,232,232)\",\"gridwidth\":2,\"linecolor\":\"rgb(36,36,36)\",\"showbackground\":true,\"showgrid\":false,\"showline\":true,\"ticks\":\"outside\",\"zeroline\":false,\"zerolinecolor\":\"rgb(36,36,36)\"},\"zaxis\":{\"backgroundcolor\":\"white\",\"gridcolor\":\"rgb(232,232,232)\",\"gridwidth\":2,\"linecolor\":\"rgb(36,36,36)\",\"showbackground\":true,\"showgrid\":false,\"showline\":true,\"ticks\":\"outside\",\"zeroline\":false,\"zerolinecolor\":\"rgb(36,36,36)\"}},\"shapedefaults\":{\"fillcolor\":\"black\",\"line\":{\"width\":0},\"opacity\":0.3},\"ternary\":{\"aaxis\":{\"gridcolor\":\"rgb(232,232,232)\",\"linecolor\":\"rgb(36,36,36)\",\"showgrid\":false,\"showline\":true,\"ticks\":\"outside\"},\"baxis\":{\"gridcolor\":\"rgb(232,232,232)\",\"linecolor\":\"rgb(36,36,36)\",\"showgrid\":false,\"showline\":true,\"ticks\":\"outside\"},\"bgcolor\":\"white\",\"caxis\":{\"gridcolor\":\"rgb(232,232,232)\",\"linecolor\":\"rgb(36,36,36)\",\"showgrid\":false,\"showline\":true,\"ticks\":\"outside\"}},\"title\":{\"x\":0.05},\"xaxis\":{\"automargin\":true,\"gridcolor\":\"rgb(232,232,232)\",\"linecolor\":\"rgb(36,36,36)\",\"showgrid\":false,\"showline\":true,\"ticks\":\"outside\",\"title\":{\"standoff\":15},\"zeroline\":false,\"zerolinecolor\":\"rgb(36,36,36)\"},\"yaxis\":{\"automargin\":true,\"gridcolor\":\"rgb(232,232,232)\",\"linecolor\":\"rgb(36,36,36)\",\"showgrid\":false,\"showline\":true,\"ticks\":\"outside\",\"title\":{\"standoff\":15},\"zeroline\":false,\"zerolinecolor\":\"rgb(36,36,36)\"}}},\"xaxis\":{\"anchor\":\"y\",\"domain\":[0.0,1.0],\"title\":{\"text\":\"\"},\"visible\":false,\"range\":[22.083646488189697,31.306804847717284]},\"yaxis\":{\"anchor\":\"x\",\"domain\":[0.0,1.0],\"title\":{\"text\":\"\"},\"visible\":false,\"range\":[8.920912837982177,14.202241611480712]},\"legend\":{\"tracegroupgap\":0,\"itemsizing\":\"constant\"},\"margin\":{\"t\":60},\"title\":{\"font\":{\"size\":22,\"color\":\"Black\"},\"text\":\"<b>Intertopic Distance Map</b>\",\"y\":0.95,\"x\":0.5,\"xanchor\":\"center\",\"yanchor\":\"top\"},\"hoverlabel\":{\"font\":{\"size\":16,\"family\":\"Rockwell\"},\"bgcolor\":\"white\"},\"width\":650,\"height\":650,\"sliders\":[{\"active\":0,\"pad\":{\"t\":50},\"steps\":[{\"args\":[{\"marker.color\":[[\"red\",\"#B0BEC5\",\"#B0BEC5\",\"#B0BEC5\",\"#B0BEC5\"]]}],\"label\":\"Topic 0\",\"method\":\"update\"},{\"args\":[{\"marker.color\":[[\"#B0BEC5\",\"red\",\"#B0BEC5\",\"#B0BEC5\",\"#B0BEC5\"]]}],\"label\":\"Topic 1\",\"method\":\"update\"},{\"args\":[{\"marker.color\":[[\"#B0BEC5\",\"#B0BEC5\",\"red\",\"#B0BEC5\",\"#B0BEC5\"]]}],\"label\":\"Topic 2\",\"method\":\"update\"},{\"args\":[{\"marker.color\":[[\"#B0BEC5\",\"#B0BEC5\",\"#B0BEC5\",\"red\",\"#B0BEC5\"]]}],\"label\":\"Topic 3\",\"method\":\"update\"},{\"args\":[{\"marker.color\":[[\"#B0BEC5\",\"#B0BEC5\",\"#B0BEC5\",\"#B0BEC5\",\"red\"]]}],\"label\":\"Topic 4\",\"method\":\"update\"}]}],\"shapes\":[{\"line\":{\"color\":\"#CFD8DC\",\"width\":2},\"type\":\"line\",\"x0\":26.69522566795349,\"x1\":26.69522566795349,\"y0\":8.920912837982177,\"y1\":14.202241611480712},{\"line\":{\"color\":\"#9E9E9E\",\"width\":2},\"type\":\"line\",\"x0\":22.083646488189697,\"x1\":31.306804847717284,\"y0\":11.561577224731444,\"y1\":11.561577224731444}],\"annotations\":[{\"showarrow\":false,\"text\":\"D1\",\"x\":22.083646488189697,\"y\":11.561577224731444,\"yshift\":10},{\"showarrow\":false,\"text\":\"D2\",\"x\":26.69522566795349,\"xshift\":10,\"y\":14.202241611480712}]},                        {\"responsive\": true}                    )                };                            </script>        </div>"
      ],
      "text/plain": [
       "Figure({\n",
       "    'data': [{'customdata': array([[0, 'not | here | position | see | most', 11521],\n",
       "                                   [1, 'migrants | migrant | migration | microbe | transport', 25],\n",
       "                                   [2, 'union | unionise | unionists | gewerkschaft | situation', 16],\n",
       "                                   [3, 'phase | phases | eichhorn | these | see', 14],\n",
       "                                   [4, 'storm | shitstorm | pandemie | hlleitung | norm', 14]],\n",
       "                                  dtype=object),\n",
       "              'hovertemplate': '<b>Topic %{customdata[0]}</b><br>%{customdata[1]}<br>Size: %{customdata[2]}',\n",
       "              'legendgroup': '',\n",
       "              'marker': {'color': '#B0BEC5',\n",
       "                         'line': {'color': 'DarkSlateGrey', 'width': 2},\n",
       "                         'size': array([11521,    25,    16,    14,    14], dtype=int64),\n",
       "                         'sizemode': 'area',\n",
       "                         'sizeref': 7.200625,\n",
       "                         'symbol': 'circle'},\n",
       "              'mode': 'markers',\n",
       "              'name': '',\n",
       "              'orientation': 'v',\n",
       "              'showlegend': False,\n",
       "              'type': 'scatter',\n",
       "              'x': array([27.223309, 26.768646, 25.98076 , 26.484396, 27.063202], dtype=float32),\n",
       "              'xaxis': 'x',\n",
       "              'y': array([11.876659, 12.349775, 10.515861, 11.11597 , 10.495192], dtype=float32),\n",
       "              'yaxis': 'y'}],\n",
       "    'layout': {'annotations': [{'showarrow': False,\n",
       "                                'text': 'D1',\n",
       "                                'x': 22.083646488189697,\n",
       "                                'y': 11.561577224731444,\n",
       "                                'yshift': 10},\n",
       "                               {'showarrow': False,\n",
       "                                'text': 'D2',\n",
       "                                'x': 26.69522566795349,\n",
       "                                'xshift': 10,\n",
       "                                'y': 14.202241611480712}],\n",
       "               'height': 650,\n",
       "               'hoverlabel': {'bgcolor': 'white', 'font': {'family': 'Rockwell', 'size': 16}},\n",
       "               'legend': {'itemsizing': 'constant', 'tracegroupgap': 0},\n",
       "               'margin': {'t': 60},\n",
       "               'shapes': [{'line': {'color': '#CFD8DC', 'width': 2},\n",
       "                           'type': 'line',\n",
       "                           'x0': 26.69522566795349,\n",
       "                           'x1': 26.69522566795349,\n",
       "                           'y0': 8.920912837982177,\n",
       "                           'y1': 14.202241611480712},\n",
       "                          {'line': {'color': '#9E9E9E', 'width': 2},\n",
       "                           'type': 'line',\n",
       "                           'x0': 22.083646488189697,\n",
       "                           'x1': 31.306804847717284,\n",
       "                           'y0': 11.561577224731444,\n",
       "                           'y1': 11.561577224731444}],\n",
       "               'sliders': [{'active': 0,\n",
       "                            'pad': {'t': 50},\n",
       "                            'steps': [{'args': [{'marker.color': [['red', '#B0BEC5', '#B0BEC5', '#B0BEC5', '#B0BEC5']]}],\n",
       "                                       'label': 'Topic 0',\n",
       "                                       'method': 'update'},\n",
       "                                      {'args': [{'marker.color': [['#B0BEC5', 'red', '#B0BEC5', '#B0BEC5', '#B0BEC5']]}],\n",
       "                                       'label': 'Topic 1',\n",
       "                                       'method': 'update'},\n",
       "                                      {'args': [{'marker.color': [['#B0BEC5', '#B0BEC5', 'red', '#B0BEC5', '#B0BEC5']]}],\n",
       "                                       'label': 'Topic 2',\n",
       "                                       'method': 'update'},\n",
       "                                      {'args': [{'marker.color': [['#B0BEC5', '#B0BEC5', '#B0BEC5', 'red', '#B0BEC5']]}],\n",
       "                                       'label': 'Topic 3',\n",
       "                                       'method': 'update'},\n",
       "                                      {'args': [{'marker.color': [['#B0BEC5', '#B0BEC5', '#B0BEC5', '#B0BEC5', 'red']]}],\n",
       "                                       'label': 'Topic 4',\n",
       "                                       'method': 'update'}]}],\n",
       "               'template': '...',\n",
       "               'title': {'font': {'color': 'Black', 'size': 22},\n",
       "                         'text': '<b>Intertopic Distance Map</b>',\n",
       "                         'x': 0.5,\n",
       "                         'xanchor': 'center',\n",
       "                         'y': 0.95,\n",
       "                         'yanchor': 'top'},\n",
       "               'width': 650,\n",
       "               'xaxis': {'anchor': 'y',\n",
       "                         'domain': [0.0, 1.0],\n",
       "                         'range': [22.083646488189697, 31.306804847717284],\n",
       "                         'title': {'text': ''},\n",
       "                         'visible': False},\n",
       "               'yaxis': {'anchor': 'x',\n",
       "                         'domain': [0.0, 1.0],\n",
       "                         'range': [8.920912837982177, 14.202241611480712],\n",
       "                         'title': {'text': ''},\n",
       "                         'visible': False}}\n",
       "})"
      ]
     },
     "execution_count": 52,
     "metadata": {},
     "output_type": "execute_result"
    }
   ],
   "source": [
    "en_de_model.visualize_topics()"
   ]
  },
  {
   "cell_type": "code",
   "execution_count": 54,
   "metadata": {},
   "outputs": [
    {
     "ename": "ValueError",
     "evalue": "Mime type rendering requires nbformat>=4.2.0 but it is not installed",
     "output_type": "error",
     "traceback": [
      "\u001b[1;31m---------------------------------------------------------------------------\u001b[0m",
      "\u001b[1;31mValueError\u001b[0m                                Traceback (most recent call last)",
      "File \u001b[1;32mc:\\Softwares\\anaconda3\\envs\\dbse-project\\lib\\site-packages\\IPython\\core\\formatters.py:920\u001b[0m, in \u001b[0;36mIPythonDisplayFormatter.__call__\u001b[1;34m(self, obj)\u001b[0m\n\u001b[0;32m    918\u001b[0m method \u001b[39m=\u001b[39m get_real_method(obj, \u001b[39mself\u001b[39m\u001b[39m.\u001b[39mprint_method)\n\u001b[0;32m    919\u001b[0m \u001b[39mif\u001b[39;00m method \u001b[39mis\u001b[39;00m \u001b[39mnot\u001b[39;00m \u001b[39mNone\u001b[39;00m:\n\u001b[1;32m--> 920\u001b[0m     method()\n\u001b[0;32m    921\u001b[0m     \u001b[39mreturn\u001b[39;00m \u001b[39mTrue\u001b[39;00m\n",
      "File \u001b[1;32mc:\\Softwares\\anaconda3\\envs\\dbse-project\\lib\\site-packages\\plotly\\basedatatypes.py:834\u001b[0m, in \u001b[0;36mBaseFigure._ipython_display_\u001b[1;34m(self)\u001b[0m\n\u001b[0;32m    831\u001b[0m \u001b[39mimport\u001b[39;00m \u001b[39mplotly\u001b[39;00m\u001b[39m.\u001b[39;00m\u001b[39mio\u001b[39;00m \u001b[39mas\u001b[39;00m \u001b[39mpio\u001b[39;00m\n\u001b[0;32m    833\u001b[0m \u001b[39mif\u001b[39;00m pio\u001b[39m.\u001b[39mrenderers\u001b[39m.\u001b[39mrender_on_display \u001b[39mand\u001b[39;00m pio\u001b[39m.\u001b[39mrenderers\u001b[39m.\u001b[39mdefault:\n\u001b[1;32m--> 834\u001b[0m     pio\u001b[39m.\u001b[39;49mshow(\u001b[39mself\u001b[39;49m)\n\u001b[0;32m    835\u001b[0m \u001b[39melse\u001b[39;00m:\n\u001b[0;32m    836\u001b[0m     \u001b[39mprint\u001b[39m(\u001b[39mrepr\u001b[39m(\u001b[39mself\u001b[39m))\n",
      "File \u001b[1;32mc:\\Softwares\\anaconda3\\envs\\dbse-project\\lib\\site-packages\\plotly\\io\\_renderers.py:396\u001b[0m, in \u001b[0;36mshow\u001b[1;34m(fig, renderer, validate, **kwargs)\u001b[0m\n\u001b[0;32m    391\u001b[0m         \u001b[39mraise\u001b[39;00m \u001b[39mValueError\u001b[39;00m(\n\u001b[0;32m    392\u001b[0m             \u001b[39m\"\u001b[39m\u001b[39mMime type rendering requires ipython but it is not installed\u001b[39m\u001b[39m\"\u001b[39m\n\u001b[0;32m    393\u001b[0m         )\n\u001b[0;32m    395\u001b[0m     \u001b[39mif\u001b[39;00m \u001b[39mnot\u001b[39;00m nbformat \u001b[39mor\u001b[39;00m Version(nbformat\u001b[39m.\u001b[39m__version__) \u001b[39m<\u001b[39m Version(\u001b[39m\"\u001b[39m\u001b[39m4.2.0\u001b[39m\u001b[39m\"\u001b[39m):\n\u001b[1;32m--> 396\u001b[0m         \u001b[39mraise\u001b[39;00m \u001b[39mValueError\u001b[39;00m(\n\u001b[0;32m    397\u001b[0m             \u001b[39m\"\u001b[39m\u001b[39mMime type rendering requires nbformat>=4.2.0 but it is not installed\u001b[39m\u001b[39m\"\u001b[39m\n\u001b[0;32m    398\u001b[0m         )\n\u001b[0;32m    400\u001b[0m     ipython_display\u001b[39m.\u001b[39mdisplay(bundle, raw\u001b[39m=\u001b[39m\u001b[39mTrue\u001b[39;00m)\n\u001b[0;32m    402\u001b[0m \u001b[39m# external renderers\u001b[39;00m\n",
      "\u001b[1;31mValueError\u001b[0m: Mime type rendering requires nbformat>=4.2.0 but it is not installed"
     ]
    },
    {
     "data": {
      "application/vnd.plotly.v1+json": {
       "config": {
        "plotlyServerURL": "https://plot.ly"
       },
       "data": [
        {
         "marker": {
          "color": "#D55E00"
         },
         "orientation": "h",
         "type": "bar",
         "x": [
          0.04915273993840052,
          0.049813014611493685,
          0.05115141893105643,
          0.06222921636961949,
          0.10653987712934514
         ],
         "xaxis": "x",
         "y": [
          "most  ",
          "see  ",
          "position  ",
          "here  ",
          "not  "
         ],
         "yaxis": "y"
        },
        {
         "marker": {
          "color": "#0072B2"
         },
         "orientation": "h",
         "type": "bar",
         "x": [
          0.2596167321271828,
          0.2596167321271828,
          0.46977269270424277,
          0.7829980121852184,
          1.0111809281460946
         ],
         "xaxis": "x2",
         "y": [
          "transport  ",
          "microbe  ",
          "migration  ",
          "migrant  ",
          "migrants  "
         ],
         "yaxis": "y2"
        },
        {
         "marker": {
          "color": "#CC79A7"
         },
         "orientation": "h",
         "type": "bar",
         "x": [
          0.21345145722639686,
          0.6057723749634265,
          0.6057723749634265,
          0.6057723749634265,
          2.5973457283512094
         ],
         "xaxis": "x3",
         "y": [
          "situation  ",
          "gewerkschaft  ",
          "unionists  ",
          "unionise  ",
          "union  "
         ],
         "yaxis": "y3"
        },
        {
         "marker": {
          "color": "#E69F00"
         },
         "orientation": "h",
         "type": "bar",
         "x": [
          0.17220305588812063,
          0.186193225145205,
          0.5143373736669496,
          0.6057723749634265,
          2.319613243797073
         ],
         "xaxis": "x4",
         "y": [
          "see  ",
          "these  ",
          "eichhorn  ",
          "phases  ",
          "phase  "
         ],
         "yaxis": "y4"
        },
        {
         "marker": {
          "color": "#56B4E9"
         },
         "orientation": "h",
         "type": "bar",
         "x": [
          0.3252210192438687,
          0.4846178999707413,
          0.4846178999707413,
          0.8769090263812531,
          1.56934981916579
         ],
         "xaxis": "x5",
         "y": [
          "norm  ",
          "hlleitung  ",
          "pandemie  ",
          "shitstorm  ",
          "storm  "
         ],
         "yaxis": "y5"
        }
       ],
       "layout": {
        "annotations": [
         {
          "font": {
           "size": 16
          },
          "showarrow": false,
          "text": "Topic 0",
          "x": 0.0875,
          "xanchor": "center",
          "xref": "paper",
          "y": 1,
          "yanchor": "bottom",
          "yref": "paper"
         },
         {
          "font": {
           "size": 16
          },
          "showarrow": false,
          "text": "Topic 1",
          "x": 0.36250000000000004,
          "xanchor": "center",
          "xref": "paper",
          "y": 1,
          "yanchor": "bottom",
          "yref": "paper"
         },
         {
          "font": {
           "size": 16
          },
          "showarrow": false,
          "text": "Topic 2",
          "x": 0.6375000000000001,
          "xanchor": "center",
          "xref": "paper",
          "y": 1,
          "yanchor": "bottom",
          "yref": "paper"
         },
         {
          "font": {
           "size": 16
          },
          "showarrow": false,
          "text": "Topic 3",
          "x": 0.9125,
          "xanchor": "center",
          "xref": "paper",
          "y": 1,
          "yanchor": "bottom",
          "yref": "paper"
         },
         {
          "font": {
           "size": 16
          },
          "showarrow": false,
          "text": "Topic 4",
          "x": 0.0875,
          "xanchor": "center",
          "xref": "paper",
          "y": 0.4,
          "yanchor": "bottom",
          "yref": "paper"
         }
        ],
        "height": 500,
        "hoverlabel": {
         "bgcolor": "white",
         "font": {
          "family": "Rockwell",
          "size": 16
         }
        },
        "showlegend": false,
        "template": {
         "data": {
          "bar": [
           {
            "error_x": {
             "color": "#2a3f5f"
            },
            "error_y": {
             "color": "#2a3f5f"
            },
            "marker": {
             "line": {
              "color": "white",
              "width": 0.5
             },
             "pattern": {
              "fillmode": "overlay",
              "size": 10,
              "solidity": 0.2
             }
            },
            "type": "bar"
           }
          ],
          "barpolar": [
           {
            "marker": {
             "line": {
              "color": "white",
              "width": 0.5
             },
             "pattern": {
              "fillmode": "overlay",
              "size": 10,
              "solidity": 0.2
             }
            },
            "type": "barpolar"
           }
          ],
          "carpet": [
           {
            "aaxis": {
             "endlinecolor": "#2a3f5f",
             "gridcolor": "#C8D4E3",
             "linecolor": "#C8D4E3",
             "minorgridcolor": "#C8D4E3",
             "startlinecolor": "#2a3f5f"
            },
            "baxis": {
             "endlinecolor": "#2a3f5f",
             "gridcolor": "#C8D4E3",
             "linecolor": "#C8D4E3",
             "minorgridcolor": "#C8D4E3",
             "startlinecolor": "#2a3f5f"
            },
            "type": "carpet"
           }
          ],
          "choropleth": [
           {
            "colorbar": {
             "outlinewidth": 0,
             "ticks": ""
            },
            "type": "choropleth"
           }
          ],
          "contour": [
           {
            "colorbar": {
             "outlinewidth": 0,
             "ticks": ""
            },
            "colorscale": [
             [
              0,
              "#0d0887"
             ],
             [
              0.1111111111111111,
              "#46039f"
             ],
             [
              0.2222222222222222,
              "#7201a8"
             ],
             [
              0.3333333333333333,
              "#9c179e"
             ],
             [
              0.4444444444444444,
              "#bd3786"
             ],
             [
              0.5555555555555556,
              "#d8576b"
             ],
             [
              0.6666666666666666,
              "#ed7953"
             ],
             [
              0.7777777777777778,
              "#fb9f3a"
             ],
             [
              0.8888888888888888,
              "#fdca26"
             ],
             [
              1,
              "#f0f921"
             ]
            ],
            "type": "contour"
           }
          ],
          "contourcarpet": [
           {
            "colorbar": {
             "outlinewidth": 0,
             "ticks": ""
            },
            "type": "contourcarpet"
           }
          ],
          "heatmap": [
           {
            "colorbar": {
             "outlinewidth": 0,
             "ticks": ""
            },
            "colorscale": [
             [
              0,
              "#0d0887"
             ],
             [
              0.1111111111111111,
              "#46039f"
             ],
             [
              0.2222222222222222,
              "#7201a8"
             ],
             [
              0.3333333333333333,
              "#9c179e"
             ],
             [
              0.4444444444444444,
              "#bd3786"
             ],
             [
              0.5555555555555556,
              "#d8576b"
             ],
             [
              0.6666666666666666,
              "#ed7953"
             ],
             [
              0.7777777777777778,
              "#fb9f3a"
             ],
             [
              0.8888888888888888,
              "#fdca26"
             ],
             [
              1,
              "#f0f921"
             ]
            ],
            "type": "heatmap"
           }
          ],
          "heatmapgl": [
           {
            "colorbar": {
             "outlinewidth": 0,
             "ticks": ""
            },
            "colorscale": [
             [
              0,
              "#0d0887"
             ],
             [
              0.1111111111111111,
              "#46039f"
             ],
             [
              0.2222222222222222,
              "#7201a8"
             ],
             [
              0.3333333333333333,
              "#9c179e"
             ],
             [
              0.4444444444444444,
              "#bd3786"
             ],
             [
              0.5555555555555556,
              "#d8576b"
             ],
             [
              0.6666666666666666,
              "#ed7953"
             ],
             [
              0.7777777777777778,
              "#fb9f3a"
             ],
             [
              0.8888888888888888,
              "#fdca26"
             ],
             [
              1,
              "#f0f921"
             ]
            ],
            "type": "heatmapgl"
           }
          ],
          "histogram": [
           {
            "marker": {
             "pattern": {
              "fillmode": "overlay",
              "size": 10,
              "solidity": 0.2
             }
            },
            "type": "histogram"
           }
          ],
          "histogram2d": [
           {
            "colorbar": {
             "outlinewidth": 0,
             "ticks": ""
            },
            "colorscale": [
             [
              0,
              "#0d0887"
             ],
             [
              0.1111111111111111,
              "#46039f"
             ],
             [
              0.2222222222222222,
              "#7201a8"
             ],
             [
              0.3333333333333333,
              "#9c179e"
             ],
             [
              0.4444444444444444,
              "#bd3786"
             ],
             [
              0.5555555555555556,
              "#d8576b"
             ],
             [
              0.6666666666666666,
              "#ed7953"
             ],
             [
              0.7777777777777778,
              "#fb9f3a"
             ],
             [
              0.8888888888888888,
              "#fdca26"
             ],
             [
              1,
              "#f0f921"
             ]
            ],
            "type": "histogram2d"
           }
          ],
          "histogram2dcontour": [
           {
            "colorbar": {
             "outlinewidth": 0,
             "ticks": ""
            },
            "colorscale": [
             [
              0,
              "#0d0887"
             ],
             [
              0.1111111111111111,
              "#46039f"
             ],
             [
              0.2222222222222222,
              "#7201a8"
             ],
             [
              0.3333333333333333,
              "#9c179e"
             ],
             [
              0.4444444444444444,
              "#bd3786"
             ],
             [
              0.5555555555555556,
              "#d8576b"
             ],
             [
              0.6666666666666666,
              "#ed7953"
             ],
             [
              0.7777777777777778,
              "#fb9f3a"
             ],
             [
              0.8888888888888888,
              "#fdca26"
             ],
             [
              1,
              "#f0f921"
             ]
            ],
            "type": "histogram2dcontour"
           }
          ],
          "mesh3d": [
           {
            "colorbar": {
             "outlinewidth": 0,
             "ticks": ""
            },
            "type": "mesh3d"
           }
          ],
          "parcoords": [
           {
            "line": {
             "colorbar": {
              "outlinewidth": 0,
              "ticks": ""
             }
            },
            "type": "parcoords"
           }
          ],
          "pie": [
           {
            "automargin": true,
            "type": "pie"
           }
          ],
          "scatter": [
           {
            "fillpattern": {
             "fillmode": "overlay",
             "size": 10,
             "solidity": 0.2
            },
            "type": "scatter"
           }
          ],
          "scatter3d": [
           {
            "line": {
             "colorbar": {
              "outlinewidth": 0,
              "ticks": ""
             }
            },
            "marker": {
             "colorbar": {
              "outlinewidth": 0,
              "ticks": ""
             }
            },
            "type": "scatter3d"
           }
          ],
          "scattercarpet": [
           {
            "marker": {
             "colorbar": {
              "outlinewidth": 0,
              "ticks": ""
             }
            },
            "type": "scattercarpet"
           }
          ],
          "scattergeo": [
           {
            "marker": {
             "colorbar": {
              "outlinewidth": 0,
              "ticks": ""
             }
            },
            "type": "scattergeo"
           }
          ],
          "scattergl": [
           {
            "marker": {
             "colorbar": {
              "outlinewidth": 0,
              "ticks": ""
             }
            },
            "type": "scattergl"
           }
          ],
          "scattermapbox": [
           {
            "marker": {
             "colorbar": {
              "outlinewidth": 0,
              "ticks": ""
             }
            },
            "type": "scattermapbox"
           }
          ],
          "scatterpolar": [
           {
            "marker": {
             "colorbar": {
              "outlinewidth": 0,
              "ticks": ""
             }
            },
            "type": "scatterpolar"
           }
          ],
          "scatterpolargl": [
           {
            "marker": {
             "colorbar": {
              "outlinewidth": 0,
              "ticks": ""
             }
            },
            "type": "scatterpolargl"
           }
          ],
          "scatterternary": [
           {
            "marker": {
             "colorbar": {
              "outlinewidth": 0,
              "ticks": ""
             }
            },
            "type": "scatterternary"
           }
          ],
          "surface": [
           {
            "colorbar": {
             "outlinewidth": 0,
             "ticks": ""
            },
            "colorscale": [
             [
              0,
              "#0d0887"
             ],
             [
              0.1111111111111111,
              "#46039f"
             ],
             [
              0.2222222222222222,
              "#7201a8"
             ],
             [
              0.3333333333333333,
              "#9c179e"
             ],
             [
              0.4444444444444444,
              "#bd3786"
             ],
             [
              0.5555555555555556,
              "#d8576b"
             ],
             [
              0.6666666666666666,
              "#ed7953"
             ],
             [
              0.7777777777777778,
              "#fb9f3a"
             ],
             [
              0.8888888888888888,
              "#fdca26"
             ],
             [
              1,
              "#f0f921"
             ]
            ],
            "type": "surface"
           }
          ],
          "table": [
           {
            "cells": {
             "fill": {
              "color": "#EBF0F8"
             },
             "line": {
              "color": "white"
             }
            },
            "header": {
             "fill": {
              "color": "#C8D4E3"
             },
             "line": {
              "color": "white"
             }
            },
            "type": "table"
           }
          ]
         },
         "layout": {
          "annotationdefaults": {
           "arrowcolor": "#2a3f5f",
           "arrowhead": 0,
           "arrowwidth": 1
          },
          "autotypenumbers": "strict",
          "coloraxis": {
           "colorbar": {
            "outlinewidth": 0,
            "ticks": ""
           }
          },
          "colorscale": {
           "diverging": [
            [
             0,
             "#8e0152"
            ],
            [
             0.1,
             "#c51b7d"
            ],
            [
             0.2,
             "#de77ae"
            ],
            [
             0.3,
             "#f1b6da"
            ],
            [
             0.4,
             "#fde0ef"
            ],
            [
             0.5,
             "#f7f7f7"
            ],
            [
             0.6,
             "#e6f5d0"
            ],
            [
             0.7,
             "#b8e186"
            ],
            [
             0.8,
             "#7fbc41"
            ],
            [
             0.9,
             "#4d9221"
            ],
            [
             1,
             "#276419"
            ]
           ],
           "sequential": [
            [
             0,
             "#0d0887"
            ],
            [
             0.1111111111111111,
             "#46039f"
            ],
            [
             0.2222222222222222,
             "#7201a8"
            ],
            [
             0.3333333333333333,
             "#9c179e"
            ],
            [
             0.4444444444444444,
             "#bd3786"
            ],
            [
             0.5555555555555556,
             "#d8576b"
            ],
            [
             0.6666666666666666,
             "#ed7953"
            ],
            [
             0.7777777777777778,
             "#fb9f3a"
            ],
            [
             0.8888888888888888,
             "#fdca26"
            ],
            [
             1,
             "#f0f921"
            ]
           ],
           "sequentialminus": [
            [
             0,
             "#0d0887"
            ],
            [
             0.1111111111111111,
             "#46039f"
            ],
            [
             0.2222222222222222,
             "#7201a8"
            ],
            [
             0.3333333333333333,
             "#9c179e"
            ],
            [
             0.4444444444444444,
             "#bd3786"
            ],
            [
             0.5555555555555556,
             "#d8576b"
            ],
            [
             0.6666666666666666,
             "#ed7953"
            ],
            [
             0.7777777777777778,
             "#fb9f3a"
            ],
            [
             0.8888888888888888,
             "#fdca26"
            ],
            [
             1,
             "#f0f921"
            ]
           ]
          },
          "colorway": [
           "#636efa",
           "#EF553B",
           "#00cc96",
           "#ab63fa",
           "#FFA15A",
           "#19d3f3",
           "#FF6692",
           "#B6E880",
           "#FF97FF",
           "#FECB52"
          ],
          "font": {
           "color": "#2a3f5f"
          },
          "geo": {
           "bgcolor": "white",
           "lakecolor": "white",
           "landcolor": "white",
           "showlakes": true,
           "showland": true,
           "subunitcolor": "#C8D4E3"
          },
          "hoverlabel": {
           "align": "left"
          },
          "hovermode": "closest",
          "mapbox": {
           "style": "light"
          },
          "paper_bgcolor": "white",
          "plot_bgcolor": "white",
          "polar": {
           "angularaxis": {
            "gridcolor": "#EBF0F8",
            "linecolor": "#EBF0F8",
            "ticks": ""
           },
           "bgcolor": "white",
           "radialaxis": {
            "gridcolor": "#EBF0F8",
            "linecolor": "#EBF0F8",
            "ticks": ""
           }
          },
          "scene": {
           "xaxis": {
            "backgroundcolor": "white",
            "gridcolor": "#DFE8F3",
            "gridwidth": 2,
            "linecolor": "#EBF0F8",
            "showbackground": true,
            "ticks": "",
            "zerolinecolor": "#EBF0F8"
           },
           "yaxis": {
            "backgroundcolor": "white",
            "gridcolor": "#DFE8F3",
            "gridwidth": 2,
            "linecolor": "#EBF0F8",
            "showbackground": true,
            "ticks": "",
            "zerolinecolor": "#EBF0F8"
           },
           "zaxis": {
            "backgroundcolor": "white",
            "gridcolor": "#DFE8F3",
            "gridwidth": 2,
            "linecolor": "#EBF0F8",
            "showbackground": true,
            "ticks": "",
            "zerolinecolor": "#EBF0F8"
           }
          },
          "shapedefaults": {
           "line": {
            "color": "#2a3f5f"
           }
          },
          "ternary": {
           "aaxis": {
            "gridcolor": "#DFE8F3",
            "linecolor": "#A2B1C6",
            "ticks": ""
           },
           "baxis": {
            "gridcolor": "#DFE8F3",
            "linecolor": "#A2B1C6",
            "ticks": ""
           },
           "bgcolor": "white",
           "caxis": {
            "gridcolor": "#DFE8F3",
            "linecolor": "#A2B1C6",
            "ticks": ""
           }
          },
          "title": {
           "x": 0.05
          },
          "xaxis": {
           "automargin": true,
           "gridcolor": "#EBF0F8",
           "linecolor": "#EBF0F8",
           "ticks": "",
           "title": {
            "standoff": 15
           },
           "zerolinecolor": "#EBF0F8",
           "zerolinewidth": 2
          },
          "yaxis": {
           "automargin": true,
           "gridcolor": "#EBF0F8",
           "linecolor": "#EBF0F8",
           "ticks": "",
           "title": {
            "standoff": 15
           },
           "zerolinecolor": "#EBF0F8",
           "zerolinewidth": 2
          }
         }
        },
        "title": {
         "font": {
          "color": "Black",
          "size": 22
         },
         "text": "Topic Word Scores",
         "x": 0.5,
         "xanchor": "center",
         "yanchor": "top"
        },
        "width": 1000,
        "xaxis": {
         "anchor": "y",
         "domain": [
          0,
          0.175
         ],
         "showgrid": true
        },
        "xaxis2": {
         "anchor": "y2",
         "domain": [
          0.275,
          0.45
         ],
         "showgrid": true
        },
        "xaxis3": {
         "anchor": "y3",
         "domain": [
          0.55,
          0.7250000000000001
         ],
         "showgrid": true
        },
        "xaxis4": {
         "anchor": "y4",
         "domain": [
          0.825,
          1
         ],
         "showgrid": true
        },
        "xaxis5": {
         "anchor": "y5",
         "domain": [
          0,
          0.175
         ],
         "showgrid": true
        },
        "xaxis6": {
         "anchor": "y6",
         "domain": [
          0.275,
          0.45
         ],
         "showgrid": true
        },
        "xaxis7": {
         "anchor": "y7",
         "domain": [
          0.55,
          0.7250000000000001
         ],
         "showgrid": true
        },
        "xaxis8": {
         "anchor": "y8",
         "domain": [
          0.825,
          1
         ],
         "showgrid": true
        },
        "yaxis": {
         "anchor": "x",
         "domain": [
          0.6000000000000001,
          1
         ],
         "showgrid": true
        },
        "yaxis2": {
         "anchor": "x2",
         "domain": [
          0.6000000000000001,
          1
         ],
         "showgrid": true
        },
        "yaxis3": {
         "anchor": "x3",
         "domain": [
          0.6000000000000001,
          1
         ],
         "showgrid": true
        },
        "yaxis4": {
         "anchor": "x4",
         "domain": [
          0.6000000000000001,
          1
         ],
         "showgrid": true
        },
        "yaxis5": {
         "anchor": "x5",
         "domain": [
          0,
          0.4
         ],
         "showgrid": true
        },
        "yaxis6": {
         "anchor": "x6",
         "domain": [
          0,
          0.4
         ],
         "showgrid": true
        },
        "yaxis7": {
         "anchor": "x7",
         "domain": [
          0,
          0.4
         ],
         "showgrid": true
        },
        "yaxis8": {
         "anchor": "x8",
         "domain": [
          0,
          0.4
         ],
         "showgrid": true
        }
       }
      },
      "text/html": [
       "<div>                        <script type=\"text/javascript\">window.PlotlyConfig = {MathJaxConfig: 'local'};</script>\n",
       "        <script src=\"https://cdn.plot.ly/plotly-2.18.2.min.js\"></script>                <div id=\"2b77083c-f2be-43fd-90a0-16c2cb23aa82\" class=\"plotly-graph-div\" style=\"height:500px; width:1000px;\"></div>            <script type=\"text/javascript\">                                    window.PLOTLYENV=window.PLOTLYENV || {};                                    if (document.getElementById(\"2b77083c-f2be-43fd-90a0-16c2cb23aa82\")) {                    Plotly.newPlot(                        \"2b77083c-f2be-43fd-90a0-16c2cb23aa82\",                        [{\"marker\":{\"color\":\"#D55E00\"},\"orientation\":\"h\",\"x\":[0.04915273993840052,0.049813014611493685,0.05115141893105643,0.06222921636961949,0.10653987712934514],\"y\":[\"most  \",\"see  \",\"position  \",\"here  \",\"not  \"],\"type\":\"bar\",\"xaxis\":\"x\",\"yaxis\":\"y\"},{\"marker\":{\"color\":\"#0072B2\"},\"orientation\":\"h\",\"x\":[0.2596167321271828,0.2596167321271828,0.46977269270424277,0.7829980121852184,1.0111809281460946],\"y\":[\"transport  \",\"microbe  \",\"migration  \",\"migrant  \",\"migrants  \"],\"type\":\"bar\",\"xaxis\":\"x2\",\"yaxis\":\"y2\"},{\"marker\":{\"color\":\"#CC79A7\"},\"orientation\":\"h\",\"x\":[0.21345145722639686,0.6057723749634265,0.6057723749634265,0.6057723749634265,2.5973457283512094],\"y\":[\"situation  \",\"gewerkschaft  \",\"unionists  \",\"unionise  \",\"union  \"],\"type\":\"bar\",\"xaxis\":\"x3\",\"yaxis\":\"y3\"},{\"marker\":{\"color\":\"#E69F00\"},\"orientation\":\"h\",\"x\":[0.17220305588812063,0.186193225145205,0.5143373736669496,0.6057723749634265,2.319613243797073],\"y\":[\"see  \",\"these  \",\"eichhorn  \",\"phases  \",\"phase  \"],\"type\":\"bar\",\"xaxis\":\"x4\",\"yaxis\":\"y4\"},{\"marker\":{\"color\":\"#56B4E9\"},\"orientation\":\"h\",\"x\":[0.3252210192438687,0.4846178999707413,0.4846178999707413,0.8769090263812531,1.56934981916579],\"y\":[\"norm  \",\"hlleitung  \",\"pandemie  \",\"shitstorm  \",\"storm  \"],\"type\":\"bar\",\"xaxis\":\"x5\",\"yaxis\":\"y5\"}],                        {\"template\":{\"data\":{\"barpolar\":[{\"marker\":{\"line\":{\"color\":\"white\",\"width\":0.5},\"pattern\":{\"fillmode\":\"overlay\",\"size\":10,\"solidity\":0.2}},\"type\":\"barpolar\"}],\"bar\":[{\"error_x\":{\"color\":\"#2a3f5f\"},\"error_y\":{\"color\":\"#2a3f5f\"},\"marker\":{\"line\":{\"color\":\"white\",\"width\":0.5},\"pattern\":{\"fillmode\":\"overlay\",\"size\":10,\"solidity\":0.2}},\"type\":\"bar\"}],\"carpet\":[{\"aaxis\":{\"endlinecolor\":\"#2a3f5f\",\"gridcolor\":\"#C8D4E3\",\"linecolor\":\"#C8D4E3\",\"minorgridcolor\":\"#C8D4E3\",\"startlinecolor\":\"#2a3f5f\"},\"baxis\":{\"endlinecolor\":\"#2a3f5f\",\"gridcolor\":\"#C8D4E3\",\"linecolor\":\"#C8D4E3\",\"minorgridcolor\":\"#C8D4E3\",\"startlinecolor\":\"#2a3f5f\"},\"type\":\"carpet\"}],\"choropleth\":[{\"colorbar\":{\"outlinewidth\":0,\"ticks\":\"\"},\"type\":\"choropleth\"}],\"contourcarpet\":[{\"colorbar\":{\"outlinewidth\":0,\"ticks\":\"\"},\"type\":\"contourcarpet\"}],\"contour\":[{\"colorbar\":{\"outlinewidth\":0,\"ticks\":\"\"},\"colorscale\":[[0.0,\"#0d0887\"],[0.1111111111111111,\"#46039f\"],[0.2222222222222222,\"#7201a8\"],[0.3333333333333333,\"#9c179e\"],[0.4444444444444444,\"#bd3786\"],[0.5555555555555556,\"#d8576b\"],[0.6666666666666666,\"#ed7953\"],[0.7777777777777778,\"#fb9f3a\"],[0.8888888888888888,\"#fdca26\"],[1.0,\"#f0f921\"]],\"type\":\"contour\"}],\"heatmapgl\":[{\"colorbar\":{\"outlinewidth\":0,\"ticks\":\"\"},\"colorscale\":[[0.0,\"#0d0887\"],[0.1111111111111111,\"#46039f\"],[0.2222222222222222,\"#7201a8\"],[0.3333333333333333,\"#9c179e\"],[0.4444444444444444,\"#bd3786\"],[0.5555555555555556,\"#d8576b\"],[0.6666666666666666,\"#ed7953\"],[0.7777777777777778,\"#fb9f3a\"],[0.8888888888888888,\"#fdca26\"],[1.0,\"#f0f921\"]],\"type\":\"heatmapgl\"}],\"heatmap\":[{\"colorbar\":{\"outlinewidth\":0,\"ticks\":\"\"},\"colorscale\":[[0.0,\"#0d0887\"],[0.1111111111111111,\"#46039f\"],[0.2222222222222222,\"#7201a8\"],[0.3333333333333333,\"#9c179e\"],[0.4444444444444444,\"#bd3786\"],[0.5555555555555556,\"#d8576b\"],[0.6666666666666666,\"#ed7953\"],[0.7777777777777778,\"#fb9f3a\"],[0.8888888888888888,\"#fdca26\"],[1.0,\"#f0f921\"]],\"type\":\"heatmap\"}],\"histogram2dcontour\":[{\"colorbar\":{\"outlinewidth\":0,\"ticks\":\"\"},\"colorscale\":[[0.0,\"#0d0887\"],[0.1111111111111111,\"#46039f\"],[0.2222222222222222,\"#7201a8\"],[0.3333333333333333,\"#9c179e\"],[0.4444444444444444,\"#bd3786\"],[0.5555555555555556,\"#d8576b\"],[0.6666666666666666,\"#ed7953\"],[0.7777777777777778,\"#fb9f3a\"],[0.8888888888888888,\"#fdca26\"],[1.0,\"#f0f921\"]],\"type\":\"histogram2dcontour\"}],\"histogram2d\":[{\"colorbar\":{\"outlinewidth\":0,\"ticks\":\"\"},\"colorscale\":[[0.0,\"#0d0887\"],[0.1111111111111111,\"#46039f\"],[0.2222222222222222,\"#7201a8\"],[0.3333333333333333,\"#9c179e\"],[0.4444444444444444,\"#bd3786\"],[0.5555555555555556,\"#d8576b\"],[0.6666666666666666,\"#ed7953\"],[0.7777777777777778,\"#fb9f3a\"],[0.8888888888888888,\"#fdca26\"],[1.0,\"#f0f921\"]],\"type\":\"histogram2d\"}],\"histogram\":[{\"marker\":{\"pattern\":{\"fillmode\":\"overlay\",\"size\":10,\"solidity\":0.2}},\"type\":\"histogram\"}],\"mesh3d\":[{\"colorbar\":{\"outlinewidth\":0,\"ticks\":\"\"},\"type\":\"mesh3d\"}],\"parcoords\":[{\"line\":{\"colorbar\":{\"outlinewidth\":0,\"ticks\":\"\"}},\"type\":\"parcoords\"}],\"pie\":[{\"automargin\":true,\"type\":\"pie\"}],\"scatter3d\":[{\"line\":{\"colorbar\":{\"outlinewidth\":0,\"ticks\":\"\"}},\"marker\":{\"colorbar\":{\"outlinewidth\":0,\"ticks\":\"\"}},\"type\":\"scatter3d\"}],\"scattercarpet\":[{\"marker\":{\"colorbar\":{\"outlinewidth\":0,\"ticks\":\"\"}},\"type\":\"scattercarpet\"}],\"scattergeo\":[{\"marker\":{\"colorbar\":{\"outlinewidth\":0,\"ticks\":\"\"}},\"type\":\"scattergeo\"}],\"scattergl\":[{\"marker\":{\"colorbar\":{\"outlinewidth\":0,\"ticks\":\"\"}},\"type\":\"scattergl\"}],\"scattermapbox\":[{\"marker\":{\"colorbar\":{\"outlinewidth\":0,\"ticks\":\"\"}},\"type\":\"scattermapbox\"}],\"scatterpolargl\":[{\"marker\":{\"colorbar\":{\"outlinewidth\":0,\"ticks\":\"\"}},\"type\":\"scatterpolargl\"}],\"scatterpolar\":[{\"marker\":{\"colorbar\":{\"outlinewidth\":0,\"ticks\":\"\"}},\"type\":\"scatterpolar\"}],\"scatter\":[{\"fillpattern\":{\"fillmode\":\"overlay\",\"size\":10,\"solidity\":0.2},\"type\":\"scatter\"}],\"scatterternary\":[{\"marker\":{\"colorbar\":{\"outlinewidth\":0,\"ticks\":\"\"}},\"type\":\"scatterternary\"}],\"surface\":[{\"colorbar\":{\"outlinewidth\":0,\"ticks\":\"\"},\"colorscale\":[[0.0,\"#0d0887\"],[0.1111111111111111,\"#46039f\"],[0.2222222222222222,\"#7201a8\"],[0.3333333333333333,\"#9c179e\"],[0.4444444444444444,\"#bd3786\"],[0.5555555555555556,\"#d8576b\"],[0.6666666666666666,\"#ed7953\"],[0.7777777777777778,\"#fb9f3a\"],[0.8888888888888888,\"#fdca26\"],[1.0,\"#f0f921\"]],\"type\":\"surface\"}],\"table\":[{\"cells\":{\"fill\":{\"color\":\"#EBF0F8\"},\"line\":{\"color\":\"white\"}},\"header\":{\"fill\":{\"color\":\"#C8D4E3\"},\"line\":{\"color\":\"white\"}},\"type\":\"table\"}]},\"layout\":{\"annotationdefaults\":{\"arrowcolor\":\"#2a3f5f\",\"arrowhead\":0,\"arrowwidth\":1},\"autotypenumbers\":\"strict\",\"coloraxis\":{\"colorbar\":{\"outlinewidth\":0,\"ticks\":\"\"}},\"colorscale\":{\"diverging\":[[0,\"#8e0152\"],[0.1,\"#c51b7d\"],[0.2,\"#de77ae\"],[0.3,\"#f1b6da\"],[0.4,\"#fde0ef\"],[0.5,\"#f7f7f7\"],[0.6,\"#e6f5d0\"],[0.7,\"#b8e186\"],[0.8,\"#7fbc41\"],[0.9,\"#4d9221\"],[1,\"#276419\"]],\"sequential\":[[0.0,\"#0d0887\"],[0.1111111111111111,\"#46039f\"],[0.2222222222222222,\"#7201a8\"],[0.3333333333333333,\"#9c179e\"],[0.4444444444444444,\"#bd3786\"],[0.5555555555555556,\"#d8576b\"],[0.6666666666666666,\"#ed7953\"],[0.7777777777777778,\"#fb9f3a\"],[0.8888888888888888,\"#fdca26\"],[1.0,\"#f0f921\"]],\"sequentialminus\":[[0.0,\"#0d0887\"],[0.1111111111111111,\"#46039f\"],[0.2222222222222222,\"#7201a8\"],[0.3333333333333333,\"#9c179e\"],[0.4444444444444444,\"#bd3786\"],[0.5555555555555556,\"#d8576b\"],[0.6666666666666666,\"#ed7953\"],[0.7777777777777778,\"#fb9f3a\"],[0.8888888888888888,\"#fdca26\"],[1.0,\"#f0f921\"]]},\"colorway\":[\"#636efa\",\"#EF553B\",\"#00cc96\",\"#ab63fa\",\"#FFA15A\",\"#19d3f3\",\"#FF6692\",\"#B6E880\",\"#FF97FF\",\"#FECB52\"],\"font\":{\"color\":\"#2a3f5f\"},\"geo\":{\"bgcolor\":\"white\",\"lakecolor\":\"white\",\"landcolor\":\"white\",\"showlakes\":true,\"showland\":true,\"subunitcolor\":\"#C8D4E3\"},\"hoverlabel\":{\"align\":\"left\"},\"hovermode\":\"closest\",\"mapbox\":{\"style\":\"light\"},\"paper_bgcolor\":\"white\",\"plot_bgcolor\":\"white\",\"polar\":{\"angularaxis\":{\"gridcolor\":\"#EBF0F8\",\"linecolor\":\"#EBF0F8\",\"ticks\":\"\"},\"bgcolor\":\"white\",\"radialaxis\":{\"gridcolor\":\"#EBF0F8\",\"linecolor\":\"#EBF0F8\",\"ticks\":\"\"}},\"scene\":{\"xaxis\":{\"backgroundcolor\":\"white\",\"gridcolor\":\"#DFE8F3\",\"gridwidth\":2,\"linecolor\":\"#EBF0F8\",\"showbackground\":true,\"ticks\":\"\",\"zerolinecolor\":\"#EBF0F8\"},\"yaxis\":{\"backgroundcolor\":\"white\",\"gridcolor\":\"#DFE8F3\",\"gridwidth\":2,\"linecolor\":\"#EBF0F8\",\"showbackground\":true,\"ticks\":\"\",\"zerolinecolor\":\"#EBF0F8\"},\"zaxis\":{\"backgroundcolor\":\"white\",\"gridcolor\":\"#DFE8F3\",\"gridwidth\":2,\"linecolor\":\"#EBF0F8\",\"showbackground\":true,\"ticks\":\"\",\"zerolinecolor\":\"#EBF0F8\"}},\"shapedefaults\":{\"line\":{\"color\":\"#2a3f5f\"}},\"ternary\":{\"aaxis\":{\"gridcolor\":\"#DFE8F3\",\"linecolor\":\"#A2B1C6\",\"ticks\":\"\"},\"baxis\":{\"gridcolor\":\"#DFE8F3\",\"linecolor\":\"#A2B1C6\",\"ticks\":\"\"},\"bgcolor\":\"white\",\"caxis\":{\"gridcolor\":\"#DFE8F3\",\"linecolor\":\"#A2B1C6\",\"ticks\":\"\"}},\"title\":{\"x\":0.05},\"xaxis\":{\"automargin\":true,\"gridcolor\":\"#EBF0F8\",\"linecolor\":\"#EBF0F8\",\"ticks\":\"\",\"title\":{\"standoff\":15},\"zerolinecolor\":\"#EBF0F8\",\"zerolinewidth\":2},\"yaxis\":{\"automargin\":true,\"gridcolor\":\"#EBF0F8\",\"linecolor\":\"#EBF0F8\",\"ticks\":\"\",\"title\":{\"standoff\":15},\"zerolinecolor\":\"#EBF0F8\",\"zerolinewidth\":2}}},\"xaxis\":{\"anchor\":\"y\",\"domain\":[0.0,0.175],\"showgrid\":true},\"yaxis\":{\"anchor\":\"x\",\"domain\":[0.6000000000000001,1.0],\"showgrid\":true},\"xaxis2\":{\"anchor\":\"y2\",\"domain\":[0.275,0.45],\"showgrid\":true},\"yaxis2\":{\"anchor\":\"x2\",\"domain\":[0.6000000000000001,1.0],\"showgrid\":true},\"xaxis3\":{\"anchor\":\"y3\",\"domain\":[0.55,0.7250000000000001],\"showgrid\":true},\"yaxis3\":{\"anchor\":\"x3\",\"domain\":[0.6000000000000001,1.0],\"showgrid\":true},\"xaxis4\":{\"anchor\":\"y4\",\"domain\":[0.825,1.0],\"showgrid\":true},\"yaxis4\":{\"anchor\":\"x4\",\"domain\":[0.6000000000000001,1.0],\"showgrid\":true},\"xaxis5\":{\"anchor\":\"y5\",\"domain\":[0.0,0.175],\"showgrid\":true},\"yaxis5\":{\"anchor\":\"x5\",\"domain\":[0.0,0.4],\"showgrid\":true},\"xaxis6\":{\"anchor\":\"y6\",\"domain\":[0.275,0.45],\"showgrid\":true},\"yaxis6\":{\"anchor\":\"x6\",\"domain\":[0.0,0.4],\"showgrid\":true},\"xaxis7\":{\"anchor\":\"y7\",\"domain\":[0.55,0.7250000000000001],\"showgrid\":true},\"yaxis7\":{\"anchor\":\"x7\",\"domain\":[0.0,0.4],\"showgrid\":true},\"xaxis8\":{\"anchor\":\"y8\",\"domain\":[0.825,1.0],\"showgrid\":true},\"yaxis8\":{\"anchor\":\"x8\",\"domain\":[0.0,0.4],\"showgrid\":true},\"annotations\":[{\"font\":{\"size\":16},\"showarrow\":false,\"text\":\"Topic 0\",\"x\":0.0875,\"xanchor\":\"center\",\"xref\":\"paper\",\"y\":1.0,\"yanchor\":\"bottom\",\"yref\":\"paper\"},{\"font\":{\"size\":16},\"showarrow\":false,\"text\":\"Topic 1\",\"x\":0.36250000000000004,\"xanchor\":\"center\",\"xref\":\"paper\",\"y\":1.0,\"yanchor\":\"bottom\",\"yref\":\"paper\"},{\"font\":{\"size\":16},\"showarrow\":false,\"text\":\"Topic 2\",\"x\":0.6375000000000001,\"xanchor\":\"center\",\"xref\":\"paper\",\"y\":1.0,\"yanchor\":\"bottom\",\"yref\":\"paper\"},{\"font\":{\"size\":16},\"showarrow\":false,\"text\":\"Topic 3\",\"x\":0.9125,\"xanchor\":\"center\",\"xref\":\"paper\",\"y\":1.0,\"yanchor\":\"bottom\",\"yref\":\"paper\"},{\"font\":{\"size\":16},\"showarrow\":false,\"text\":\"Topic 4\",\"x\":0.0875,\"xanchor\":\"center\",\"xref\":\"paper\",\"y\":0.4,\"yanchor\":\"bottom\",\"yref\":\"paper\"}],\"title\":{\"font\":{\"size\":22,\"color\":\"Black\"},\"text\":\"Topic Word Scores\",\"x\":0.5,\"xanchor\":\"center\",\"yanchor\":\"top\"},\"hoverlabel\":{\"font\":{\"size\":16,\"family\":\"Rockwell\"},\"bgcolor\":\"white\"},\"showlegend\":false,\"width\":1000,\"height\":500},                        {\"responsive\": true}                    )                };                            </script>        </div>"
      ],
      "text/plain": [
       "Figure({\n",
       "    'data': [{'marker': {'color': '#D55E00'},\n",
       "              'orientation': 'h',\n",
       "              'type': 'bar',\n",
       "              'x': [0.04915273993840052, 0.049813014611493685,\n",
       "                    0.05115141893105643, 0.06222921636961949, 0.10653987712934514],\n",
       "              'xaxis': 'x',\n",
       "              'y': [most  , see  , position  , here  , not  ],\n",
       "              'yaxis': 'y'},\n",
       "             {'marker': {'color': '#0072B2'},\n",
       "              'orientation': 'h',\n",
       "              'type': 'bar',\n",
       "              'x': [0.2596167321271828, 0.2596167321271828, 0.46977269270424277,\n",
       "                    0.7829980121852184, 1.0111809281460946],\n",
       "              'xaxis': 'x2',\n",
       "              'y': [transport  , microbe  , migration  , migrant  , migrants  ],\n",
       "              'yaxis': 'y2'},\n",
       "             {'marker': {'color': '#CC79A7'},\n",
       "              'orientation': 'h',\n",
       "              'type': 'bar',\n",
       "              'x': [0.21345145722639686, 0.6057723749634265, 0.6057723749634265,\n",
       "                    0.6057723749634265, 2.5973457283512094],\n",
       "              'xaxis': 'x3',\n",
       "              'y': [situation  , gewerkschaft  , unionists  , unionise  , union  ],\n",
       "              'yaxis': 'y3'},\n",
       "             {'marker': {'color': '#E69F00'},\n",
       "              'orientation': 'h',\n",
       "              'type': 'bar',\n",
       "              'x': [0.17220305588812063, 0.186193225145205, 0.5143373736669496,\n",
       "                    0.6057723749634265, 2.319613243797073],\n",
       "              'xaxis': 'x4',\n",
       "              'y': [see  , these  , eichhorn  , phases  , phase  ],\n",
       "              'yaxis': 'y4'},\n",
       "             {'marker': {'color': '#56B4E9'},\n",
       "              'orientation': 'h',\n",
       "              'type': 'bar',\n",
       "              'x': [0.3252210192438687, 0.4846178999707413, 0.4846178999707413,\n",
       "                    0.8769090263812531, 1.56934981916579],\n",
       "              'xaxis': 'x5',\n",
       "              'y': [norm  , hlleitung  , pandemie  , shitstorm  , storm  ],\n",
       "              'yaxis': 'y5'}],\n",
       "    'layout': {'annotations': [{'font': {'size': 16},\n",
       "                                'showarrow': False,\n",
       "                                'text': 'Topic 0',\n",
       "                                'x': 0.0875,\n",
       "                                'xanchor': 'center',\n",
       "                                'xref': 'paper',\n",
       "                                'y': 1.0,\n",
       "                                'yanchor': 'bottom',\n",
       "                                'yref': 'paper'},\n",
       "                               {'font': {'size': 16},\n",
       "                                'showarrow': False,\n",
       "                                'text': 'Topic 1',\n",
       "                                'x': 0.36250000000000004,\n",
       "                                'xanchor': 'center',\n",
       "                                'xref': 'paper',\n",
       "                                'y': 1.0,\n",
       "                                'yanchor': 'bottom',\n",
       "                                'yref': 'paper'},\n",
       "                               {'font': {'size': 16},\n",
       "                                'showarrow': False,\n",
       "                                'text': 'Topic 2',\n",
       "                                'x': 0.6375000000000001,\n",
       "                                'xanchor': 'center',\n",
       "                                'xref': 'paper',\n",
       "                                'y': 1.0,\n",
       "                                'yanchor': 'bottom',\n",
       "                                'yref': 'paper'},\n",
       "                               {'font': {'size': 16},\n",
       "                                'showarrow': False,\n",
       "                                'text': 'Topic 3',\n",
       "                                'x': 0.9125,\n",
       "                                'xanchor': 'center',\n",
       "                                'xref': 'paper',\n",
       "                                'y': 1.0,\n",
       "                                'yanchor': 'bottom',\n",
       "                                'yref': 'paper'},\n",
       "                               {'font': {'size': 16},\n",
       "                                'showarrow': False,\n",
       "                                'text': 'Topic 4',\n",
       "                                'x': 0.0875,\n",
       "                                'xanchor': 'center',\n",
       "                                'xref': 'paper',\n",
       "                                'y': 0.4,\n",
       "                                'yanchor': 'bottom',\n",
       "                                'yref': 'paper'}],\n",
       "               'height': 500,\n",
       "               'hoverlabel': {'bgcolor': 'white', 'font': {'family': 'Rockwell', 'size': 16}},\n",
       "               'showlegend': False,\n",
       "               'template': '...',\n",
       "               'title': {'font': {'color': 'Black', 'size': 22},\n",
       "                         'text': 'Topic Word Scores',\n",
       "                         'x': 0.5,\n",
       "                         'xanchor': 'center',\n",
       "                         'yanchor': 'top'},\n",
       "               'width': 1000,\n",
       "               'xaxis': {'anchor': 'y', 'domain': [0.0, 0.175], 'showgrid': True},\n",
       "               'xaxis2': {'anchor': 'y2', 'domain': [0.275, 0.45], 'showgrid': True},\n",
       "               'xaxis3': {'anchor': 'y3', 'domain': [0.55, 0.7250000000000001], 'showgrid': True},\n",
       "               'xaxis4': {'anchor': 'y4', 'domain': [0.825, 1.0], 'showgrid': True},\n",
       "               'xaxis5': {'anchor': 'y5', 'domain': [0.0, 0.175], 'showgrid': True},\n",
       "               'xaxis6': {'anchor': 'y6', 'domain': [0.275, 0.45], 'showgrid': True},\n",
       "               'xaxis7': {'anchor': 'y7', 'domain': [0.55, 0.7250000000000001], 'showgrid': True},\n",
       "               'xaxis8': {'anchor': 'y8', 'domain': [0.825, 1.0], 'showgrid': True},\n",
       "               'yaxis': {'anchor': 'x', 'domain': [0.6000000000000001, 1.0], 'showgrid': True},\n",
       "               'yaxis2': {'anchor': 'x2', 'domain': [0.6000000000000001, 1.0], 'showgrid': True},\n",
       "               'yaxis3': {'anchor': 'x3', 'domain': [0.6000000000000001, 1.0], 'showgrid': True},\n",
       "               'yaxis4': {'anchor': 'x4', 'domain': [0.6000000000000001, 1.0], 'showgrid': True},\n",
       "               'yaxis5': {'anchor': 'x5', 'domain': [0.0, 0.4], 'showgrid': True},\n",
       "               'yaxis6': {'anchor': 'x6', 'domain': [0.0, 0.4], 'showgrid': True},\n",
       "               'yaxis7': {'anchor': 'x7', 'domain': [0.0, 0.4], 'showgrid': True},\n",
       "               'yaxis8': {'anchor': 'x8', 'domain': [0.0, 0.4], 'showgrid': True}}\n",
       "})"
      ]
     },
     "execution_count": 54,
     "metadata": {},
     "output_type": "execute_result"
    }
   ],
   "source": [
    "en_de_model.visualize_barchart()"
   ]
  },
  {
   "cell_type": "code",
   "execution_count": 55,
   "metadata": {},
   "outputs": [
    {
     "data": {
      "text/html": [
       "<div>\n",
       "<style scoped>\n",
       "    .dataframe tbody tr th:only-of-type {\n",
       "        vertical-align: middle;\n",
       "    }\n",
       "\n",
       "    .dataframe tbody tr th {\n",
       "        vertical-align: top;\n",
       "    }\n",
       "\n",
       "    .dataframe thead th {\n",
       "        text-align: right;\n",
       "    }\n",
       "</style>\n",
       "<table border=\"1\" class=\"dataframe\">\n",
       "  <thead>\n",
       "    <tr style=\"text-align: right;\">\n",
       "      <th></th>\n",
       "      <th>Topic</th>\n",
       "      <th>Count</th>\n",
       "      <th>Name</th>\n",
       "    </tr>\n",
       "  </thead>\n",
       "  <tbody>\n",
       "    <tr>\n",
       "      <th>0</th>\n",
       "      <td>-1</td>\n",
       "      <td>668</td>\n",
       "      <td>-1_start_students_positions_here</td>\n",
       "    </tr>\n",
       "    <tr>\n",
       "      <th>1</th>\n",
       "      <td>0</td>\n",
       "      <td>11521</td>\n",
       "      <td>0_not_here_position_see</td>\n",
       "    </tr>\n",
       "    <tr>\n",
       "      <th>2</th>\n",
       "      <td>1</td>\n",
       "      <td>25</td>\n",
       "      <td>1_migrants_migrant_migration_microbe</td>\n",
       "    </tr>\n",
       "    <tr>\n",
       "      <th>3</th>\n",
       "      <td>2</td>\n",
       "      <td>16</td>\n",
       "      <td>2_union_unionise_unionists_gewerkschaft</td>\n",
       "    </tr>\n",
       "    <tr>\n",
       "      <th>4</th>\n",
       "      <td>3</td>\n",
       "      <td>14</td>\n",
       "      <td>3_phase_phases_eichhorn_these</td>\n",
       "    </tr>\n",
       "    <tr>\n",
       "      <th>5</th>\n",
       "      <td>4</td>\n",
       "      <td>14</td>\n",
       "      <td>4_storm_shitstorm_pandemie_hlleitung</td>\n",
       "    </tr>\n",
       "  </tbody>\n",
       "</table>\n",
       "</div>"
      ],
      "text/plain": [
       "   Topic  Count                                     Name\n",
       "0     -1    668         -1_start_students_positions_here\n",
       "1      0  11521                  0_not_here_position_see\n",
       "2      1     25     1_migrants_migrant_migration_microbe\n",
       "3      2     16  2_union_unionise_unionists_gewerkschaft\n",
       "4      3     14            3_phase_phases_eichhorn_these\n",
       "5      4     14     4_storm_shitstorm_pandemie_hlleitung"
      ]
     },
     "execution_count": 55,
     "metadata": {},
     "output_type": "execute_result"
    }
   ],
   "source": [
    "en_de_model.get_topic_info()"
   ]
  },
  {
   "cell_type": "code",
   "execution_count": 56,
   "metadata": {},
   "outputs": [
    {
     "data": {
      "text/html": [
       "<div>\n",
       "<style scoped>\n",
       "    .dataframe tbody tr th:only-of-type {\n",
       "        vertical-align: middle;\n",
       "    }\n",
       "\n",
       "    .dataframe tbody tr th {\n",
       "        vertical-align: top;\n",
       "    }\n",
       "\n",
       "    .dataframe thead th {\n",
       "        text-align: right;\n",
       "    }\n",
       "</style>\n",
       "<table border=\"1\" class=\"dataframe\">\n",
       "  <thead>\n",
       "    <tr style=\"text-align: right;\">\n",
       "      <th></th>\n",
       "      <th>Document</th>\n",
       "      <th>Topic</th>\n",
       "      <th>Name</th>\n",
       "      <th>Top_n_words</th>\n",
       "      <th>Probability</th>\n",
       "      <th>Representative_document</th>\n",
       "    </tr>\n",
       "  </thead>\n",
       "  <tbody>\n",
       "    <tr>\n",
       "      <th>0</th>\n",
       "      <td></td>\n",
       "      <td>0</td>\n",
       "      <td>0_not_here_position_see</td>\n",
       "      <td>not - here - position - see - most - positions...</td>\n",
       "      <td>0.354688</td>\n",
       "      <td>False</td>\n",
       "    </tr>\n",
       "    <tr>\n",
       "      <th>1</th>\n",
       "      <td>indignation</td>\n",
       "      <td>0</td>\n",
       "      <td>0_not_here_position_see</td>\n",
       "      <td>not - here - position - see - most - positions...</td>\n",
       "      <td>1.000000</td>\n",
       "      <td>False</td>\n",
       "    </tr>\n",
       "    <tr>\n",
       "      <th>2</th>\n",
       "      <td></td>\n",
       "      <td>0</td>\n",
       "      <td>0_not_here_position_see</td>\n",
       "      <td>not - here - position - see - most - positions...</td>\n",
       "      <td>0.319283</td>\n",
       "      <td>False</td>\n",
       "    </tr>\n",
       "    <tr>\n",
       "      <th>3</th>\n",
       "      <td></td>\n",
       "      <td>0</td>\n",
       "      <td>0_not_here_position_see</td>\n",
       "      <td>not - here - position - see - most - positions...</td>\n",
       "      <td>0.320284</td>\n",
       "      <td>False</td>\n",
       "    </tr>\n",
       "    <tr>\n",
       "      <th>4</th>\n",
       "      <td>post situation</td>\n",
       "      <td>-1</td>\n",
       "      <td>-1_start_students_positions_here</td>\n",
       "      <td>start - students - positions - here - position...</td>\n",
       "      <td>0.806752</td>\n",
       "      <td>False</td>\n",
       "    </tr>\n",
       "    <tr>\n",
       "      <th>...</th>\n",
       "      <td>...</td>\n",
       "      <td>...</td>\n",
       "      <td>...</td>\n",
       "      <td>...</td>\n",
       "      <td>...</td>\n",
       "      <td>...</td>\n",
       "    </tr>\n",
       "    <tr>\n",
       "      <th>12253</th>\n",
       "      <td></td>\n",
       "      <td>0</td>\n",
       "      <td>0_not_here_position_see</td>\n",
       "      <td>not - here - position - see - most - positions...</td>\n",
       "      <td>0.895663</td>\n",
       "      <td>False</td>\n",
       "    </tr>\n",
       "    <tr>\n",
       "      <th>12254</th>\n",
       "      <td>seminar seminar here</td>\n",
       "      <td>0</td>\n",
       "      <td>0_not_here_position_see</td>\n",
       "      <td>not - here - position - see - most - positions...</td>\n",
       "      <td>0.425019</td>\n",
       "      <td>False</td>\n",
       "    </tr>\n",
       "    <tr>\n",
       "      <th>12255</th>\n",
       "      <td>students</td>\n",
       "      <td>0</td>\n",
       "      <td>0_not_here_position_see</td>\n",
       "      <td>not - here - position - see - most - positions...</td>\n",
       "      <td>0.223000</td>\n",
       "      <td>False</td>\n",
       "    </tr>\n",
       "    <tr>\n",
       "      <th>12256</th>\n",
       "      <td>juniorprofessoren</td>\n",
       "      <td>-1</td>\n",
       "      <td>-1_start_students_positions_here</td>\n",
       "      <td>start - students - positions - here - position...</td>\n",
       "      <td>0.669795</td>\n",
       "      <td>False</td>\n",
       "    </tr>\n",
       "    <tr>\n",
       "      <th>12257</th>\n",
       "      <td>problem see info</td>\n",
       "      <td>0</td>\n",
       "      <td>0_not_here_position_see</td>\n",
       "      <td>not - here - position - see - most - positions...</td>\n",
       "      <td>1.000000</td>\n",
       "      <td>False</td>\n",
       "    </tr>\n",
       "  </tbody>\n",
       "</table>\n",
       "<p>12258 rows × 6 columns</p>\n",
       "</div>"
      ],
      "text/plain": [
       "                   Document  Topic                              Name  \\\n",
       "0                                0           0_not_here_position_see   \n",
       "1               indignation      0           0_not_here_position_see   \n",
       "2                                0           0_not_here_position_see   \n",
       "3                                0           0_not_here_position_see   \n",
       "4            post situation     -1  -1_start_students_positions_here   \n",
       "...                     ...    ...                               ...   \n",
       "12253                            0           0_not_here_position_see   \n",
       "12254  seminar seminar here      0           0_not_here_position_see   \n",
       "12255              students      0           0_not_here_position_see   \n",
       "12256     juniorprofessoren     -1  -1_start_students_positions_here   \n",
       "12257      problem see info      0           0_not_here_position_see   \n",
       "\n",
       "                                             Top_n_words  Probability  \\\n",
       "0      not - here - position - see - most - positions...     0.354688   \n",
       "1      not - here - position - see - most - positions...     1.000000   \n",
       "2      not - here - position - see - most - positions...     0.319283   \n",
       "3      not - here - position - see - most - positions...     0.320284   \n",
       "4      start - students - positions - here - position...     0.806752   \n",
       "...                                                  ...          ...   \n",
       "12253  not - here - position - see - most - positions...     0.895663   \n",
       "12254  not - here - position - see - most - positions...     0.425019   \n",
       "12255  not - here - position - see - most - positions...     0.223000   \n",
       "12256  start - students - positions - here - position...     0.669795   \n",
       "12257  not - here - position - see - most - positions...     1.000000   \n",
       "\n",
       "       Representative_document  \n",
       "0                        False  \n",
       "1                        False  \n",
       "2                        False  \n",
       "3                        False  \n",
       "4                        False  \n",
       "...                        ...  \n",
       "12253                    False  \n",
       "12254                    False  \n",
       "12255                    False  \n",
       "12256                    False  \n",
       "12257                    False  \n",
       "\n",
       "[12258 rows x 6 columns]"
      ]
     },
     "execution_count": 56,
     "metadata": {},
     "output_type": "execute_result"
    }
   ],
   "source": [
    "en_de_model.get_document_info(en_de_docs)"
   ]
  },
  {
   "attachments": {},
   "cell_type": "markdown",
   "metadata": {},
   "source": [
    "AIC/BIC"
   ]
  },
  {
   "cell_type": "code",
   "execution_count": null,
   "metadata": {},
   "outputs": [],
   "source": []
  }
 ],
 "metadata": {
  "kernelspec": {
   "display_name": "dbse-project",
   "language": "python",
   "name": "python3"
  },
  "language_info": {
   "codemirror_mode": {
    "name": "ipython",
    "version": 3
   },
   "file_extension": ".py",
   "mimetype": "text/x-python",
   "name": "python",
   "nbconvert_exporter": "python",
   "pygments_lexer": "ipython3",
   "version": "3.9.16"
  },
  "orig_nbformat": 4,
  "vscode": {
   "interpreter": {
    "hash": "062b65ef3276ba69a4c844077904084b225211806ab64d3b4ec5aa0504dca686"
   }
  }
 },
 "nbformat": 4,
 "nbformat_minor": 2
}
