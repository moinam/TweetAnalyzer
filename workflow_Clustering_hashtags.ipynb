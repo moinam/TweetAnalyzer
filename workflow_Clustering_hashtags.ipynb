{
  "nbformat": 4,
  "nbformat_minor": 0,
  "metadata": {
    "colab": {
      "provenance": []
    },
    "kernelspec": {
      "name": "python3",
      "display_name": "Python 3"
    },
    "language_info": {
      "name": "python"
    },
    "gpuClass": "standard"
  },
  "cells": [
    {
      "cell_type": "code",
      "execution_count": 2,
      "metadata": {
        "id": "KMtbVD244j7B"
      },
      "outputs": [],
      "source": [
        "import tweepy\n",
        "import time\n",
        "import csv\n",
        "import os\n",
        "import pandas as pd\n",
        "import re\n",
        "import numpy as np\n",
        "import matplotlib.pyplot as plt\n",
        "import seaborn as sns"
      ]
    },
    {
      "cell_type": "code",
      "source": [
        "from google.colab import drive\n",
        "drive.mount('/content/drive')"
      ],
      "metadata": {
        "colab": {
          "base_uri": "https://localhost:8080/"
        },
        "id": "I5pUUjKU4v0_",
        "outputId": "fe300cea-df9c-455e-f48f-227098302362"
      },
      "execution_count": 3,
      "outputs": [
        {
          "output_type": "stream",
          "name": "stdout",
          "text": [
            "Mounted at /content/drive\n"
          ]
        }
      ]
    },
    {
      "cell_type": "code",
      "source": [
        "os.chdir('/content/drive/MyDrive')"
      ],
      "metadata": {
        "id": "3b6uHA_F4ysT"
      },
      "execution_count": 4,
      "outputs": []
    },
    {
      "cell_type": "code",
      "source": [
        "df = pd.read_parquet('final_twitter_data.parquet')\n",
        "df.drop_duplicates(subset=['tweet_id'])"
      ],
      "metadata": {
        "id": "ZKfhVlt-44dr"
      },
      "execution_count": null,
      "outputs": []
    },
    {
      "cell_type": "code",
      "source": [
        "df.head(10)"
      ],
      "metadata": {
        "colab": {
          "base_uri": "https://localhost:8080/",
          "height": 667
        },
        "id": "41yXR-BjhOE2",
        "outputId": "530d4e13-3102-4178-c062-551fe821c04e"
      },
      "execution_count": 16,
      "outputs": [
        {
          "output_type": "execute_result",
          "data": {
            "text/plain": [
              "                  timestamp             tweet_id      conversation_id  \\\n",
              "0  2021-06-20T21:33:30.000Z  1406726930888540160  1406726930888540160   \n",
              "1  2021-06-20T21:29:24.000Z  1406725899744157698  1406725899744157698   \n",
              "2  2021-06-20T20:50:42.000Z  1406716159064485895  1406716159064485895   \n",
              "3  2021-06-20T17:56:03.000Z  1406672208056012807  1406672208056012807   \n",
              "4  2021-06-20T17:53:00.000Z  1406671439328055301  1406671439328055301   \n",
              "5  2021-06-20T16:17:25.000Z  1406647386542325764  1406647386542325764   \n",
              "6  2021-06-20T15:17:28.000Z  1406632298183864333  1406632298183864333   \n",
              "7  2021-06-20T15:16:35.000Z  1406632074908426241  1406632074908426241   \n",
              "8  2021-06-19T09:49:55.000Z  1406187481662464001  1406187481662464001   \n",
              "9  2021-06-18T20:27:59.000Z  1405985665154752513  1405985665154752513   \n",
              "\n",
              "    author_id                                               text  \\\n",
              "0  2981738470  RT @davidlohner: #IchbinHanna und schreibe auc...   \n",
              "1  2981738470  Wenn Wirtschaftsjounalist:innen über #IchbinHa...   \n",
              "2  2981738470  RT @DrKEichhorn: Wieder ein Artikel ohne echte...   \n",
              "3  2981738470  RT @chrismeyer2203: So sieht es aus ⬇️ oder an...   \n",
              "4  2981738470  RT @steffen_siegel: Modelle einer Universitäts...   \n",
              "5  2981738470  ☝️⬇️ #IchbinHanna #PeerReview https://t.co/PFN...   \n",
              "6  2981738470  RT @Schaerferin: Mit 40 noch #IchbinHanna sein...   \n",
              "7  2981738470  RT @AmreiBahr: Hey @BMBF_Bund, nachdem Ihr let...   \n",
              "8  2981738470  RT @jenniferhenkeHB: Einer habilitierten Kolle...   \n",
              "9  2981738470  RT @SebastianKubon: #IchBinHanna die wunderbar...   \n",
              "\n",
              "   retweet_count  reply_count  like_count  quote_count  \\\n",
              "0              7            0           0            0   \n",
              "1              9            1          62            4   \n",
              "2             16            0           0            0   \n",
              "3              7            0           0            0   \n",
              "4             17            0           0            0   \n",
              "5              0            0           1            0   \n",
              "6             14            0           0            0   \n",
              "7             36            0           0            0   \n",
              "8             17            0           0            0   \n",
              "9              7            0           0            0   \n",
              "\n",
              "                                   referenced_tweets  \\\n",
              "0  [{'type': 'retweeted', 'id': '1406714909258362...   \n",
              "1                                                 []   \n",
              "2  [{'type': 'retweeted', 'id': '1406697315159752...   \n",
              "3  [{'type': 'retweeted', 'id': '1406175728190865...   \n",
              "4  [{'type': 'retweeted', 'id': '1406666454368493...   \n",
              "5  [{'type': 'quoted', 'id': '1406620276822061057'}]   \n",
              "6  [{'type': 'retweeted', 'id': '1406600563274493...   \n",
              "7  [{'type': 'retweeted', 'id': '1406520362733654...   \n",
              "8  [{'type': 'retweeted', 'id': '1406177602369462...   \n",
              "9  [{'type': 'retweeted', 'id': '1405960112884359...   \n",
              "\n",
              "                        hashtags tweet_type  \n",
              "0                ['IchbinHanna']    retweet  \n",
              "1                ['IchbinHanna']   original  \n",
              "2                             []    retweet  \n",
              "3                             []    retweet  \n",
              "4                             []    retweet  \n",
              "5  ['IchbinHanna', 'PeerReview']   original  \n",
              "6                ['IchbinHanna']    retweet  \n",
              "7                ['IchBinHanna']    retweet  \n",
              "8                             []    retweet  \n",
              "9                ['IchBinHanna']    retweet  "
            ],
            "text/html": [
              "\n",
              "  <div id=\"df-88b00381-487e-4cb8-97ab-aeaedf29b74d\">\n",
              "    <div class=\"colab-df-container\">\n",
              "      <div>\n",
              "<style scoped>\n",
              "    .dataframe tbody tr th:only-of-type {\n",
              "        vertical-align: middle;\n",
              "    }\n",
              "\n",
              "    .dataframe tbody tr th {\n",
              "        vertical-align: top;\n",
              "    }\n",
              "\n",
              "    .dataframe thead th {\n",
              "        text-align: right;\n",
              "    }\n",
              "</style>\n",
              "<table border=\"1\" class=\"dataframe\">\n",
              "  <thead>\n",
              "    <tr style=\"text-align: right;\">\n",
              "      <th></th>\n",
              "      <th>timestamp</th>\n",
              "      <th>tweet_id</th>\n",
              "      <th>conversation_id</th>\n",
              "      <th>author_id</th>\n",
              "      <th>text</th>\n",
              "      <th>retweet_count</th>\n",
              "      <th>reply_count</th>\n",
              "      <th>like_count</th>\n",
              "      <th>quote_count</th>\n",
              "      <th>referenced_tweets</th>\n",
              "      <th>hashtags</th>\n",
              "      <th>tweet_type</th>\n",
              "    </tr>\n",
              "  </thead>\n",
              "  <tbody>\n",
              "    <tr>\n",
              "      <th>0</th>\n",
              "      <td>2021-06-20T21:33:30.000Z</td>\n",
              "      <td>1406726930888540160</td>\n",
              "      <td>1406726930888540160</td>\n",
              "      <td>2981738470</td>\n",
              "      <td>RT @davidlohner: #IchbinHanna und schreibe auc...</td>\n",
              "      <td>7</td>\n",
              "      <td>0</td>\n",
              "      <td>0</td>\n",
              "      <td>0</td>\n",
              "      <td>[{'type': 'retweeted', 'id': '1406714909258362...</td>\n",
              "      <td>['IchbinHanna']</td>\n",
              "      <td>retweet</td>\n",
              "    </tr>\n",
              "    <tr>\n",
              "      <th>1</th>\n",
              "      <td>2021-06-20T21:29:24.000Z</td>\n",
              "      <td>1406725899744157698</td>\n",
              "      <td>1406725899744157698</td>\n",
              "      <td>2981738470</td>\n",
              "      <td>Wenn Wirtschaftsjounalist:innen über #IchbinHa...</td>\n",
              "      <td>9</td>\n",
              "      <td>1</td>\n",
              "      <td>62</td>\n",
              "      <td>4</td>\n",
              "      <td>[]</td>\n",
              "      <td>['IchbinHanna']</td>\n",
              "      <td>original</td>\n",
              "    </tr>\n",
              "    <tr>\n",
              "      <th>2</th>\n",
              "      <td>2021-06-20T20:50:42.000Z</td>\n",
              "      <td>1406716159064485895</td>\n",
              "      <td>1406716159064485895</td>\n",
              "      <td>2981738470</td>\n",
              "      <td>RT @DrKEichhorn: Wieder ein Artikel ohne echte...</td>\n",
              "      <td>16</td>\n",
              "      <td>0</td>\n",
              "      <td>0</td>\n",
              "      <td>0</td>\n",
              "      <td>[{'type': 'retweeted', 'id': '1406697315159752...</td>\n",
              "      <td>[]</td>\n",
              "      <td>retweet</td>\n",
              "    </tr>\n",
              "    <tr>\n",
              "      <th>3</th>\n",
              "      <td>2021-06-20T17:56:03.000Z</td>\n",
              "      <td>1406672208056012807</td>\n",
              "      <td>1406672208056012807</td>\n",
              "      <td>2981738470</td>\n",
              "      <td>RT @chrismeyer2203: So sieht es aus ⬇️ oder an...</td>\n",
              "      <td>7</td>\n",
              "      <td>0</td>\n",
              "      <td>0</td>\n",
              "      <td>0</td>\n",
              "      <td>[{'type': 'retweeted', 'id': '1406175728190865...</td>\n",
              "      <td>[]</td>\n",
              "      <td>retweet</td>\n",
              "    </tr>\n",
              "    <tr>\n",
              "      <th>4</th>\n",
              "      <td>2021-06-20T17:53:00.000Z</td>\n",
              "      <td>1406671439328055301</td>\n",
              "      <td>1406671439328055301</td>\n",
              "      <td>2981738470</td>\n",
              "      <td>RT @steffen_siegel: Modelle einer Universitäts...</td>\n",
              "      <td>17</td>\n",
              "      <td>0</td>\n",
              "      <td>0</td>\n",
              "      <td>0</td>\n",
              "      <td>[{'type': 'retweeted', 'id': '1406666454368493...</td>\n",
              "      <td>[]</td>\n",
              "      <td>retweet</td>\n",
              "    </tr>\n",
              "    <tr>\n",
              "      <th>5</th>\n",
              "      <td>2021-06-20T16:17:25.000Z</td>\n",
              "      <td>1406647386542325764</td>\n",
              "      <td>1406647386542325764</td>\n",
              "      <td>2981738470</td>\n",
              "      <td>☝️⬇️ #IchbinHanna #PeerReview https://t.co/PFN...</td>\n",
              "      <td>0</td>\n",
              "      <td>0</td>\n",
              "      <td>1</td>\n",
              "      <td>0</td>\n",
              "      <td>[{'type': 'quoted', 'id': '1406620276822061057'}]</td>\n",
              "      <td>['IchbinHanna', 'PeerReview']</td>\n",
              "      <td>original</td>\n",
              "    </tr>\n",
              "    <tr>\n",
              "      <th>6</th>\n",
              "      <td>2021-06-20T15:17:28.000Z</td>\n",
              "      <td>1406632298183864333</td>\n",
              "      <td>1406632298183864333</td>\n",
              "      <td>2981738470</td>\n",
              "      <td>RT @Schaerferin: Mit 40 noch #IchbinHanna sein...</td>\n",
              "      <td>14</td>\n",
              "      <td>0</td>\n",
              "      <td>0</td>\n",
              "      <td>0</td>\n",
              "      <td>[{'type': 'retweeted', 'id': '1406600563274493...</td>\n",
              "      <td>['IchbinHanna']</td>\n",
              "      <td>retweet</td>\n",
              "    </tr>\n",
              "    <tr>\n",
              "      <th>7</th>\n",
              "      <td>2021-06-20T15:16:35.000Z</td>\n",
              "      <td>1406632074908426241</td>\n",
              "      <td>1406632074908426241</td>\n",
              "      <td>2981738470</td>\n",
              "      <td>RT @AmreiBahr: Hey @BMBF_Bund, nachdem Ihr let...</td>\n",
              "      <td>36</td>\n",
              "      <td>0</td>\n",
              "      <td>0</td>\n",
              "      <td>0</td>\n",
              "      <td>[{'type': 'retweeted', 'id': '1406520362733654...</td>\n",
              "      <td>['IchBinHanna']</td>\n",
              "      <td>retweet</td>\n",
              "    </tr>\n",
              "    <tr>\n",
              "      <th>8</th>\n",
              "      <td>2021-06-19T09:49:55.000Z</td>\n",
              "      <td>1406187481662464001</td>\n",
              "      <td>1406187481662464001</td>\n",
              "      <td>2981738470</td>\n",
              "      <td>RT @jenniferhenkeHB: Einer habilitierten Kolle...</td>\n",
              "      <td>17</td>\n",
              "      <td>0</td>\n",
              "      <td>0</td>\n",
              "      <td>0</td>\n",
              "      <td>[{'type': 'retweeted', 'id': '1406177602369462...</td>\n",
              "      <td>[]</td>\n",
              "      <td>retweet</td>\n",
              "    </tr>\n",
              "    <tr>\n",
              "      <th>9</th>\n",
              "      <td>2021-06-18T20:27:59.000Z</td>\n",
              "      <td>1405985665154752513</td>\n",
              "      <td>1405985665154752513</td>\n",
              "      <td>2981738470</td>\n",
              "      <td>RT @SebastianKubon: #IchBinHanna die wunderbar...</td>\n",
              "      <td>7</td>\n",
              "      <td>0</td>\n",
              "      <td>0</td>\n",
              "      <td>0</td>\n",
              "      <td>[{'type': 'retweeted', 'id': '1405960112884359...</td>\n",
              "      <td>['IchBinHanna']</td>\n",
              "      <td>retweet</td>\n",
              "    </tr>\n",
              "  </tbody>\n",
              "</table>\n",
              "</div>\n",
              "      <button class=\"colab-df-convert\" onclick=\"convertToInteractive('df-88b00381-487e-4cb8-97ab-aeaedf29b74d')\"\n",
              "              title=\"Convert this dataframe to an interactive table.\"\n",
              "              style=\"display:none;\">\n",
              "        \n",
              "  <svg xmlns=\"http://www.w3.org/2000/svg\" height=\"24px\"viewBox=\"0 0 24 24\"\n",
              "       width=\"24px\">\n",
              "    <path d=\"M0 0h24v24H0V0z\" fill=\"none\"/>\n",
              "    <path d=\"M18.56 5.44l.94 2.06.94-2.06 2.06-.94-2.06-.94-.94-2.06-.94 2.06-2.06.94zm-11 1L8.5 8.5l.94-2.06 2.06-.94-2.06-.94L8.5 2.5l-.94 2.06-2.06.94zm10 10l.94 2.06.94-2.06 2.06-.94-2.06-.94-.94-2.06-.94 2.06-2.06.94z\"/><path d=\"M17.41 7.96l-1.37-1.37c-.4-.4-.92-.59-1.43-.59-.52 0-1.04.2-1.43.59L10.3 9.45l-7.72 7.72c-.78.78-.78 2.05 0 2.83L4 21.41c.39.39.9.59 1.41.59.51 0 1.02-.2 1.41-.59l7.78-7.78 2.81-2.81c.8-.78.8-2.07 0-2.86zM5.41 20L4 18.59l7.72-7.72 1.47 1.35L5.41 20z\"/>\n",
              "  </svg>\n",
              "      </button>\n",
              "      \n",
              "  <style>\n",
              "    .colab-df-container {\n",
              "      display:flex;\n",
              "      flex-wrap:wrap;\n",
              "      gap: 12px;\n",
              "    }\n",
              "\n",
              "    .colab-df-convert {\n",
              "      background-color: #E8F0FE;\n",
              "      border: none;\n",
              "      border-radius: 50%;\n",
              "      cursor: pointer;\n",
              "      display: none;\n",
              "      fill: #1967D2;\n",
              "      height: 32px;\n",
              "      padding: 0 0 0 0;\n",
              "      width: 32px;\n",
              "    }\n",
              "\n",
              "    .colab-df-convert:hover {\n",
              "      background-color: #E2EBFA;\n",
              "      box-shadow: 0px 1px 2px rgba(60, 64, 67, 0.3), 0px 1px 3px 1px rgba(60, 64, 67, 0.15);\n",
              "      fill: #174EA6;\n",
              "    }\n",
              "\n",
              "    [theme=dark] .colab-df-convert {\n",
              "      background-color: #3B4455;\n",
              "      fill: #D2E3FC;\n",
              "    }\n",
              "\n",
              "    [theme=dark] .colab-df-convert:hover {\n",
              "      background-color: #434B5C;\n",
              "      box-shadow: 0px 1px 3px 1px rgba(0, 0, 0, 0.15);\n",
              "      filter: drop-shadow(0px 1px 2px rgba(0, 0, 0, 0.3));\n",
              "      fill: #FFFFFF;\n",
              "    }\n",
              "  </style>\n",
              "\n",
              "      <script>\n",
              "        const buttonEl =\n",
              "          document.querySelector('#df-88b00381-487e-4cb8-97ab-aeaedf29b74d button.colab-df-convert');\n",
              "        buttonEl.style.display =\n",
              "          google.colab.kernel.accessAllowed ? 'block' : 'none';\n",
              "\n",
              "        async function convertToInteractive(key) {\n",
              "          const element = document.querySelector('#df-88b00381-487e-4cb8-97ab-aeaedf29b74d');\n",
              "          const dataTable =\n",
              "            await google.colab.kernel.invokeFunction('convertToInteractive',\n",
              "                                                     [key], {});\n",
              "          if (!dataTable) return;\n",
              "\n",
              "          const docLinkHtml = 'Like what you see? Visit the ' +\n",
              "            '<a target=\"_blank\" href=https://colab.research.google.com/notebooks/data_table.ipynb>data table notebook</a>'\n",
              "            + ' to learn more about interactive tables.';\n",
              "          element.innerHTML = '';\n",
              "          dataTable['output_type'] = 'display_data';\n",
              "          await google.colab.output.renderOutput(dataTable, element);\n",
              "          const docLink = document.createElement('div');\n",
              "          docLink.innerHTML = docLinkHtml;\n",
              "          element.appendChild(docLink);\n",
              "        }\n",
              "      </script>\n",
              "    </div>\n",
              "  </div>\n",
              "  "
            ]
          },
          "metadata": {},
          "execution_count": 16
        }
      ]
    },
    {
      "cell_type": "code",
      "source": [
        "list(df[df.tweet_id==1406632298183864333].hashtags)"
      ],
      "metadata": {
        "colab": {
          "base_uri": "https://localhost:8080/"
        },
        "id": "yd6TdOuGhnwx",
        "outputId": "0ac5089e-c9b5-4052-d7f6-2247a2ee07be"
      },
      "execution_count": 27,
      "outputs": [
        {
          "output_type": "execute_result",
          "data": {
            "text/plain": [
              "[\"['IchbinHanna']\"]"
            ]
          },
          "metadata": {},
          "execution_count": 27
        }
      ]
    },
    {
      "cell_type": "code",
      "source": [
        "\n"
      ],
      "metadata": {
        "id": "JUvnmnjql9uQ"
      },
      "execution_count": 45,
      "outputs": []
    },
    {
      "cell_type": "markdown",
      "source": [],
      "metadata": {
        "id": "CT7eDKpdR-Iu"
      }
    },
    {
      "cell_type": "code",
      "source": [
        "!pip install -U sentence-transformers\n",
        "from sentence_transformers import SentenceTransformer, util"
      ],
      "metadata": {
        "id": "r7vGdvBPR-Z5",
        "colab": {
          "base_uri": "https://localhost:8080/"
        },
        "outputId": "5d9d4db6-4437-4a8e-a7ef-1cb494555569"
      },
      "execution_count": 31,
      "outputs": [
        {
          "output_type": "stream",
          "name": "stdout",
          "text": [
            "Successfully installed huggingface-hub-0.13.1 sentence-transformers-2.2.2 sentencepiece-0.1.97 tokenizers-0.13.2 transformers-4.26.1\n"
          ]
        }
      ]
    },
    {
      "cell_type": "code",
      "source": [
        "model = SentenceTransformer('T-Systems-onsite/cross-en-de-roberta-sentence-transformer')"
      ],
      "metadata": {
        "colab": {
          "base_uri": "https://localhost:8080/"
        },
        "id": "pkYv0BNkWTnm",
        "outputId": "9e3ef440-fa42-4a01-f576-b66df92a2538"
      },
      "execution_count": 40,
      "outputs": [
        {
          "output_type": "stream",
          "name": "stderr",
          "text": [
            "WARNING:sentence_transformers.SentenceTransformer:No sentence-transformers model found with name /root/.cache/torch/sentence_transformers/T-Systems-onsite_cross-en-de-roberta-sentence-transformer. Creating a new one with MEAN pooling.\n"
          ]
        }
      ]
    },
    {
      "cell_type": "code",
      "source": [
        "def extract_most_frequent_hashtags(dataset):\n",
        "    dates=list()\n",
        "\n",
        "    for row,record in enumerate(df.hashtags):\n",
        "      if record!='[]'and df['timestamp'][row][0:7]>'2021-05' : \n",
        "        dates.append(df['timestamp'][row][0:7])\n",
        "    date=list()\n",
        "    for dt in dates:\n",
        "      if dt not in date:\n",
        "        date.append(dt)\n",
        "\n",
        "\n",
        "\n",
        "\n",
        "    i=1\n",
        "    j=6\n",
        "    for i in range(1,3):\n",
        "      for j in range(1,13):\n",
        "        if i==1 and j>5 and j<10 or i==2 and j<10:\n",
        "          globals()[f'hash202{i}_0{j}']=list()\n",
        "          globals()[f'hash202{i}_0{j}'].extend([hash for row,hash in enumerate(df['hashtags']) if df['timestamp'][row][0:7]==f'202{i}-0{j}' and hash!='[]'])\n",
        "            \n",
        "        elif i==1 and j>5 and j>=10 or i==2 and j>=10:\n",
        "          globals()[f'hash202{i}_{j}']=list()\n",
        "          globals()[f'hash202{i}_{j}'].extend([hash for row,hash in enumerate(df['hashtags']) if df['timestamp'][row][0:7]==f'202{i}-{j}' and hash!='[]'])\n",
        "          \n",
        "    #preprocessing the hashtags list from specific periods\n",
        "    i=1\n",
        "    j=6\n",
        "    for i in range(1,3):\n",
        "      for j in range(1,13):\n",
        "        if i==1 and j>5 and j<10 or i==2 and j<10:\n",
        "          globals()[f'all_hashtags_202{i}_0{j}']=list()\n",
        "          for s in globals()[f'hash202{i}_0{j}']:\n",
        "              bb=s.split(', ')\n",
        "              a=[re.search(r\"[\\[\\'\\\"]*(\\w*)[\\]\\']*\",i).group(1) for i in bb]\n",
        "              globals()[f'all_hashtags_202{i}_0{j}'].extend(a)\n",
        "            \n",
        "            \n",
        "        elif i==1 and j>5 and j>=10 or i==2 and j>=10:\n",
        "          globals()[f'all_hashtags_202{i}_{j}']=list()\n",
        "          for s in globals()[f'hash202{i}_{j}']:\n",
        "              bb=s.split(', ')\n",
        "              a=[re.search(r\"[\\[\\'\\\"]*(\\w*)[\\]\\']*\",i).group(1) for i in bb]\n",
        "              globals()[f'all_hashtags_202{i}_{j}'].extend(a)\n",
        "\n",
        "\n",
        "    def hashtag_set_finder():\n",
        "      hashtag_set=set()\n",
        "      for dt in date:\n",
        "          i,j = dt[3],dt[5:]\n",
        "          lis = globals()[f'all_hashtags_202{i}_{j}']\n",
        "          for i in lis:\n",
        "            hashtag_set.add(i)\n",
        "      return hashtag_set\n",
        "    hashtags_in_DS=hashtag_set_finder()\n",
        "    hashtags_in_DS2 = {i.lower() for i in hashtags_in_DS}\n",
        "    def generate_hashtags(dataset):\n",
        "      listOfAllHashtags=list()\n",
        "      for row, hash in enumerate(dataset.hashtags):\n",
        "        if dataset['timestamp'][row][0:10]>=\"2021-06-01\" and hash!='[]':\n",
        "          bb=hash.split(', ') \n",
        "          \n",
        "          a=[re.search(r\"[\\[\\']*(\\w*)[\\]\\']*\",i).group(1) for i in bb]\n",
        "          listOfAllHashtags.extend(a)\n",
        "      listOfAllHashtagsL=[i.lower() for i in listOfAllHashtags]\n",
        "      return listOfAllHashtagsL\n",
        "    list_of_all_hashtags = generate_hashtags(df)\n",
        "    dic_of_mfh={i:list_of_all_hashtags.count(i)/len(list_of_all_hashtags) for i in hashtags_in_DS2 if list_of_all_hashtags.count(i)>500}\n",
        "      #input_hashtags = [i[0] for i in list_of_mfh]\n",
        "    return dic_of_mfh"
      ],
      "metadata": {
        "id": "uy4tL-RSRV06"
      },
      "execution_count": 85,
      "outputs": []
    },
    {
      "cell_type": "code",
      "source": [],
      "metadata": {
        "id": "ZTZhZb8fS9Xc"
      },
      "execution_count": null,
      "outputs": []
    },
    {
      "cell_type": "code",
      "source": [
        "def hashtag_groups():\n",
        "    representative_hashtags=list()\n",
        "    model = SentenceTransformer('T-Systems-onsite/cross-en-de-roberta-sentence-transformer')\n",
        "    dic_of_mfh= extract_most_frequent_hashtags(df)\n",
        "    input_hashtags=list(dic_of_mfh.keys())\n",
        "    sentence = input_hashtags\n",
        "    embedding_full = model.encode(sentence)\n",
        "    clusterd_hashtags=list()\n",
        "    for hash in input_hashtags:\n",
        "      embedding = model.encode(hash)\n",
        "      sublist={hash}\n",
        "      for j in range(len(input_hashtags)):\n",
        "        if j<len(input_hashtags)-1:\n",
        "          if util.pytorch_cos_sim(embedding,model.encode(input_hashtags[j+1])) > 0.5:\n",
        "              sublist.add(input_hashtags[j+1])\n",
        "              input_hashtags.remove(input_hashtags[j+1])\n",
        "      clusterd_hashtags.append(sublist)\n",
        "\n",
        "      clusterd_hashtags.sort(reverse=True, key= lambda i: len(i))\n",
        "    print(\"for each cluster a group name has been extracted based on the most frequent hashtag of that group or a Group Representative\\n\")\n",
        "    for i in clusterd_hashtags:\n",
        "      i=list(i)\n",
        "      group_n=i[0]\n",
        "      for j in i:\n",
        "        if dic_of_mfh[j] > dic_of_mfh[group_n]:\n",
        "          group_n=j\n",
        "      representative_hashtags.append(group_n)\n",
        "      print(f\"group name  :  {group_n}\" )\n",
        "      print(f'{i}\\n') \n",
        "    return representative_hashtags"
      ],
      "metadata": {
        "id": "092k2W4L4_XJ"
      },
      "execution_count": 86,
      "outputs": []
    },
    {
      "cell_type": "code",
      "source": [
        "representative_hashtgas2=hashtag_groups()"
      ],
      "metadata": {
        "colab": {
          "base_uri": "https://localhost:8080/"
        },
        "id": "sjMMUe3iwzyC",
        "outputId": "140775b9-2514-4c65-cd66-945451b62aad"
      },
      "execution_count": 87,
      "outputs": [
        {
          "output_type": "stream",
          "name": "stderr",
          "text": [
            "WARNING:sentence_transformers.SentenceTransformer:No sentence-transformers model found with name /root/.cache/torch/sentence_transformers/T-Systems-onsite_cross-en-de-roberta-sentence-transformer. Creating a new one with MEAN pooling.\n"
          ]
        },
        {
          "output_type": "stream",
          "name": "stdout",
          "text": [
            "for each cluster a group name has been extracted based on the most frequent hashtag of that group or a Group Representative\n",
            "\n",
            "group name  :  ichbinhanna\n",
            "['ichbinhannaat', 'ichbinhannach', 'ichbinhanna', 'ichbinreyhan', 'ichbinhannah']\n",
            "\n",
            "group name  :  waspostdocswollen\n",
            "['daad', 'waspostdocswollen', 'postdocs']\n",
            "\n",
            "group name  :  hochschulen\n",
            "['academia', 'hochschule', 'hochschulen']\n",
            "\n",
            "group name  :  wisskomm\n",
            "['woisthanna', 'wisskomm', 'ichwarhanna']\n",
            "\n",
            "group name  :  dauerstellen\n",
            "['dauerstellenfürdaueraufgaben', 'dauerstellen', 'befristung']\n",
            "\n",
            "group name  :  hannaimbundestag\n",
            "['hannastreikt', 'hannaimbundestag', 'hannainzahlen']\n",
            "\n",
            "group name  :  academictwitter\n",
            "['academicchatter', 'academictwitter']\n",
            "\n",
            "group name  :  berlhg\n",
            "['berlhg', 'hrk']\n",
            "\n",
            "group name  :  wissenschaft\n",
            "['forschung', 'wissenschaft']\n",
            "\n",
            "group name  :  tvstud\n",
            "['bundestag', 'tvstud']\n",
            "\n",
            "group name  :  bmbf\n",
            "['bmbf']\n",
            "\n",
            "group name  :  27juni\n",
            "['27juni']\n",
            "\n",
            "group name  :  twittercampus\n",
            "['twittercampus']\n",
            "\n",
            "group name  :  dasgewinnenwir\n",
            "['dasgewinnenwir']\n",
            "\n",
            "group name  :  ugnovelle\n",
            "['ugnovelle']\n",
            "\n",
            "group name  :  karliczek\n",
            "['karliczek']\n",
            "\n",
            "group name  :  corona\n",
            "['corona']\n",
            "\n"
          ]
        }
      ]
    },
    {
      "cell_type": "code",
      "source": [
        "representative_hashtgas2"
      ],
      "metadata": {
        "colab": {
          "base_uri": "https://localhost:8080/"
        },
        "id": "uqaXrmfPxtY1",
        "outputId": "41147a39-00b7-4286-bb3e-f27139438d9f"
      },
      "execution_count": 91,
      "outputs": [
        {
          "output_type": "execute_result",
          "data": {
            "text/plain": [
              "['ichbinhanna',\n",
              " 'waspostdocswollen',\n",
              " 'hochschulen',\n",
              " 'wisskomm',\n",
              " 'dauerstellen',\n",
              " 'hannaimbundestag',\n",
              " 'academictwitter',\n",
              " 'berlhg',\n",
              " 'wissenschaft',\n",
              " 'tvstud',\n",
              " 'bmbf',\n",
              " '27juni',\n",
              " 'twittercampus',\n",
              " 'dasgewinnenwir',\n",
              " 'ugnovelle',\n",
              " 'karliczek',\n",
              " 'corona']"
            ]
          },
          "metadata": {},
          "execution_count": 91
        }
      ]
    },
    {
      "cell_type": "code",
      "source": [
        "representative_hashtgas=hashtag_groups()"
      ],
      "metadata": {
        "colab": {
          "base_uri": "https://localhost:8080/"
        },
        "id": "Kr4ZNVGsRBJX",
        "outputId": "c0f59ea7-62d9-4698-d4de-092cf654f04f"
      },
      "execution_count": 42,
      "outputs": [
        {
          "output_type": "stream",
          "name": "stderr",
          "text": [
            "WARNING:sentence_transformers.SentenceTransformer:No sentence-transformers model found with name /root/.cache/torch/sentence_transformers/T-Systems-onsite_cross-en-de-roberta-sentence-transformer. Creating a new one with MEAN pooling.\n"
          ]
        },
        {
          "output_type": "stream",
          "name": "stdout",
          "text": [
            "for each cluster a group name has been extracted based on the most frequent hashtag of that group or a Group Representative\n",
            "\n",
            "group name  :  ichbinhanna\n",
            "['ichbinhannaat', 'ichbinhannach', 'ichbinhanna', 'ichbinreyhan', 'ichbinhannah']\n",
            "\n",
            "group name  :  waspostdocswollen\n",
            "['daad', 'waspostdocswollen', 'postdocs']\n",
            "\n",
            "group name  :  hochschulen\n",
            "['academia', 'hochschule', 'hochschulen']\n",
            "\n",
            "group name  :  wisskomm\n",
            "['woisthanna', 'wisskomm', 'ichwarhanna']\n",
            "\n",
            "group name  :  dauerstellen\n",
            "['dauerstellenfürdaueraufgaben', 'dauerstellen', 'befristung']\n",
            "\n",
            "group name  :  hannaimbundestag\n",
            "['hannastreikt', 'hannaimbundestag', 'hannainzahlen']\n",
            "\n",
            "group name  :  academictwitter\n",
            "['academicchatter', 'academictwitter']\n",
            "\n",
            "group name  :  berlhg\n",
            "['berlhg', 'hrk']\n",
            "\n",
            "group name  :  wissenschaft\n",
            "['forschung', 'wissenschaft']\n",
            "\n",
            "group name  :  tvstud\n",
            "['bundestag', 'tvstud']\n",
            "\n",
            "group name  :  bmbf\n",
            "['bmbf']\n",
            "\n",
            "group name  :  27juni\n",
            "['27juni']\n",
            "\n",
            "group name  :  twittercampus\n",
            "['twittercampus']\n",
            "\n",
            "group name  :  dasgewinnenwir\n",
            "['dasgewinnenwir']\n",
            "\n",
            "group name  :  ugnovelle\n",
            "['ugnovelle']\n",
            "\n",
            "group name  :  karliczek\n",
            "['karliczek']\n",
            "\n",
            "group name  :  corona\n",
            "['corona']\n",
            "\n"
          ]
        }
      ]
    },
    {
      "cell_type": "code",
      "source": [
        "representative_hashtgas"
      ],
      "metadata": {
        "id": "Ov4O_34ri8_n",
        "colab": {
          "base_uri": "https://localhost:8080/"
        },
        "outputId": "b814dc53-cd5d-4b00-bef9-ed4b6f387297"
      },
      "execution_count": 43,
      "outputs": [
        {
          "output_type": "execute_result",
          "data": {
            "text/plain": [
              "['ichbinhanna',\n",
              " 'waspostdocswollen',\n",
              " 'hochschulen',\n",
              " 'wisskomm',\n",
              " 'dauerstellen',\n",
              " 'hannaimbundestag',\n",
              " 'academictwitter',\n",
              " 'berlhg',\n",
              " 'wissenschaft',\n",
              " 'tvstud',\n",
              " 'bmbf',\n",
              " '27juni',\n",
              " 'twittercampus',\n",
              " 'dasgewinnenwir',\n",
              " 'ugnovelle',\n",
              " 'karliczek',\n",
              " 'corona']"
            ]
          },
          "metadata": {},
          "execution_count": 43
        }
      ]
    },
    {
      "cell_type": "code",
      "source": [
        "print(representative_hashtgas)"
      ],
      "metadata": {
        "colab": {
          "base_uri": "https://localhost:8080/"
        },
        "id": "AZlWhjC2n-9k",
        "outputId": "fafcd5c0-d51c-45c3-c104-6a21ec438cd4"
      },
      "execution_count": 44,
      "outputs": [
        {
          "output_type": "stream",
          "name": "stdout",
          "text": [
            "['ichbinhanna', 'waspostdocswollen', 'hochschulen', 'wisskomm', 'dauerstellen', 'hannaimbundestag', 'academictwitter', 'berlhg', 'wissenschaft', 'tvstud', 'bmbf', '27juni', 'twittercampus', 'dasgewinnenwir', 'ugnovelle', 'karliczek', 'corona']\n"
          ]
        }
      ]
    },
    {
      "cell_type": "code",
      "source": [
        "def tweet_clustering(dataset,tweet_id,rep_hashtags):\n",
        "  model = SentenceTransformer('T-Systems-onsite/cross-en-de-roberta-sentence-transformer')\n",
        "  hashclusters=set()\n",
        "  tweet_hashtags=list()\n",
        "  embedding_full = model.encode(rep_hashtags)\n",
        "  hashtags=str(list(df[df.tweet_id==tweet_id].hashtags))\n",
        "  hashtags=hashtags.split(', ')\n",
        "  a=[re.search(r\"[\\[\\'\\\"]*(\\w*)[\\]\\']*\",i).group(1) for i in hashtags]\n",
        "  tweet_hashtags.extend(a)\n",
        "  #print(a)\n",
        "  if not tweet_hashtags[0]:\n",
        "    print(\"no hashtags found for this tweet\")\n",
        "    return \n",
        "\n",
        "  for tw_hash in tweet_hashtags:\n",
        "    embedding = model.encode(tw_hash)\n",
        "    for rep_hash in rep_hashtags:\n",
        "        if util.pytorch_cos_sim(embedding,model.encode(rep_hash)) > 0.5:\n",
        "            hashclusters.add(rep_hash)\n",
        "\n",
        "  return  hashclusters    "
      ],
      "metadata": {
        "id": "6EMYoW6vsHr2"
      },
      "execution_count": 81,
      "outputs": []
    },
    {
      "cell_type": "code",
      "source": [
        "tweet_clustering(df,1406632298183864333,representative_hashtgas)"
      ],
      "metadata": {
        "colab": {
          "base_uri": "https://localhost:8080/"
        },
        "id": "OROt_urgsT4O",
        "outputId": "15bdc646-e4c9-4653-dfd3-afa11b3231f6"
      },
      "execution_count": 83,
      "outputs": [
        {
          "output_type": "execute_result",
          "data": {
            "text/plain": [
              "{'ichbinhanna'}"
            ]
          },
          "metadata": {},
          "execution_count": 83
        }
      ]
    },
    {
      "cell_type": "code",
      "source": [
        "tweet_clustering(df,1406716159064485895,representative_hashtgas)"
      ],
      "metadata": {
        "colab": {
          "base_uri": "https://localhost:8080/"
        },
        "id": "glInsmQKscYA",
        "outputId": "b794ea92-ba06-4c99-ec40-35584307a629"
      },
      "execution_count": 84,
      "outputs": [
        {
          "output_type": "stream",
          "name": "stdout",
          "text": [
            "no hashtags found for this tweet\n"
          ]
        }
      ]
    },
    {
      "cell_type": "code",
      "source": [],
      "metadata": {
        "id": "Mb-kmZ4ktFuO"
      },
      "execution_count": null,
      "outputs": []
    },
    {
      "cell_type": "code",
      "source": [],
      "metadata": {
        "id": "SrF89mLPtzbi"
      },
      "execution_count": null,
      "outputs": []
    }
  ]
}