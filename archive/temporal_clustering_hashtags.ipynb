{
 "cells": [
  {
   "cell_type": "code",
   "execution_count": 11,
   "metadata": {
    "id": "8vg5wG7HDVYr"
   },
   "outputs": [],
   "source": [
    "import numpy as np\n",
    "import matplotlib.pyplot as plt\n",
    "import pandas as pd\n",
    "import re"
   ]
  },
  {
   "cell_type": "code",
   "execution_count": 12,
   "metadata": {
    "colab": {
     "base_uri": "https://localhost:8080/"
    },
    "id": "jqihnkYeD_vm",
    "outputId": "5c84a07c-6540-45ca-d66f-4bb1bbb97d41"
   },
   "outputs": [
    {
     "data": {
      "text/plain": [
       "(308338, 12)"
      ]
     },
     "execution_count": 12,
     "metadata": {},
     "output_type": "execute_result"
    }
   ],
   "source": [
    "df = pd.read_parquet('C:\\\\Users\\\\kapad\\\\panda\\\\TweetAnalyzer\\\\final_twitter_data.parquet')\n",
    "df.drop_duplicates(subset=['tweet_id'])\n",
    "df.head()\n",
    "df.shape"
   ]
  },
  {
   "cell_type": "code",
   "execution_count": 13,
   "metadata": {
    "id": "kjvOg4oPPzig"
   },
   "outputs": [],
   "source": [
    "df['timestamp'] = pd.to_datetime(df['timestamp'])\n",
    "# df = df.drop_duplicates()"
   ]
  },
  {
   "cell_type": "code",
   "execution_count": 14,
   "metadata": {
    "colab": {
     "base_uri": "https://localhost:8080/"
    },
    "id": "Smieinr_YdTz",
    "outputId": "c63ea904-aa09-452c-8798-2b785091eab4"
   },
   "outputs": [
    {
     "name": "stdout",
     "output_type": "stream",
     "text": [
      "total df:  (308338, 12)\n",
      "(170547, 12)\n",
      "(47076, 12)\n",
      "(22606, 12)\n",
      "(22499, 12)\n",
      "(31114, 12)\n",
      "(12821, 12)\n"
     ]
    }
   ],
   "source": [
    "def quarter_data(df, start_date, end_date):\n",
    "  mask = (df['timestamp'] >= start_date) & (df['timestamp'] <= end_date)\n",
    "  quarter_df = df.loc[mask]\n",
    "  return quarter_df\n",
    "\n",
    "print(\"total df: \", df.shape)\n",
    "quarter_june_aug_21 = quarter_data(df = df, start_date = '2021-6-1', end_date = '2021-8-31')\n",
    "print(quarter_june_aug_21.shape)\n",
    "quarter_sept_nov_21 = quarter_data(df = df, start_date = '2021-9-1', end_date = '2021-11-30')\n",
    "print(quarter_sept_nov_21.shape)\n",
    "quarter_dec_21_feb_22 = quarter_data(df = df, start_date = '2021-12-1', end_date = '2022-2-28')\n",
    "print(quarter_dec_21_feb_22.shape)\n",
    "quarter_mar_may_22 = quarter_data(df = df, start_date = '2022-3-1', end_date = '2022-5-31')\n",
    "print(quarter_mar_may_22.shape)\n",
    "quarter_june_aug_22 = quarter_data(df = df, start_date = '2022-6-1', end_date = '2022-8-31')\n",
    "print(quarter_june_aug_22.shape)\n",
    "quarter_sept_oct_22 = quarter_data(df = df, start_date = '2022-9-1', end_date = '2022-10-31')\n",
    "print(quarter_sept_oct_22.shape)\n"
   ]
  },
  {
   "cell_type": "code",
   "execution_count": 15,
   "metadata": {
    "colab": {
     "base_uri": "https://localhost:8080/"
    },
    "id": "wf5oCy69gfEN",
    "outputId": "a9798a2e-a826-4226-b8e6-557e5fc4dde8"
   },
   "outputs": [
    {
     "name": "stdout",
     "output_type": "stream",
     "text": [
      "(660, 12)\n"
     ]
    }
   ],
   "source": [
    "def other_data(df, start_date, end_date):\n",
    "  mask = (df['timestamp']<start_date) | (df['timestamp']>end_date)\n",
    "  other_df = df.loc[mask]\n",
    "  print(other_df.shape)\n",
    "\n",
    "other_time = other_data(df=df, start_date='2021-6-1', end_date = '2022-10-31')"
   ]
  },
  {
   "cell_type": "code",
   "execution_count": 16,
   "metadata": {
    "id": "nRSw-NFpRmao"
   },
   "outputs": [],
   "source": [
    "import operator\n",
    "\n",
    "def generate_hashtags(dataset):\n",
    "  listOfAllHashtags=list()\n",
    "  for row, hash in enumerate(dataset.hashtags):\n",
    "    if hash!='[]':\n",
    "      bb=hash.split(', ') \n",
    "      \n",
    "      a=[re.search(r\"[\\[\\']*(\\w*)[\\]\\']*\",i).group(1) for i in bb]\n",
    "      listOfAllHashtags.extend(a)\n",
    "  listOfAllHashtagsL=[i.lower() for i in listOfAllHashtags]\n",
    "  return listOfAllHashtagsL\n",
    "\n",
    "def hashtag_key_value(df):\n",
    "  lis=generate_hashtags(df)\n",
    "  values, counts = np.unique(lis, return_counts=True)\n",
    "  quarter_hashtag_frequency = {}\n",
    "  for A, B in zip(values, counts):\n",
    "    quarter_hashtag_frequency[A] = B\n",
    "  sorted_quarter_hashtag_frequency = {k: v for k, v in sorted(quarter_hashtag_frequency.items(), key=lambda item: item[1])}\n",
    "  return sorted_quarter_hashtag_frequency\n",
    "\n",
    "# val1 = hashtag_key_value(quarter_sept_oct_22)\n",
    "# print(val1)"
   ]
  },
  {
   "cell_type": "code",
   "execution_count": 17,
   "metadata": {
    "id": "LVIBlAb8VHOJ"
   },
   "outputs": [],
   "source": [
    "from collections import defaultdict\n",
    "\n",
    "def bin_25(x):\n",
    "    return int(x / 25)\n",
    "\n",
    "def bin_dict_list(myDict):\n",
    "  data = defaultdict(list)\n",
    "  for coord, value in myDict.items():\n",
    "    data[bin_25(value)].append([coord, value])\n",
    "  output = list(data.values())\n",
    "  return output\n",
    "  # for l in output:\n",
    "  #   print(l)"
   ]
  },
  {
   "cell_type": "code",
   "execution_count": 18,
   "metadata": {
    "id": "prkiKJ-ajQKo"
   },
   "outputs": [],
   "source": [
    "def myRun(df):\n",
    "  new_dict = hashtag_key_value(df)\n",
    "  output = bin_dict_list(new_dict)\n",
    "  return output"
   ]
  },
  {
   "cell_type": "code",
   "execution_count": 19,
   "metadata": {
    "colab": {
     "base_uri": "https://localhost:8080/"
    },
    "id": "ElCL5OU-p3HZ",
    "outputId": "91b9f201-ed90-4b24-ed43-16a247e8af96"
   },
   "outputs": [
    {
     "name": "stdout",
     "output_type": "stream",
     "text": [
      "[[['ichbinhanna', 120658]], [['wisszeitvg', 14838]], [['hannaimbundestag', 6067]], [['ichbinreyhan', 3257]], [['95vswisszeitvg', 2666]], [['dauerstellen', 2550]], [['acertaindegreeofflexibility', 2370]], [['wissenschaft', 1762]], [['frististfrust', 1299]], [['ichbinhannah', 1243]], [['hannabeidergew', 925]], [['karliczek', 913], ['bmbf', 919]], [['wisskomm', 659], ['bundestag', 666]], [['hochschulen', 632]], [['unbezahlt', 607]], [['ugnovelle', 580]], [['waspostdocswollen', 574]], [['ichbinhannach', 482], ['woisthanna', 493]], [['ichwarhanna', 457]], [['hannastreikt', 379]], [['digitalhumanities', 352], ['academia', 358], ['ichbinhannaat', 371]], [['berlhg', 338], ['openaccess', 342], ['tvstud', 348]], [['wirsindhanna', 319]], [['zeitverträge', 275], ['befristung', 276], ['forschung', 285], ['hochschule', 286], ['anschlussverwendung', 293]], [['traumjobwiss', 267], ['academictwitter', 268], ['klassismus', 270], ['tenuretrack', 274]], [['hanna', 227], ['bundestagswahl', 228], ['corona', 229], ['berlin', 234]], [['wissenschaftsfreiheit', 209], ['metoo', 217]], [['gutearbeit', 183], ['dauerstellenfürdaueraufgaben', 190], ['postdocs', 190], ['arbeiterkind', 198]], [['academicchatter', 155], ['keineausnahme', 157], ['bipocs', 161], ['streik', 161], ['letzte3semester', 162], ['bipoc', 170], ['twittercampus', 171], ['wissenschaftler', 173]], [['btw21', 126], ['dgfa', 131], ['firstgen', 132], ['nachwuchs', 132], ['germanacademia', 133], ['mittelbau', 133], ['followerpower', 134], ['rt', 134], ['lehre', 136], ['phd', 136], ['buwin', 138], ['rassismus', 138], ['hannagehtwählen', 149]], [['karriere', 100], ['linke', 100], ['arbeitsbedingungen', 101], ['bildung', 101], ['ausbeutung', 102], ['factorywisskomm', 105], ['generalstreikwissenschaft', 105], ['ichbinjelena', 105], ['bafög', 106], ['arbeitsbedigungen', 109], ['ausstieghochschule', 110], ['promovierende', 111], ['berufsverbot', 112], ['nichtemma', 115], ['abo', 116], ['hannahatlangsamdieschnauzevoll', 116], ['hannaindentagesthemen', 116], ['zement', 116], ['95wisspausen', 117], ['r2gwirkt', 120], ['braindrain', 121], ['diversity', 121], ['länder', 122]], [['innovation', 75], ['heisserherbst', 76], ['binichhanna', 77], ['grundeinkommen', 77], ['dhd', 78], ['stellungnahme', 78], ['wissenschaftlerinnen', 80], ['uni', 81], ['machtmissbrauch', 83], ['thesis_ev', 83], ['academicmentalhealth', 85], ['promotion', 85], ['grüne', 86], ['thread', 86], ['cdu', 88], ['getorganizedtostrike', 88], ['bpk', 89], ['ichbinmelek', 89], ['unionize', 89], ['germany', 90], ['juniorprofessur', 90], ['academicprecarity', 91], ['acertaindegreeofflexibilty', 91], ['zwangsteilzeit', 92], ['dfg', 94], ['btw2021', 96], ['hannamachturlaub', 96], ['religionswissenschaft', 96], ['ff', 98], ['video', 99]], [['bge', 50], ['ichbinhannaschef', 50], ['gap', 51], ['generalstreik', 51], ['ableismus', 52], ['covid19', 53], ['digitalisierung', 53], ['durchlauferhitzer', 53], ['dvrw', 53], ['ecrchat', 53], ['gfm', 53], ['sarcasmoff', 53], ['wissenschaftssystem', 53], ['exstra', 54], ['gewerkschaft', 54], ['twlz', 54], ['bildungbrennt', 55], ['mindestlaufzeiten', 55], ['mittagsmagazin', 55], ['r2g', 55], ['sciencesunday', 55], ['studium', 55], ['forschungseinrichtungen', 56], ['precariousinternational', 56], ['befristungsquote', 57], ['hannabeidentagesthemen', 57], ['baerbock', 58], ['buwin2021', 58], ['digitalelehre', 58], ['kmk', 58], ['tdl', 58], ['mensagoesscience', 59], ['teachingbuyout', 59], ['dh', 60], ['ugnovelle21', 60], ['wissenschaftskommunikation', 60], ['drittmittel', 62], ['deutschland', 63], ['dgs', 63], ['empowerdh', 63], ['grundfinanzierung', 63], ['wissenschaftszeitvertragsgesetz', 63], ['diversität', 64], ['mlunterfinanziert', 66], ['tarifvertrag', 66], ['acertaindegreeofstreik', 67], ['precarity', 68], ['universität', 68], ['zukunftsvertrag', 68], ['chancengleichheit', 70], ['entfristethanna', 70], ['unigöttingen', 70], ['blog', 71], ['mentalhealth', 71], ['gew', 72], ['postdoc', 72], ['dgpuk', 73], ['wisszvg', 73], ['departmentstruktur', 74], ['entfristenstattstreichen', 74], ['qualifizierung', 74], ['zdf', 74], ['überstunden', 74]], [['arbeitskampf', 25], ['bildungsfinanzierung', 25], ['econtwitter', 25], ['gemeinsamstark', 25], ['gorillas', 25], ['hannabeidertagesschau', 25], ['höchstbefristungsdauer', 25], ['ichbinzement', 25], ['lehrbeauftragte', 25], ['messi34', 25], ['mukoviszidose', 25], ['prekärearbeit', 25], ['qpl', 25], ['red', 25], ['sarahimbundestag', 25], ['sozialearbeit', 25], ['studentischebeschäftigte', 25], ['thisismyhobby', 25], ['urlaub', 25], ['w1', 25], ['abelism', 26], ['euro2020', 26], ['gaslighting', 26], ['gewerkschaftsmitglied', 26], ['ingenieurinnen', 26], ['ki', 26], ['norwegen', 26], ['woinactie', 26], ['daueraufgaben', 27], ['freebritney', 27], ['goretzka', 27], ['hartziv', 27], ['lehrende', 27], ['mpg', 27], ['science', 27], ['university', 27], ['unter_bau', 27], ['befristete', 28], ['entfristungen', 28], ['frühsexualisierung', 28], ['hannaentfristen', 28], ['iigrs', 28], ['inflation', 28], ['kinderlos', 28], ['nachwuchswissenschaftlerinnen', 28], ['phdchat', 28], ['rechtesphantom', 28], ['tagderkleinenforscher', 28], ['zeitvertragsunwesen', 28], ['befristet', 29], ['dok100', 29], ['doktoranden', 29], ['ent2021', 29], ['gjbj_rt', 29], ['habilitation', 29], ['ilovecapitalism', 29], ['scicom', 29], ['teammlpd', 29], ['twitterstorians', 29], ['annalenabaerbock', 30], ['coaching', 30], ['dvpwblog', 30], ['gewerkschaften', 30], ['hannagehtwaehlen', 30], ['hannawirdbildungsministerin', 30], ['hessen', 30], ['highereducation', 30], ['hijabs', 30], ['muslim', 30], ['privilegien', 30], ['professur', 30], ['promovieren', 30], ['rundertischgaw', 30], ['solidarity', 30], ['unbezahltearbeit', 30], ['vereinbarkeit', 30], ['wissenschaftsjahr2022', 30], ['women', 30], ['außenwahrnehmung', 31], ['engger', 31], ['fff', 31], ['kwg', 31], ['nichthannawerden', 31], ['personalentwicklung', 31], ['powi', 31], ['selbstwahrnehmung', 31], ['türkisgrün', 31], ['verstopfung', 31], ['allesistdrin', 32], ['bundesregierung', 32], ['hannasaysgoodbye', 32], ['hireandfire', 32], ['humanities', 32], ['karliczexit', 32], ['nachwuchswissenschaftler', 32], ['tazeins', 32], ['wissenschaftprekaer', 32], ['wissenschaftspolitik', 32], ['andereuni', 33], ['arbeit', 33], ['bundeskanzlerin', 33], ['deliveroouniversity', 33], ['lehrbeauftragten', 33], ['mutterschaft', 33], ['stopprécarité', 33], ['themaverfehlt', 33], ['95wisszeitvg', 34], ['befristetewissenschaftistprekariat', 34], ['blockadehaltung', 34], ['coronasemester', 34], ['diplotalk', 34], ['erstakademiker', 34], ['medienwissenschaft', 34], ['noafd', 34], ['piraten', 34], ['wissenschaftundfamilie', 34], ['akademischerableismus', 35], ['beschäftigungsbedingungen', 35], ['hannasberatung', 35], ['academic', 36], ['academicfreedom', 36], ['frauen', 36], ['geschlecht', 36], ['hannaindergew', 36], ['ichbinhannamitfamilie', 36], ['illner', 36], ['initiative', 36], ['kettenvertrag', 36], ['phdlife', 36], ['9von10', 37], ['diss', 37], ['frististfrist', 37], ['lehreohnezukunft', 37], ['univ', 37], ['universitäten', 37], ['elfenbeinturm', 38], ['hannas', 38], ['mint', 38], ['selbstvergleiche', 38], ['wissenschaftsfinanzierung', 39], ['befristungen', 40], ['bund', 40], ['hochschuldidaktik', 40], ['stipendium', 40], ['wissa', 40], ['anjamachteinfachweiter', 41], ['gender', 41], ['koalitionsvertrag', 41], ['meritokratie', 41], ['pflege', 41], ['reyhanbleiben', 41], ['denisepipitone', 42], ['fristfrust', 42], ['solidarität', 42], ['gewtag21', 43], ['iamhanna', 43], ['personalmodell', 43], ['wissen3', 43], ['arsboni', 44], ['histag21', 44], ['krankenversicherung', 44], ['laschet', 44], ['ldk21nrw', 44], ['musthave', 44], ['letzten3semester', 45], ['toxicacademia', 45], ['openscience', 46], ['aktuellestunde', 47], ['deutschenwissenschaft', 47], ['groko', 47], ['hrk', 47], ['kritischereflexionen', 47], ['lahmlegen', 47], ['prekariat', 47], ['prekärerarbeit', 47], ['regenbogenfamilie', 48], ['tagesthemen', 48], ['sand', 49], ['stopthecuts', 49], ['usa', 49], ['vhd', 49]], [['12tagetostay', 1], ['17ziele', 1], ['24junefaizabadprotest', 1], ['360gradkameraistzukrank', 1], ['4corners', 1], ['50räteanjedeuni', 1], ['5stelle', 1], ['6g', 1], ['8ecm', 1], ['95thesen', 1], ['95wisszeitpausen', 1], ['_البن', 1], ['aachen', 1], ['abas', 1], ['ableistisch', 1], ['abroad', 1], ['abtreibung', 1], ['academichypocrisy', 1], ['academicundercommons', 1], ['academicvalues', 1], ['acceptdoge', 1], ['acertaindegreeofcoronaacademia', 1], ['acertaindegreeofracism', 1], ['adacemia', 1], ['adhd', 1], ['advancedgrant', 1], ['affecttheoryrules', 1], ['agency', 1], ['agenparl', 1], ['agfürdemokratischesprache', 1], ['agingresearch', 1], ['ahrweiler', 1], ['airdropinspect', 1], ['airport', 1], ['aka7even', 1], ['akademiker', 1], ['akademikerkids', 1], ['akademikerkinder', 1], ['akademischesnomadentum', 1], ['alemania', 1], ['alittlebitofflexibity', 1], ['all', 1], ['alleinerziehende', 1], ['allstars6', 1], ['alltag', 1], ['allusnehareddy', 1], ['alternativensuchen', 1], ['alternsforschung', 1], ['altlast', 1], ['amad', 1], ['amazingstudents', 1], ['amazonprimeday', 1], ['america', 1], ['americans', 1], ['amongus', 1], ['amphead', 1], ['androzentrismus', 1], ['annayolivia', 1], ['annewill', 1], ['anschlussverwendbarkeit', 1], ['anschlussverwendungsichwillnichtmehr', 1], ['apotheken', 1], ['approbation', 1], ['arbeitnehmerüberlassungsgesetz', 1], ['arbeitskultur', 1], ['arbeitslosengeld', 1], ['arbeitslosigkeit', 1], ['arbitrariness', 1], ['archivfund', 1], ['archäologen', 1], ['arena', 1], ['arminlaschet', 1], ['armutszeugnis', 1], ['arrestyatindranathgiri', 1], ['arschlöcher', 1], ['artikel5', 1], ['artistontwitter', 1], ['arzt', 1], ['arztbrief', 1], ['asf', 1], ['askingforafriend', 1], ['asktony', 1], ['asozial', 1], ['ass', 1], ['astrazeneca', 1], ['astro', 1], ['astrologie', 1], ['astrology', 1], ['astronaut', 1], ['astronautics', 1], ['astronautik', 1], ['astrophoto', 1], ['astrophysics', 1], ['attilahildmann', 1], ['augenaufbeiderjobwahl', 1], ['ausbildungstarten', 1], ['ausgruenden', 1], ['auspoi', 1], ['australien', 1], ['auswaertstorregel', 1], ['auswandern', 1], ['autisticprideday', 1], ['aviagemnoviva', 1], ['b2406', 1], ['badwiesseertagung', 1], ['balkanboys', 1], ['balkon', 1], ['bass', 1], ['bauindustrie', 1], ['bawü', 1], ['beautiful', 1], ['befristungfürwolfdieter', 1], ['befristungszuschlag', 1], ['befristungtudarmstadt', 1], ['beirutblast', 1], ['belgien', 1], ['bellemariano', 1], ['beratung', 1], ['berlindirekt', 1], ['berlino', 1], ['berufen', 1], ['berufsausbildungsstätten', 1], ['berufswahl', 1], ['bestof', 1], ['betreuungsvereinbarung', 1], ['beyonce', 1], ['bezühlichbildung', 1], ['bfr', 1], ['bhakdi', 1], ['biases', 1], ['bibliotheken', 1], ['bigmama', 1], ['biko2021', 1], ['bild', 1], ['bildliebtafd', 1], ['bildpolitik', 1], ['bildungfürgenerationen', 1], ['bildungistmehrwert', 1], ['bildungsaufsteigerin', 1], ['bildungskirse', 1], ['bildungsland', 1], ['bildungslandschaft', 1], ['bildungsministerin', 1], ['bildungssysteme', 1], ['bildungswissenschaft', 1], ['billcosby', 1], ['binance', 1], ['binichsogarwirklich', 1], ['bioeconomy', 1], ['bipbip', 1], ['birgittriegraf', 1], ['birlamandir', 1], ['birthday', 1], ['bitcoincrash', 1], ['bl', 1], ['blackboxscience', 1], ['blackdayforjammu', 1], ['blacklivesmatter', 1], ['bleibtgesund', 1], ['blogger', 1], ['bloodborne', 1], ['bm365', 1], ['bmbf_bund', 1], ['bmbf_live', 1], ['bmbferklärfilme', 1], ['bonnsocial', 1], ['booktwit', 1], ['boreout', 1], ['boss', 1], ['boxed', 1], ['br', 1], ['brain', 1], ['braincityberlin', 1], ['brexit', 1], ['brezngate', 1], ['brillen', 1], ['britneyspeaks', 1], ['brudnapała', 1], ['brundtland', 1], ['brückensemester', 1], ['btsmustersowoozoo', 1], ['budenheimermemorandum', 1], ['bullshit', 1], ['bullshitjobs', 1], ['bulmahn', 1], ['bundesbildungsministerin', 1], ['bundeswehr', 1], ['buntvolk', 1], ['burnout', 1], ['butterbrezn', 1], ['buyviews', 1], ['buyviewsonyoutube', 1], ['buyyoutubeviews', 1], ['bvb', 1], ['bwlimkindergarten', 1], ['böll', 1], ['børge', 1], ['bürger', 1], ['cabinet', 1], ['calliolive', 1], ['canadaday', 1], ['cancelcanadaday', 1], ['cannabis', 1], ['canyoureach', 1], ['cars', 1], ['cartographer', 1], ['cartographerberger', 1], ['cduistwasfürboomer', 1], ['certaindegreeofflexibilty', 1], ['cfp', 1], ['champion', 1], ['champions', 1], ['charminar', 1], ['chemie', 1], ['chemiker', 1], ['chrisnatrickymilele', 1], ['christinevogtwilliam', 1], ['christmas2020', 1], ['climatecrisis', 1], ['cloggingthesystem', 1], ['cnmi', 1], ['coburg', 1], ['coldcaseonprime', 1], ['comic', 1], ['commons', 1], ['communicatingscientists', 1], ['congratulationsmasterkg', 1], ['consulting', 1], ['coronasn', 1], ['cortaporlozano', 1], ['covpass', 1], ['croatia', 1], ['crochet', 1], ['cultstud', 1], ['culturalpolicylab', 1], ['curriculumdekolonisieren', 1], ['cysticfibrosis', 1], ['cz', 1], ['daad', 1], ['dafindetnichtsstatt', 1], ['daimler', 1], ['daiswasdran', 1], ['dankbar', 1], ['dankbarkeit', 1], ['darkacademia', 1], ['darmstadtunbefristet', 1], ['darv', 1], ['dashandwerk', 1], ['dasistmeinenormalefigur', 1], ['daueraufgabenbrauchendauerpersonal', 1], ['dauerbewerbungsphase', 1], ['dauerstelle', 1], ['dauerstellenproblematik', 1], ['davido', 1], ['dayzero', 1], ['defi', 1], ['dekolonisierung', 1], ['deltaplus', 1], ['demcoalitionday', 1], ['departmentstrukturen', 1], ['depressionen', 1], ['derekiseruit', 1], ['deutscherhochschulverband', 1], ['dfb', 1], ['dfbpokal', 1], ['dgb', 1], ['dgm', 1], ['dgokolloquium', 1], ['diegruenen', 1], ['diehüttebrenntimmernoch', 1], ['dienstag', 1], ['digga', 1], ['digitalart', 1], ['digitalität', 1], ['digitalmarketing', 1], ['digitaltransformation', 1], ['disability', 1], ['disabilityrights', 1], ['disabilty', 1], ['disputation', 1], ['disruptionindelivery', 1], ['diversityaffects', 1], ['djokovic', 1], ['dkforsk', 1], ['dkpol', 1], ['dkzv', 1], ['dna', 1], ['doktorarbeit', 1], ['dokumentation', 1], ['domesticviolence', 1], ['dontbuythesun', 1], ['doppelmum', 1], ['dossier', 1], ['doutdes', 1], ['draußen', 1], ['dream', 1], ['dreamboys', 1], ['drip', 1], ['drittmittelausrede', 1], ['drittmittelbraut', 1], ['drittmittelförderung', 1], ['drittmitteln', 1], ['drittmittelprojekte', 1], ['drm', 1], ['durchatmen', 1], ['durchausamüsiert', 1], ['dvpw', 1], ['dzhw', 1], ['e13', 1], ['eadebates', 1], ['earlycareer', 1], ['earlystageresarchers', 1], ['earth', 1], ['eastenders', 1], ['econ', 1], ['economy', 1], ['ecpr', 1], ['ecrs', 1], ['edelgart', 1], ['eden_street', 1], ['eden_street_community', 1], ['editionfarchiv', 1], ['eeg', 1], ['egozentrik', 1], ['ehec2011', 1], ['ehegattensplitting', 1], ['ehrlichkeit', 1], ['einschelmwerdabeibösesdenkt', 1], ['elonmusk', 1], ['elouassil', 1], ['eltern', 1], ['empowerment', 1], ['emptyboxoffl', 1], ['endthestigma', 1], ['eng', 1], ['engden', 1], ['enhypendiamond', 1], ['enhypendivine', 1], ['entfristungsanteil', 1], ['entfristungsrisiko', 1], ['entgeltgruppen', 1], ['environmentalstudies', 1], ['epidemischeluege', 1], ['equalpay', 1], ['equalrights', 1], ['erdueberlastungstag', 1], ['erfindungen', 1], ['erhöhte', 1], ['erstakademikerin', 1], ['ersteanderuni', 1], ['escapegame', 1], ['esfindetnichtsstatt', 1], ['esgibtkeinenelfenbeinturm', 1], ['esisthanna', 1], ['estibador', 1], ['euco', 1], ['euerprofet', 1], ['eugh', 1], ['euitud', 1], ['eumaria', 1], ['eupassports', 1], ['evenlouderwire', 1], ['excellencecluster', 1], ['exini', 1], ['existenzangst', 1], ['explorepage', 1], ['exportschlager', 1], ['exportweltmeister', 1], ['fachdidaktik', 1], ['fachverbände', 1], ['fackjuhanna', 1], ['fact', 1], ['facts', 1], ['fail', 1], ['fairstattprekär', 1], ['fallwinterhoff', 1], ['familienfördergesetz', 1], ['familienplanung', 1], ['family', 1], ['familyfun', 1], ['farewell', 1], ['farming', 1], ['fatigue', 1], ['faulpack', 1], ['fcbayern', 1], ['feministischewissenschaftspolitik', 1], ['femminismus', 1], ['ferien', 1], ['feudalismus', 1], ['fifa', 1], ['fightforhealthjobs', 1], ['filmförderung', 1], ['findelablague', 1], ['finduthread', 1], ['fishbowl', 1], ['fixedtermcontractslaw', 1], ['fleischindustrie', 1], ['flensburg', 1], ['foerderpreis', 1], ['football', 1], ['footballmemes', 1], ['forschungsthemas', 1], ['fragdeinenvater', 1], ['frage', 1], ['frageinslammy', 1], ['fragselbst', 1], ['framing', 1], ['frasui', 1], ['frauenhass', 1], ['fraunhofer', 1], ['freelance', 1], ['frivolerfreitag', 1], ['fullstack', 1], ['fun', 1], ['funding', 1], ['funktionsverbgefüge', 1], ['fussball', 1], ['fussballem', 1], ['futureofeurope', 1], ['fußball', 1], ['für', 1], ['g7', 1], ['galaxym32', 1], ['gamestudies', 1], ['gaminglife', 1], ['ganztagsbetreuung', 1], ['gardening', 1], ['garnichtspassiert', 1], ['garnichtsstattfindet', 1], ['gearporn', 1], ['geflüchteten', 1], ['gegenexistenzängstekämpfen', 1], ['gehen', 1], ['gehälter', 1], ['gelaufen', 1], ['gemeinsamfürgutebildung', 1], ['genderbudgeting', 1], ['gendernneindanke', 1], ['gendersprache', 1], ['germancathechism', 1], ['germanistik', 1], ['geschichtestudieren', 1], ['geschichtsvereine20', 1], ['geschlechtergerechtigkeit', 1], ['geschwätzwissenschaften', 1], ['gesellschaftneudenken', 1], ['gesundheitsmanagement', 1], ['gewerkschaftstag', 1], ['gewtag', 1], ['gez', 1], ['ggmbh', 1], ['glaubwürdigkeit', 1], ['glückgehabt', 1], ['goal', 1], ['god', 1], ['golconda', 1], ['goodbyescience', 1], ['gottseidank', 1], ['grenzobjekte', 1], ['growyourmoney', 1], ['großbritannien', 1], ['gruener', 1], ['gruenermist', 1], ['grundausstattung', 1], ['grundlage', 1], ['grønland', 1], ['gutebildung', 1], ['gutelehrerfüreurekinder', 1], ['gutesleben', 1], ['gwzo', 1], ['gzsz', 1], ['habeck', 1], ['habemichauchandieschuleentsorgt', 1], ['habilitationsflüchtling', 1], ['habitus', 1], ['hanau', 1], ['handmade', 1], ['handwerk', 1], ['hannaaufreisen', 1], ['hannabildetlehreraus', 1], ['hannafrage', 1], ['hannahatkinder', 1], ['hannaheulterstmal', 1], ['hannainausbildung', 1], ['hannaisinternational', 1], ['hannaistbeidergew', 1], ['hannaistimbundestag', 1], ['hannaistkeineinzelschicksal', 1], ['hannaistkeineschraube', 1], ['hannaistkrank', 1], ['hannaistmüde', 1], ['hannaistsystem', 1], ['hannakommtwieder', 1], ['hannamachtweiter', 1], ['hannamussineinegewerkschaft', 1], ['hannasolltebessernichtmutterwerden', 1], ['hannasteigtaus', 1], ['hannawehrtsich', 1], ['hansarostock', 1], ['happy', 1], ['happybirthdaytejasswiprakash', 1], ['harryandmeghan', 1], ['hartzvi', 1], ['haushaltsdefizit', 1], ['hausstellen', 1], ['headtacher', 1], ['health', 1], ['heisterhagen', 1], ['helmholtz', 1], ['heman', 1], ['herthafirnberg', 1], ['heulleiser', 1], ['heuteshow', 1], ['highendaudio', 1], ['hildesheim', 1], ['hindipoetry', 1], ['histag', 1], ['histocamp', 1], ['hitparade', 1], ['hochbegabte', 1], ['hochqualifiziert', 1], ['hochqualifizierte', 1], ['hochschulausbildung', 1], ['hochschulgesetz', 1], ['hochschullehrer', 1], ['hochwasser', 1], ['hod', 1], ['homeschooling', 1], ['honorarkäfte', 1], ['hospitalplaylist2', 1], ['hot100composerjk', 1], ['humanist', 1], ['hundesteuerbefreiung', 1], ['hunger', 1], ['hv2021', 1], ['hybrid', 1], ['hybridkonferenz', 1], ['ibbenbüren', 1], ['ichbinafterhanna', 1], ['ichbinahumanbeing', 1], ['ichbinaiwanger', 1], ['ichbinarash', 1], ['ichbinbaldhanna', 1], ['ichbincrowdloan', 1], ['ichbindabeihanna', 1], ['ichbineigentlichruben', 1], ['ichbinemma', 1], ['ichbinfrank', 1], ['ichbingeimpft', 1], ['ichbingosens', 1], ['ichbinhann', 1], ['ichbinhannan', 1], ['ichbinhannes', 1], ['ichbinhanno', 1], ['ichbinklaus', 1], ['ichbinmensch', 1], ['ichbinpeter', 1], ['ichbinraus', 1], ['ichbinrevon', 1], ['ichbinsophiescholl', 1], ['ichbinsustainche', 1], ['ichbinviktor', 1], ['ichbjnhanna', 1], ['ichfassesnichtdassdieflitzpiepebildungsministerinist', 1], ['ichglaubeshackt', 1], ['ichhabdienasevoll', 1], ['ichhabeglück', 1], ['ichheissenichthanna', 1], ['ichhättehannahseinkönnen', 1], ['ichmachdanichtmit', 1], ['ichmussweg', 1], ['ichwarhannaschef', 1], ['ichwarmalhanna', 1], ['ichwarnichthanna', 1], ['ichwarschonimmerhanna', 1], ['ichwarstudierende', 1], ['ickebinhanna', 1], ['idiocracy', 1], ['idiots', 1], ['ifgvechta', 1], ['ihrkenntdienamen', 1], ['ihrseidhanna', 1], ['imgxnct', 1], ['impfenschuetzt', 1], ['impfnachweis', 1], ['impfnationalismus', 1], ['impfsoli', 1], ['impfteuchinsknie', 1], ['impostersyndrome', 1], ['inbinhanna', 1], ['incident', 1], ['index', 1], ['indexme', 1], ['india', 1], ['indiawantscrypto', 1], ['indidigital', 1], ['informatik', 1], ['ingenieur_in', 1], ['inhochschulennixlos', 1], ['iniziativa', 1], ['inkompetenz', 1], ['innohealthusa', 1], ['innovationgehtsonicht', 1], ['innovationhub', 1], ['innovationsmanagement', 1], ['innovativ', 1], ['insektensterben', 1], ['instrumentalisierung', 1], ['intensivstationgate', 1], ['interdiziplinäre', 1], ['international', 1], ['internationale', 1], ['interview', 1], ['into1', 1], ['investitionen', 1], ['ipsa2021', 1], ['iqoo', 1], ['irak', 1], ['irdi', 1], ['irgendwasmitexperimentality', 1], ['ironie', 1], ['irrlichter', 1], ['islam_is_an_endlesshappiness', 1], ['isntitironic', 1], ['isso', 1], ['istso', 1], ['italien', 1], ['ithasalwaysbeenlikethis', 1], ['jammukashmir', 1], ['janaauskassel', 1], ['jedeswortistswert', 1], ['jeremywahomeracing', 1], ['jessica', 1], ['jobdestages', 1], ['jobscamming', 1], ['jobsearch', 1], ['jobseekerssa', 1], ['jobsuche', 1], ['jodeldiplom', 1], ['jointheteam', 1], ['joinus', 1], ['jugendforscht', 1], ['june12thprotest', 1], ['jurassic', 1], ['justasking', 1], ['justiceforbt', 1], ['justsaying', 1], ['jypexplain', 1], ['kabutalent21', 1], ['kafka', 1], ['kampagne', 1], ['kanada', 1], ['kannstedirnichtausdenken', 1], ['kapstadt', 1], ['karliczekabwählen', 1], ['karliczeknix', 1], ['karliczekrücktritt', 1], ['karlikneift', 1], ['karls', 1], ['karlswires', 1], ['karrierezwang', 1], ['kashmir', 1], ['katjasabisch', 1], ['kcorp', 1], ['kcorpwin', 1], ['keeptherage', 1], ['keine', 1], ['keineexperimente', 1], ['keineherrenjahre', 1], ['keinerda', 1], ['keineunion', 1], ['keinmitleid', 1], ['keinplan', 1], ['kempten', 1], ['kickstarter', 1], ['kindergeburtstagswunschfestvertrag', 1], ['kinderhilfe', 1], ['kinderkongress', 1], ['kindertag', 1], ['kindheitsforschung', 1], ['kindheitstraum', 1], ['klebeeffekte', 1], ['klimapolitik', 1], ['klimaschutzgesetz', 1], ['klimawandelleugner', 1], ['klöckner', 1], ['koalagoals', 1], ['koav', 1], ['kolleg', 1], ['kommunikation', 1], ['komponistinnen', 1], ['kontext', 1], ['korpuslinguistik', 1], ['kosmonaut', 1], ['kowi', 1], ['kreativität', 1], ['kreativitätstechniken', 1], ['kreativsemester', 1], ['ktm', 1], ['kubicki', 1], ['kuh', 1], ['kultusministerium', 1], ['kurz', 1], ['köpenickerappell', 1], ['künstlerischeausbildung', 1], ['l', 1], ['langcreative', 1], ['langzeitarchivierung', 1], ['laschetkannsnicht', 1], ['lastrt', 1], ['lebensplanung', 1], ['lecturer', 1], ['lehramt', 1], ['lehrentwicklung', 1], ['lehreundforschng', 1], ['lesen', 1], ['lesmakeacademiagreatagain', 1], ['liebe', 1], ['lieferdienstfahrer', 1], ['lifeofpia', 1], ['lifesciencejobs', 1], ['lightroom', 1], ['limbo', 1], ['limo', 1], ['limonade', 1], ['literacy', 1], ['litwiss', 1], ['live', 1], ['livestream', 1], ['lmao', 1], ['lobbyismus', 1], ['lockdown', 1], ['lockdown2021', 1], ['lockerungen', 1], ['longcovidkids', 1], ['lorenzalich', 1], ['lorenzalichphotography', 1], ['loveislove', 1], ['lovemyjob', 1], ['ltwlsa21', 1], ['luftfiltern', 1], ['lutz', 1], ['luxembourg', 1], ['maassen', 1], ['machenstattmeckern', 1], ['machinelearning', 1], ['machtdermedien', 1], ['machtdiehüttedicht', 1], ['madeingermany', 1], ['madreeniumbwakni', 1], ['maenner', 1], ['maitai', 1], ['malta', 1], ['maneskin', 1], ['mangelnde', 1], ['marasli', 1], ['marcondes', 1], ['margaritas', 1], ['master', 1], ['masterarbeit', 1], ['matchmakingtour', 1], ['maternityleave', 1], ['mathematics', 1], ['mattgaetzisguiltyaf', 1], ['maxplanckschools', 1], ['maxraabe', 1], ['maxweber', 1], ['mcaanewsletter', 1], ['mdcberlin', 1], ['medialiteracy', 1], ['mediendidaktik', 1], ['medizininformatik', 1], ['mehrentfristungwagen', 1], ['mehrsprachigkeitfürinclusion', 1], ['mehrviralitätgehtnicht', 1], ['meinehanna', 1], ['meinvfl', 1], ['meltingpod', 1], ['memory', 1], ['menschenmitbehinderungen', 1], ['mental', 1], ['mentalesaltertest', 1], ['mentalhealthload', 1], ['meritocracymyass', 1], ['meritokratielüge', 1], ['merton500', 1], ['microsoft', 1], ['miete', 1], ['mieten', 1], ['mietsaga', 1], ['migrationshintergrund', 1], ['mikrokosmos', 1], ['militäreinsätzen', 1], ['millennium', 1], ['miltwitter', 1], ['misheardlyrics', 1], ['mitarbeiterentwicklung', 1], ['mittelmäßigkeit', 1], ['mluunterfinanziert', 1], ['moderna', 1], ['modernisierungsjahrzehnt', 1], ['modi', 1], ['mondaymotivation', 1], ['monopoly', 1], ['moritzimspiegel', 1], ['mosaicexpedition', 1], ['movies', 1], ['mri', 1], ['msca', 1], ['multilingualityforinclusion', 1], ['multiphase', 1], ['mumbairains', 1], ['musikproduktiv', 1], ['musikwissenschaft', 1], ['musk', 1], ['märchen', 1], ['müde', 1], ['nachwuchsnetzwerk', 1], ['nachwuchswissenschaft', 1], ['nadira', 1], ['narrfranckeattempto', 1], ['nationalicedteaday', 1], ['nato', 1], ['nazihintergrund', 1], ['nazis', 1], ['nbaplayoffs', 1], ['nedaus', 1], ['neindanke', 1], ['neinheißtnein', 1], ['netaus', 1], ['netzdg', 1], ['netzlese', 1], ['neustaat', 1], ['newcomer', 1], ['newtonian', 1], ['nextsteps', 1], ['nft', 1], ['ngos', 1], ['nicht', 1], ['nichtmeineministerin', 1], ['nichtnormal', 1], ['nichts', 1], ['nichtsemester', 1], ['nichtsstattfindet', 1], ['nichtzuendegedacht', 1], ['niemandwillpromovierendeentfristen', 1], ['nightclub', 1], ['nightlypop', 1], ['nihilobstat', 1], ['nix', 1], ['nixlos', 1], ['nixpassiert', 1], ['nobel', 1], ['nocovid', 1], ['nodoption', 1], ['noichbinmichael', 1], ['nomorecdu', 1], ['noneofusarefreeuntilweareallfree', 1], ['nonprofitsektor', 1], ['nooneisredundant', 1], ['nopainnogain', 1], ['notmyhschg_bbg', 1], ['nrlw', 1], ['nsu', 1], ['nurderhsv', 1], ['nächstegenerationhanna', 1], ['nützlichkeit', 1], ['oberhausen', 1], ['oecd', 1], ['olympics', 1], ['orban', 1], ['orbit', 1], ['organisestrike', 1], ['organize_yourself', 1], ['ortskraefte', 1], ['outandproud', 1], ['p2206', 1], ['palastorchester', 1], ['paper', 1], ['partei', 1], ['parteitag', 1], ['patriarchatabschaffen', 1], ['patriarchy', 1], ['pause', 1], ['pc', 1], ['pcmasterrace', 1], ['pegida', 1], ['perasperaadastra', 1], ['perspektiven', 1], ['petergrottian', 1], ['petsupplies', 1], ['pfi', 1], ['pfizer', 1], ['pflegenotstand', 1], ['phantomlehre', 1], ['phdfriend', 1], ['phdposition', 1], ['phds', 1], ['philipp', 1], ['phludwigsburg', 1], ['physik', 1], ['piedpiper', 1], ['pinacolada', 1], ['pirat', 1], ['planckacademy', 1], ['planetaryhealth', 1], ['plannedhappenstance', 1], ['politicslive', 1], ['politikgewissen', 1], ['polsci', 1], ['ponzi', 1], ['populistisch', 1], ['postofisso', 1], ['precarietà', 1], ['precariousness', 1], ['primeday', 1], ['primeday2021', 1], ['princesscharming', 1], ['prithvirajsukumaran', 1], ['professorin', 1], ['professorinnen', 1], ['proflife', 1], ['progress', 1], ['progressdiversity', 1], ['prohibition', 1], ['projektitis', 1], ['projekts', 1], ['proletarisierung', 1], ['promotionsstelle', 1], ['propaganda', 1], ['propyläen', 1], ['protectthekids', 1], ['psa', 1], ['psl6final', 1], ['pslfantasycricket', 1], ['pslfinal', 1], ['publicvoit', 1], ['publikationen', 1], ['publishandperish', 1], ['publishing', 1], ['pug2021', 1], ['putin', 1], ['pädagoge', 1], ['qualifikationsstelle', 1], ['qualität', 1], ['qualitätspaktlehre', 1], ['querdenken', 1], ['querfinanzierung', 1], ['r6extraction', 1], ['racism', 1], ['radiocity', 1], ['railameansbusiness', 1], ['rains', 1], ['rassismusmonitors', 1], ['ratchetandclankriftapart', 1], ['ratchetps5', 1], ['rauschen', 1], ['rcc', 1], ['realsatire', 1], ['redakteur_in', 1], ['redbubble', 1], ['redbubbleshop', 1], ['regierung', 1], ['reinhard_jahn', 1], ['reitschuster', 1], ['religionspädagogik', 1], ['renewableenergies', 1], ['repräsentation', 1], ['reseachers', 1], ['researchers', 1], ['researchfacilitator', 1], ['researchimpact', 1], ['researchopportunities', 1], ['resilienz', 1], ['respeklos', 1], ['rest', 1], ['revolution', 1], ['rh', 1], ['rhfp2021', 1], ['rigaer', 1], ['rightwing', 1], ['ringoffire', 1], ['rjprabhat', 1], ['robodebt', 1], ['rolandbaader', 1], ['roundtable', 1], ['rpo', 1], ['ruber', 1], ['rusreform', 1], ['russia', 1], ['ryanjhun', 1], ['s04mv', 1], ['saarland', 1], ['safarnama', 1], ['safemoon', 1], ['saipan', 1], ['sajad', 1], ['sap', 1], ['sarcasm', 1], ['satellit', 1], ['satire', 1], ['saveapexranked', 1], ['savemacgyver', 1], ['saynotodrugs', 1], ['sbmchat', 1], ['schattenseite', 1], ['scheewars', 1], ['scheinselbständigkeit', 1], ['schinkennudeln', 1], ['schlechtesmussnichtbilligsein', 1], ['schlechtrasiert', 1], ['schlimmeralsichdachte', 1], ['school', 1], ['schools', 1], ['schreiben', 1], ['schroedingerspostdoc', 1], ['schröder', 1], ['schwarzarbeit', 1], ['schwarzerfilz', 1], ['schäuble', 1], ['schönertagen', 1], ['sciencenotsilence', 1], ['scienceslam', 1], ['seehofer', 1], ['sehnsucht', 1], ['seibert', 1], ['seiltanzbiographie', 1], ['seiwiehanna', 1], ['selbstkonzept', 1], ['selbstverwaltung', 1], ['selbstwert', 1], ['selbstwirksamkeit', 1], ['selbstüberschätzung', 1], ['selektion', 1], ['semesterende', 1], ['senat', 1], ['senckenbergfamilie', 1], ['senckenbergfrankfurt', 1], ['seufz', 1], ['sexyzone', 1], ['sfdora', 1], ['sgeu2021', 1], ['sharp', 1], ['shorts', 1], ['sieisthanna', 1], ['siesindhanna', 1], ['sindwirnichtalleeinbischenbluna', 1], ['sinnkrise', 1], ['sisyphos', 1], ['skola', 1], ['sldk', 1], ['sltchat', 1], ['smallstreamercommunity', 1], ['smallstreamersconnect', 1], ['smallstreamersupport', 1], ['snkrs', 1], ['socavonpuebla', 1], ['soccer', 1], ['sociologistspostingtheirls', 1], ['socks', 1], ['soeder', 1], ['soforthilfe', 1], ['solareclipse2021', 1], ['sommer', 1], ['sommerferien', 1], ['sommerpause', 1], ['sonderkontingent', 1], ['sonderregelungen', 1], ['sonnenlicht', 1], ['sonntag', 1], ['sophiessister', 1], ['soyhanna', 1], ['sozial', 1], ['sozialeinrichtungen', 1], ['sozialepolitikfuerdich', 1], ['sozialökologischetransformation', 1], ['soziologie_jobs', 1], ['spacex', 1], ['spaziergang', 1], ['speakon', 1], ['spenden', 1], ['sportwissenschaft', 1], ['sprache', 1], ['springwatch', 1], ['srhr', 1], ['staatsfunk', 1], ['staatsknete', 1], ['stadium', 1], ['statistik', 1], ['statusquo', 1], ['staytuned', 1], ['stellenangebote', 1], ['stellenausschreibung', 1], ['steuergeld', 1], ['steuerzahler', 1], ['stevedores', 1], ['stipendien', 1], ['stopprecarity', 1], ['straßenverkehr', 1], ['stream', 1], ['streamer', 1], ['streaming', 1], ['structure', 1], ['studenten', 1], ['studentin', 1], ['studienkollegin', 1], ['studtv', 1], ['stupawahl', 1], ['subventionen', 1], ['summcumlaude', 1], ['summerterm', 1], ['sunshine', 1], ['supercable', 1], ['superego', 1], ['support', 1], ['survivorshipbias', 1], ['sustainabledevelopment', 1], ['swissness', 1], ['switzerland', 1], ['swr2kulturmedienschau', 1], ['symbolbild', 1], ['syrien', 1], ['systemkritik', 1], ['systemrelevanten', 1], ['tabuthemen', 1], ['tagdesworkaholics', 1], ['tagebücherderwissenschaft', 1], ['tageslöhner', 1], ['taikonotatsujin', 1], ['talentschleuder', 1], ['talkevent', 1], ['tankbund', 1], ['tarif', 1], ['tarifbeschäftigte', 1], ['tarifvertrages', 1], ['tauconantulang', 1], ['tddl', 1], ['teacake', 1], ['teamarbeit', 1], ['teamwissenschaft', 1], ['teilzeitarbeit', 1], ['telegram', 1], ['tennis', 1], ['terf', 1], ['terraria', 1], ['testimonials', 1], ['textlinguistik', 1], ['theater', 1], ['theaterimop', 1], ['thefutureofmoney', 1], ['themenwahlkampf', 1], ['theobubble', 1], ['theologie', 1], ['theory', 1], ['thirdspace', 1], ['thop', 1], ['thueringen', 1], ['thursdaymood', 1], ['timeline', 1], ['tinian', 1], ['toechter', 1], ['tokenism', 1], ['tokyo2020', 1], ['tolinolonglist', 1], ['tomatensoße', 1], ['tornado', 1], ['translator', 1], ['transportphenomena', 1], ['trauerspiel', 1], ['trendingnow', 1], ['trendsätze', 1], ['trennungsrechnung', 1], ['tripleh', 1], ['truthstorm', 1], ['tsgabschaffen', 1], ['tuerkei', 1], ['tv', 1], ['tvh', 1], ['tvlfürstudis', 1], ['tvöd', 1], ['twitchaffiliate', 1], ['twitchcommunity', 1], ['twitchgermany', 1], ['twitchstream', 1], ['twitchstreamer', 1], ['twitchstreamers', 1], ['twitchtv', 1], ['twitterurlaub', 1], ['tyler', 1], ['tz101', 1], ['täuschung', 1], ['ubisoftforward', 1], ['uddpol', 1], ['ue', 1], ['uefachampionsleague', 1], ['uefaeuro2020', 1], ['ufotwitter', 1], ['ugnovellefürnoasch', 1], ['uhh', 1], ['ulrikelembke', 1], ['unbefristetenverträge', 1], ['unboxed', 1], ['ungleichbehandlung', 1], ['uniabschluss', 1], ['unialsletztesfeudalsystem', 1], ['unihalle', 1], ['unihd', 1], ['unikielalumni', 1], ['unileipzig', 1], ['unimedizinen', 1], ['unionize_now', 1], ['unionized', 1], ['unislahmlegen', 1], ['unitedstates', 1], ['universitas', 1], ['unplanbarkeit', 1], ['unterricht', 1], ['unverzichtbar', 1], ['unwortdesjahres', 1], ['urheberrecht', 1], ['urteil', 1], ['uv', 1], ['vaccinated', 1], ['vaccination', 1], ['vaccinepassports', 1], ['vaccinesideeffects', 1], ['verallgemeinerung', 1], ['vergeudetespotential', 1], ['verhandlungsmasse', 1], ['verheitzt', 1], ['vernarrtinwissen', 1], ['vernetzung', 1], ['verwertbarkeit', 1], ['verzweiflung', 1], ['vfb', 1], ['vh1playlist', 1], ['videos', 1], ['views', 1], ['viewsonyoutube', 1], ['viren', 1], ['voelkerrecht', 1], ['vollkaskoleben', 1], ['vollwp2025', 1], ['vollzeit', 1], ['volvo', 1], ['vorsingen', 1], ['vorträgen', 1], ['vr', 1], ['vrmode', 1], ['vw', 1], ['wahlmarathon', 1], ['waldorfschule', 1], ['waldorfstatler', 1], ['walker', 1], ['wallis', 1], ['walterscott', 1], ['warroom', 1], ['washochschulentunkönnen', 1], ['wasmachtkarliczekberuflich', 1], ['wednesdaythought', 1], ['wegenmorgen', 1], ['weimar', 1], ['welt', 1], ['weltschmerz', 1], ['weltstadt', 1], ['wembley', 1], ['wemgehörtdieuni', 1], ['wendy', 1], ['wert', 1], ['werteunion', 1], ['wiewirpromovierthaben', 1], ['windofchange', 1], ['windows', 1], ['wintersemester', 1], ['wirecard', 1], ['wirfluktuieren', 1], ['wirkstoffforschung', 1], ['wirrotieren', 1], ['wirsindpsychotherapie', 1], ['wirsindreyhan', 1], ['wirtschaftneudenken', 1], ['wirwissenwaswirtun', 1], ['wissenaktuell', 1], ['wissenschaflerinnen', 1], ['wissenschaftlerausbeutung', 1], ['wissenschaftlichenmitarbeitern', 1], ['wissenschaftlichesfehlverhalten', 1], ['wissenschaftsbetrieb', 1], ['wissenschaftsfrust', 1], ['wissenschaftsgesellschaft', 1], ['wissenschaftsleugnung', 1], ['wissenschaftszeitvertrag', 1], ['wissenschaftszeitvertraggesetz', 1], ['wissenschaftverhinderungsgesetz', 1], ['wissensgesellschaft', 1], ['wissensstadtberlin', 1], ['wisskommgonewrong', 1], ['wissnachwuchs', 1], ['wissszeitvg', 1], ['wisswb', 1], ['wisszeitg', 1], ['wisszeitgesetz', 1], ['witnessingcorona', 1], ['wittenbergererklärung', 1], ['wmaalsware', 1], ['woandersistauchscheisse', 1], ['woistanja', 1], ['wording', 1], ['workingclass', 1], ['wszvg', 1], ['wtc21', 1], ['wünschefürhanna', 1], ['würde', 1], ['xaviernaidoo', 1], ['xiaojun', 1], ['yayoikusama', 1], ['yigitpoyraz', 1], ['yks2021', 1], ['youngroyals', 1], ['youtubemarketing', 1], ['youtuber', 1], ['yuta897', 1], ['zahlderwoche', 1], ['zebo', 1], ['zeitarbeit', 1], ['zeitfragen', 1], ['zeitgeschichte', 1], ['zementmischer', 1], ['zevedi', 1], ['zielkonflikte', 1], ['zimtschnecke', 1], ['zirkelschluss', 1], ['zoll', 1], ['zombieapokalypse', 1], ['zonaba', 1], ['zoom', 1], ['zukunftgestalten', 1], ['zukunftsfähigkeit', 1], ['zukunftspakt', 1], ['zulage', 1], ['zusatzaufgaben', 1], ['zverev', 1], ['zweitgutachten', 1], ['zwischenruf', 1], ['ögd', 1], ['ökonomischer', 1], ['ökosysteme', 1], ['ü40nachwuchsohnenachwuchs', 1], ['überflüssig', 1], ['überlastung', 1], ['überwachung', 1], ['ιchbinhanna', 1], ['أرامكو', 1], ['الحب_الثاني_ينسيك_الاول', 1], ['بيطة_مرسول', 1], ['تضبيطة_مرسول', 1], ['تقبل_الزواج_من_عسكريه', 1], ['توقعات2022', 1], ['سله_الزمالك_قدها', 1], ['ع', 1], ['ليلي_عبد_اللطيف', 1], ['هيئة_الرقابة_ومكافحة_الفساد', 1], ['وطن_بلا_فساد', 1], ['アメブロ', 1], ['カリム', 1], ['ジェシー誕生祭2021', 1], ['タイラバ', 1], ['𝐚𝐢𝐫𝐝𝐫𝐨𝐩', 1], ['0x1lovesong3rdwin', 2], ['109ug', 2], ['academicjob', 2], ['acertaindegreeofstability', 2], ['afdp', 2], ['air', 2], ['airdropinspector', 2], ['akademische', 2], ['allianzwissenschaft', 2], ['almamater', 2], ['ambigramm', 2], ['amthor', 2], ['anhochschulennixlos', 2], ['anjahatfertig', 2], ['anjasweltderwissenschaft', 2], ['anschlußverwendung', 2], ['arbeitszeit', 2], ['archive', 2], ['aufholbedarf', 2], ['aufklärung', 2], ['augenaufbeimstudium', 2], ['ausbildungseinrichtungen', 2], ['ausstiegwissenschaft', 2], ['bearbock', 2], ['berlinualliance', 2], ['berufsbildung', 2], ['beschäftigte', 2], ['besteentscheidung', 2], ['betterbestpractice', 2], ['bibel', 2], ['bildungskonferenz', 2], ['bildungspolitik', 2], ['biometrie', 2], ['bittedankegerngeschehen', 2], ['bleibdirtreu', 2], ['blogdichfrei', 2], ['bmb', 2], ['bmfbf', 2], ['bnb', 2], ['boardgames', 2], ['boycottleicester', 2], ['btsfesta2021', 2], ['bukofjt21', 2], ['c', 2], ['cagamos', 2], ['camdakikiz', 2], ['cannes2021', 2], ['carepack', 2], ['chai', 2], ['changingscience', 2], ['chbinhanna', 2], ['checkyourprivilege', 2], ['classwar', 2], ['cluster', 2], ['co2', 2], ['coachphd', 2], ['colvsvgk', 2], ['coronamaßnahmen', 2], ['czeeng', 2], ['dankekroener', 2], ['dasistdiebukof', 2], ['dasperfektedinner', 2], ['dataesr', 2], ['daueraufgabe', 2], ['db', 2], ['delhirains', 2], ['delta', 2], ['demographischewandel', 2], ['deneng', 2], ['deprtmentstruktur', 2], ['deutsch', 2], ['deutungshoheit', 2], ['diehartenindengarten', 2], ['dienstnachvorschrift', 2], ['digitaldetox', 2], ['digitalenetzwerke', 2], ['digitalturn', 2], ['diversityandinclusion', 2], ['doctoralcandidates', 2], ['domainnames', 2], ['drop', 2], ['dws', 2], ['dynamisierung', 2], ['dzg', 2], ['dzhk', 2], ['earn', 2], ['eclipse2021', 2], ['economics4future', 2], ['efteling', 2], ['ego', 2], ['einwandeurngsland', 2], ['em2020', 2], ['em2021', 2], ['emmynoether', 2], ['engcze', 2], ['englishspeaking', 2], ['ennemidelarepublique', 2], ['entfristete', 2], ['epi', 2], ['epidemischelagebeenden', 2], ['equality', 2], ['erc', 2], ['erinnerung', 2], ['eristhanna', 2], ['esistnichtfüralleplatz', 2], ['esreicht', 2], ['eth', 2], ['etherum', 2], ['etudiantssansmaster', 2], ['euro2020final', 2], ['excellence', 2], ['expat', 2], ['exzellenzcluster', 2], ['fairearbeitsbedingungen', 2], ['fallstudie', 2], ['familienfeindliche', 2], ['familienfreundlich', 2], ['festa2021', 2], ['flexibility', 2], ['fluktuation', 2], ['foodie', 2], ['forschen', 2], ['forschungsförderung', 2], ['forschungszentrumdigitalkultur', 2], ['frager', 2], ['frankfurt', 2], ['fraueninderwissenschaft', 2], ['free', 2], ['freud', 2], ['fuckthesystem', 2], ['führungskultur', 2], ['generation', 2], ['gerhun', 2], ['germanenmythos', 2], ['geruch', 2], ['geschichte', 2], ['geschmack', 2], ['gewässerverschmutzung', 2], ['ggw2021', 2], ['glaube', 2], ['gleichstellungsarbeit', 2], ['gohabsgo', 2], ['goodcause', 2], ['greecestoppushbacks', 2], ['großspenden', 2], ['gruene', 2], ['gruenen', 2], ['grundgesetz', 2], ['gutearbeitinderwissenschaft', 2], ['hagen', 2], ['haltdiefressebild', 2], ['hannaabroad', 2], ['hannacares', 2], ['hannashilfskraft', 2], ['hannasstudentin', 2], ['hashtag', 2], ['hindishayari', 2], ['histed', 2], ['hochwasserkatastrophe', 2], ['hörtipp', 2], ['i', 2], ['ichbinhannaeu', 2], ['ichbinhannainfrankfurtam', 2], ['ichbinhannait', 2], ['ichbinmüde', 2], ['ichbinrüdiger', 2], ['ichbintilda', 2], ['ichbintraurig', 2], ['ichhaburlaub', 2], ['ichhättehannaseinkönnen', 2], ['identity', 2], ['ilner', 2], ['impfpass', 2], ['impfverweigerer', 2], ['infantilisierung', 2], ['innerersicherheit', 2], ['innovationsland', 2], ['innovationspolitik', 2], ['innovationssysteme', 2], ['irl', 2], ['isscs21', 2], ['jesuispierre', 2], ['jeudiphoto', 2], ['jobalert', 2], ['jointheunion', 2], ['journalisten', 2], ['judentum', 2], ['jungeagenda', 2], ['jungeforschende', 2], ['justcduthings', 2], ['ka3na', 2], ['karliczekmussgehen', 2], ['kettenarbeitsverträge', 2], ['klimanotstand', 2], ['knowledge', 2], ['koalitionsverhandlungen', 2], ['kollegialität', 2], ['kommentar', 2], ['kosmos', 2], ['kultur', 2], ['lablife', 2], ['laschetschreibtab', 2], ['lasergirl', 2], ['leavingacademia', 2], ['leipzig', 2], ['leseempfehlung', 2], ['lieblingstee', 2], ['life', 2], ['livunistrike', 2], ['lohndumping', 2], ['lol', 2], ['lorde', 2], ['lotto', 2], ['ltw21', 2], ['lufthansa', 2], ['lupin', 2], ['lza', 2], ['madanlivexzeenunew', 2], ['maishaauma', 2], ['mansplaining', 2], ['markt', 2], ['mars', 2], ['maskendeal', 2], ['maßnahmen', 2], ['mensasociety', 2], ['mentoring', 2], ['metooinscience', 2], ['mithabilnixlos', 2], ['mondaythoughts', 2], ['muenchenmachestrotzdem', 2], ['möglichkeiten', 2], ['möglichmachen', 2], ['nachwuchsförderung', 2], ['narrative', 2], ['neoliberaleuni', 2], ['neoliberalismsucks', 2], ['neustart', 2], ['newacademia', 2], ['newagehypocrisy', 2], ['nfdi', 2], ['nftart', 2], ['niedersachsen', 2], ['niemalsvergessen', 2], ['niemehrspd', 2], ['niewieder', 2], ['nobelpreis', 2], ['nobelpreisträger', 2], ['normaalakademischpeil', 2], ['notahobby', 2], ['notoprecarity', 2], ['nwm', 2], ['nützlich', 2], ['oaʻuomartha', 2], ['obachtsarkasmus', 2], ['oceandecade', 2], ['oezil', 2], ['omtzigt', 2], ['onceselcaday', 2], ['opiniónvp', 2], ['p2406', 2], ['pakistan', 2], ['palindrom', 2], ['paobc', 2], ['pcrgate', 2], ['peerreview', 2], ['ph', 2], ['pharmazie', 2], ['planet', 2], ['plurv', 2], ['politicalscience', 2], ['politur', 2], ['postac', 2], ['postdoctransformation', 2], ['praxiserfahrung', 2], ['prekärearbeitsverhältnisse', 2], ['prekärpromovieren', 2], ['profs', 2], ['psychedelic', 2], ['psychiatrie', 2], ['psychologischekriegsführung', 2], ['publichistory', 2], ['purerhohn', 2], ['qatar', 2], ['qiw', 2], ['qualifikation', 2], ['querdenker', 2], ['rain', 2], ['ready_to_love', 2], ['rechtswidrig', 2], ['respectscience', 2], ['rezo', 2], ['rota', 2], ['rwth', 2], ['ryanreynolds', 2], ['s04', 2], ['samuel', 2], ['sancho', 2], ['satirebehörde', 2], ['saveprodigalson', 2], ['saynotoracism', 2], ['schnickschnackschnuck', 2], ['schokobrötchen', 2], ['schroedingerfellow', 2], ['science4future', 2], ['scienceforchange', 2], ['scienceisnotanopinion', 2], ['security', 2], ['sexistische', 2], ['shayari', 2], ['shitstorm', 2], ['shks', 2], ['siegel', 2], ['sips2021', 2], ['society', 2], ['sonderbefristungsrecht', 2], ['sowirddasnichtsmithanna', 2], ['soypedro', 2], ['sozialarbeit', 2], ['sozialebewegung', 2], ['spitzenforschung', 2], ['spotify', 2], ['spotifymusic', 2], ['spotifyplaylist', 2], ['spotifypromotion', 2], ['stock', 2], ['studienzeit', 2], ['studieren', 2], ['studilife', 2], ['studiumlehre', 2], ['sya', 2], ['symmetrie', 2], ['systemfehler', 2], ['systemfrage', 2], ['sãopaulo', 2], ['taikonaut', 2], ['tapetenwechsel', 2], ['tariffluchtstoppen', 2], ['teamgew', 2], ['terzaketv', 2], ['theblacklist', 2], ['tidal', 2], ['travel', 2], ['troed', 2], ['troed2021', 2], ['tudarmstadt', 2], ['tutorinnen', 2], ['tvl', 2], ['typografie', 2], ['uefa', 2], ['unfair', 2], ['uniabschaffen', 2], ['unigoettingen', 2], ['unikonstanz', 2], ['union', 2], ['ursulaweidenfeld', 2], ['vdhd21', 2], ['vegasborn', 2], ['verantwortung', 2], ['vimeo', 2], ['volksgemeinschaft', 2], ['volkswirtschaft', 2], ['vtmnieuws', 2], ['w1ohnett', 2], ['washierstattfindet', 2], ['webseidank', 2], ['weltall', 2], ['werzuletztlacht', 2], ['whitehypocrisy', 2], ['wirsinddeskreject', 2], ['wirverändernhochschule', 2], ['wissen2go', 2], ['wissenschaftler_in', 2], ['wissenstransfer', 2], ['wissmit', 2], ['wivssa', 2], ['womenalsoknowstuff', 2], ['womeninengineering', 2], ['womeninresearch', 2], ['workshops', 2], ['wrcsafarirally2021', 2], ['writingwithcare', 2], ['yeswecan', 2], ['ziele', 2], ['zielvereinbarungen', 2], ['öffentlicherdienst', 2], ['überich', 2], ['الكفاءة_المالية', 2], ['حاجه_وندمت_عليها', 2], ['لا_للتطعيم_الاجباري41', 2], ['والد_ريم_عبدالله_في_ذمة_الله', 2], ['وفاة_لولوه_الربيعان', 2], ['र', 2], ['โพแฟนท', 2], ['我是佩德羅', 2], ['방탄소년단', 2], ['해찬이와시즈니', 2], ['100daysofcode', 3], ['95vswizzzeitvg', 3], ['aberwenigebeidercsu', 3], ['academicbullies', 3], ['academicslavery', 3], ['academicsunited', 3], ['achfrank', 3], ['administrativesprekariat', 3], ['afghanistan', 3], ['agtida', 3], ['airdrops', 3], ['akademischenviertel', 3], ['altenpflege', 3], ['altin', 3], ['ancestryhour', 3], ['anjamachtarbeitslos', 3], ['anjamachtnichts', 3], ['anschlussverwender', 3], ['arbeitgebermarke', 3], ['arbeitsamt', 3], ['arbeitslos', 3], ['arbeitsplatz', 3], ['arbeitssuchendmeldungen', 3], ['archigos', 3], ['auchichbinhanna', 3], ['auchichbinhannah', 3], ['augenhöhe', 3], ['awareness', 3], ['b0207', 3], ['b1006', 3], ['badwiesserkreis', 3], ['baerbockjetzterstrecht', 3], ['bahnstreik', 3], ['bananenland', 3], ['battlefield2042', 3], ['berufungen', 3], ['bildungspsychologin', 3], ['bildungsrepublik', 3], ['binancesmartchain', 3], ['bogazicidireniyor', 3], ['bolognareform', 3], ['boycottbollywood', 3], ['bratwurst', 3], ['bratwurstimpfung', 3], ['bremerstadtmusikanten', 3], ['bt', 3], ['btc', 3], ['bts_room_live', 3], ['bundespräsident', 3], ['careleaver', 3], ['carework', 3], ['casualisation', 3], ['change', 3], ['changethesystemfromwithin', 3], ['charterriffic', 3], ['cifa', 3], ['classmatters', 3], ['climatechange', 3], ['clos', 3], ['communicationiskey', 3], ['conditions', 3], ['contract', 3], ['coronaedition', 3], ['coronakrise', 3], ['coronavirus', 3], ['crowdfunding', 3], ['danieldüsentrieb', 3], ['danisch', 3], ['darfnichtstimmtnicht', 3], ['debattenkultur', 3], ['decolonizeacademia', 3], ['democraticvalues', 3], ['demokratisierung', 3], ['devooravond', 3], ['dfgpublic', 3], ['dguf', 3], ['digital', 3], ['digitalhunanities', 3], ['dimo', 3], ['discoverthebible', 3], ['dissimblick', 3], ['dmi21', 3], ['dontfuckwithme', 3], ['dragon', 3], ['drittmitteldruck', 3], ['drittmittelprojekten', 3], ['drittmittelstellen', 3], ['easleiden2021', 3], ['ehea', 3], ['eifel', 3], ['elfmeter', 3], ['entfristungfuerhanna', 3], ['entrepreneur', 3], ['epicfail', 3], ['erasmus', 3], ['erklärvideo', 3], ['ethics', 3], ['evaluation', 3], ['fairebezahlung', 3], ['faktenfuchs', 3], ['falsebalance', 3], ['familienfreundlichkeit', 3], ['fh', 3], ['filmfestivalforschung', 3], ['flexibilität', 3], ['forschungslandschaft', 3], ['fplus', 3], ['frauenhofer', 3], ['freebovi', 3], ['freiberuflerstelle', 3], ['freitag', 3], ['frenchdispatch', 3], ['frisistfrust', 3], ['fristverträge', 3], ['futurehannas', 3], ['fühmanns', 3], ['führungspersonal', 3], ['game', 3], ['gameofthrones', 3], ['gendern', 3], ['gerontologie', 3], ['geschätzwissenschaften', 3], ['gesichertebeschaeftigungsverhaeltnisse', 3], ['gewerkschafterziehungundwissenschaft', 3], ['gewerkschaftseintritt', 3], ['glück', 3], ['goavsgo', 3], ['goetheuniversität', 3], ['good', 3], ['grimmzentrum', 3], ['gruendeppen', 3], ['grünen', 3], ['gsöbw', 3], ['hanaimbundestag', 3], ['hannabittebleib', 3], ['hannahatfamilie', 3], ['hannahbeidergew', 3], ['hannaimbundetag', 3], ['haushaltsstellen', 3], ['hci', 3], ['hegel', 3], ['herausforderungen', 3], ['hierarchien', 3], ['hochschulpolitisch', 3], ['homeoffice', 3], ['homogenitaet', 3], ['hrkwahlprüfsteine', 3], ['hsp', 3], ['ichbinauchhanna', 3], ['ichbineinzelkind', 3], ['ichbinhamma', 3], ['ichbinhana', 3], ['ichbinhannaimberufungsverfahren', 3], ['ichbinhanns', 3], ['ichbinjürgen', 3], ['ichbinrreyhan', 3], ['ichinhanna', 3], ['ifgs', 3], ['ikigai', 3], ['immernochhomeoffice', 3], ['incentives', 3], ['inclusion', 3], ['ingenieur', 3], ['innovationen', 3], ['intensivbetten', 3], ['internationalisierung', 3], ['internationallabs', 3], ['iraniansboycottelections', 3], ['irgc', 3], ['isnm', 3], ['jaauchinmint', 3], ['jessicawearelive', 3], ['joundno', 3], ['kaamkamba', 3], ['kapvo', 3], ['karlichecktsnich', 3], ['karliczekkneift', 3], ['karliczekmussweg', 3], ['knightsofopenaccess', 3], ['kohli', 3], ['komplexität', 3], ['krankenhaus', 3], ['krankenpflege', 3], ['kreuznacherhsk', 3], ['kuwait', 3], ['lakonischelegant', 3], ['laschetkneift', 3], ['lautstark', 3], ['le1106', 3], ['lebenshaltungskosten', 3], ['lehrenden', 3], ['lehreundfordchung', 3], ['leiharbeit', 3], ['leitungswasser', 3], ['lieferketten', 3], ['linkebpt', 3], ['linken', 3], ['lohnniveaulimbo', 3], ['loki', 3], ['ltrlp', 3], ['luftfilter', 3], ['läuft', 3], ['macht', 3], ['macht_lärm', 3], ['maggiethatcher', 3], ['makeacademiaabetterplace', 3], ['marburg', 3], ['marktwirtschaft', 3], ['maskenrunter', 3], ['matrix', 3], ['mcdonaldisierung', 3], ['medizin', 3], ['mehralsnichts', 3], ['meintwitterjubilaeum', 3], ['menschenrecht', 3], ['messi', 3], ['mft', 3], ['mg', 3], ['mietenstopp', 3], ['minimoni', 3], ['monday', 3], ['moses', 3], ['mpgleaks', 3], ['msvpz', 3], ['neoliberaleuniversität', 3], ['niederlande', 3], ['nixlosinhochschulen', 3], ['nixmitaussitzen', 3], ['notaufnahme', 3], ['notmyhschg', 3], ['notstand', 3], ['novellejetzt', 3], ['numismatik', 3], ['onlineteaching', 3], ['p0207', 3], ['paradox', 3], ['phdadvice', 3], ['phdforum', 3], ['phdgermany', 3], ['phdrights', 3], ['physics', 3], ['planb', 3], ['planungistalles', 3], ['poeticacademic', 3], ['poweredbyexploitation', 3], ['precarisation', 3], ['prekaritaet', 3], ['pride', 3], ['professuren', 3], ['präsenzlehre', 3], ['psychology', 3], ['publikationsethik', 3], ['quotenfrau', 3], ['quotennachwuchs', 3], ['quotenossi', 3], ['raj', 3], ['ranboofanart', 3], ['rankings', 3], ['realitätsprinzip', 3], ['rechners', 3], ['refrat', 3], ['regelstudienzeit', 3], ['regenbogendfb', 3], ['religionsgeneinschaft', 3], ['rethinkacademia', 3], ['rezensionen', 3], ['roadto1k', 3], ['rtxon', 3], ['russland', 3], ['s421', 3], ['schwarzfahren', 3], ['schäublesolltehannasein', 3], ['scientificautonomy', 3], ['scifi', 3], ['shrinkingspace', 3], ['sibler', 3], ['simoneclaar', 3], ['socialjustice', 3], ['socialmedia', 3], ['solidarischindieoffensive', 3], ['sonnenfinsternis', 3], ['sorrynotsorry', 3], ['sozialepolitikfürdich', 3], ['space', 3], ['sportrhetorik', 3], ['springer', 3], ['staatsreligion', 3], ['staatsversagen', 3], ['station19', 3], ['statusübergreifend', 3], ['stelle', 3], ['stellenverstopfung', 3], ['strategien', 3], ['studentischesprekariat', 3], ['summerschool', 3], ['tdlgibtairf', 3], ['tdlgibtarif', 3], ['teufelswerk', 3], ['texlatex', 3], ['thanksfornothing', 3], ['thetwosidesofacademy', 3], ['thirdspaclerin', 3], ['threader', 3], ['thursdaythoughts', 3], ['tiktok', 3], ['tollesinterview', 3], ['trading', 3], ['transformation', 3], ['trikots', 3], ['troed21', 3], ['truthontuesday', 3], ['tvstudjetzt', 3], ['twitch', 3], ['türkei', 3], ['ukimmigration', 3], ['ukvisas', 3], ['unbefristete', 3], ['unibielefeld', 3], ['universitaeten', 3], ['unsicherheit', 3], ['unten', 3], ['unwetter', 3], ['urlaubsreif', 3], ['urlaubstage', 3], ['ux', 3], ['vertragslaufzeiten', 3], ['vielendank', 3], ['vitaminb', 3], ['vortrag', 3], ['wasuniswollen', 3], ['wasuniswollensollten', 3], ['wearehanna', 3], ['weilwirwissenschaftlieben', 3], ['werdeichhannagewesensein', 3], ['wettbewerb', 3], ['wexit', 3], ['whistleblowing', 3], ['wisdom', 3], ['wisscomm', 3], ['wissenschaftneudenken', 3], ['wissenschaftprekear', 3], ['wissenschaftsarbeitszeitgesetz', 3], ['wissenschaftsfeindlich', 3], ['wissenschaftstehtauf', 3], ['wisszeitvf', 3], ['wochenstart', 3], ['workshop', 3], ['xai', 3], ['yesimpfpflicht', 3], ['youkey', 3], ['youtube', 3], ['zeitfürstreik', 3], ['zementieren', 3], ['überlieferungsbildung', 3], ['كلنا_ناصيف_زيتون', 3], ['ถ', 3], ['ปรมาจารย', 3], ['absurd', 4], ['academiasowhite', 4], ['academiclife', 4], ['aedil', 4], ['agroforestry', 4], ['arbeitsmarkt', 4], ['archaeologyrocks', 4], ['armutabschaffen', 4], ['b2906', 4], ['beeinträchtigungen', 4], ['bezahlung', 4], ['bildungdigital', 4], ['bildungsstreik', 4], ['bildungweiterdenken', 4], ['billboardhot100', 4], ['bne', 4], ['bordercrossingsolidarities', 4], ['brettspiel', 4], ['bundeserfindungsministerium', 4], ['bundestagsdebatte', 4], ['cduindieopposition', 4], ['challengeaccepted', 4], ['chancenfüralle', 4], ['coronacampus', 4], ['dailyquarks', 4], ['dekanat', 4], ['doingscience', 4], ['dresden', 4], ['edtalk', 4], ['education', 4], ['eliserichternet', 4], ['elternzeit', 4], ['engineering', 4], ['erklärvideos', 4], ['exzellenzstrategie', 4], ['fachverbänden', 4], ['fairnetzteuch', 4], ['familie', 4], ['freiburg', 4], ['frustration', 4], ['ganzejobsfürganzearbeit', 4], ['gasbmeetsoekoprog', 4], ['hannabrauchturlaub', 4], ['hannaistmütend', 4], ['hannajoinstheunion', 4], ['hannawirdmama', 4], ['historikerinnen', 4], ['humankapital', 4], ['ich', 4], ['ichbinanja', 4], ['ichbinessoleid', 4], ['ichbinhannahat', 4], ['ichbinhannahch', 4], ['ikokazike', 4], ['impostorsyndrome', 4], ['inklusion', 4], ['insm', 4], ['jazz', 4], ['joboffer', 4], ['jobs', 4], ['klimaschutz', 4], ['kohlearmin', 4], ['kontrolle', 4], ['krankheit', 4], ['krankheitsfall', 4], ['kretschmann', 4], ['landwirtschaft', 4], ['lebenslauf', 4], ['lenr', 4], ['lfba', 4], ['lieferkettengesetz', 4], ['lisa', 4], ['lohnfortzahlung', 4], ['lpr', 4], ['luftfilterjetzt', 4], ['lvvo', 4], ['management', 4], ['manifesto', 4], ['manifoldspace', 4], ['marchforscience', 4], ['marx', 4], ['maskenpflicht', 4], ['meineformderevaluation', 4], ['mensch', 4], ['miamibuildingcollapse', 4], ['nachwuschwisschenschaftlerinnen', 4], ['nationomat', 4], ['neoliberalismatwork', 4], ['neuroscience', 4], ['newpi', 4], ['niedriglohn', 4], ['nohomöopathie', 4], ['openness', 4], ['p2906', 4], ['pharma', 4], ['pisa', 4], ['planetoflana', 4], ['politicalecology', 4], ['polizei', 4], ['prekäre', 4], ['privileg', 4], ['privilegiencheck', 4], ['prowissenschaft', 4], ['qanda', 4], ['qualifizierungssystem', 4], ['qualitätskontrolle', 4], ['quovadisaustria', 4], ['rechtsextremismus', 4], ['restinpeace', 4], ['rotrotgelbgrün', 4], ['s1905', 4], ['scientists', 4], ['sdg5', 4], ['seinichtnaiv', 4], ['seinichtwiehanna', 4], ['selbstauslese', 4], ['selbstverantwortung', 4], ['selectionbias', 4], ['showusthedata', 4], ['societalagency', 4], ['sozialearbeittwitter', 4], ['spahn', 4], ['speicher', 4], ['staat', 4], ['stellen', 4], ['stem', 4], ['stupa', 4], ['tarifflucht', 4], ['tarifsperre', 4], ['teamreitschuster', 4], ['teildesproblems', 4], ['titellehre', 4], ['toomanyhannas', 4], ['tropdehannas', 4], ['ukglobaltalentvisa', 4], ['ukskilledworkervisa', 4], ['ulmerverein', 4], ['ungleichheiten', 4], ['unternehmen', 4], ['videobeitrag', 4], ['vielfalt', 4], ['webarchive', 4], ['wilburtwtselfieday', 4], ['wirsindbartgeier', 4], ['wisenschaft', 4], ['wissenschaftslanddeutschland', 4], ['wisskommbefragung', 4], ['wuerzburg', 4], ['wzvg', 4], ['yearslater', 4], ['zuvielehannas', 4], ['الثانويه_العامه', 4], ['المؤتمر_الصحفي_للجنة_العليا', 4], ['فيلم_مش_انا', 4], ['نعوضك_السنتين_الماضيه', 4], ['هند_القحطاني', 4], ['95wisspause', 5], ['acceleratedacademia', 5], ['agg', 5], ['ai', 5], ['airdrop', 5], ['akademischeviertel', 5], ['alaac21', 5], ['alg', 5], ['als', 5], ['altac', 5], ['altcoin', 5], ['anjamacht', 5], ['antisemitismus', 5], ['arbeiteninvollenzügen', 5], ['aufstieghochschule', 5], ['badluckhanna', 5], ['banjarahills', 5], ['bibliothek', 5], ['bitteraberwahr', 5], ['booktwitter', 5], ['booktwt', 5], ['certaindegreeofflexibility', 5], ['charter', 5], ['classicstwitter', 5], ['competitive', 5], ['cryptocurrency', 5], ['cryptotwitter', 5], ['deltavariante', 5], ['deutschland2021', 5], ['deutschrapmetoo', 5], ['diskriminierung', 5], ['dokorvater', 5], ['draussenistesanders', 5], ['elternschaft', 5], ['enoughisenough', 5], ['erinnernmitgames', 5], ['etcetc', 5], ['evol2021', 5], ['exzellenzinitiative', 5], ['findetnichtstatt', 5], ['finjaan', 5], ['finjaantealounge', 5], ['finjaanteas', 5], ['finjaanteas_teaware', 5], ['firstgenstudent', 5], ['fobis', 5], ['forschungundlehre', 5], ['forschunundlehre', 5], ['gendergaga', 5], ['genderhistory', 5], ['geoengineering', 5], ['getorganised', 5], ['goodnotes', 5], ['greenlist', 5], ['großartigen', 5], ['grundlagenforschung', 5], ['gutewissenschaft', 5], ['hackathon', 5], ['haltung', 5], ['hannagehtbaden', 5], ['hannagoesbundestag', 5], ['hannaimbundestrag', 5], ['hannaturnsbellyup', 5], ['hannatutnichts', 5], ['herrschingerkodex', 5], ['hochschulbildung', 5], ['hochschulreform', 5], ['hochschulsystem', 5], ['hsg', 5], ['ichbinhannameta', 5], ['ichbinsally', 5], ['idea', 5], ['inboundmarketing', 5], ['ironieoff', 5], ['jetzterstrecht', 5], ['jobchancen', 5], ['joinyourlocalunion', 5], ['karlizcek', 5], ['klimakatastrophe', 5], ['kölnerkatalog', 5], ['leskleenexdelarecherche', 5], ['ltnds', 5], ['lösungsvorschlag', 5], ['math', 5], ['mathart', 5], ['medievaltwitter', 5], ['meinung', 5], ['mentaleherausforderung', 5], ['mindeststandards', 5], ['mindeststeuer', 5], ['mobbing', 5], ['motivation', 5], ['nds', 5], ['neoliberalismus', 5], ['neuenzwanziger', 5], ['nichtsistalternativlos', 5], ['niemehrcdu', 5], ['notallprofessors', 5], ['oldermemebutstillchecksout', 5], ['openacademics', 5], ['pgrsasstaff', 5], ['planungssicherheit', 5], ['politik', 5], ['privatdozent', 5], ['qualifizierungsstellen', 5], ['qualifizierungssysteme', 5], ['regierungserklärung', 5], ['saturdaythoughts', 5], ['schengen', 5], ['scheuerverhindern', 5], ['schrödingerspostdoc', 5], ['sector', 5], ['sharingiscaring', 5], ['solareclipse', 5], ['solidarischehochschule', 5], ['songcontest', 5], ['special', 5], ['startupsfürchristian', 5], ['steamsummersale', 5], ['stopfthecuts', 5], ['stressmanagement', 5], ['studis', 5], ['supportyourstudents', 5], ['systemrelevant', 5], ['teas', 5], ['temporarycontracts', 5], ['thisismswork', 5], ['threads', 5], ['traumjob', 5], ['ug', 5], ['unifindetstatt', 5], ['unistreik', 5], ['unqualifiziert', 5], ['verdi', 5], ['verkehr', 5], ['verstopfen', 5], ['verwaltung', 5], ['verwendungszweck', 5], ['vhw', 5], ['wetterphänomene', 5], ['wewantsantiback', 5], ['wirallesindhanna', 5], ['wissenschaftsmanagement', 5], ['wohnungspolitik', 5], ['womensupportingwomen', 5], ['zib2', 5], ['öd', 5], ['حريق_منتزه_المسقي', 5], ['adademicchatter', 6], ['adjunctlife', 6], ['akademischesprekariat', 6], ['amquerying', 6], ['amwriting', 6], ['annkathrinhoffmann', 6], ['ausbildung', 6], ['barrierefreiheit', 6], ['bayhig', 6], ['bildungabersicher', 6], ['bildungsgerechtigkeit', 6], ['bioökonomie', 6], ['borderlands', 6], ['bsc', 6], ['bundesforschung', 6], ['chemieingenieur', 6], ['comicforschung', 6], ['coronaferien', 6], ['dennoch', 6], ['diemannschaft', 6], ['dieprofis', 6], ['dissertation', 6], ['dmdu', 6], ['drittmittelfinanzierung', 6], ['drittmittelsindkeinbefristungsgrund', 6], ['exc', 6], ['fernsehgarten', 6], ['findedenfehler', 6], ['foaa', 6], ['foasas', 6], ['forschungsinnovation', 6], ['freewordsturkey', 6], ['freitagspost', 6], ['fridayfact', 6], ['fridaysforfuture', 6], ['gasbmeetsökoprog', 6], ['gdg', 6], ['gelassenheit', 6], ['genderforschung', 6], ['gendergerechtigkeit', 6], ['genderstudies', 6], ['getorganized', 6], ['hannasunited', 6], ['help', 6], ['hyderabad', 6], ['ichbinnichtindianajones', 6], ['ichbinrecyclable', 6], ['ichbinsmaug', 6], ['iconmundo', 6], ['interdisziplinarität', 6], ['intersektionalität', 6], ['janalasser', 6], ['jungwissenschafter', 6], ['kasar', 6], ['lanz', 6], ['leakypipeline', 6], ['lowcostworkers', 6], ['makingpoliticswork', 6], ['mentalhealthmatters', 6], ['merkel', 6], ['money', 6], ['neofeudalismus', 6], ['ngo', 6], ['nichtmehrhanna', 6], ['niederlanden', 6], ['normalarbeitsverhältnis', 6], ['oer', 6], ['oerde', 6], ['parent', 6], ['precarization', 6], ['protest', 6], ['religion', 6], ['schokokekse', 6], ['scnr', 6], ['servicethread', 6], ['sexarbeit', 6], ['sfb1187', 6], ['strike', 6], ['subsistenz', 6], ['thanksbutnothanks', 6], ['transitions', 6], ['trending', 6], ['turve', 6], ['tweetstorm', 6], ['twitchde', 6], ['unbefristet', 6], ['unikasselunbefristet', 6], ['veranstaltung', 6], ['verlassen', 6], ['votevolt', 6], ['wasjetzt', 6], ['whitefragility', 6], ['whiteprivilege', 6], ['wissenschaftler_innen', 6], ['wissenschaftlichernachwuchs', 6], ['wissenschaftsfeindlichkeit', 6], ['wissenschaftundforschung', 6], ['zib1', 6], ['zweiklassengesellschaft', 6], ['österreich', 6], ['نادر_الوهيبي', 6], ['40stellingen', 7], ['4genderstudies', 7], ['abführmittel', 7], ['academicapplications', 7], ['academicparenting', 7], ['agendawissenschaft', 7], ['algii', 7], ['anhsfindetzurzeitnichtsstatt', 7], ['arbeitszeiterfassung', 7], ['art', 7], ['askedbutnotanswered', 7], ['befristungswahnsinn', 7], ['berufsverbände', 7], ['beschäftigten', 7], ['bihterziyagil', 7], ['bildungsherkunft', 7], ['bnha318', 7], ['brandenburg', 7], ['bundesrat', 7], ['cifad', 7], ['damithannableibenkann', 7], ['deadlines', 7], ['defa', 7], ['denmark', 7], ['diplom', 7], ['disabilitypridemonth', 7], ['doppelampel', 7], ['e32021', 7], ['emergencyremoteteaching', 7], ['ethik', 7], ['exportüberschuss', 7], ['factorywisszeitvg', 7], ['finland', 7], ['flexibilisierung', 7], ['fortnite', 7], ['freedom', 7], ['freising', 7], ['fsgs', 7], ['german', 7], ['gesundheit', 7], ['gewerkschaftenvoraus', 7], ['goodjob', 7], ['gruenenrw', 7], ['hannah', 7], ['hannakriegtkeinechance', 7], ['hannatakingahike', 7], ['ichbinausländer', 7], ['impfung', 7], ['indien', 7], ['ireland', 7], ['juniorprofessorships', 7], ['kapitel', 7], ['karliczeksuni', 7], ['karliszek', 7], ['karriereplanung', 7], ['karwendel', 7], ['kinderstadt', 7], ['laschetverhindern', 7], ['lesetipp', 7], ['lunchbreak', 7], ['makeacademiagreatagain', 7], ['mediamarkt', 7], ['meritokratiythos', 7], ['ministerium', 7], ['naturalscience', 7], ['nepal', 7], ['nichtverdauerbar', 7], ['no2ir', 7], ['nofuturehanna', 7], ['notjustprofessors', 7], ['nrw', 7], ['oa', 7], ['ottopia', 7], ['parität', 7], ['personalabteilungen', 7], ['philosophie', 7], ['philosophymatters', 7], ['policy', 7], ['praktikerinnen', 7], ['prekäreanstellungen', 7], ['publiziert', 7], ['reazioneacatena', 7], ['rektorate', 7], ['researchprecarity', 7], ['ridayseu', 7], ['rost', 7], ['saturdayscienceslam', 7], ['savethedate', 7], ['selbstzensur', 7], ['socialsciences', 7], ['staatsexamen', 7], ['stellenangebot', 7], ['strohmann', 7], ['sustainability', 7], ['systemverstopfende', 7], ['systemwechsel', 7], ['tarifverhandlungen', 7], ['tarifvertragjetzt', 7], ['tenturetrack', 7], ['tenure', 7], ['theblisscity', 7], ['thursdaymorning', 7], ['treasure', 7], ['unibrennt', 7], ['unis', 7], ['verlage', 7], ['wertschöpfungskette', 7], ['wertschöpfungsketten', 7], ['wien', 7], ['willnichthannasein', 7], ['wirsindderosten', 7], ['wochenende', 7], ['wochenendlektüre', 7], ['wählengehen', 7], ['wüstenplanet', 7], ['yoga', 7], ['zeitschriften', 7], ['zermürbungstaktik', 7], ['zukunftsfähige', 7], ['überqualifiziert', 7], ['مسامير_اعتذرو', 7], ['스트레이키즈', 7], ['abitur', 8], ['ableism', 8], ['academiaunite', 8], ['afd', 8], ['akmn', 8], ['alg1', 8], ['algi', 8], ['apiks', 8], ['arbeitsrecht', 8], ['archaeology', 8], ['bafoeg50', 8], ['befristungspraxis', 8], ['befristungsunwesen', 8], ['bildungsgewerkschaft', 8], ['binessoleid', 8], ['bitcoin', 8], ['bürgerbeteiligung', 8], ['carerevolution', 8], ['commonsense', 8], ['danke', 8], ['darmstadt', 8], ['dieletzten3semester', 8], ['dögs', 8], ['eldenring', 8], ['engagement', 8], ['firstgenerationacademic', 8], ['forschercharta', 8], ['forschungspolitik', 8], ['gießen', 8], ['hannabeiderdfg', 8], ['hannahatberufsverbot', 8], ['hannamachtpause', 8], ['haustarifvertrag', 8], ['hochschulentwicklung', 8], ['ichbinhannameme', 8], ['ichbinlars', 8], ['ichwarlars', 8], ['imc2021', 8], ['keinhobby', 8], ['laschomat', 8], ['martineschaer', 8], ['meditation', 8], ['mentalhealthawareness', 8], ['migration', 8], ['mittelbauini', 8], ['museum', 8], ['newwork', 8], ['nochmehrhannas', 8], ['nomorebullshit', 8], ['normaalacademischpeil', 8], ['overkill', 8], ['photography', 8], ['postdoclife', 8], ['prekarität', 8], ['rentemit68', 8], ['respect', 8], ['reyhan', 8], ['saek2021', 8], ['scheuer', 8], ['schrödingerpostdoc', 8], ['sciencetwitter', 8], ['skandiretten', 8], ['stability', 8], ['tagesticket', 8], ['tvh2021', 8], ['vaccinatiebewijs', 8], ['verstopfungsgefahr', 8], ['wegmitdemwisszeitvg', 8], ['windows11', 8], ['wirsindallehanna', 8], ['wirtschaft', 8], ['wissenschaftsjahr', 8], ['wissensverlust', 8], ['zeitvertrag', 8], ['zulagen', 8], ['ゾンビランドサガ', 8], ['annikaspahn', 9], ['attraktivebedingungen', 9], ['bats', 9], ['bayreuther', 9], ['bereitweilihresseid', 9], ['bildungsideal', 9], ['birds', 9], ['btw', 9], ['bundestahswahl', 9], ['cdurausausderregierung', 9], ['communicationhistory', 9], ['de', 9], ['diealm', 9], ['dieanstalt', 9], ['doitnow', 9], ['doppeltestandards', 9], ['ecosystemservices', 9], ['em', 9], ['emma', 9], ['ernsthaft', 9], ['freyagassmann', 9], ['fuckademia', 9], ['fuerhanna', 9], ['geld', 9], ['gemeinsam', 9], ['gus', 9], ['habilabschaffen', 9], ['hannaimlandtag', 9], ['hartz4', 9], ['hatespeech', 9], ['hochschulbetrieb', 9], ['hybridlehre', 9], ['ichwerdhanna', 9], ['jobcenter', 9], ['kanzlerin', 9], ['klarheit', 9], ['kleinefächer', 9], ['klimawandel', 9], ['linguistics', 9], ['lino70', 9], ['lom', 9], ['mediahistory', 9], ['mütend', 9], ['notmyhochschulgesetz', 9], ['personalversammlung', 9], ['perspektive', 9], ['professor', 9], ['qualifikationsphase', 9], ['qualifikationsphasen', 9], ['qualifikationsquatsch', 9], ['reputationsökonomie', 9], ['rstats', 9], ['schroedingerspostdocs', 9], ['student', 9], ['studinothilfe', 9], ['sustainable', 9], ['templinermanifest', 9], ['thursdayvibes', 9], ['tzbfg', 9], ['vasha', 9], ['voleinosportv', 9], ['whataboutism', 9], ['18monatenichtspassiert', 10], ['anunisläuftnichts', 10], ['atomkraft', 10], ['bafoeg', 10], ['befristeten', 10], ['befristungsquoten', 10], ['btwahl2021', 10], ['burza', 10], ['cancelculture', 10], ['co', 10], ['crypto', 10], ['esr', 10], ['etal', 10], ['farbebekennen', 10], ['followfriday', 10], ['gravamina', 10], ['grenzen', 10], ['gwp', 10], ['hanginthere', 10], ['hannahabilitiert', 10], ['hannahimbundestag', 10], ['hannasolidarisiertsich', 10], ['ichbinmama', 10], ['killerroboter', 10], ['klassenprivileg', 10], ['kolonialeamnesie', 10], ['kolonialismus', 10], ['merci', 10], ['meritokratiemythos', 10], ['mittelbau_maultier', 10], ['neuemusik', 10], ['neuerechte', 10], ['onlinelehre', 10], ['pflegewissenschaft', 10], ['phdvoice', 10], ['positivevibesonly', 10], ['presseschau', 10], ['projekten', 10], ['psychologie', 10], ['republikaner', 10], ['researchgate', 10], ['rücktritt', 10], ['shoah', 10], ['srfkultur', 10], ['staatstrojaner', 10], ['tesla', 10], ['thümler', 10], ['wendyshaw', 10], ['weristhanna', 10], ['wertschätzung', 10], ['wirnennenesarbeit', 10], ['wissenschaftskarrieren', 10], ['womeninstem', 10], ['arbeitskampfanderuni', 11], ['ausgründen', 11], ['bambule', 11], ['bayern', 11], ['beeinträchtigung', 11], ['berufungsverfahren', 11], ['carearbeit', 11], ['cducsu', 11], ['changethesystem', 11], ['coronafrisur', 11], ['doktorvater', 11], ['durcheinandergeht', 11], ['ehrenamt', 11], ['entristethanna', 11], ['exzellenteentqualifizierung', 11], ['generationengerechtigkeit', 11], ['hannawirdlaut', 11], ['hochschulgremien', 11], ['hochschulkanzler', 11], ['ichbin_hanna', 11], ['ichbinbipoc', 11], ['iconsmundo', 11], ['klima', 11], ['lehreundforschung', 11], ['lkrp', 11], ['meta', 11], ['miami', 11], ['millionenpublikum', 11], ['neoliberalacademia', 11], ['promotionscoaching', 11], ['remix', 11], ['retro', 11], ['sieistulrike', 11], ['srf', 11], ['strohargumente', 11], ['tagesschau', 11], ['transdisciplinary', 11], ['uberization', 11], ['uk', 11], ['veränderungen', 11], ['vintage', 11], ['waspostcdocswollen', 11], ['wiederholungstag', 11], ['wimi', 11], ['workersolidarity', 11], ['yosoyhanna', 11], ['แปลร', 11], ['akteursnetzwerk', 12], ['altersarmut', 12], ['arbeitslosenversicherung', 12], ['bagwht', 12], ['betreuung', 12], ['betriebsrat', 12], ['bundesbildung', 12], ['demokratiepädagogik', 12], ['dispositiv', 12], ['entfristen', 12], ['eshatsinn', 12], ['hannagovote', 12], ['hannastehtauf', 12], ['hhg', 12], ['ichbinhanna_at', 12], ['impulsemagazin', 12], ['institut', 12], ['nichtsgemacht', 12], ['nichtspassiert', 12], ['nieuwacademischpeil', 12], ['personalmodelle', 12], ['rente', 12], ['rundertisch', 12], ['servusgrüezihallo', 12], ['sociocongress2021', 12], ['tagung', 12], ['tarifautomatik', 12], ['teilzeit', 12], ['thenextgeneration', 12], ['timeforchange', 12], ['wikipedia', 12], ['wirsindpeinlich', 12], ['wissen', 12], ['ม', 12], ['1hazirandanitibaren', 13], ['2021btsfesta', 13], ['academics', 13], ['aktuell', 13], ['archiv', 13], ['arrogant', 13], ['bipocnetwork', 13], ['dattani', 13], ['ddd', 13], ['devang', 13], ['dm_antraege', 13], ['doktortitel', 13], ['drdevanghdattani', 13], ['eupen', 13], ['eurodoc2021', 13], ['exclusion', 13], ['firstgeneration', 13], ['frühekindheit', 13], ['giorgi', 13], ['guillotine', 13], ['hannaistjetztgewerkschaftsmitlied', 13], ['hannaorganisiertsich', 13], ['heißerherbst', 13], ['hierarbeitethanna', 13], ['hopo', 13], ['ichbinhannamemes', 13], ['ichbinhannas', 13], ['ichbinwolfdieter', 13], ['impfpflicht', 13], ['infinite', 13], ['interdisziplinäre', 13], ['linguistin', 13], ['metrifizierung', 13], ['nochunklarsemester', 13], ['offenenbrief', 13], ['one', 13], ['opening', 13], ['organize', 13], ['quote', 13], ['ridicule', 13], ['rlp', 13], ['rotation', 13], ['schade_dass_beton_nicht_brennt', 13], ['schlafendehunde', 13], ['selbstausbeutung', 13], ['selbstgerecht', 13], ['sexismus', 13], ['slowscience', 13], ['srisrisri', 13], ['szplus', 13], ['ungleichheit', 13], ['unikoblenz', 13], ['venceremos', 13], ['wissenschaftsstandort', 13], ['worklifebalance', 13], ['wtf', 13], ['arbeitsvolumen', 14], ['bayreuthererklärung', 14], ['biotechnologie', 14], ['coronacheckapp', 14], ['entfristung', 14], ['entfristungsoffensive', 14], ['fachkräftemangel', 14], ['gesellschaft', 14], ['goodscientificpractice', 14], ['highered', 14], ['hochschulpakt', 14], ['ichbinhannase', 14], ['kanzlerkandidatin', 14], ['ltnrw', 14], ['malamjumat', 14], ['martinzeyn', 14], ['mittelmaß', 14], ['myroommateisagumiho', 14], ['niewiedercdu', 14], ['reyhanbeidergew', 14], ['sickout', 14], ['sozialeherkunft', 14], ['traumjobwissenschaft', 14], ['trends', 14], ['twitter', 14], ['wirsindhannah', 14], ['wissenschaftszeitvertragsgesetzes', 14], ['womeninscience', 14], ['örr', 14], ['akhilft', 15], ['assange', 15], ['berufsfreiheit', 15], ['cduverhindern', 15], ['cews', 15], ['dbdk21', 15], ['erfindung', 15], ['erstegeneration', 15], ['esistplatzfüralleda', 15], ['hannafürberlhg', 15], ['headscarfban', 15], ['impfstoff', 15], ['intersectionality', 15], ['jammuandkashmir', 15], ['journalismus', 15], ['kinder', 15], ['leistungsprinzip', 15], ['mcafee', 15], ['mittelbaukonzepte', 15], ['nachhaltigkeit', 15], ['petition', 15], ['planbarkeit', 15], ['promovendinnen', 15], ['reform', 15], ['resarch', 15], ['riseup', 15], ['scheitern', 15], ['scicomm', 15], ['self', 15], ['sorgearbeit', 15], ['sächshsfg', 15], ['unvereinbar', 15], ['wearehannah', 15], ['wissenschaftalsberuf', 15], ['zsl', 15], ['academicsunite', 16], ['auslandsamt', 16], ['ausländerbehörde', 16], ['cduwahlprogramm', 16], ['csu', 16], ['digitalsemester', 16], ['doktor', 16], ['dpavolo', 16], ['dvpwkongress2021', 16], ['eu', 16], ['followup', 16], ['freegeorgthiel', 16], ['fürdich', 16], ['geisteswissenschaften', 16], ['haw', 16], ['innovationskraft', 16], ['kodexcheck', 16], ['lokalzeitowl', 16], ['nature', 16], ['onlinelehreistlehre', 16], ['selbstverpflichtung', 16], ['triell', 16], ['wahlkampf', 16], ['weareerdogan', 16], ['wisszeitvgevaluation', 16], ['arbeitslosen', 17], ['ausbeutungfüracademia', 17], ['austria', 17], ['betonköpfe', 17], ['bologna', 17], ['danieladüsentrieb', 17], ['dgv', 17], ['fakenews', 17], ['gfh', 17], ['gi', 17], ['giffey', 17], ['göttingen', 17], ['hannawandertaus', 17], ['hochschulgermanistik', 17], ['hochschulrektor', 17], ['invest', 17], ['karrierechancen', 17], ['klimaforschung', 17], ['klimakrise', 17], ['lohn', 17], ['mima', 17], ['mindestlohn', 17], ['ngawiss', 17], ['nichtmithanna', 17], ['pandemie', 17], ['potsdam', 17], ['sozialversicherung', 17], ['spd', 17], ['tuebingen', 17], ['academicinjustice', 18], ['bestenauslese', 18], ['bildungskrise', 18], ['bmf', 18], ['care', 18], ['debatte', 18], ['deeptalk', 18], ['dobetter', 18], ['esc', 18], ['genderpaygap', 18], ['hochschulschuldidaktik', 18], ['maxplanck', 18], ['must_read', 18], ['organisierteverantwortungslosigkeit', 18], ['professionalisierung', 18], ['scrubs', 18], ['alternativlos', 19], ['archäologie', 19], ['dankefürhanna', 19], ['economyiscare', 19], ['fachgesellschaften', 19], ['fremdvergleiche', 19], ['gleichstellung', 19], ['hochschulforschung', 19], ['ichbinkeinehanna', 19], ['ichhabeeinentextgeschrieben', 19], ['kettenverträge', 19], ['meinefragefürdiewissenschaft', 19], ['politikwissenschaft', 19], ['teamupward', 19], ['thesis2021', 19], ['vergleichspraktiken', 19], ['vlog', 19], ['voneinemderauszogdasfürchtenzulernen', 19], ['coronaverlängerung', 20], ['hermes', 20], ['ichbinnichthanna', 20], ['industrie', 20], ['kruger', 20], ['lehrstuhlsystem', 20], ['lgbtq', 20], ['nextstep', 20], ['prekarisierung', 20], ['sachsenanhalt', 20], ['thisismywork', 20], ['euro2021', 21], ['familiengerechtehochschule', 21], ['fdp', 21], ['gerechtigkeit', 21], ['geschichtsvereine21', 21], ['hannatrittindiegewerkschaftein', 21], ['heutejournal', 21], ['instagram', 21], ['jahrhunderflut', 21], ['karliczeks', 21], ['karrierewege', 21], ['mustwatch', 21], ['publishorperish', 21], ['safethedate', 21], ['sarscov2', 21], ['soziologie', 21], ['ueberbrueckungshilfe', 21], ['behinderung', 22], ['deltavariant', 22], ['dubisthanna', 22], ['freiheit', 22], ['journalistinnen', 22], ['occupywallstreet', 22], ['perspektivtagung', 22], ['podcast', 22], ['precarious', 22], ['schule', 22], ['solidaritätstattstatus', 22], ['1thema3köpfe', 23], ['bafög50', 23], ['covid', 23], ['druckkostenzuschüsse', 23], ['fixeditforyou', 23], ['hannaistjetztgewerkschaftsmitglied', 23], ['hannawählt', 23], ['ichbinreyan', 23], ['ichwillnichthannasein', 23], ['jesuishanna', 23], ['liveschalteinsbmbf', 23], ['servicetweet', 23], ['summergamefest', 23], ['thebestisyettocome', 23], ['zeitwissen3', 23], ['allemagne', 24], ['biontech', 24], ['dauerbefristung', 24], ['exzellenz', 24], ['globe21', 24], ['iamhannaeu', 24], ['informationswissenschaft', 24], ['istandwithhanna', 24], ['juliaschütz', 24], ['mitbestimmung', 24], ['nocominghome', 24], ['prekär', 24], ['research', 24], ['studierende', 24], ['unifreiburg', 24], ['veilleesr', 24], ['wagenknecht', 24]]]\n"
     ]
    }
   ],
   "source": [
    "list_bins_hashtag_q1 = myRun(quarter_june_aug_21)\n",
    "list_bins_hashtag_q1 = list_bins_hashtag_q1[::-1]\n",
    "# for i in list_bins_hashtag_q1:\n",
    "print(list_bins_hashtag_q1)"
   ]
  },
  {
   "cell_type": "code",
   "execution_count": 80,
   "metadata": {
    "colab": {
     "base_uri": "https://localhost:8080/"
    },
    "id": "2fpup-Ypjxmi",
    "outputId": "afe4f2e5-deaa-4377-833c-66ca447f0592"
   },
   "outputs": [
    {
     "name": "stdout",
     "output_type": "stream",
     "text": [
      "[['ichbinhanna', 14154]]\n",
      "[['wisszeitvg', 2888]]\n",
      "[['ichbinreyhan', 2085]]\n",
      "[['evaluation', 945]]\n",
      "[['wissenschaft', 679]]\n",
      "[['dauerstellen', 483]]\n",
      "[['wisssystemfehler', 365]]\n",
      "[['berlhg', 323]]\n",
      "[['maithinkx', 297]]\n",
      "[['95vswisszeitvg', 200]]\n",
      "[['hochschulen', 189]]\n",
      "[['frististfrust', 154], ['wisskomm', 157], ['unigöttingen', 162]]\n",
      "[['twittercampus', 137]]\n",
      "[['thesis_ev', 102], ['befristung', 107], ['forschung', 112], ['academia', 119], ['mentalhealth', 123]]\n",
      "[['ichbinhannah', 75], ['firstgen', 78], ['postdocs', 81], ['dauerstellenfürdaueraufgaben', 83], ['tvstud', 83], ['weilwirwissenschaftlieben', 92], ['tenuretrack', 96]]\n",
      "[['hochschulpolitik', 51], ['bmbf', 52], ['phdlife', 52], ['thesis', 52], ['göttingen', 55], ['phdchat', 55], ['machtmissbrauch', 56], ['ngawiss', 57], ['ichbinhannach', 58], ['promotion', 58], ['leakypipeline', 64], ['academicprecarity', 65], ['academicchatter', 68], ['hochschule', 72], ['hannaorganisiertsich', 73]]\n",
      "[['dzhw', 25], ['academicmentalhealth', 26], ['ichbinhannaaufw2', 26], ['koalitionstracker', 26], ['suhrkampespresso', 26], ['classmatters', 28], ['wissenschaftszeitvertragsgesetz', 28], ['gegenevaluation', 29], ['academictwitter', 30], ['acertaindegreeofflexibility', 30], ['bestenauslese', 30], ['dgb22', 30], ['drittmittelpooling', 30], ['ecology', 30], ['evaluatione', 30], ['promovierende', 30], ['bundesarbeitsgericht', 31], ['dgs_kongress', 31], ['hamburg', 31], ['karriereplanung', 31], ['qualifizierung', 31], ['evalution', 32], ['research', 32], ['academiclife', 34], ['postdoc', 34], ['science', 34], ['gew', 35], ['wisssystemsexismus', 35], ['ampel', 37], ['womeninscience', 38], ['abo', 39], ['drittmittel', 39], ['mint', 39], ['pressemitteilung', 39], ['gutearbeit', 40], ['ichbinhannaat', 40], ['osteuropa', 40], ['iwd2022', 41], ['ichwarhanna', 42], ['arbeiterkind', 43], ['bag', 43], ['womeninstem', 43], ['arbeitsbedingungen', 44], ['wissenschaftler', 44], ['juniorprofessur', 45], ['keineausnahme', 45], ['openscience', 45], ['klassismus', 46], ['respectscience', 46], ['wissenschaftsfreiheit', 48], ['lehre', 49], ['phd', 49]]\n",
      "[['100milliardenbessereideen', 1], ['1may', 1], ['92percent', 1], ['95thesen', 1], ['95wisspause', 1], ['95wisspausen', 1], ['aacr22', 1], ['academicbullies', 1], ['academiccliff', 1], ['academicfreedom', 1], ['academicfreedomindex', 1], ['academicservice', 1], ['academicwriting', 1], ['ahadrazamir', 1], ['alloftheabove', 1], ['alteweißemänner', 1], ['altin', 1], ['amazonworkersunion', 1], ['amberheard', 1], ['annespiegelruecktritt', 1], ['apecoin', 1], ['aprilscherz', 1], ['arbeitskampf', 1], ['arbeitsmarkt', 1], ['armtrotzarbeit', 1], ['armutsfalle', 1], ['arthistory', 1], ['ashewospace', 1], ['atbc2021', 1], ['atbc2022', 1], ['automechaniker', 1], ['auxin', 1], ['azreduziert', 1], ['backtotheroots', 1], ['befristet', 1], ['befristetevertraege', 1], ['befristungen', 1], ['behinderung', 1], ['berlinerhochschulgesetz', 1], ['berufung', 1], ['betrügen', 1], ['bfibotschaft', 1], ['biggerpicture', 1], ['bildungdurchverantwortung', 1], ['bildungistmehrwert', 1], ['bildungsgerechtigkeit', 1], ['bildungskrise', 1], ['bildungslücke', 1], ['bildungspolitik', 1], ['bitcoin', 1], ['blancoargollerofrustrado', 1], ['bologna', 1], ['bolognaprozess', 1], ['bremerhaven', 1], ['bslb', 1], ['bufdi', 1], ['business', 1], ['canberra', 1], ['cancerresearch', 1], ['career', 1], ['careerinstem', 1], ['careertransition', 1], ['catsoftwitter', 1], ['cdu', 1], ['chancengerechtigkeit', 1], ['chancenministerium', 1], ['chemnitz', 1], ['china', 1], ['climatebillni', 1], ['climatecrisis', 1], ['climateemergency', 1], ['computerscience', 1], ['confessionsofanexresearcher', 1], ['connect', 1], ['coronanovelle', 1], ['coronaprämie', 1], ['cottonfest2022', 1], ['covid', 1], ['covid19', 1], ['cryptocurrecy', 1], ['csu', 1], ['danke', 1], ['daten', 1], ['dati', 1], ['dauerbefristungen', 1], ['deaduniversityday', 1], ['decolonise', 1], ['deutsche', 1], ['deutschen', 1], ['dienstreise', 1], ['digitalisation', 1], ['digitalisierung', 1], ['digitalization', 1], ['dinnerdate', 1], ['dissimblick', 1], ['disskapitel', 1], ['dkpol', 1], ['docs', 1], ['doktorand', 1], ['doktoranden', 1], ['doktorandin', 1], ['doppelmoral', 1], ['dozenturen', 1], ['dubaiportapottyvideo', 1], ['duweisstwarum', 1], ['dvrw', 1], ['ecrchat', 1], ['eldenring', 1], ['elfenbeinturm', 1], ['elonmuskbuytwitter', 1], ['emdiplomacy', 1], ['endofrant', 1], ['equalpayday', 1], ['erstegenerationpromotion', 1], ['eufunded', 1], ['excelcalypse', 1], ['exzellenzinitiative', 1], ['fachkollegien', 1], ['fachkollegienwahl', 1], ['fairucnow', 1], ['familiengründung', 1], ['fehler', 1], ['festanstellung', 1], ['film', 1], ['fkwahl', 1], ['fona2022', 1], ['forschende', 1], ['forschungkostetrichtigvielgeld', 1], ['forschungsstandort', 1], ['forumwissenschaft', 1], ['frage', 1], ['frauenanteil', 1], ['fraueninderwissenschaft', 1], ['frauenkampftag', 1], ['frauensagennein', 1], ['frauensession2021', 1], ['frauentag', 1], ['freespeech', 1], ['freewisskomm', 1], ['freiburg', 1], ['freiheitsenergien', 1], ['frontierresearch', 1], ['furywhyte', 1], ['future', 1], ['fußnoten', 1], ['fzs', 1], ['füssen', 1], ['ganzneueslevel', 1], ['geisterteilchen', 1], ['geisteswissenschaft', 1], ['gemainsamzukunftgestalten', 1], ['gerichtsurteil', 1], ['geschichtspolitik', 1], ['gesellschaft', 1], ['girlsday2022', 1], ['gleichstellung', 1], ['gleichstellungsbeauftragte', 1], ['greatergood', 1], ['grn', 1], ['grundfinanzierung', 1], ['guerot', 1], ['guterlehre', 1], ['halle', 1], ['hallebleibt', 1], ['hallesaale', 1], ['halloween', 1], ['handbook', 1], ['hannahatnenneuenjob', 1], ['hannaistspindeldürr', 1], ['hannaisttot', 1], ['hannapacktaus', 1], ['hannasproukraine', 1], ['hannasteigtaus', 1], ['hannatrittindiegewerkschaftein', 1], ['happywomensday', 1], ['harrypotter', 1], ['hashtag', 1], ['heartstopper', 1], ['hiphop', 1], ['hochschulautonomie', 1], ['hochschulbildung', 1], ['hochschuldigitalpakt', 1], ['hochschulwelt', 1], ['hochundweit', 1], ['hodl', 1], ['horizon2020', 1], ['hrk_aktuell', 1], ['huber', 1], ['hybride', 1], ['ichbinarmutsbetroffen', 1], ['ichbincharles', 1], ['ichbindannmalraus', 1], ['ichbinhannas', 1], ['ichbinhans', 1], ['ichbinhier', 1], ['ichbinlars', 1], ['ichbinnochnichtmalhanna', 1], ['ichbinreyan', 1], ['ichhabemitgemacht', 1], ['ichhabenichtmitgemacht', 1], ['ichwillmanna', 1], ['ijustwannadomyjob', 1], ['imnamendeschats', 1], ['impfnebenwirkungen', 1], ['impostersyndrome', 1], ['inauguration', 1], ['inclusionanddiversity', 1], ['innovativefrauen', 1], ['innovativefrauenimfokus', 1], ['interdisziplär', 1], ['internationalerfrauentag', 1], ['internationalpoliticaleconomy', 1], ['irishhe', 1], ['isthereagermanword', 1], ['italy', 1], ['iwd', 1], ['jobopportunity', 1], ['jobs', 1], ['johnnydepp', 1], ['jungkook', 1], ['juniorprofessorin', 1], ['jurabubble', 1], ['kaukasus', 1], ['kawum', 1], ['keinezeitfürwissenschaft', 1], ['khf22', 1], ['kleinefaecher', 1], ['kleinefächer', 1], ['koalitionsvertrag', 1], ['koopeation', 1], ['kriegineuropa', 1], ['krikowien', 1], ['kritik', 1], ['kritis', 1], ['kritischeinfrastrukturen', 1], ['kritischemedizin', 1], ['kritischesoziologie', 1], ['kritischewissenschaft', 1], ['kronthaler', 1], ['kurzverträge', 1], ['kutschaty', 1], ['kuttergame', 1], ['künstlicheintelligenz', 1], ['labor', 1], ['laborpraxis', 1], ['lakofnrw', 1], ['landtagswahl', 1], ['lcaaj', 1], ['lcaajukraine', 1], ['leerstellen', 1], ['lehrauftrag', 1], ['lehrende', 1], ['lehrkräfteausbildung', 1], ['lemma', 1], ['lepen', 1], ['lgbtqia', 1], ['lifeofnontenuredpds', 1], ['limetten', 1], ['lindnerszahlen', 1], ['linktipp', 1], ['liszt', 1], ['livingphilosophy', 1], ['lobby', 1], ['lod', 1], ['lohnlücke', 1], ['longcovid', 1], ['machtmissbrauchinderwissenschaft', 1], ['macron', 1], ['maithi', 1], ['mandate', 1], ['mariupol', 1], ['maskebleibtauf', 1], ['mathematics', 1], ['matheunterricht', 1], ['mayday', 1], ['meinefragefürdiewissenschaft', 1], ['mhfa', 1], ['mitteldeutschesrevier', 1], ['mluhalle', 1], ['modulhandbuch', 1], ['musikwissenschaftler_in', 1], ['muthaben', 1], ['mutterschaftundwissenschaft', 1], ['mygruni', 1], ['männer', 1], ['nacaps', 1], ['nachgefragt', 1], ['nameandshame', 1], ['nato', 1], ['naturwissenschaften', 1], ['netflix', 1], ['netzwerkagsozialearbeit', 1], ['neuesbuch', 1], ['newlife', 1], ['newspeak', 1], ['newyork', 1], ['nfts', 1], ['nickiminaj', 1], ['norwegen', 1], ['noselfid', 1], ['note', 1], ['nowar', 1], ['offenestelle', 1], ['omega_x', 1], ['orangen', 1], ['organizetheprecariat', 1], ['organizetherug', 1], ['osten', 1], ['osterspaziergang', 1], ['osteuropaforschung', 1], ['overheard', 1], ['panikattacke', 1], ['paper', 1], ['parlch', 1], ['paygap', 1], ['personalausweis', 1], ['personalbüro', 1], ['personalentwicklung', 1], ['personalmacht', 1], ['personalräte', 1], ['personalverleih', 1], ['pflegenotstand', 1], ['phdone', 1], ['phds', 1], ['pizzahawaii', 1], ['playlist', 1], ['podiumsdiskussion', 1], ['postacademia', 1], ['postdocistkeinephase', 1], ['powerabuse', 1], ['prekärebeschäftigung', 1], ['primaggia', 1], ['privatvergnügen', 1], ['privilegienteilen', 1], ['professoren', 1], ['professorenschaft', 1], ['professorinnen', 1], ['professuren', 1], ['profsproukraine', 1], ['projekt', 1], ['promotionsstellen', 1], ['prospects', 1], ['provemewrong', 1], ['präsenzsemester', 1], ['präsidentinnen', 1], ['psychology', 1], ['publicationbias', 1], ['publikationsflut', 1], ['qualitative', 1], ['querdenker', 1], ['rankings', 1], ['rantover', 1], ['reformationstag', 1], ['refugeeswelcome', 1], ['rektorinnen', 1], ['researchallianceruhr', 1], ['researchcareers', 1], ['rewier2', 1], ['rohrstock', 1], ['rse10years', 1], ['russland', 1], ['saarland', 1], ['sangria', 1], ['scholarship', 1], ['schutzstatuss', 1], ['sciencebubble', 1], ['scienetracking', 1], ['screencast', 1], ['sellinzahlen', 1], ['semesterbeitrag', 1], ['seniorscientists', 1], ['servicelearning', 1], ['sfb1288', 1], ['sichtbarkeit', 1], ['slowscience', 1], ['snsf', 1], ['soctwitter', 1], ['somedaysitsjustsighday', 1], ['soprak', 1], ['sose', 1], ['sozial', 1], ['soziologie', 1], ['soziologischerelevanz', 1], ['spektrumleaks', 1], ['sprachwissenschaft', 1], ['stadtzürich', 1], ['standwithukraine', 1], ['staps19', 1], ['startupprofessur', 1], ['stellenangebot', 1], ['stolz', 1], ['strukturwandel', 1], ['studierendensymposium', 1], ['suguerranolapagamos', 1], ['surprise', 1], ['switzerland', 1], ['sylt', 1], ['tatort', 1], ['tbhconference', 1], ['technikeristinformiert', 1], ['teilhabe', 1], ['temporärbüro', 1], ['temporärstellen', 1], ['tesla', 1], ['thechurn', 1], ['thedropout', 1], ['theorie', 1], ['timemanagement', 1], ['timetosaygoodbye', 1], ['tintodeverano', 1], ['toxic', 1], ['toxicworkplace', 1], ['tu_dresden', 1], ['tubraunschweig', 1], ['twitter', 1], ['twitterjubileum', 1], ['twitterpause', 1], ['türschild', 1], ['ubiquitin', 1], ['ukrainekrieg', 1], ['ukrainewar', 1], ['umorientierung', 1], ['unigötitngen', 1], ['unionized', 1], ['unistuttgart', 1], ['universitypublishing', 1], ['universitätvonmorgen', 1], ['unsystem', 1], ['unten', 1], ['urbanoutfitters', 1], ['urteil', 1], ['usydstrike', 1], ['utn', 1], ['utopie', 1], ['verdifehlt', 1], ['vergleich', 1], ['vertragsende', 1], ['wahlpruefsteine', 1], ['wahlprüfsteine', 1], ['wasdanachkommtistungewiss', 1], ['wasserstoff', 1], ['weekend', 1], ['weiterbildungsportal', 1], ['weristjens', 1], ['wiederherstellungläuft', 1], ['wiesendanger', 1], ['wirhabenmitgemacht', 1], ['wirstiftenwissen', 1], ['wirsuchendich', 1], ['wissenschaftamwe', 1], ['wissenschaftlicheweiterbildung', 1], ['wissenschaftsbashing', 1], ['wissenschaftsbetrieb', 1], ['wissenschaftskommunikation', 1], ['wissenschaftszeitvertragsgesetzt', 1], ['wissentfrig', 1], ['wissforscha', 1], ['wisskarriere', 1], ['wissproblem', 1], ['wisssystemwandel', 1], ['wisszeitreform', 1], ['wisszeitvertrag', 1], ['womaninscience', 1], ['womensday', 1], ['workshops', 1], ['zeitschriften', 1], ['zimtschnecke', 1], ['zivilesengagement', 1], ['zonk', 1], ['zustände', 1], ['öaw', 1], ['ökonomisch', 1], ['überwachung', 1], ['10jahrenawik', 2], ['academics', 2], ['acertaindegreeoffflexibility', 2], ['activismandadademia22', 2], ['adjuncts', 2], ['akademischerableismus', 2], ['akmn', 2], ['altlasten', 2], ['askingresearchers', 2], ['aufdauerbefristet', 2], ['badjob', 2], ['bafoeg', 2], ['bafoeg50', 2], ['bedarfsprüfung', 2], ['biontech', 2], ['blacklivesmatter', 2], ['brainfog', 2], ['breakthebias', 2], ['buchtipp', 2], ['bundeswehr', 2], ['buwin', 2], ['chinascienceinvestigation', 2], ['corpuslinguistics', 2], ['critical_introspects', 2], ['daad', 2], ['daspersonal', 2], ['diagnose', 2], ['doktortitel', 2], ['dumpinglöhne', 2], ['education', 2], ['entfristung', 2], ['equality', 2], ['ercadg', 2], ['europa', 2], ['eurovision', 2], ['fairwork', 2], ['fastfoodscience', 2], ['faz', 2], ['feminismus', 2], ['firstgenacademic', 2], ['forschungindeutschland', 2], ['fraud', 2], ['freiraum2022', 2], ['gegenwartscampus', 2], ['gender', 2], ['gendergap', 2], ['germanreprobrainstorm', 2], ['germanscholars', 2], ['gießen', 2], ['grüne', 2], ['hannaorganisiersich', 2], ['haushaltsstellen', 2], ['heidelberg', 2], ['hochdeputatsstellen', 2], ['hortplatz', 2], ['ichbinnichtmehrhanna', 2], ['ichbinreyhann', 2], ['ichbinspielbein', 2], ['isa2022', 2], ['itbenefits', 2], ['jlugiessen', 2], ['kabinett', 2], ['karrierephasen', 2], ['kettenverträge', 2], ['kind', 2], ['kita', 2], ['klimakatastrophe', 2], ['ktstiftung', 2], ['lesenswert', 2], ['lgbtqi', 2], ['lifeinacademia', 2], ['machtsinn', 2], ['mariafeminista', 2], ['mathefüralle', 2], ['maxplanckpress', 2], ['mecfs', 2], ['mlu', 2], ['montagsblock', 2], ['nachwuchsförderung', 2], ['nomorematildas', 2], ['oneofusallofus', 2], ['personalplanung', 2], ['personalvermittlung', 2], ['precarity', 2], ['prekariat', 2], ['prekärewissenschaft', 2], ['problembewusstsein', 2], ['professor', 2], ['qualitätskontrolle', 2], ['red', 2], ['relretreatfiw', 2], ['researchingismylife', 2], ['researchjobs', 2], ['schweiz', 2], ['sciencecareers', 2], ['scientist', 2], ['sociology', 2], ['sondervermögen', 2], ['spd', 2], ['staffshouldstay', 2], ['standingwithukrainescholars', 2], ['stopclassissm', 2], ['stopprecarity', 2], ['strike', 2], ['studiengebühren', 2], ['surveycircle', 2], ['tankrabatt', 2], ['teams', 2], ['tee', 2], ['tefl', 2], ['teilzeitstellen', 2], ['tesol', 2], ['ugnovelle', 2], ['unigiessen', 2], ['unternehmerin', 2], ['urlaubsgesellschaft', 2], ['verlage', 2], ['wissenschaftsfeindlich', 2], ['wisssytemfehler', 2], ['zukunft', 2], ['zukunftsangst', 2], ['123info', 3], ['2022dandavidprize', 3], ['49vswisszeitvg', 3], ['absagen', 3], ['academicbubble', 3], ['academicsunite', 3], ['akademikerinnen', 3], ['anmeldungen', 3], ['appreciationtweet', 3], ['arbeiterkinder', 3], ['ausstieg', 3], ['beschäftigungsbedingungen', 3], ['betriebsrat', 3], ['biotechnologie', 3], ['bipoc', 3], ['bund', 3], ['dataviz', 3], ['depressionen', 3], ['dfg', 3], ['disability', 3], ['doktorspiele', 3], ['elterninderwissenschaft', 3], ['endevaluation', 3], ['europe', 3], ['ewa', 3], ['fairnetzteuch', 3], ['falling_walls', 3], ['forumwissen', 3], ['fourfights', 3], ['fuckademia', 3], ['förderung', 3], ['genderbalance', 3], ['goldstrike', 3], ['goodriddancekronthaler', 3], ['hanna', 3], ['hannageht', 3], ['hannahatdieschnauzevoll', 3], ['humboldtuni', 3], ['ica22', 3], ['ich', 3], ['ichbinnichtkronthaler', 3], ['ichbinozan', 3], ['ineffizienz', 3], ['inequality', 3], ['infamousletter', 3], ['insecurity', 3], ['jungeagenda', 3], ['junprof', 3], ['k1', 3], ['kanon', 3], ['karrierewegen', 3], ['karrierezielen', 3], ['keineprofessur', 3], ['klasse', 3], ['kommissionen', 3], ['kunst_hochschul_betrieb', 3], ['labour', 3], ['lambrecht', 3], ['linguistics', 3], ['länder', 3], ['makereprothenorm', 3], ['matildaeffect', 3], ['medien', 3], ['meintwitterjubiläum', 3], ['mentalhealthmatters', 3], ['meritokratie', 3], ['mist', 3], ['moneymatters', 3], ['nein', 3], ['nrwvonmorgen', 3], ['overwork', 3], ['parlamentderarbeit', 3], ['paycuts', 3], ['pensioncuts', 3], ['politik', 3], ['prekaritaet', 3], ['prekarität', 3], ['profs', 3], ['reform', 3], ['refugees', 3], ['rstats', 3], ['russian', 3], ['scicom', 3], ['sciencemoms', 3], ['scienceslam', 3], ['sciencetwitter', 3], ['shkbispdnachwuchs', 3], ['standwithukrainescholars', 3], ['transformation', 3], ['ucberkeley', 3], ['ukraine', 3], ['ukrainian', 3], ['unilübeck', 3], ['union', 3], ['uvkverlag', 3], ['vernarrtinwissen', 3], ['vorsingen', 3], ['weiterbildung', 3], ['wimi', 3], ['wirhabenbedarf', 3], ['wissenschaftlerinnen', 3], ['wissenschaftsentfristungsgesetz', 3], ['wissenschaftsverhinderungssystem', 3], ['wissenschaftsverlage', 3], ['wisssystem', 3], ['womeninacademia', 3], ['zukunftgestaltenwir', 3], ['öffentlichkeit', 3], ['12jahrevoll', 4], ['1mai2022', 4], ['7thnestconference', 4], ['akademieprojekt', 4], ['aktionskonferenz', 4], ['ausbeutung', 4], ['ausstiegwissenschaft', 4], ['beruf', 4], ['bundestag', 4], ['dhd2022', 4], ['diss', 4], ['dissertation', 4], ['doppelbelastung', 4], ['fachhochschulen', 4], ['familienfeindlich', 4], ['fdm', 4], ['frauengeschichte', 4], ['genderpaygap', 4], ['getorganized', 4], ['habilitation', 4], ['haw', 4], ['highered', 4], ['homolka', 4], ['ichbinnichtludwig', 4], ['ihbinhanna', 4], ['impfpflicht', 4], ['jewishstudies', 4], ['job', 4], ['ksk', 4], ['laborday', 4], ['leben', 4], ['metoo', 4], ['mpgleaks', 4], ['nachteilsausgleiche', 4], ['pdlerinnenleben', 4], ['personalstruktur', 4], ['postdoclife', 4], ['professorin', 4], ['promovieren', 4], ['ptd_on_stage_seoul', 4], ['rse', 4], ['sachsen', 4], ['sciencemom', 4], ['thüringen', 4], ['timeisrunning', 4], ['traumjobwissenschaft', 4], ['university', 4], ['wandelistweiblich', 4], ['weltfrauentag2022', 4], ['wissenschaftspolitik', 4], ['workshop15', 4], ['zugang', 4], ['almamater', 5], ['altersarmut', 5], ['antidiskriminierung', 5], ['anträge', 5], ['anunisnixloskarliczek', 5], ['arbeitsschutz', 5], ['arbeitszeit', 5], ['basis', 5], ['bdwi', 5], ['bildungweiterdenken', 5], ['climateaction', 5], ['community', 5], ['complaints', 5], ['decoloniality', 5], ['dh', 5], ['diversityindh', 5], ['eurodocconf2022', 5], ['familie', 5], ['forsche', 5], ['forschungsförderung', 5], ['frühstück', 5], ['gläsernedecke', 5], ['gutebildung', 5], ['he', 5], ['hochschuldozentur', 5], ['hochschulfinanzierung', 5], ['homemade', 5], ['ichbinnhannach', 5], ['ingenieurwissenschaften', 5], ['intel', 5], ['internationalization', 5], ['intersectionality', 5], ['intersektionalität', 5], ['justsaying', 5], ['kriegsgebiet', 5], ['lawclinics', 5], ['lehramtsausbildung', 5], ['lehrbeauftragte', 5], ['lehrstühle', 5], ['mindestlohn', 5], ['nichtakademikerkinder', 5], ['nichtemma', 5], ['niedersachsen', 5], ['niewiederkrieg', 5], ['opendata', 5], ['openness', 5], ['openscholarship', 5], ['pandemie', 5], ['podcast', 5], ['prekär', 5], ['promovierenden', 5], ['sonntagslektüre', 5], ['sozialwissenschaften', 5], ['stopthecuts', 5], ['sustainability', 5], ['tarifsperre', 5], ['thüringerhochschulen', 5], ['unigoettingen', 5], ['universitaeten', 5], ['vermögensabgabe', 5], ['volkswagenstiftung', 5], ['vollzeitfürteilzeit', 5], ['war', 5], ['wissa', 5], ['zukunftsvertrag', 5], ['öd', 5], ['aesthetic', 6], ['agh', 6], ['anonymous', 6], ['armut', 6], ['bachelor', 6], ['buwin21', 6], ['casualisation', 6], ['chelsea', 6], ['coronavirus', 6], ['desci', 6], ['digitalhumanities', 6], ['erfurt', 6], ['fckdieuni', 6], ['gay', 6], ['gymnasium', 6], ['hied', 6], ['hyperproduktivität', 6], ['internationalwomensday', 6], ['jaguars', 6], ['jayb', 6], ['krisenfest', 6], ['montag', 6], ['oefb', 6], ['osint', 6], ['riva', 6], ['sh', 6], ['stipendium', 6], ['systemfehler', 6], ['ucustrike', 6], ['ucustrikes', 6], ['ueckurus', 6], ['unbefristet', 6], ['unileben', 6], ['yemen', 6], ['zeenunew', 6], ['zelensky', 6], ['anschlusszusage', 7], ['arbeitsrecht', 7], ['autorin', 7], ['bafög', 7], ['berlin', 7], ['betreuungsrelationen', 7], ['bildungabersicher', 7], ['braindrain', 7], ['deutschland', 7], ['econtwitter', 7], ['ecrs', 7], ['entfristungjetzt', 7], ['eu', 7], ['frauen', 7], ['ichbinhannabandes', 7], ['ichbinrehan', 7], ['lehramt', 7], ['listenupacademia', 7], ['museum', 7], ['onlyfans', 7], ['philologieimgespräch', 7], ['projektbeitrag', 7], ['promovierte', 7], ['publikationsliste', 7], ['rassismus', 7], ['religionswissenschaft', 7], ['sexualisiertegewalt', 7], ['tapasforschung', 7], ['twitterstorians', 7], ['zwangsteilzeit', 7], ['2jahre', 8], ['95wisszeitvg', 8], ['anforderungsinflation', 8], ['arbeitgeber', 8], ['befristetbiszurrente', 8], ['classism', 8], ['corona', 8], ['datacolonialism', 8], ['fachkräftemangel', 8], ['forevershortterm', 8], ['ichbinbipoc', 8], ['mimimi', 8], ['mindestlaufzeiten', 8], ['openhardware', 8], ['phdjourney', 8], ['selbstausbeutungsmaschine', 8], ['sgkm2022', 8], ['transformative', 8], ['wtf', 8], ['überstunden', 8], ['arbeitsagentur', 9], ['betriebsrente', 9], ['departmentmodell', 9], ['geisteswissenschaften', 9], ['gewerkschaften', 9], ['gewhessen', 9], ['hannaschef', 9], ['heimatlosigkeit', 9], ['hochschullehre', 9], ['hslu', 9], ['ichbindannmalweg', 9], ['iloveit', 9], ['lehrprobe', 9], ['lfba', 9], ['mitbestimmung', 9], ['mobilität', 9], ['musikwissenschaft', 9], ['mustread', 9], ['openresearch', 9], ['prof', 9], ['ranandenspeck', 9], ['research_integrity', 9], ['sachsenanhalt', 9], ['thüringe', 9], ['twlz', 9], ['wanderjahre', 9], ['wirsindhanna', 9], ['wirsindnichtda', 9], ['wisszeitgv', 9], ['bafög50', 10], ['duz', 10], ['ecr', 10], ['germanacademia', 10], ['herkunft', 10], ['ichbinmüde', 10], ['immodestwomen', 10], ['intersectionalitymatters', 10], ['leavingacademia', 10], ['lehrverpflichtung', 10], ['marburg', 10], ['mastodon', 10], ['myffscimeme', 10], ['pdlife', 10], ['philosophie', 10], ['polaschek', 10], ['pressestunde', 10], ['ressource', 10], ['scicomm', 10], ['stipedien', 10], ['stsing', 10], ['womeninresarch', 10], ['ableismtellsme', 11], ['ableismus', 11], ['academic', 11], ['afk2022', 11], ['befristeter', 11], ['befristungswahn', 11], ['cifad', 11], ['dlf', 11], ['dversity', 11], ['epicfail', 11], ['goodjob', 11], ['hochschuldidaktik', 11], ['jensvonp', 11], ['kht2022', 11], ['oscibar', 11], ['publikationsdruck', 11], ['sts', 11], ['studierende', 11], ['universitäten', 11], ['wahnsinn', 11], ['wisszeitvgeva', 11], ['academicdifferences', 12], ['company', 12], ['dei', 12], ['difference', 12], ['ethicsinacademia', 12], ['geiwipublizieren', 12], ['imascientist', 12], ['laufzeit', 12], ['organizing', 12], ['sexismus', 12], ['system', 12], ['umfang', 12], ['wisszvg', 12], ['allgemein', 13], ['chancengleichheit', 13], ['complaint', 13], ['dayofdh2022', 13], ['divers', 13], ['hannasecret', 13], ['hopo', 13], ['racism', 13], ['stem', 13], ['ampelkoalition', 14], ['debatte', 14], ['diversity', 14], ['diversität', 14], ['germany', 14], ['ichbinhannainternational', 14], ['parlamentsreport', 14], ['qualität', 14], ['umfrage', 14], ['waspostdocswollen', 14], ['weltfrauentag', 14], ['anschlussverwendung', 15], ['erccog', 15], ['harzes', 15], ['karriere', 15], ['openaccess', 15], ['phdgermany', 15], ['1mai', 16], ['auroa22', 16], ['gjbj_rt', 16], ['hannasagtihremeinung', 16], ['kif495', 16], ['prekärearbeit', 16], ['uni', 16], ['unionize', 16], ['diehellendinge', 17], ['fail', 17], ['hireandfire', 17], ['leistungsdruck', 17], ['phdvoice', 17], ['sciencesunday', 17], ['tzbg', 17], ['unihalle', 17], ['vpodzentralschweiz', 17], ['wissen3', 17], ['wissenschaftskarriere', 17], ['zeitverträge', 17], ['bayern', 18], ['bildung', 18], ['mlunterfinanziert', 18], ['osc2022', 18], ['tagderarbeit', 18], ['unionyes', 18], ['universities', 18], ['hochschulgesetz', 19], ['hochschulinnovationsgesetz', 19], ['inclusion', 19], ['sexism', 19], ['teachingethics', 19], ['wissenschaftskarrieren', 19], ['ausstieghochschule', 20], ['bundesregierung', 20], ['forschungohnezukunft', 20], ['nrw', 20], ['studium', 20], ['wissenschaftssystem', 20], ['burnout', 21], ['innovation', 21], ['thread', 21], ['unbezahlt', 21], ['dienstreisen', 22], ['ichbinthea', 22], ['ilovescience', 22], ['personalmodelle', 22], ['professur', 22], ['researchethics', 22], ['tagebücherderwissenschaft', 22], ['yallafeminismus', 22], ['dgfe2022', 23], ['mittelbau', 23], ['unibielefeld', 23], ['getunionized', 24]]\n"
     ]
    }
   ],
   "source": [
    "list_bins_hashtag_final = myRun(quarter_mar_may_22)\n",
    "list_bins_hashtag_final = list_bins_hashtag_final[::-1]\n",
    "for i in list_bins_hashtag_final:\n",
    "  print(i)"
   ]
  },
  {
   "cell_type": "markdown",
   "metadata": {
    "id": "iHzoaHpGjOFd"
   },
   "source": [
    "Ignore below"
   ]
  },
  {
   "cell_type": "code",
   "execution_count": 14,
   "metadata": {
    "id": "kC0yZ63iBmDJ"
   },
   "outputs": [],
   "source": [
    "dates=list()\n",
    "\n",
    "for row,record in enumerate(df.hashtags):\n",
    "  if record!='[]'and df['timestamp'][row][0:7]>'2021-05' : \n",
    "    dates.append(df['timestamp'][row][0:7])"
   ]
  },
  {
   "cell_type": "code",
   "execution_count": 15,
   "metadata": {
    "id": "4zt4EUoQDtw7"
   },
   "outputs": [],
   "source": [
    "date=list()\n",
    "for dt in dates:\n",
    "  if dt not in date:\n",
    "    date.append(dt)"
   ]
  },
  {
   "cell_type": "code",
   "execution_count": 16,
   "metadata": {
    "colab": {
     "base_uri": "https://localhost:8080/"
    },
    "id": "EjWRRMNIDyFT",
    "outputId": "024918aa-56d4-4b05-fb81-e40ff3904a42"
   },
   "outputs": [
    {
     "data": {
      "text/plain": [
       "['2021-06',\n",
       " '2021-07',\n",
       " '2021-08',\n",
       " '2021-09',\n",
       " '2021-10',\n",
       " '2021-11',\n",
       " '2021-12',\n",
       " '2022-01',\n",
       " '2022-02',\n",
       " '2022-03',\n",
       " '2022-04',\n",
       " '2022-05',\n",
       " '2022-06',\n",
       " '2022-07',\n",
       " '2022-08',\n",
       " '2022-09',\n",
       " '2022-10']"
      ]
     },
     "execution_count": 16,
     "metadata": {},
     "output_type": "execute_result"
    }
   ],
   "source": [
    "date.sort()\n",
    "date"
   ]
  },
  {
   "cell_type": "code",
   "execution_count": 17,
   "metadata": {
    "id": "YO7zf624Dzw7"
   },
   "outputs": [],
   "source": [
    "date_each3= [dt for row, dt in enumerate(date) if row%3==0]"
   ]
  },
  {
   "cell_type": "code",
   "execution_count": 18,
   "metadata": {
    "colab": {
     "base_uri": "https://localhost:8080/"
    },
    "id": "dlY8WhuqD2Xv",
    "outputId": "486bbdb1-18dd-4dd7-fd3e-da76ea6b42b8"
   },
   "outputs": [
    {
     "data": {
      "text/plain": [
       "['2021-06', '2021-09', '2021-12', '2022-03', '2022-06', '2022-09']"
      ]
     },
     "execution_count": 18,
     "metadata": {},
     "output_type": "execute_result"
    }
   ],
   "source": [
    "date_each3"
   ]
  },
  {
   "cell_type": "code",
   "execution_count": 19,
   "metadata": {
    "id": "Ixvc0lHLD4pw"
   },
   "outputs": [],
   "source": [
    "i=1\n",
    "j=6\n",
    "for i in range(1,3):\n",
    "  for j in range(1,13):\n",
    "    if i==1 and j>5 and j<10 or i==2 and j<10:\n",
    "      globals()[f'hash202{i}_0{j}']=list()\n",
    "      globals()[f'hash202{i}_0{j}'].extend([hash for row,hash in enumerate(df['hashtags']) if df['timestamp'][row][0:7]==f'202{i}-0{j}' and hash!='[]'])\n",
    "        \n",
    "    elif i==1 and j>5 and j>=10 or i==2 and j>=10:\n",
    "      globals()[f'hash202{i}_{j}']=list()\n",
    "      globals()[f'hash202{i}_{j}'].extend([hash for row,hash in enumerate(df['hashtags']) if df['timestamp'][row][0:7]==f'202{i}-{j}' and hash!='[]'])"
   ]
  },
  {
   "cell_type": "code",
   "execution_count": 21,
   "metadata": {
    "id": "8p0BHsYtECPF"
   },
   "outputs": [],
   "source": [
    "import re\n",
    "#preprocessing the hashtags list from specific periods\n",
    "i=1\n",
    "j=6\n",
    "for i in range(1,3):\n",
    "  for j in range(1,13):\n",
    "    if i==1 and j>5 and j<10 or i==2 and j<10:\n",
    "      globals()[f'all_hashtags_202{i}_0{j}']=list()\n",
    "      for s in globals()[f'hash202{i}_0{j}']:\n",
    "          bb=s.split(', ')\n",
    "          a=[re.search(r\"[\\[\\']*(\\w*)[\\]\\']*\",i).group(1) for i in bb]\n",
    "          globals()[f'all_hashtags_202{i}_0{j}'].extend(a)\n",
    "        \n",
    "        \n",
    "    elif i==1 and j>5 and j>=10 or i==2 and j>=10:\n",
    "      globals()[f'all_hashtags_202{i}_{j}']=list()\n",
    "      for s in globals()[f'hash202{i}_{j}']:\n",
    "          bb=s.split(', ')\n",
    "          a=[re.search(r\"[\\[\\']*(\\w*)[\\]\\']*\",i).group(1) for i in bb]\n",
    "          globals()[f'all_hashtags_202{i}_{j}'].extend(a)"
   ]
  },
  {
   "cell_type": "code",
   "execution_count": 22,
   "metadata": {
    "id": "3dGP2fPvERBb"
   },
   "outputs": [],
   "source": [
    "def hashtag_counter(hash_ls,txt):\n",
    "  lis=list()\n",
    "  for hashtag in hash_ls:\n",
    "    lis.append(hashtag.lower())\n",
    "  return lis.count(txt.lower())"
   ]
  },
  {
   "cell_type": "code",
   "execution_count": 23,
   "metadata": {
    "id": "scwHxu6gEZmg"
   },
   "outputs": [],
   "source": [
    "def hashtag_num_list(hashtag):\n",
    "  hashtag_num=list()\n",
    "  for dt in date_each3:\n",
    "      i,j = dt[3],dt[5:]\n",
    "      lis = globals()[f'all_hashtags_202{i}_{j}']\n",
    "      hashtag_num.append(hashtag_counter(lis,hashtag))\n",
    "  return hashtag_num"
   ]
  },
  {
   "cell_type": "code",
   "execution_count": 32,
   "metadata": {
    "id": "2Jeh5Mp2HBAD"
   },
   "outputs": [],
   "source": [
    "def generate_hashtags(dataset):\n",
    "  listOfAllHashtags=list()\n",
    "  for row, hash in enumerate(dataset.hashtags):\n",
    "    if dataset['timestamp'][row][0:10]>=\"2021-06-01\" and hash!='[]':\n",
    "      bb=hash.split(', ') \n",
    "      \n",
    "      a=[re.search(r\"[\\[\\']*(\\w*)[\\]\\']*\",i).group(1) for i in bb]\n",
    "      listOfAllHashtags.extend(a)\n",
    "  listOfAllHashtagsL=[i.lower() for i in listOfAllHashtags]\n",
    "  return listOfAllHashtagsL"
   ]
  },
  {
   "cell_type": "code",
   "execution_count": 34,
   "metadata": {
    "id": "psJThXpIOA55"
   },
   "outputs": [],
   "source": [
    "def hashtag_set_finder():\n",
    "  hashtag_set=set()\n",
    "  for dt in date:\n",
    "      i,j = dt[3],dt[5:]\n",
    "      lis = globals()[f'all_hashtags_202{i}_{j}']\n",
    "      for i in lis:\n",
    "        hashtag_set.add(i)\n",
    "  return hashtag_set\n",
    "\n",
    "hashtags_in_DS=hashtag_set_finder()\n",
    "\n",
    "i=1\n",
    "j=6\n",
    "for i in range(1,3):\n",
    "  for j in range(1,13):\n",
    "    if i==1 and j>5 and j<10 or i==2 and j<10:\n",
    "      globals()[f'hash202{i}_0{j}']=list()\n",
    "      globals()[f'hash202{i}_0{j}'].extend([hash for row,hash in enumerate(df['hashtags']) if df['timestamp'][row][0:7]==f'202{i}-0{j}' and hash!='[]'])\n",
    "        \n",
    "    elif i==1 and j>5 and j>=10 or i==2 and j>=10:\n",
    "      globals()[f'hash202{i}_{j}']=list()\n",
    "      globals()[f'hash202{i}_{j}'].extend([hash for row,hash in enumerate(df['hashtags']) if df['timestamp'][row][0:7]==f'202{i}-{j}' and hash!='[]'])"
   ]
  },
  {
   "cell_type": "code",
   "execution_count": 36,
   "metadata": {
    "colab": {
     "base_uri": "https://localhost:8080/"
    },
    "id": "tpPgbe98Nxnu",
    "outputId": "bbc375a5-56aa-4821-e2f6-481ce8970231"
   },
   "outputs": [
    {
     "name": "stdout",
     "output_type": "stream",
     "text": [
      "['frististfrust', 'wisszeitvg', 'wissenschaft', 'wisssystemfehler', 'gegenwisszeitvg10', 'berlhg', 'ichbinhanna', 'ichbinreyhan', 'acertaindegreeofflexibility', 'dauerstellen', 'hannaimbundestag', '95vswisszeitvg']\n"
     ]
    }
   ],
   "source": [
    "lis=generate_hashtags(df)\n",
    "l=[i for i in hashtags_in_DS if lis.count(i)>2000]\n",
    "l.sort(reverse=True , key= lambda k:k[1])\n",
    "print(l)"
   ]
  }
 ],
 "metadata": {
  "colab": {
   "provenance": []
  },
  "kernelspec": {
   "display_name": "Python 3",
   "language": "python",
   "name": "python3"
  },
  "language_info": {
   "codemirror_mode": {
    "name": "ipython",
    "version": 3
   },
   "file_extension": ".py",
   "mimetype": "text/x-python",
   "name": "python",
   "nbconvert_exporter": "python",
   "pygments_lexer": "ipython3",
   "version": "3.8.8"
  }
 },
 "nbformat": 4,
 "nbformat_minor": 1
}
