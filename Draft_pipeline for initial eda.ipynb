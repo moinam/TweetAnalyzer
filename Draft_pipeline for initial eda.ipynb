{
 "cells": [
  {
   "cell_type": "code",
   "execution_count": 1,
   "id": "ff6e0631",
   "metadata": {},
   "outputs": [
    {
     "name": "stderr",
     "output_type": "stream",
     "text": [
      "C:\\Users\\kapad\\anaconda3\\lib\\site-packages\\numpy\\_distributor_init.py:30: UserWarning: loaded more than 1 DLL from .libs:\n",
      "C:\\Users\\kapad\\anaconda3\\lib\\site-packages\\numpy\\.libs\\libopenblas.FB5AE2TYXYH2IJRDKGDGQ3XBKLKTF43H.gfortran-win_amd64.dll\n",
      "C:\\Users\\kapad\\anaconda3\\lib\\site-packages\\numpy\\.libs\\libopenblas.WCDJNK7YVMPZQ2ME2ZZHJJRJ3JIKNDB7.gfortran-win_amd64.dll\n",
      "  warnings.warn(\"loaded more than 1 DLL from .libs:\"\n",
      "C:\\Users\\kapad\\anaconda3\\lib\\site-packages\\scipy\\__init__.py:138: UserWarning: A NumPy version >=1.16.5 and <1.23.0 is required for this version of SciPy (detected version 1.23.5)\n",
      "  warnings.warn(f\"A NumPy version >={np_minversion} and <{np_maxversion} is required for this version of \"\n"
     ]
    }
   ],
   "source": [
    "import seaborn as sns\n",
    "import pandas as pd\n",
    "import matplotlib.pyplot as plt\n",
    "from matplotlib.pyplot import pie, axis, show\n",
    "%matplotlib inline"
   ]
  },
  {
   "cell_type": "code",
   "execution_count": 2,
   "id": "926b8409",
   "metadata": {},
   "outputs": [],
   "source": [
    "df = pd.read_parquet(\"C:\\\\Users\\\\kapad\\\\panda\\\\TweetAnalyzer\\\\final_twitter_data.parquet\")"
   ]
  },
  {
   "cell_type": "code",
   "execution_count": 3,
   "id": "6ad8edf4",
   "metadata": {},
   "outputs": [
    {
     "data": {
      "text/html": [
       "<div>\n",
       "<style scoped>\n",
       "    .dataframe tbody tr th:only-of-type {\n",
       "        vertical-align: middle;\n",
       "    }\n",
       "\n",
       "    .dataframe tbody tr th {\n",
       "        vertical-align: top;\n",
       "    }\n",
       "\n",
       "    .dataframe thead th {\n",
       "        text-align: right;\n",
       "    }\n",
       "</style>\n",
       "<table border=\"1\" class=\"dataframe\">\n",
       "  <thead>\n",
       "    <tr style=\"text-align: right;\">\n",
       "      <th></th>\n",
       "      <th>timestamp</th>\n",
       "      <th>tweet_id</th>\n",
       "      <th>conversation_id</th>\n",
       "      <th>author_id</th>\n",
       "      <th>text</th>\n",
       "      <th>retweet_count</th>\n",
       "      <th>reply_count</th>\n",
       "      <th>like_count</th>\n",
       "      <th>quote_count</th>\n",
       "      <th>referenced_tweets</th>\n",
       "      <th>hashtags</th>\n",
       "      <th>tweet_type</th>\n",
       "    </tr>\n",
       "  </thead>\n",
       "  <tbody>\n",
       "    <tr>\n",
       "      <th>0</th>\n",
       "      <td>2021-06-20T21:33:30.000Z</td>\n",
       "      <td>1406726930888540160</td>\n",
       "      <td>1406726930888540160</td>\n",
       "      <td>2981738470</td>\n",
       "      <td>RT @davidlohner: #IchbinHanna und schreibe auc...</td>\n",
       "      <td>7</td>\n",
       "      <td>0</td>\n",
       "      <td>0</td>\n",
       "      <td>0</td>\n",
       "      <td>[{'type': 'retweeted', 'id': '1406714909258362...</td>\n",
       "      <td>['IchbinHanna']</td>\n",
       "      <td>retweet</td>\n",
       "    </tr>\n",
       "    <tr>\n",
       "      <th>1</th>\n",
       "      <td>2021-06-20T21:29:24.000Z</td>\n",
       "      <td>1406725899744157698</td>\n",
       "      <td>1406725899744157698</td>\n",
       "      <td>2981738470</td>\n",
       "      <td>Wenn Wirtschaftsjounalist:innen über #IchbinHa...</td>\n",
       "      <td>9</td>\n",
       "      <td>1</td>\n",
       "      <td>62</td>\n",
       "      <td>4</td>\n",
       "      <td>[]</td>\n",
       "      <td>['IchbinHanna']</td>\n",
       "      <td>original</td>\n",
       "    </tr>\n",
       "    <tr>\n",
       "      <th>2</th>\n",
       "      <td>2021-06-20T20:50:42.000Z</td>\n",
       "      <td>1406716159064485895</td>\n",
       "      <td>1406716159064485895</td>\n",
       "      <td>2981738470</td>\n",
       "      <td>RT @DrKEichhorn: Wieder ein Artikel ohne echte...</td>\n",
       "      <td>16</td>\n",
       "      <td>0</td>\n",
       "      <td>0</td>\n",
       "      <td>0</td>\n",
       "      <td>[{'type': 'retweeted', 'id': '1406697315159752...</td>\n",
       "      <td>[]</td>\n",
       "      <td>retweet</td>\n",
       "    </tr>\n",
       "    <tr>\n",
       "      <th>3</th>\n",
       "      <td>2021-06-20T17:56:03.000Z</td>\n",
       "      <td>1406672208056012807</td>\n",
       "      <td>1406672208056012807</td>\n",
       "      <td>2981738470</td>\n",
       "      <td>RT @chrismeyer2203: So sieht es aus ⬇️ oder an...</td>\n",
       "      <td>7</td>\n",
       "      <td>0</td>\n",
       "      <td>0</td>\n",
       "      <td>0</td>\n",
       "      <td>[{'type': 'retweeted', 'id': '1406175728190865...</td>\n",
       "      <td>[]</td>\n",
       "      <td>retweet</td>\n",
       "    </tr>\n",
       "    <tr>\n",
       "      <th>4</th>\n",
       "      <td>2021-06-20T17:53:00.000Z</td>\n",
       "      <td>1406671439328055301</td>\n",
       "      <td>1406671439328055301</td>\n",
       "      <td>2981738470</td>\n",
       "      <td>RT @steffen_siegel: Modelle einer Universitäts...</td>\n",
       "      <td>17</td>\n",
       "      <td>0</td>\n",
       "      <td>0</td>\n",
       "      <td>0</td>\n",
       "      <td>[{'type': 'retweeted', 'id': '1406666454368493...</td>\n",
       "      <td>[]</td>\n",
       "      <td>retweet</td>\n",
       "    </tr>\n",
       "  </tbody>\n",
       "</table>\n",
       "</div>"
      ],
      "text/plain": [
       "                  timestamp             tweet_id      conversation_id  \\\n",
       "0  2021-06-20T21:33:30.000Z  1406726930888540160  1406726930888540160   \n",
       "1  2021-06-20T21:29:24.000Z  1406725899744157698  1406725899744157698   \n",
       "2  2021-06-20T20:50:42.000Z  1406716159064485895  1406716159064485895   \n",
       "3  2021-06-20T17:56:03.000Z  1406672208056012807  1406672208056012807   \n",
       "4  2021-06-20T17:53:00.000Z  1406671439328055301  1406671439328055301   \n",
       "\n",
       "    author_id                                               text  \\\n",
       "0  2981738470  RT @davidlohner: #IchbinHanna und schreibe auc...   \n",
       "1  2981738470  Wenn Wirtschaftsjounalist:innen über #IchbinHa...   \n",
       "2  2981738470  RT @DrKEichhorn: Wieder ein Artikel ohne echte...   \n",
       "3  2981738470  RT @chrismeyer2203: So sieht es aus ⬇️ oder an...   \n",
       "4  2981738470  RT @steffen_siegel: Modelle einer Universitäts...   \n",
       "\n",
       "   retweet_count  reply_count  like_count  quote_count  \\\n",
       "0              7            0           0            0   \n",
       "1              9            1          62            4   \n",
       "2             16            0           0            0   \n",
       "3              7            0           0            0   \n",
       "4             17            0           0            0   \n",
       "\n",
       "                                   referenced_tweets         hashtags  \\\n",
       "0  [{'type': 'retweeted', 'id': '1406714909258362...  ['IchbinHanna']   \n",
       "1                                                 []  ['IchbinHanna']   \n",
       "2  [{'type': 'retweeted', 'id': '1406697315159752...               []   \n",
       "3  [{'type': 'retweeted', 'id': '1406175728190865...               []   \n",
       "4  [{'type': 'retweeted', 'id': '1406666454368493...               []   \n",
       "\n",
       "  tweet_type  \n",
       "0    retweet  \n",
       "1   original  \n",
       "2    retweet  \n",
       "3    retweet  \n",
       "4    retweet  "
      ]
     },
     "execution_count": 3,
     "metadata": {},
     "output_type": "execute_result"
    }
   ],
   "source": [
    "df.head()"
   ]
  },
  {
   "cell_type": "code",
   "execution_count": 4,
   "id": "fe0f0633",
   "metadata": {},
   "outputs": [
    {
     "data": {
      "text/plain": [
       "(308338, 12)"
      ]
     },
     "execution_count": 4,
     "metadata": {},
     "output_type": "execute_result"
    }
   ],
   "source": [
    "df.shape"
   ]
  },
  {
   "cell_type": "code",
   "execution_count": 5,
   "id": "89cbf15b",
   "metadata": {},
   "outputs": [
    {
     "data": {
      "text/plain": [
       "1260870565541396480    22148\n",
       "730098730943324162     13537\n",
       "114774406               8983\n",
       "977593370720854018      6961\n",
       "284725708               5372\n",
       "                       ...  \n",
       "64766208                   1\n",
       "246393339                  1\n",
       "1084125465160413185        1\n",
       "815376044798545920         1\n",
       "422834462                  1\n",
       "Name: author_id, Length: 22867, dtype: int64"
      ]
     },
     "execution_count": 5,
     "metadata": {},
     "output_type": "execute_result"
    }
   ],
   "source": [
    "df.author_id.value_counts()"
   ]
  },
  {
   "cell_type": "code",
   "execution_count": 6,
   "id": "2c609d57",
   "metadata": {},
   "outputs": [],
   "source": [
    "dF=df.drop_duplicates(subset=['tweet_id'])"
   ]
  },
  {
   "cell_type": "code",
   "execution_count": 7,
   "id": "038d1d04",
   "metadata": {},
   "outputs": [
    {
     "data": {
      "text/plain": [
       "(181552, 12)"
      ]
     },
     "execution_count": 7,
     "metadata": {},
     "output_type": "execute_result"
    }
   ],
   "source": [
    "dF.shape"
   ]
  },
  {
   "cell_type": "code",
   "execution_count": 8,
   "id": "6a8de24a",
   "metadata": {},
   "outputs": [
    {
     "data": {
      "text/plain": [
       "1260870565541396480    9157\n",
       "730098730943324162     7042\n",
       "977593370720854018     5867\n",
       "114774406              3873\n",
       "934565197423038465     3368\n",
       "                       ... \n",
       "440704451                 1\n",
       "821016065874554883        1\n",
       "2499675181                1\n",
       "1236952254218977281       1\n",
       "422834462                 1\n",
       "Name: author_id, Length: 22867, dtype: int64"
      ]
     },
     "execution_count": 8,
     "metadata": {},
     "output_type": "execute_result"
    }
   ],
   "source": [
    "dF.author_id.value_counts()"
   ]
  },
  {
   "cell_type": "markdown",
   "id": "52af4d5d",
   "metadata": {},
   "source": [
    "### To get the total number of tweets and retweets in accordance to the hashtag create a different data frame."
   ]
  },
  {
   "cell_type": "code",
   "execution_count": 14,
   "id": "ef0a0654",
   "metadata": {},
   "outputs": [
    {
     "data": {
      "text/html": [
       "<div>\n",
       "<style scoped>\n",
       "    .dataframe tbody tr th:only-of-type {\n",
       "        vertical-align: middle;\n",
       "    }\n",
       "\n",
       "    .dataframe tbody tr th {\n",
       "        vertical-align: top;\n",
       "    }\n",
       "\n",
       "    .dataframe thead th {\n",
       "        text-align: right;\n",
       "    }\n",
       "</style>\n",
       "<table border=\"1\" class=\"dataframe\">\n",
       "  <thead>\n",
       "    <tr style=\"text-align: right;\">\n",
       "      <th></th>\n",
       "      <th>tweet_type</th>\n",
       "      <th>tweets_count</th>\n",
       "    </tr>\n",
       "  </thead>\n",
       "  <tbody>\n",
       "    <tr>\n",
       "      <th>0</th>\n",
       "      <td>retweet</td>\n",
       "      <td>130646</td>\n",
       "    </tr>\n",
       "    <tr>\n",
       "      <th>1</th>\n",
       "      <td>original</td>\n",
       "      <td>50906</td>\n",
       "    </tr>\n",
       "  </tbody>\n",
       "</table>\n",
       "</div>"
      ],
      "text/plain": [
       "  tweet_type  tweets_count\n",
       "0    retweet        130646\n",
       "1   original         50906"
      ]
     },
     "execution_count": 14,
     "metadata": {},
     "output_type": "execute_result"
    }
   ],
   "source": [
    "data_pie = dF['tweet_type'].value_counts().rename_axis('tweet_type').reset_index(name='tweets_count')\n",
    "data_pie"
   ]
  },
  {
   "cell_type": "code",
   "execution_count": 10,
   "id": "68f1ef13",
   "metadata": {},
   "outputs": [
    {
     "data": {
      "image/png": "[encoded data removed]",
      "text/plain": [
       "<Figure size 720x720 with 1 Axes>"
      ]
     },
     "metadata": {},
     "output_type": "display_data"
    }
   ],
   "source": [
    "plt.figure(figsize=(10,10))\n",
    "colors = ['#66b3ff','#99ff99','#ff9999','#ffcc99']\n",
    "plt.pie(data_pie.tweets_count, labels=data_pie.tweet_type,colors=colors, autopct='%1.1f%%')\n",
    "plt.title('The number of tweets and retweets')\n",
    "plt.legend(data_pie.tweets_count,fontsize=20)\n",
    "plt.show()"
   ]
  },
  {
   "cell_type": "code",
   "execution_count": 11,
   "id": "0565991d",
   "metadata": {},
   "outputs": [
    {
     "data": {
      "text/plain": [
       "1213653"
      ]
     },
     "execution_count": 11,
     "metadata": {},
     "output_type": "execute_result"
    }
   ],
   "source": [
    "retweet_c = dF.loc[dF['tweet_type'] == 'original', 'retweet_count'].sum()\n",
    "retweet_c"
   ]
  },
  {
   "cell_type": "code",
   "execution_count": 15,
   "id": "cfd32020",
   "metadata": {},
   "outputs": [
    {
     "data": {
      "text/plain": [
       "340000"
      ]
     },
     "execution_count": 15,
     "metadata": {},
     "output_type": "execute_result"
    }
   ],
   "source": [
    "reply_c = dF.loc[dF['tweet_type'] == 'original', 'reply_count'].sum()\n",
    "reply_c"
   ]
  },
  {
   "cell_type": "code",
   "execution_count": 16,
   "id": "311b7a23",
   "metadata": {},
   "outputs": [
    {
     "data": {
      "text/plain": [
       "422720"
      ]
     },
     "execution_count": 16,
     "metadata": {},
     "output_type": "execute_result"
    }
   ],
   "source": [
    "quote_c=dF['quote_count'].sum()\n",
    "quote_c"
   ]
  },
  {
   "cell_type": "code",
   "execution_count": 30,
   "id": "36cf81a6",
   "metadata": {},
   "outputs": [
    {
     "data": {
      "image/png": "[encoded data removed]",
      "text/plain": [
       "<Figure size 720x720 with 1 Axes>"
      ]
     },
     "metadata": {},
     "output_type": "display_data"
    }
   ],
   "source": [
    "fig = plt.figure(figsize=(10,10))\n",
    "ax = fig.add_axes([0,0,1,1])\n",
    "ax.axis('equal')\n",
    "colors = ['#66b3ff','#99ff99','#ff9999','#ffcc99']\n",
    "labels = ['retweet_count', 'reply_count', 'quote_count']\n",
    "values = [retweet_c, reply_c, quote_c]\n",
    "total = sum(values)\n",
    "ax.pie(values, labels= labels, autopct=lambda p: '{:.0f}'.format(p * total/100),\n",
    "   shadow=False, startangle=90, colors=colors)\n",
    "plt.legend(labels, loc=\"best\")\n",
    "plt.show()"
   ]
  }
 ],
 "metadata": {
  "kernelspec": {
   "display_name": "Python 3",
   "language": "python",
   "name": "python3"
  },
  "language_info": {
   "codemirror_mode": {
    "name": "ipython",
    "version": 3
   },
   "file_extension": ".py",
   "mimetype": "text/x-python",
   "name": "python",
   "nbconvert_exporter": "python",
   "pygments_lexer": "ipython3",
   "version": "3.8.8"
  }
 },
 "nbformat": 4,
 "nbformat_minor": 5
}
